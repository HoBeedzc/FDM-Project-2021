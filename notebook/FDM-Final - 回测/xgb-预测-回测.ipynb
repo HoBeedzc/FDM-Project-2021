{
 "cells": [
  {
   "cell_type": "code",
   "execution_count": 57,
   "id": "significant-yesterday",
   "metadata": {},
   "outputs": [],
   "source": [
    "import numpy as np\n",
    "import pandas as pd\n",
    "import matplotlib.pyplot as plt\n",
    "import seaborn as sns\n",
    "%matplotlib inline\n",
    "import xgboost as xgb\n",
    "from time import time\n",
    "from sklearn.model_selection import GridSearchCV\n",
    "import pickle"
   ]
  },
  {
   "cell_type": "code",
   "execution_count": 58,
   "id": "imperial-print",
   "metadata": {},
   "outputs": [],
   "source": [
    "# 读取文件\n",
    "# 杭州银行 欧派家居 长城汽车\n",
    "# 中远海控 山西汾酒 长城汽车 万泰生物 杭州银行 欧派家居\n",
    "# 华东医药 泸州老窖 中国中免 福耀玻璃\n",
    "NAME = \"长城汽车\"\n",
    "# wtsw = pd.read_excel(r\"./allstock.xls\",sheet_name= NAME,header=2)"
   ]
  },
  {
   "cell_type": "code",
   "execution_count": 59,
   "id": "bearing-tuesday",
   "metadata": {},
   "outputs": [
    {
     "output_type": "execute_result",
     "data": {
      "text/plain": [
       "            日期    收盘价    最高价    最低价    开盘价    前收盘   涨跌额     涨跌幅     换手率  \\\n",
       "0   2019-01-02   5.61   5.63   5.54   5.62   5.60  0.01  0.1786  0.1324   \n",
       "1   2019-01-03   5.58   5.65   5.53   5.61   5.61 -0.03 -0.5348  0.1698   \n",
       "2   2019-01-04   5.65   5.66   5.50   5.53   5.58  0.07  1.2545  0.2433   \n",
       "3   2019-01-07   5.74   5.74   5.64   5.68   5.65  0.09  1.5929  0.2352   \n",
       "4   2019-01-08   5.68   5.74   5.67   5.73   5.74 -0.06 -1.0453  0.1603   \n",
       "..         ...    ...    ...    ...    ...    ...   ...     ...     ...   \n",
       "568 2021-05-10  31.70  32.28  30.05  30.70  31.24  0.46  1.4725  0.4712   \n",
       "569 2021-05-11  30.84  31.36  30.25  30.80  31.70 -0.86 -2.7129  0.4695   \n",
       "570 2021-05-12  31.83  32.48  30.40  30.63  30.84  0.99  3.2101  0.5079   \n",
       "571 2021-05-13  30.72  31.35  30.60  31.30  31.83 -1.11 -3.4873  0.3529   \n",
       "572 2021-05-14  30.74  31.23  30.41  30.50  30.72  0.02  0.0651  0.3594   \n",
       "\n",
       "          成交量       成交金额           总市值          流通市值  \n",
       "0     7983649   44674578   51203979090   33815559690  \n",
       "1    10235998   57137006   50930161020   33634727820  \n",
       "2    14667706   82126478   51569069850   34056668850  \n",
       "3    14176603   80815077   52390524060   34599164460  \n",
       "4     9664391   54915465   51842887920   34237500720  \n",
       "..        ...        ...           ...           ...  \n",
       "568  28515901  890904837  291000000000  192000000000  \n",
       "569  28415111  873201088  283000000000  187000000000  \n",
       "570  30736419  978244106  292000000000  193000000000  \n",
       "571  21359504  659393735  282000000000  186000000000  \n",
       "572  21797855  672163739  282000000000  186000000000  \n",
       "\n",
       "[573 rows x 13 columns]"
      ],
      "text/html": "<div>\n<style scoped>\n    .dataframe tbody tr th:only-of-type {\n        vertical-align: middle;\n    }\n\n    .dataframe tbody tr th {\n        vertical-align: top;\n    }\n\n    .dataframe thead th {\n        text-align: right;\n    }\n</style>\n<table border=\"1\" class=\"dataframe\">\n  <thead>\n    <tr style=\"text-align: right;\">\n      <th></th>\n      <th>日期</th>\n      <th>收盘价</th>\n      <th>最高价</th>\n      <th>最低价</th>\n      <th>开盘价</th>\n      <th>前收盘</th>\n      <th>涨跌额</th>\n      <th>涨跌幅</th>\n      <th>换手率</th>\n      <th>成交量</th>\n      <th>成交金额</th>\n      <th>总市值</th>\n      <th>流通市值</th>\n    </tr>\n  </thead>\n  <tbody>\n    <tr>\n      <th>0</th>\n      <td>2019-01-02</td>\n      <td>5.61</td>\n      <td>5.63</td>\n      <td>5.54</td>\n      <td>5.62</td>\n      <td>5.60</td>\n      <td>0.01</td>\n      <td>0.1786</td>\n      <td>0.1324</td>\n      <td>7983649</td>\n      <td>44674578</td>\n      <td>51203979090</td>\n      <td>33815559690</td>\n    </tr>\n    <tr>\n      <th>1</th>\n      <td>2019-01-03</td>\n      <td>5.58</td>\n      <td>5.65</td>\n      <td>5.53</td>\n      <td>5.61</td>\n      <td>5.61</td>\n      <td>-0.03</td>\n      <td>-0.5348</td>\n      <td>0.1698</td>\n      <td>10235998</td>\n      <td>57137006</td>\n      <td>50930161020</td>\n      <td>33634727820</td>\n    </tr>\n    <tr>\n      <th>2</th>\n      <td>2019-01-04</td>\n      <td>5.65</td>\n      <td>5.66</td>\n      <td>5.50</td>\n      <td>5.53</td>\n      <td>5.58</td>\n      <td>0.07</td>\n      <td>1.2545</td>\n      <td>0.2433</td>\n      <td>14667706</td>\n      <td>82126478</td>\n      <td>51569069850</td>\n      <td>34056668850</td>\n    </tr>\n    <tr>\n      <th>3</th>\n      <td>2019-01-07</td>\n      <td>5.74</td>\n      <td>5.74</td>\n      <td>5.64</td>\n      <td>5.68</td>\n      <td>5.65</td>\n      <td>0.09</td>\n      <td>1.5929</td>\n      <td>0.2352</td>\n      <td>14176603</td>\n      <td>80815077</td>\n      <td>52390524060</td>\n      <td>34599164460</td>\n    </tr>\n    <tr>\n      <th>4</th>\n      <td>2019-01-08</td>\n      <td>5.68</td>\n      <td>5.74</td>\n      <td>5.67</td>\n      <td>5.73</td>\n      <td>5.74</td>\n      <td>-0.06</td>\n      <td>-1.0453</td>\n      <td>0.1603</td>\n      <td>9664391</td>\n      <td>54915465</td>\n      <td>51842887920</td>\n      <td>34237500720</td>\n    </tr>\n    <tr>\n      <th>...</th>\n      <td>...</td>\n      <td>...</td>\n      <td>...</td>\n      <td>...</td>\n      <td>...</td>\n      <td>...</td>\n      <td>...</td>\n      <td>...</td>\n      <td>...</td>\n      <td>...</td>\n      <td>...</td>\n      <td>...</td>\n      <td>...</td>\n    </tr>\n    <tr>\n      <th>568</th>\n      <td>2021-05-10</td>\n      <td>31.70</td>\n      <td>32.28</td>\n      <td>30.05</td>\n      <td>30.70</td>\n      <td>31.24</td>\n      <td>0.46</td>\n      <td>1.4725</td>\n      <td>0.4712</td>\n      <td>28515901</td>\n      <td>890904837</td>\n      <td>291000000000</td>\n      <td>192000000000</td>\n    </tr>\n    <tr>\n      <th>569</th>\n      <td>2021-05-11</td>\n      <td>30.84</td>\n      <td>31.36</td>\n      <td>30.25</td>\n      <td>30.80</td>\n      <td>31.70</td>\n      <td>-0.86</td>\n      <td>-2.7129</td>\n      <td>0.4695</td>\n      <td>28415111</td>\n      <td>873201088</td>\n      <td>283000000000</td>\n      <td>187000000000</td>\n    </tr>\n    <tr>\n      <th>570</th>\n      <td>2021-05-12</td>\n      <td>31.83</td>\n      <td>32.48</td>\n      <td>30.40</td>\n      <td>30.63</td>\n      <td>30.84</td>\n      <td>0.99</td>\n      <td>3.2101</td>\n      <td>0.5079</td>\n      <td>30736419</td>\n      <td>978244106</td>\n      <td>292000000000</td>\n      <td>193000000000</td>\n    </tr>\n    <tr>\n      <th>571</th>\n      <td>2021-05-13</td>\n      <td>30.72</td>\n      <td>31.35</td>\n      <td>30.60</td>\n      <td>31.30</td>\n      <td>31.83</td>\n      <td>-1.11</td>\n      <td>-3.4873</td>\n      <td>0.3529</td>\n      <td>21359504</td>\n      <td>659393735</td>\n      <td>282000000000</td>\n      <td>186000000000</td>\n    </tr>\n    <tr>\n      <th>572</th>\n      <td>2021-05-14</td>\n      <td>30.74</td>\n      <td>31.23</td>\n      <td>30.41</td>\n      <td>30.50</td>\n      <td>30.72</td>\n      <td>0.02</td>\n      <td>0.0651</td>\n      <td>0.3594</td>\n      <td>21797855</td>\n      <td>672163739</td>\n      <td>282000000000</td>\n      <td>186000000000</td>\n    </tr>\n  </tbody>\n</table>\n<p>573 rows × 13 columns</p>\n</div>"
     },
     "metadata": {},
     "execution_count": 59
    }
   ],
   "source": [
    "# 文件ETL\n",
    "wtsw = pd.read_excel(r\"./allstocks.xls\",sheet_name= NAME,header=0)\n",
    "wtsw = wtsw.drop(labels=[r\"股票代码\",r\"名称\"],axis=1)\n",
    "wtsw"
   ]
  },
  {
   "cell_type": "code",
   "execution_count": 60,
   "id": "final-sweden",
   "metadata": {},
   "outputs": [
    {
     "output_type": "execute_result",
     "data": {
      "text/plain": [
       "            日期    收盘价    最高价    最低价    开盘价    前收盘   涨跌额     涨跌幅     换手率  \\\n",
       "0   2019-01-02   5.61   5.63   5.54   5.62   5.60  0.01  0.1786  0.1324   \n",
       "1   2019-01-03   5.58   5.65   5.53   5.61   5.61 -0.03 -0.5348  0.1698   \n",
       "2   2019-01-04   5.65   5.66   5.50   5.53   5.58  0.07  1.2545  0.2433   \n",
       "3   2019-01-07   5.74   5.74   5.64   5.68   5.65  0.09  1.5929  0.2352   \n",
       "4   2019-01-08   5.68   5.74   5.67   5.73   5.74 -0.06 -1.0453  0.1603   \n",
       "..         ...    ...    ...    ...    ...    ...   ...     ...     ...   \n",
       "568 2021-05-10  31.70  32.28  30.05  30.70  31.24  0.46  1.4725  0.4712   \n",
       "569 2021-05-11  30.84  31.36  30.25  30.80  31.70 -0.86 -2.7129  0.4695   \n",
       "570 2021-05-12  31.83  32.48  30.40  30.63  30.84  0.99  3.2101  0.5079   \n",
       "571 2021-05-13  30.72  31.35  30.60  31.30  31.83 -1.11 -3.4873  0.3529   \n",
       "572 2021-05-14  30.74  31.23  30.41  30.50  30.72  0.02  0.0651  0.3594   \n",
       "\n",
       "          成交量       成交金额           总市值          流通市值  \n",
       "0     7983649   44674578   51203979090   33815559690  \n",
       "1    10235998   57137006   50930161020   33634727820  \n",
       "2    14667706   82126478   51569069850   34056668850  \n",
       "3    14176603   80815077   52390524060   34599164460  \n",
       "4     9664391   54915465   51842887920   34237500720  \n",
       "..        ...        ...           ...           ...  \n",
       "568  28515901  890904837  291000000000  192000000000  \n",
       "569  28415111  873201088  283000000000  187000000000  \n",
       "570  30736419  978244106  292000000000  193000000000  \n",
       "571  21359504  659393735  282000000000  186000000000  \n",
       "572  21797855  672163739  282000000000  186000000000  \n",
       "\n",
       "[573 rows x 13 columns]"
      ],
      "text/html": "<div>\n<style scoped>\n    .dataframe tbody tr th:only-of-type {\n        vertical-align: middle;\n    }\n\n    .dataframe tbody tr th {\n        vertical-align: top;\n    }\n\n    .dataframe thead th {\n        text-align: right;\n    }\n</style>\n<table border=\"1\" class=\"dataframe\">\n  <thead>\n    <tr style=\"text-align: right;\">\n      <th></th>\n      <th>日期</th>\n      <th>收盘价</th>\n      <th>最高价</th>\n      <th>最低价</th>\n      <th>开盘价</th>\n      <th>前收盘</th>\n      <th>涨跌额</th>\n      <th>涨跌幅</th>\n      <th>换手率</th>\n      <th>成交量</th>\n      <th>成交金额</th>\n      <th>总市值</th>\n      <th>流通市值</th>\n    </tr>\n  </thead>\n  <tbody>\n    <tr>\n      <th>0</th>\n      <td>2019-01-02</td>\n      <td>5.61</td>\n      <td>5.63</td>\n      <td>5.54</td>\n      <td>5.62</td>\n      <td>5.60</td>\n      <td>0.01</td>\n      <td>0.1786</td>\n      <td>0.1324</td>\n      <td>7983649</td>\n      <td>44674578</td>\n      <td>51203979090</td>\n      <td>33815559690</td>\n    </tr>\n    <tr>\n      <th>1</th>\n      <td>2019-01-03</td>\n      <td>5.58</td>\n      <td>5.65</td>\n      <td>5.53</td>\n      <td>5.61</td>\n      <td>5.61</td>\n      <td>-0.03</td>\n      <td>-0.5348</td>\n      <td>0.1698</td>\n      <td>10235998</td>\n      <td>57137006</td>\n      <td>50930161020</td>\n      <td>33634727820</td>\n    </tr>\n    <tr>\n      <th>2</th>\n      <td>2019-01-04</td>\n      <td>5.65</td>\n      <td>5.66</td>\n      <td>5.50</td>\n      <td>5.53</td>\n      <td>5.58</td>\n      <td>0.07</td>\n      <td>1.2545</td>\n      <td>0.2433</td>\n      <td>14667706</td>\n      <td>82126478</td>\n      <td>51569069850</td>\n      <td>34056668850</td>\n    </tr>\n    <tr>\n      <th>3</th>\n      <td>2019-01-07</td>\n      <td>5.74</td>\n      <td>5.74</td>\n      <td>5.64</td>\n      <td>5.68</td>\n      <td>5.65</td>\n      <td>0.09</td>\n      <td>1.5929</td>\n      <td>0.2352</td>\n      <td>14176603</td>\n      <td>80815077</td>\n      <td>52390524060</td>\n      <td>34599164460</td>\n    </tr>\n    <tr>\n      <th>4</th>\n      <td>2019-01-08</td>\n      <td>5.68</td>\n      <td>5.74</td>\n      <td>5.67</td>\n      <td>5.73</td>\n      <td>5.74</td>\n      <td>-0.06</td>\n      <td>-1.0453</td>\n      <td>0.1603</td>\n      <td>9664391</td>\n      <td>54915465</td>\n      <td>51842887920</td>\n      <td>34237500720</td>\n    </tr>\n    <tr>\n      <th>...</th>\n      <td>...</td>\n      <td>...</td>\n      <td>...</td>\n      <td>...</td>\n      <td>...</td>\n      <td>...</td>\n      <td>...</td>\n      <td>...</td>\n      <td>...</td>\n      <td>...</td>\n      <td>...</td>\n      <td>...</td>\n      <td>...</td>\n    </tr>\n    <tr>\n      <th>568</th>\n      <td>2021-05-10</td>\n      <td>31.70</td>\n      <td>32.28</td>\n      <td>30.05</td>\n      <td>30.70</td>\n      <td>31.24</td>\n      <td>0.46</td>\n      <td>1.4725</td>\n      <td>0.4712</td>\n      <td>28515901</td>\n      <td>890904837</td>\n      <td>291000000000</td>\n      <td>192000000000</td>\n    </tr>\n    <tr>\n      <th>569</th>\n      <td>2021-05-11</td>\n      <td>30.84</td>\n      <td>31.36</td>\n      <td>30.25</td>\n      <td>30.80</td>\n      <td>31.70</td>\n      <td>-0.86</td>\n      <td>-2.7129</td>\n      <td>0.4695</td>\n      <td>28415111</td>\n      <td>873201088</td>\n      <td>283000000000</td>\n      <td>187000000000</td>\n    </tr>\n    <tr>\n      <th>570</th>\n      <td>2021-05-12</td>\n      <td>31.83</td>\n      <td>32.48</td>\n      <td>30.40</td>\n      <td>30.63</td>\n      <td>30.84</td>\n      <td>0.99</td>\n      <td>3.2101</td>\n      <td>0.5079</td>\n      <td>30736419</td>\n      <td>978244106</td>\n      <td>292000000000</td>\n      <td>193000000000</td>\n    </tr>\n    <tr>\n      <th>571</th>\n      <td>2021-05-13</td>\n      <td>30.72</td>\n      <td>31.35</td>\n      <td>30.60</td>\n      <td>31.30</td>\n      <td>31.83</td>\n      <td>-1.11</td>\n      <td>-3.4873</td>\n      <td>0.3529</td>\n      <td>21359504</td>\n      <td>659393735</td>\n      <td>282000000000</td>\n      <td>186000000000</td>\n    </tr>\n    <tr>\n      <th>572</th>\n      <td>2021-05-14</td>\n      <td>30.74</td>\n      <td>31.23</td>\n      <td>30.41</td>\n      <td>30.50</td>\n      <td>30.72</td>\n      <td>0.02</td>\n      <td>0.0651</td>\n      <td>0.3594</td>\n      <td>21797855</td>\n      <td>672163739</td>\n      <td>282000000000</td>\n      <td>186000000000</td>\n    </tr>\n  </tbody>\n</table>\n<p>573 rows × 13 columns</p>\n</div>"
     },
     "metadata": {},
     "execution_count": 60
    }
   ],
   "source": [
    "wtsw = wtsw.dropna()\n",
    "wtsw = wtsw.reset_index(drop = True)\n",
    "wtsw"
   ]
  },
  {
   "cell_type": "code",
   "execution_count": 61,
   "id": "metallic-contamination",
   "metadata": {},
   "outputs": [
    {
     "output_type": "stream",
     "name": "stderr",
     "text": [
      "C:\\Users\\11973\\AppData\\Local\\Programs\\Python\\Python37\\lib\\site-packages\\pandas\\core\\ops\\array_ops.py:253: FutureWarning:\n\nelementwise comparison failed; returning scalar instead, but in the future will perform elementwise comparison\n\n"
     ]
    },
    {
     "output_type": "execute_result",
     "data": {
      "text/plain": [
       "       收盘价    最高价    最低价    开盘价    前收盘   涨跌额     涨跌幅     换手率       成交量  \\\n",
       "0     5.61   5.63   5.54   5.62   5.60  0.01  0.1786  0.1324   7983649   \n",
       "1     5.58   5.65   5.53   5.61   5.61 -0.03 -0.5348  0.1698  10235998   \n",
       "2     5.65   5.66   5.50   5.53   5.58  0.07  1.2545  0.2433  14667706   \n",
       "3     5.74   5.74   5.64   5.68   5.65  0.09  1.5929  0.2352  14176603   \n",
       "4     5.68   5.74   5.67   5.73   5.74 -0.06 -1.0453  0.1603   9664391   \n",
       "..     ...    ...    ...    ...    ...   ...     ...     ...       ...   \n",
       "568  31.70  32.28  30.05  30.70  31.24  0.46  1.4725  0.4712  28515901   \n",
       "569  30.84  31.36  30.25  30.80  31.70 -0.86 -2.7129  0.4695  28415111   \n",
       "570  31.83  32.48  30.40  30.63  30.84  0.99  3.2101  0.5079  30736419   \n",
       "571  30.72  31.35  30.60  31.30  31.83 -1.11 -3.4873  0.3529  21359504   \n",
       "572  30.74  31.23  30.41  30.50  30.72  0.02  0.0651  0.3594  21797855   \n",
       "\n",
       "          成交金额           总市值          流通市值  year month day  \n",
       "0     44674578   51203979090   33815559690  2019    01  02  \n",
       "1     57137006   50930161020   33634727820  2019    01  03  \n",
       "2     82126478   51569069850   34056668850  2019    01  04  \n",
       "3     80815077   52390524060   34599164460  2019    01  07  \n",
       "4     54915465   51842887920   34237500720  2019    01  08  \n",
       "..         ...           ...           ...   ...   ...  ..  \n",
       "568  890904837  291000000000  192000000000  2021    05  10  \n",
       "569  873201088  283000000000  187000000000  2021    05  11  \n",
       "570  978244106  292000000000  193000000000  2021    05  12  \n",
       "571  659393735  282000000000  186000000000  2021    05  13  \n",
       "572  672163739  282000000000  186000000000  2021    05  14  \n",
       "\n",
       "[573 rows x 15 columns]"
      ],
      "text/html": "<div>\n<style scoped>\n    .dataframe tbody tr th:only-of-type {\n        vertical-align: middle;\n    }\n\n    .dataframe tbody tr th {\n        vertical-align: top;\n    }\n\n    .dataframe thead th {\n        text-align: right;\n    }\n</style>\n<table border=\"1\" class=\"dataframe\">\n  <thead>\n    <tr style=\"text-align: right;\">\n      <th></th>\n      <th>收盘价</th>\n      <th>最高价</th>\n      <th>最低价</th>\n      <th>开盘价</th>\n      <th>前收盘</th>\n      <th>涨跌额</th>\n      <th>涨跌幅</th>\n      <th>换手率</th>\n      <th>成交量</th>\n      <th>成交金额</th>\n      <th>总市值</th>\n      <th>流通市值</th>\n      <th>year</th>\n      <th>month</th>\n      <th>day</th>\n    </tr>\n  </thead>\n  <tbody>\n    <tr>\n      <th>0</th>\n      <td>5.61</td>\n      <td>5.63</td>\n      <td>5.54</td>\n      <td>5.62</td>\n      <td>5.60</td>\n      <td>0.01</td>\n      <td>0.1786</td>\n      <td>0.1324</td>\n      <td>7983649</td>\n      <td>44674578</td>\n      <td>51203979090</td>\n      <td>33815559690</td>\n      <td>2019</td>\n      <td>01</td>\n      <td>02</td>\n    </tr>\n    <tr>\n      <th>1</th>\n      <td>5.58</td>\n      <td>5.65</td>\n      <td>5.53</td>\n      <td>5.61</td>\n      <td>5.61</td>\n      <td>-0.03</td>\n      <td>-0.5348</td>\n      <td>0.1698</td>\n      <td>10235998</td>\n      <td>57137006</td>\n      <td>50930161020</td>\n      <td>33634727820</td>\n      <td>2019</td>\n      <td>01</td>\n      <td>03</td>\n    </tr>\n    <tr>\n      <th>2</th>\n      <td>5.65</td>\n      <td>5.66</td>\n      <td>5.50</td>\n      <td>5.53</td>\n      <td>5.58</td>\n      <td>0.07</td>\n      <td>1.2545</td>\n      <td>0.2433</td>\n      <td>14667706</td>\n      <td>82126478</td>\n      <td>51569069850</td>\n      <td>34056668850</td>\n      <td>2019</td>\n      <td>01</td>\n      <td>04</td>\n    </tr>\n    <tr>\n      <th>3</th>\n      <td>5.74</td>\n      <td>5.74</td>\n      <td>5.64</td>\n      <td>5.68</td>\n      <td>5.65</td>\n      <td>0.09</td>\n      <td>1.5929</td>\n      <td>0.2352</td>\n      <td>14176603</td>\n      <td>80815077</td>\n      <td>52390524060</td>\n      <td>34599164460</td>\n      <td>2019</td>\n      <td>01</td>\n      <td>07</td>\n    </tr>\n    <tr>\n      <th>4</th>\n      <td>5.68</td>\n      <td>5.74</td>\n      <td>5.67</td>\n      <td>5.73</td>\n      <td>5.74</td>\n      <td>-0.06</td>\n      <td>-1.0453</td>\n      <td>0.1603</td>\n      <td>9664391</td>\n      <td>54915465</td>\n      <td>51842887920</td>\n      <td>34237500720</td>\n      <td>2019</td>\n      <td>01</td>\n      <td>08</td>\n    </tr>\n    <tr>\n      <th>...</th>\n      <td>...</td>\n      <td>...</td>\n      <td>...</td>\n      <td>...</td>\n      <td>...</td>\n      <td>...</td>\n      <td>...</td>\n      <td>...</td>\n      <td>...</td>\n      <td>...</td>\n      <td>...</td>\n      <td>...</td>\n      <td>...</td>\n      <td>...</td>\n      <td>...</td>\n    </tr>\n    <tr>\n      <th>568</th>\n      <td>31.70</td>\n      <td>32.28</td>\n      <td>30.05</td>\n      <td>30.70</td>\n      <td>31.24</td>\n      <td>0.46</td>\n      <td>1.4725</td>\n      <td>0.4712</td>\n      <td>28515901</td>\n      <td>890904837</td>\n      <td>291000000000</td>\n      <td>192000000000</td>\n      <td>2021</td>\n      <td>05</td>\n      <td>10</td>\n    </tr>\n    <tr>\n      <th>569</th>\n      <td>30.84</td>\n      <td>31.36</td>\n      <td>30.25</td>\n      <td>30.80</td>\n      <td>31.70</td>\n      <td>-0.86</td>\n      <td>-2.7129</td>\n      <td>0.4695</td>\n      <td>28415111</td>\n      <td>873201088</td>\n      <td>283000000000</td>\n      <td>187000000000</td>\n      <td>2021</td>\n      <td>05</td>\n      <td>11</td>\n    </tr>\n    <tr>\n      <th>570</th>\n      <td>31.83</td>\n      <td>32.48</td>\n      <td>30.40</td>\n      <td>30.63</td>\n      <td>30.84</td>\n      <td>0.99</td>\n      <td>3.2101</td>\n      <td>0.5079</td>\n      <td>30736419</td>\n      <td>978244106</td>\n      <td>292000000000</td>\n      <td>193000000000</td>\n      <td>2021</td>\n      <td>05</td>\n      <td>12</td>\n    </tr>\n    <tr>\n      <th>571</th>\n      <td>30.72</td>\n      <td>31.35</td>\n      <td>30.60</td>\n      <td>31.30</td>\n      <td>31.83</td>\n      <td>-1.11</td>\n      <td>-3.4873</td>\n      <td>0.3529</td>\n      <td>21359504</td>\n      <td>659393735</td>\n      <td>282000000000</td>\n      <td>186000000000</td>\n      <td>2021</td>\n      <td>05</td>\n      <td>13</td>\n    </tr>\n    <tr>\n      <th>572</th>\n      <td>30.74</td>\n      <td>31.23</td>\n      <td>30.41</td>\n      <td>30.50</td>\n      <td>30.72</td>\n      <td>0.02</td>\n      <td>0.0651</td>\n      <td>0.3594</td>\n      <td>21797855</td>\n      <td>672163739</td>\n      <td>282000000000</td>\n      <td>186000000000</td>\n      <td>2021</td>\n      <td>05</td>\n      <td>14</td>\n    </tr>\n  </tbody>\n</table>\n<p>573 rows × 15 columns</p>\n</div>"
     },
     "metadata": {},
     "execution_count": 61
    }
   ],
   "source": [
    "wtsw.loc[wtsw[r\"涨跌额\"] == '--',r\"涨跌额\"] = '0'\n",
    "wtsw[r\"涨跌额\"] = wtsw[r\"涨跌额\"].astype(\"float\")\n",
    "wtsw.loc[wtsw[r\"涨跌幅\"] == '--',r\"涨跌幅\"] = '0'\n",
    "wtsw[r\"涨跌幅\"] = wtsw[r\"涨跌幅\"].astype(\"float\")\n",
    "wtsw.loc[wtsw[r\"前收盘\"] == '--',r\"前收盘\"] = '0'\n",
    "wtsw[r\"前收盘\"] = wtsw[r\"前收盘\"].astype(\"float\")\n",
    "time = wtsw[\"日期\"].apply(lambda x: str(x)).copy()\n",
    "time = time.apply(lambda x:x[:-9]).astype(\"string\")\n",
    "time = time.apply(lambda x:x.split('-'))\n",
    "\n",
    "wtsw[\"year\"] = time.apply(lambda x:x[0])\n",
    "wtsw[\"month\"] = time.apply(lambda x:x[1])\n",
    "wtsw[\"day\"] = time.apply(lambda x:x[2])\n",
    "#time.tolist()\n",
    "wtsw_dt = wtsw.drop(labels=[\"日期\"],axis=1)\n",
    "wtsw_dt"
   ]
  },
  {
   "cell_type": "code",
   "execution_count": 62,
   "id": "joint-generic",
   "metadata": {},
   "outputs": [
    {
     "output_type": "execute_result",
     "data": {
      "text/plain": [
       "       收盘价    最高价    最低价    开盘价    前收盘   涨跌额     涨跌幅     换手率       成交量  \\\n",
       "0     5.61   5.63   5.54   5.62   5.60  0.01  0.1786  0.1324   7983649   \n",
       "1     5.58   5.65   5.53   5.61   5.61 -0.03 -0.5348  0.1698  10235998   \n",
       "2     5.65   5.66   5.50   5.53   5.58  0.07  1.2545  0.2433  14667706   \n",
       "3     5.74   5.74   5.64   5.68   5.65  0.09  1.5929  0.2352  14176603   \n",
       "4     5.68   5.74   5.67   5.73   5.74 -0.06 -1.0453  0.1603   9664391   \n",
       "..     ...    ...    ...    ...    ...   ...     ...     ...       ...   \n",
       "567  31.24  33.03  30.45  33.03  33.03 -1.79 -5.4193  0.5948  35994415   \n",
       "568  31.70  32.28  30.05  30.70  31.24  0.46  1.4725  0.4712  28515901   \n",
       "569  30.84  31.36  30.25  30.80  31.70 -0.86 -2.7129  0.4695  28415111   \n",
       "570  31.83  32.48  30.40  30.63  30.84  0.99  3.2101  0.5079  30736419   \n",
       "571  30.72  31.35  30.60  31.30  31.83 -1.11 -3.4873  0.3529  21359504   \n",
       "\n",
       "           成交金额           总市值          流通市值  year  month  day     label  \n",
       "0      44674578   51203979090   33815559690  2019      1    2 -0.005362  \n",
       "1      57137006   50930161020   33634727820  2019      1    3  0.012467  \n",
       "2      82126478   51569069850   34056668850  2019      1    4  0.015804  \n",
       "3      80815077   52390524060   34599164460  2019      1    7 -0.010508  \n",
       "4      54915465   51842887920   34237500720  2019      1    8  0.095630  \n",
       "..          ...           ...           ...   ...    ...  ...       ...  \n",
       "567  1139767717  287000000000  189000000000  2021      5    7  0.014617  \n",
       "568   890904837  291000000000  192000000000  2021      5   10 -0.027504  \n",
       "569   873201088  283000000000  187000000000  2021      5   11  0.031597  \n",
       "570   978244106  292000000000  193000000000  2021      5   12 -0.035495  \n",
       "571   659393735  282000000000  186000000000  2021      5   13  0.000651  \n",
       "\n",
       "[572 rows x 16 columns]"
      ],
      "text/html": "<div>\n<style scoped>\n    .dataframe tbody tr th:only-of-type {\n        vertical-align: middle;\n    }\n\n    .dataframe tbody tr th {\n        vertical-align: top;\n    }\n\n    .dataframe thead th {\n        text-align: right;\n    }\n</style>\n<table border=\"1\" class=\"dataframe\">\n  <thead>\n    <tr style=\"text-align: right;\">\n      <th></th>\n      <th>收盘价</th>\n      <th>最高价</th>\n      <th>最低价</th>\n      <th>开盘价</th>\n      <th>前收盘</th>\n      <th>涨跌额</th>\n      <th>涨跌幅</th>\n      <th>换手率</th>\n      <th>成交量</th>\n      <th>成交金额</th>\n      <th>总市值</th>\n      <th>流通市值</th>\n      <th>year</th>\n      <th>month</th>\n      <th>day</th>\n      <th>label</th>\n    </tr>\n  </thead>\n  <tbody>\n    <tr>\n      <th>0</th>\n      <td>5.61</td>\n      <td>5.63</td>\n      <td>5.54</td>\n      <td>5.62</td>\n      <td>5.60</td>\n      <td>0.01</td>\n      <td>0.1786</td>\n      <td>0.1324</td>\n      <td>7983649</td>\n      <td>44674578</td>\n      <td>51203979090</td>\n      <td>33815559690</td>\n      <td>2019</td>\n      <td>1</td>\n      <td>2</td>\n      <td>-0.005362</td>\n    </tr>\n    <tr>\n      <th>1</th>\n      <td>5.58</td>\n      <td>5.65</td>\n      <td>5.53</td>\n      <td>5.61</td>\n      <td>5.61</td>\n      <td>-0.03</td>\n      <td>-0.5348</td>\n      <td>0.1698</td>\n      <td>10235998</td>\n      <td>57137006</td>\n      <td>50930161020</td>\n      <td>33634727820</td>\n      <td>2019</td>\n      <td>1</td>\n      <td>3</td>\n      <td>0.012467</td>\n    </tr>\n    <tr>\n      <th>2</th>\n      <td>5.65</td>\n      <td>5.66</td>\n      <td>5.50</td>\n      <td>5.53</td>\n      <td>5.58</td>\n      <td>0.07</td>\n      <td>1.2545</td>\n      <td>0.2433</td>\n      <td>14667706</td>\n      <td>82126478</td>\n      <td>51569069850</td>\n      <td>34056668850</td>\n      <td>2019</td>\n      <td>1</td>\n      <td>4</td>\n      <td>0.015804</td>\n    </tr>\n    <tr>\n      <th>3</th>\n      <td>5.74</td>\n      <td>5.74</td>\n      <td>5.64</td>\n      <td>5.68</td>\n      <td>5.65</td>\n      <td>0.09</td>\n      <td>1.5929</td>\n      <td>0.2352</td>\n      <td>14176603</td>\n      <td>80815077</td>\n      <td>52390524060</td>\n      <td>34599164460</td>\n      <td>2019</td>\n      <td>1</td>\n      <td>7</td>\n      <td>-0.010508</td>\n    </tr>\n    <tr>\n      <th>4</th>\n      <td>5.68</td>\n      <td>5.74</td>\n      <td>5.67</td>\n      <td>5.73</td>\n      <td>5.74</td>\n      <td>-0.06</td>\n      <td>-1.0453</td>\n      <td>0.1603</td>\n      <td>9664391</td>\n      <td>54915465</td>\n      <td>51842887920</td>\n      <td>34237500720</td>\n      <td>2019</td>\n      <td>1</td>\n      <td>8</td>\n      <td>0.095630</td>\n    </tr>\n    <tr>\n      <th>...</th>\n      <td>...</td>\n      <td>...</td>\n      <td>...</td>\n      <td>...</td>\n      <td>...</td>\n      <td>...</td>\n      <td>...</td>\n      <td>...</td>\n      <td>...</td>\n      <td>...</td>\n      <td>...</td>\n      <td>...</td>\n      <td>...</td>\n      <td>...</td>\n      <td>...</td>\n      <td>...</td>\n    </tr>\n    <tr>\n      <th>567</th>\n      <td>31.24</td>\n      <td>33.03</td>\n      <td>30.45</td>\n      <td>33.03</td>\n      <td>33.03</td>\n      <td>-1.79</td>\n      <td>-5.4193</td>\n      <td>0.5948</td>\n      <td>35994415</td>\n      <td>1139767717</td>\n      <td>287000000000</td>\n      <td>189000000000</td>\n      <td>2021</td>\n      <td>5</td>\n      <td>7</td>\n      <td>0.014617</td>\n    </tr>\n    <tr>\n      <th>568</th>\n      <td>31.70</td>\n      <td>32.28</td>\n      <td>30.05</td>\n      <td>30.70</td>\n      <td>31.24</td>\n      <td>0.46</td>\n      <td>1.4725</td>\n      <td>0.4712</td>\n      <td>28515901</td>\n      <td>890904837</td>\n      <td>291000000000</td>\n      <td>192000000000</td>\n      <td>2021</td>\n      <td>5</td>\n      <td>10</td>\n      <td>-0.027504</td>\n    </tr>\n    <tr>\n      <th>569</th>\n      <td>30.84</td>\n      <td>31.36</td>\n      <td>30.25</td>\n      <td>30.80</td>\n      <td>31.70</td>\n      <td>-0.86</td>\n      <td>-2.7129</td>\n      <td>0.4695</td>\n      <td>28415111</td>\n      <td>873201088</td>\n      <td>283000000000</td>\n      <td>187000000000</td>\n      <td>2021</td>\n      <td>5</td>\n      <td>11</td>\n      <td>0.031597</td>\n    </tr>\n    <tr>\n      <th>570</th>\n      <td>31.83</td>\n      <td>32.48</td>\n      <td>30.40</td>\n      <td>30.63</td>\n      <td>30.84</td>\n      <td>0.99</td>\n      <td>3.2101</td>\n      <td>0.5079</td>\n      <td>30736419</td>\n      <td>978244106</td>\n      <td>292000000000</td>\n      <td>193000000000</td>\n      <td>2021</td>\n      <td>5</td>\n      <td>12</td>\n      <td>-0.035495</td>\n    </tr>\n    <tr>\n      <th>571</th>\n      <td>30.72</td>\n      <td>31.35</td>\n      <td>30.60</td>\n      <td>31.30</td>\n      <td>31.83</td>\n      <td>-1.11</td>\n      <td>-3.4873</td>\n      <td>0.3529</td>\n      <td>21359504</td>\n      <td>659393735</td>\n      <td>282000000000</td>\n      <td>186000000000</td>\n      <td>2021</td>\n      <td>5</td>\n      <td>13</td>\n      <td>0.000651</td>\n    </tr>\n  </tbody>\n</table>\n<p>572 rows × 16 columns</p>\n</div>"
     },
     "metadata": {},
     "execution_count": 62
    }
   ],
   "source": [
    "wtsw_dt[\"year\"] = wtsw_dt[\"year\"].astype(\"int\")\n",
    "wtsw_dt[\"month\"] = wtsw_dt[\"month\"].astype(\"int\")\n",
    "wtsw_dt[\"day\"] = wtsw_dt[\"day\"].astype(\"int\")\n",
    "# label = wtsw_dt[r\"涨跌(元)\"][1:wtsw_dt.shape[0]]\n",
    "label = np.log(wtsw_dt[r\"收盘价\"]/wtsw_dt[r\"前收盘\"])[1:wtsw_dt.shape[0]]\n",
    "label = label.reset_index(drop = True)\n",
    "wtsw_dtal = wtsw_dt.copy()\n",
    "wtsw_dtal.drop(index = [len(wtsw_dt)-1],inplace=True)\n",
    "wtsw_dtal[\"label\"] = label\n",
    "wtsw_dtal"
   ]
  },
  {
   "cell_type": "code",
   "execution_count": 63,
   "id": "metropolitan-contractor",
   "metadata": {},
   "outputs": [
    {
     "output_type": "execute_result",
     "data": {
      "text/plain": [
       "       收盘价    最高价    最低价    开盘价    前收盘   涨跌额     涨跌幅     换手率       成交量  \\\n",
       "0     5.61   5.63   5.54   5.62   5.60  0.01  0.1786  0.1324   7983649   \n",
       "1     5.58   5.65   5.53   5.61   5.61 -0.03 -0.5348  0.1698  10235998   \n",
       "2     5.65   5.66   5.50   5.53   5.58  0.07  1.2545  0.2433  14667706   \n",
       "3     5.74   5.74   5.64   5.68   5.65  0.09  1.5929  0.2352  14176603   \n",
       "4     5.68   5.74   5.67   5.73   5.74 -0.06 -1.0453  0.1603   9664391   \n",
       "..     ...    ...    ...    ...    ...   ...     ...     ...       ...   \n",
       "567  31.24  33.03  30.45  33.03  33.03 -1.79 -5.4193  0.5948  35994415   \n",
       "568  31.70  32.28  30.05  30.70  31.24  0.46  1.4725  0.4712  28515901   \n",
       "569  30.84  31.36  30.25  30.80  31.70 -0.86 -2.7129  0.4695  28415111   \n",
       "570  31.83  32.48  30.40  30.63  30.84  0.99  3.2101  0.5079  30736419   \n",
       "571  30.72  31.35  30.60  31.30  31.83 -1.11 -3.4873  0.3529  21359504   \n",
       "\n",
       "           成交金额  ...   成交量_lag_1   成交量_lag_2   成交量_lag_3   成交量_lag_4  \\\n",
       "0      44674578  ...         NaN         NaN         NaN         NaN   \n",
       "1      57137006  ...   7983649.0         NaN         NaN         NaN   \n",
       "2      82126478  ...  10235998.0   7983649.0         NaN         NaN   \n",
       "3      80815077  ...  14667706.0  10235998.0   7983649.0         NaN   \n",
       "4      54915465  ...  14176603.0  14667706.0  10235998.0   7983649.0   \n",
       "..          ...  ...         ...         ...         ...         ...   \n",
       "567  1139767717  ...  23007543.0  24592877.0  30962999.0  33162546.0   \n",
       "568   890904837  ...  35994415.0  23007543.0  24592877.0  30962999.0   \n",
       "569   873201088  ...  28515901.0  35994415.0  23007543.0  24592877.0   \n",
       "570   978244106  ...  28415111.0  28515901.0  35994415.0  23007543.0   \n",
       "571   659393735  ...  30736419.0  28415111.0  28515901.0  35994415.0   \n",
       "\n",
       "      成交量_lag_5    流通市值_lag_1    流通市值_lag_2    流通市值_lag_3    流通市值_lag_4  \\\n",
       "0           NaN           NaN           NaN           NaN           NaN   \n",
       "1           NaN  3.381556e+10           NaN           NaN           NaN   \n",
       "2           NaN  3.363473e+10  3.381556e+10           NaN           NaN   \n",
       "3           NaN  3.405667e+10  3.363473e+10  3.381556e+10           NaN   \n",
       "4           NaN  3.459916e+10  3.405667e+10  3.363473e+10  3.381556e+10   \n",
       "..          ...           ...           ...           ...           ...   \n",
       "567  24431066.0  2.000000e+11  2.020000e+11  2.070000e+11  2.070000e+11   \n",
       "568  33162546.0  1.890000e+11  2.000000e+11  2.020000e+11  2.070000e+11   \n",
       "569  30962999.0  1.920000e+11  1.890000e+11  2.000000e+11  2.020000e+11   \n",
       "570  24592877.0  1.870000e+11  1.920000e+11  1.890000e+11  2.000000e+11   \n",
       "571  23007543.0  1.930000e+11  1.870000e+11  1.920000e+11  1.890000e+11   \n",
       "\n",
       "       流通市值_lag_5  \n",
       "0             NaN  \n",
       "1             NaN  \n",
       "2             NaN  \n",
       "3             NaN  \n",
       "4             NaN  \n",
       "..            ...  \n",
       "567  2.010000e+11  \n",
       "568  2.070000e+11  \n",
       "569  2.070000e+11  \n",
       "570  2.020000e+11  \n",
       "571  2.000000e+11  \n",
       "\n",
       "[572 rows x 43 columns]"
      ],
      "text/html": "<div>\n<style scoped>\n    .dataframe tbody tr th:only-of-type {\n        vertical-align: middle;\n    }\n\n    .dataframe tbody tr th {\n        vertical-align: top;\n    }\n\n    .dataframe thead th {\n        text-align: right;\n    }\n</style>\n<table border=\"1\" class=\"dataframe\">\n  <thead>\n    <tr style=\"text-align: right;\">\n      <th></th>\n      <th>收盘价</th>\n      <th>最高价</th>\n      <th>最低价</th>\n      <th>开盘价</th>\n      <th>前收盘</th>\n      <th>涨跌额</th>\n      <th>涨跌幅</th>\n      <th>换手率</th>\n      <th>成交量</th>\n      <th>成交金额</th>\n      <th>...</th>\n      <th>成交量_lag_1</th>\n      <th>成交量_lag_2</th>\n      <th>成交量_lag_3</th>\n      <th>成交量_lag_4</th>\n      <th>成交量_lag_5</th>\n      <th>流通市值_lag_1</th>\n      <th>流通市值_lag_2</th>\n      <th>流通市值_lag_3</th>\n      <th>流通市值_lag_4</th>\n      <th>流通市值_lag_5</th>\n    </tr>\n  </thead>\n  <tbody>\n    <tr>\n      <th>0</th>\n      <td>5.61</td>\n      <td>5.63</td>\n      <td>5.54</td>\n      <td>5.62</td>\n      <td>5.60</td>\n      <td>0.01</td>\n      <td>0.1786</td>\n      <td>0.1324</td>\n      <td>7983649</td>\n      <td>44674578</td>\n      <td>...</td>\n      <td>NaN</td>\n      <td>NaN</td>\n      <td>NaN</td>\n      <td>NaN</td>\n      <td>NaN</td>\n      <td>NaN</td>\n      <td>NaN</td>\n      <td>NaN</td>\n      <td>NaN</td>\n      <td>NaN</td>\n    </tr>\n    <tr>\n      <th>1</th>\n      <td>5.58</td>\n      <td>5.65</td>\n      <td>5.53</td>\n      <td>5.61</td>\n      <td>5.61</td>\n      <td>-0.03</td>\n      <td>-0.5348</td>\n      <td>0.1698</td>\n      <td>10235998</td>\n      <td>57137006</td>\n      <td>...</td>\n      <td>7983649.0</td>\n      <td>NaN</td>\n      <td>NaN</td>\n      <td>NaN</td>\n      <td>NaN</td>\n      <td>3.381556e+10</td>\n      <td>NaN</td>\n      <td>NaN</td>\n      <td>NaN</td>\n      <td>NaN</td>\n    </tr>\n    <tr>\n      <th>2</th>\n      <td>5.65</td>\n      <td>5.66</td>\n      <td>5.50</td>\n      <td>5.53</td>\n      <td>5.58</td>\n      <td>0.07</td>\n      <td>1.2545</td>\n      <td>0.2433</td>\n      <td>14667706</td>\n      <td>82126478</td>\n      <td>...</td>\n      <td>10235998.0</td>\n      <td>7983649.0</td>\n      <td>NaN</td>\n      <td>NaN</td>\n      <td>NaN</td>\n      <td>3.363473e+10</td>\n      <td>3.381556e+10</td>\n      <td>NaN</td>\n      <td>NaN</td>\n      <td>NaN</td>\n    </tr>\n    <tr>\n      <th>3</th>\n      <td>5.74</td>\n      <td>5.74</td>\n      <td>5.64</td>\n      <td>5.68</td>\n      <td>5.65</td>\n      <td>0.09</td>\n      <td>1.5929</td>\n      <td>0.2352</td>\n      <td>14176603</td>\n      <td>80815077</td>\n      <td>...</td>\n      <td>14667706.0</td>\n      <td>10235998.0</td>\n      <td>7983649.0</td>\n      <td>NaN</td>\n      <td>NaN</td>\n      <td>3.405667e+10</td>\n      <td>3.363473e+10</td>\n      <td>3.381556e+10</td>\n      <td>NaN</td>\n      <td>NaN</td>\n    </tr>\n    <tr>\n      <th>4</th>\n      <td>5.68</td>\n      <td>5.74</td>\n      <td>5.67</td>\n      <td>5.73</td>\n      <td>5.74</td>\n      <td>-0.06</td>\n      <td>-1.0453</td>\n      <td>0.1603</td>\n      <td>9664391</td>\n      <td>54915465</td>\n      <td>...</td>\n      <td>14176603.0</td>\n      <td>14667706.0</td>\n      <td>10235998.0</td>\n      <td>7983649.0</td>\n      <td>NaN</td>\n      <td>3.459916e+10</td>\n      <td>3.405667e+10</td>\n      <td>3.363473e+10</td>\n      <td>3.381556e+10</td>\n      <td>NaN</td>\n    </tr>\n    <tr>\n      <th>...</th>\n      <td>...</td>\n      <td>...</td>\n      <td>...</td>\n      <td>...</td>\n      <td>...</td>\n      <td>...</td>\n      <td>...</td>\n      <td>...</td>\n      <td>...</td>\n      <td>...</td>\n      <td>...</td>\n      <td>...</td>\n      <td>...</td>\n      <td>...</td>\n      <td>...</td>\n      <td>...</td>\n      <td>...</td>\n      <td>...</td>\n      <td>...</td>\n      <td>...</td>\n      <td>...</td>\n    </tr>\n    <tr>\n      <th>567</th>\n      <td>31.24</td>\n      <td>33.03</td>\n      <td>30.45</td>\n      <td>33.03</td>\n      <td>33.03</td>\n      <td>-1.79</td>\n      <td>-5.4193</td>\n      <td>0.5948</td>\n      <td>35994415</td>\n      <td>1139767717</td>\n      <td>...</td>\n      <td>23007543.0</td>\n      <td>24592877.0</td>\n      <td>30962999.0</td>\n      <td>33162546.0</td>\n      <td>24431066.0</td>\n      <td>2.000000e+11</td>\n      <td>2.020000e+11</td>\n      <td>2.070000e+11</td>\n      <td>2.070000e+11</td>\n      <td>2.010000e+11</td>\n    </tr>\n    <tr>\n      <th>568</th>\n      <td>31.70</td>\n      <td>32.28</td>\n      <td>30.05</td>\n      <td>30.70</td>\n      <td>31.24</td>\n      <td>0.46</td>\n      <td>1.4725</td>\n      <td>0.4712</td>\n      <td>28515901</td>\n      <td>890904837</td>\n      <td>...</td>\n      <td>35994415.0</td>\n      <td>23007543.0</td>\n      <td>24592877.0</td>\n      <td>30962999.0</td>\n      <td>33162546.0</td>\n      <td>1.890000e+11</td>\n      <td>2.000000e+11</td>\n      <td>2.020000e+11</td>\n      <td>2.070000e+11</td>\n      <td>2.070000e+11</td>\n    </tr>\n    <tr>\n      <th>569</th>\n      <td>30.84</td>\n      <td>31.36</td>\n      <td>30.25</td>\n      <td>30.80</td>\n      <td>31.70</td>\n      <td>-0.86</td>\n      <td>-2.7129</td>\n      <td>0.4695</td>\n      <td>28415111</td>\n      <td>873201088</td>\n      <td>...</td>\n      <td>28515901.0</td>\n      <td>35994415.0</td>\n      <td>23007543.0</td>\n      <td>24592877.0</td>\n      <td>30962999.0</td>\n      <td>1.920000e+11</td>\n      <td>1.890000e+11</td>\n      <td>2.000000e+11</td>\n      <td>2.020000e+11</td>\n      <td>2.070000e+11</td>\n    </tr>\n    <tr>\n      <th>570</th>\n      <td>31.83</td>\n      <td>32.48</td>\n      <td>30.40</td>\n      <td>30.63</td>\n      <td>30.84</td>\n      <td>0.99</td>\n      <td>3.2101</td>\n      <td>0.5079</td>\n      <td>30736419</td>\n      <td>978244106</td>\n      <td>...</td>\n      <td>28415111.0</td>\n      <td>28515901.0</td>\n      <td>35994415.0</td>\n      <td>23007543.0</td>\n      <td>24592877.0</td>\n      <td>1.870000e+11</td>\n      <td>1.920000e+11</td>\n      <td>1.890000e+11</td>\n      <td>2.000000e+11</td>\n      <td>2.020000e+11</td>\n    </tr>\n    <tr>\n      <th>571</th>\n      <td>30.72</td>\n      <td>31.35</td>\n      <td>30.60</td>\n      <td>31.30</td>\n      <td>31.83</td>\n      <td>-1.11</td>\n      <td>-3.4873</td>\n      <td>0.3529</td>\n      <td>21359504</td>\n      <td>659393735</td>\n      <td>...</td>\n      <td>30736419.0</td>\n      <td>28415111.0</td>\n      <td>28515901.0</td>\n      <td>35994415.0</td>\n      <td>23007543.0</td>\n      <td>1.930000e+11</td>\n      <td>1.870000e+11</td>\n      <td>1.920000e+11</td>\n      <td>1.890000e+11</td>\n      <td>2.000000e+11</td>\n    </tr>\n  </tbody>\n</table>\n<p>572 rows × 43 columns</p>\n</div>"
     },
     "metadata": {},
     "execution_count": 63
    }
   ],
   "source": [
    "# 特征工程\n",
    "wtsw_fe = wtsw_dtal.copy()\n",
    "wtsw_fe['range_hl'] = wtsw_fe[r\"最高价\"] - wtsw_fe[r\"最低价\"]\n",
    "wtsw_fe['range_oc'] = wtsw_fe[r\"开盘价\"] - wtsw_fe[r\"收盘价\"]\n",
    "\n",
    "## 把前几天的数据放进来当作当天属性\n",
    "N = 5\n",
    "lag_cols = [r'收盘价', 'range_hl', 'range_oc',r'成交量',r'流通市值']\n",
    "shift_range = [x + 1 for x in range(N)]\n",
    "for col in lag_cols:\n",
    "    for i in shift_range:\n",
    "        new_col='{}_lag_{}'.format(col, i)   # 格式化字符串\n",
    "        wtsw_fe[new_col]=wtsw_fe[col].shift(i)\n",
    "\n",
    "wtsw_fe"
   ]
  },
  {
   "cell_type": "code",
   "execution_count": 64,
   "id": "growing-retirement",
   "metadata": {},
   "outputs": [
    {
     "output_type": "execute_result",
     "data": {
      "text/plain": [
       "       收盘价    最高价    最低价    开盘价    前收盘   涨跌额     涨跌幅     换手率       成交量  \\\n",
       "457  26.60  26.99  24.95  25.15  24.93  1.67  6.6988  0.9314  56144292   \n",
       "458  27.27  27.77  26.00  26.80  26.60  0.67  2.5188  0.8416  50727691   \n",
       "459  26.45  28.17  26.35  27.99  27.27 -0.82 -3.0070  0.7211  43463637   \n",
       "460  27.75  28.50  25.96  26.38  26.45  1.30  4.9149  0.9134  55057917   \n",
       "461  26.77  27.21  26.09  26.96  27.75 -0.98 -3.5315  0.5862  35332657   \n",
       "462  27.31  27.97  26.37  26.90  26.77  0.54  2.0172  0.6011  36233447   \n",
       "463  27.89  28.03  26.50  27.30  27.31  0.58  2.1238  0.7193  43357480   \n",
       "464  27.95  28.15  27.01  27.89  27.89  0.06  0.2151  0.6184  37275736   \n",
       "465  26.34  27.67  25.95  27.52  27.95 -1.61 -5.7603  0.7345  44272658   \n",
       "466  25.12  26.20  25.00  26.10  26.34 -1.22 -4.6317  0.6599  39779959   \n",
       "\n",
       "           成交金额  ...   成交量_lag_1   成交量_lag_2   成交量_lag_3   成交量_lag_4  \\\n",
       "457  1467830163  ...  30608342.0  31527648.0  41596279.0  42689915.0   \n",
       "458  1360483059  ...  56144292.0  30608342.0  31527648.0  41596279.0   \n",
       "459  1180394141  ...  50727691.0  56144292.0  30608342.0  31527648.0   \n",
       "460  1518590407  ...  43463637.0  50727691.0  56144292.0  30608342.0   \n",
       "461   938849970  ...  55057917.0  43463637.0  50727691.0  56144292.0   \n",
       "462   989146423  ...  35332657.0  55057917.0  43463637.0  50727691.0   \n",
       "463  1185800699  ...  36233447.0  35332657.0  55057917.0  43463637.0   \n",
       "464  1034427579  ...  43357480.0  36233447.0  35332657.0  55057917.0   \n",
       "465  1179004826  ...  37275736.0  43357480.0  36233447.0  35332657.0   \n",
       "466  1005396793  ...  44272658.0  37275736.0  43357480.0  36233447.0   \n",
       "\n",
       "      成交量_lag_5    流通市值_lag_1    流通市值_lag_2    流通市值_lag_3    流通市值_lag_4  \\\n",
       "457  35046390.0  1.500000e+11  1.530000e+11  1.530000e+11  1.500000e+11   \n",
       "458  42689915.0  1.600000e+11  1.500000e+11  1.530000e+11  1.530000e+11   \n",
       "459  41596279.0  1.640000e+11  1.600000e+11  1.500000e+11  1.530000e+11   \n",
       "460  31527648.0  1.590000e+11  1.640000e+11  1.600000e+11  1.500000e+11   \n",
       "461  30608342.0  1.670000e+11  1.590000e+11  1.640000e+11  1.600000e+11   \n",
       "462  56144292.0  1.610000e+11  1.670000e+11  1.590000e+11  1.640000e+11   \n",
       "463  50727691.0  1.650000e+11  1.610000e+11  1.670000e+11  1.590000e+11   \n",
       "464  43463637.0  1.680000e+11  1.650000e+11  1.610000e+11  1.670000e+11   \n",
       "465  55057917.0  1.680000e+11  1.680000e+11  1.650000e+11  1.610000e+11   \n",
       "466  35332657.0  1.590000e+11  1.680000e+11  1.680000e+11  1.650000e+11   \n",
       "\n",
       "       流通市值_lag_5  \n",
       "457  1.560000e+11  \n",
       "458  1.500000e+11  \n",
       "459  1.530000e+11  \n",
       "460  1.530000e+11  \n",
       "461  1.500000e+11  \n",
       "462  1.600000e+11  \n",
       "463  1.640000e+11  \n",
       "464  1.590000e+11  \n",
       "465  1.670000e+11  \n",
       "466  1.610000e+11  \n",
       "\n",
       "[10 rows x 43 columns]"
      ],
      "text/html": "<div>\n<style scoped>\n    .dataframe tbody tr th:only-of-type {\n        vertical-align: middle;\n    }\n\n    .dataframe tbody tr th {\n        vertical-align: top;\n    }\n\n    .dataframe thead th {\n        text-align: right;\n    }\n</style>\n<table border=\"1\" class=\"dataframe\">\n  <thead>\n    <tr style=\"text-align: right;\">\n      <th></th>\n      <th>收盘价</th>\n      <th>最高价</th>\n      <th>最低价</th>\n      <th>开盘价</th>\n      <th>前收盘</th>\n      <th>涨跌额</th>\n      <th>涨跌幅</th>\n      <th>换手率</th>\n      <th>成交量</th>\n      <th>成交金额</th>\n      <th>...</th>\n      <th>成交量_lag_1</th>\n      <th>成交量_lag_2</th>\n      <th>成交量_lag_3</th>\n      <th>成交量_lag_4</th>\n      <th>成交量_lag_5</th>\n      <th>流通市值_lag_1</th>\n      <th>流通市值_lag_2</th>\n      <th>流通市值_lag_3</th>\n      <th>流通市值_lag_4</th>\n      <th>流通市值_lag_5</th>\n    </tr>\n  </thead>\n  <tbody>\n    <tr>\n      <th>457</th>\n      <td>26.60</td>\n      <td>26.99</td>\n      <td>24.95</td>\n      <td>25.15</td>\n      <td>24.93</td>\n      <td>1.67</td>\n      <td>6.6988</td>\n      <td>0.9314</td>\n      <td>56144292</td>\n      <td>1467830163</td>\n      <td>...</td>\n      <td>30608342.0</td>\n      <td>31527648.0</td>\n      <td>41596279.0</td>\n      <td>42689915.0</td>\n      <td>35046390.0</td>\n      <td>1.500000e+11</td>\n      <td>1.530000e+11</td>\n      <td>1.530000e+11</td>\n      <td>1.500000e+11</td>\n      <td>1.560000e+11</td>\n    </tr>\n    <tr>\n      <th>458</th>\n      <td>27.27</td>\n      <td>27.77</td>\n      <td>26.00</td>\n      <td>26.80</td>\n      <td>26.60</td>\n      <td>0.67</td>\n      <td>2.5188</td>\n      <td>0.8416</td>\n      <td>50727691</td>\n      <td>1360483059</td>\n      <td>...</td>\n      <td>56144292.0</td>\n      <td>30608342.0</td>\n      <td>31527648.0</td>\n      <td>41596279.0</td>\n      <td>42689915.0</td>\n      <td>1.600000e+11</td>\n      <td>1.500000e+11</td>\n      <td>1.530000e+11</td>\n      <td>1.530000e+11</td>\n      <td>1.500000e+11</td>\n    </tr>\n    <tr>\n      <th>459</th>\n      <td>26.45</td>\n      <td>28.17</td>\n      <td>26.35</td>\n      <td>27.99</td>\n      <td>27.27</td>\n      <td>-0.82</td>\n      <td>-3.0070</td>\n      <td>0.7211</td>\n      <td>43463637</td>\n      <td>1180394141</td>\n      <td>...</td>\n      <td>50727691.0</td>\n      <td>56144292.0</td>\n      <td>30608342.0</td>\n      <td>31527648.0</td>\n      <td>41596279.0</td>\n      <td>1.640000e+11</td>\n      <td>1.600000e+11</td>\n      <td>1.500000e+11</td>\n      <td>1.530000e+11</td>\n      <td>1.530000e+11</td>\n    </tr>\n    <tr>\n      <th>460</th>\n      <td>27.75</td>\n      <td>28.50</td>\n      <td>25.96</td>\n      <td>26.38</td>\n      <td>26.45</td>\n      <td>1.30</td>\n      <td>4.9149</td>\n      <td>0.9134</td>\n      <td>55057917</td>\n      <td>1518590407</td>\n      <td>...</td>\n      <td>43463637.0</td>\n      <td>50727691.0</td>\n      <td>56144292.0</td>\n      <td>30608342.0</td>\n      <td>31527648.0</td>\n      <td>1.590000e+11</td>\n      <td>1.640000e+11</td>\n      <td>1.600000e+11</td>\n      <td>1.500000e+11</td>\n      <td>1.530000e+11</td>\n    </tr>\n    <tr>\n      <th>461</th>\n      <td>26.77</td>\n      <td>27.21</td>\n      <td>26.09</td>\n      <td>26.96</td>\n      <td>27.75</td>\n      <td>-0.98</td>\n      <td>-3.5315</td>\n      <td>0.5862</td>\n      <td>35332657</td>\n      <td>938849970</td>\n      <td>...</td>\n      <td>55057917.0</td>\n      <td>43463637.0</td>\n      <td>50727691.0</td>\n      <td>56144292.0</td>\n      <td>30608342.0</td>\n      <td>1.670000e+11</td>\n      <td>1.590000e+11</td>\n      <td>1.640000e+11</td>\n      <td>1.600000e+11</td>\n      <td>1.500000e+11</td>\n    </tr>\n    <tr>\n      <th>462</th>\n      <td>27.31</td>\n      <td>27.97</td>\n      <td>26.37</td>\n      <td>26.90</td>\n      <td>26.77</td>\n      <td>0.54</td>\n      <td>2.0172</td>\n      <td>0.6011</td>\n      <td>36233447</td>\n      <td>989146423</td>\n      <td>...</td>\n      <td>35332657.0</td>\n      <td>55057917.0</td>\n      <td>43463637.0</td>\n      <td>50727691.0</td>\n      <td>56144292.0</td>\n      <td>1.610000e+11</td>\n      <td>1.670000e+11</td>\n      <td>1.590000e+11</td>\n      <td>1.640000e+11</td>\n      <td>1.600000e+11</td>\n    </tr>\n    <tr>\n      <th>463</th>\n      <td>27.89</td>\n      <td>28.03</td>\n      <td>26.50</td>\n      <td>27.30</td>\n      <td>27.31</td>\n      <td>0.58</td>\n      <td>2.1238</td>\n      <td>0.7193</td>\n      <td>43357480</td>\n      <td>1185800699</td>\n      <td>...</td>\n      <td>36233447.0</td>\n      <td>35332657.0</td>\n      <td>55057917.0</td>\n      <td>43463637.0</td>\n      <td>50727691.0</td>\n      <td>1.650000e+11</td>\n      <td>1.610000e+11</td>\n      <td>1.670000e+11</td>\n      <td>1.590000e+11</td>\n      <td>1.640000e+11</td>\n    </tr>\n    <tr>\n      <th>464</th>\n      <td>27.95</td>\n      <td>28.15</td>\n      <td>27.01</td>\n      <td>27.89</td>\n      <td>27.89</td>\n      <td>0.06</td>\n      <td>0.2151</td>\n      <td>0.6184</td>\n      <td>37275736</td>\n      <td>1034427579</td>\n      <td>...</td>\n      <td>43357480.0</td>\n      <td>36233447.0</td>\n      <td>35332657.0</td>\n      <td>55057917.0</td>\n      <td>43463637.0</td>\n      <td>1.680000e+11</td>\n      <td>1.650000e+11</td>\n      <td>1.610000e+11</td>\n      <td>1.670000e+11</td>\n      <td>1.590000e+11</td>\n    </tr>\n    <tr>\n      <th>465</th>\n      <td>26.34</td>\n      <td>27.67</td>\n      <td>25.95</td>\n      <td>27.52</td>\n      <td>27.95</td>\n      <td>-1.61</td>\n      <td>-5.7603</td>\n      <td>0.7345</td>\n      <td>44272658</td>\n      <td>1179004826</td>\n      <td>...</td>\n      <td>37275736.0</td>\n      <td>43357480.0</td>\n      <td>36233447.0</td>\n      <td>35332657.0</td>\n      <td>55057917.0</td>\n      <td>1.680000e+11</td>\n      <td>1.680000e+11</td>\n      <td>1.650000e+11</td>\n      <td>1.610000e+11</td>\n      <td>1.670000e+11</td>\n    </tr>\n    <tr>\n      <th>466</th>\n      <td>25.12</td>\n      <td>26.20</td>\n      <td>25.00</td>\n      <td>26.10</td>\n      <td>26.34</td>\n      <td>-1.22</td>\n      <td>-4.6317</td>\n      <td>0.6599</td>\n      <td>39779959</td>\n      <td>1005396793</td>\n      <td>...</td>\n      <td>44272658.0</td>\n      <td>37275736.0</td>\n      <td>43357480.0</td>\n      <td>36233447.0</td>\n      <td>35332657.0</td>\n      <td>1.590000e+11</td>\n      <td>1.680000e+11</td>\n      <td>1.680000e+11</td>\n      <td>1.650000e+11</td>\n      <td>1.610000e+11</td>\n    </tr>\n  </tbody>\n</table>\n<p>10 rows × 43 columns</p>\n</div>"
     },
     "metadata": {},
     "execution_count": 64
    }
   ],
   "source": [
    "all_data = wtsw_fe[N:]\n",
    "train = wtsw_fe[N:int(wtsw_fe.shape[0]*0.8)]\n",
    "test = wtsw_fe[int(wtsw_fe.shape[0]*0.8):]\n",
    "test.head(10)\n",
    "# test.columns"
   ]
  },
  {
   "cell_type": "code",
   "execution_count": 65,
   "id": "legislative-intervention",
   "metadata": {},
   "outputs": [
    {
     "output_type": "execute_result",
     "data": {
      "text/plain": [
       "457    0.024876\n",
       "458   -0.030531\n",
       "459    0.047980\n",
       "460   -0.035954\n",
       "461    0.019971\n",
       "Name: label, dtype: float64"
      ]
     },
     "metadata": {},
     "execution_count": 65
    }
   ],
   "source": [
    "all_data_X = all_data.drop(labels=[r\"label\"],axis=1)\n",
    "all_data_Y = all_data[r\"label\"]\n",
    "train_X = train.drop(labels=[r\"label\"],axis=1)\n",
    "train_Y = train[r\"label\"]\n",
    "test_X = test.drop(labels=[r\"label\"],axis=1)\n",
    "test_Y = test[r\"label\"]\n",
    "test_Y.head()"
   ]
  },
  {
   "cell_type": "code",
   "execution_count": 66,
   "id": "virgin-letter",
   "metadata": {},
   "outputs": [],
   "source": [
    "def MAPE(true, pred):\n",
    "    diff = np.abs(np.array(true) - np.array(pred))\n",
    "    return sum(diff)/sum(true)"
   ]
  },
  {
   "cell_type": "code",
   "execution_count": 67,
   "id": "particular-router",
   "metadata": {},
   "outputs": [
    {
     "output_type": "stream",
     "name": "stderr",
     "text": [
      "C:\\Users\\11973\\AppData\\Local\\Programs\\Python\\Python37\\lib\\site-packages\\xgboost\\data.py:114: UserWarning:\n\nUse subset (sliced data) of np.ndarray is not recommended because it will generate extra copies and increase memory consumption\n\n"
     ]
    }
   ],
   "source": [
    "my_model = xgb.XGBRegressor(seed=100,\n",
    "                     n_estimators=100,\n",
    "                     max_depth=10,\n",
    "                     eval_metric='rmse',\n",
    "                     learning_rate=0.1,\n",
    "                     min_child_weight=1,\n",
    "                     subsample=0.7,\n",
    "                     colsample_bytree=1,\n",
    "                     colsample_bylevel=1,\n",
    "                     n_jobs = -1,\n",
    "                     gamma=0)\n",
    "my_model.fit(train_X,train_Y)\n",
    "predictions = my_model.predict(test_X)\n",
    "#print(predictions.tolist())\n",
    "#print(test_Y)\n",
    "\n",
    "# 全数据训练 并保存模型\n",
    "all_data_model = xgb.XGBRegressor(seed=100,\n",
    "                     n_estimators=100,\n",
    "                     max_depth=10,\n",
    "                     eval_metric='rmse',\n",
    "                     learning_rate=0.1,\n",
    "                     min_child_weight=1,\n",
    "                     subsample=0.7,\n",
    "                     colsample_bytree=1,\n",
    "                     colsample_bylevel=1,\n",
    "                     n_jobs = -1,\n",
    "                     gamma=0)\n",
    "all_data_model.fit(all_data_X,all_data_Y)\n",
    "pickle.dump(all_data_model,open(r'./xgb-model/'+NAME+'.pickle.dat',\"wb\"))"
   ]
  },
  {
   "cell_type": "code",
   "execution_count": 68,
   "id": "narrative-coordinator",
   "metadata": {},
   "outputs": [
    {
     "output_type": "display_data",
     "data": {
      "text/plain": "<Figure size 432x288 with 1 Axes>",
      "image/svg+xml": "<?xml version=\"1.0\" encoding=\"utf-8\" standalone=\"no\"?>\r\n<!DOCTYPE svg PUBLIC \"-//W3C//DTD SVG 1.1//EN\"\r\n  \"http://www.w3.org/Graphics/SVG/1.1/DTD/svg11.dtd\">\r\n<!-- Created with matplotlib (https://matplotlib.org/) -->\r\n<svg height=\"248.518125pt\" version=\"1.1\" viewBox=\"0 0 393.207812 248.518125\" width=\"393.207812pt\" xmlns=\"http://www.w3.org/2000/svg\" xmlns:xlink=\"http://www.w3.org/1999/xlink\">\r\n <defs>\r\n  <style type=\"text/css\">\r\n*{stroke-linecap:butt;stroke-linejoin:round;}\r\n  </style>\r\n </defs>\r\n <g id=\"figure_1\">\r\n  <g id=\"patch_1\">\r\n   <path d=\"M 0 248.518125 \r\nL 393.207812 248.518125 \r\nL 393.207812 0 \r\nL 0 0 \r\nz\r\n\" style=\"fill:none;\"/>\r\n  </g>\r\n  <g id=\"axes_1\">\r\n   <g id=\"patch_2\">\r\n    <path d=\"M 51.207813 224.64 \r\nL 386.007812 224.64 \r\nL 386.007812 7.2 \r\nL 51.207813 7.2 \r\nz\r\n\" style=\"fill:#ffffff;\"/>\r\n   </g>\r\n   <g id=\"matplotlib.axis_1\">\r\n    <g id=\"xtick_1\">\r\n     <g id=\"line2d_1\">\r\n      <defs>\r\n       <path d=\"M 0 0 \r\nL 0 3.5 \r\n\" id=\"me74359d3e4\" style=\"stroke:#000000;stroke-width:0.8;\"/>\r\n      </defs>\r\n      <g>\r\n       <use style=\"stroke:#000000;stroke-width:0.8;\" x=\"66.425994\" xlink:href=\"#me74359d3e4\" y=\"224.64\"/>\r\n      </g>\r\n     </g>\r\n     <g id=\"text_1\">\r\n      <!-- 0 -->\r\n      <defs>\r\n       <path d=\"M 31.78125 66.40625 \r\nQ 24.171875 66.40625 20.328125 58.90625 \r\nQ 16.5 51.421875 16.5 36.375 \r\nQ 16.5 21.390625 20.328125 13.890625 \r\nQ 24.171875 6.390625 31.78125 6.390625 \r\nQ 39.453125 6.390625 43.28125 13.890625 \r\nQ 47.125 21.390625 47.125 36.375 \r\nQ 47.125 51.421875 43.28125 58.90625 \r\nQ 39.453125 66.40625 31.78125 66.40625 \r\nz\r\nM 31.78125 74.21875 \r\nQ 44.046875 74.21875 50.515625 64.515625 \r\nQ 56.984375 54.828125 56.984375 36.375 \r\nQ 56.984375 17.96875 50.515625 8.265625 \r\nQ 44.046875 -1.421875 31.78125 -1.421875 \r\nQ 19.53125 -1.421875 13.0625 8.265625 \r\nQ 6.59375 17.96875 6.59375 36.375 \r\nQ 6.59375 54.828125 13.0625 64.515625 \r\nQ 19.53125 74.21875 31.78125 74.21875 \r\nz\r\n\" id=\"DejaVuSans-48\"/>\r\n      </defs>\r\n      <g transform=\"translate(63.244744 239.238437)scale(0.1 -0.1)\">\r\n       <use xlink:href=\"#DejaVuSans-48\"/>\r\n      </g>\r\n     </g>\r\n    </g>\r\n    <g id=\"xtick_2\">\r\n     <g id=\"line2d_2\">\r\n      <g>\r\n       <use style=\"stroke:#000000;stroke-width:0.8;\" x=\"119.823124\" xlink:href=\"#me74359d3e4\" y=\"224.64\"/>\r\n      </g>\r\n     </g>\r\n     <g id=\"text_2\">\r\n      <!-- 20 -->\r\n      <defs>\r\n       <path d=\"M 19.1875 8.296875 \r\nL 53.609375 8.296875 \r\nL 53.609375 0 \r\nL 7.328125 0 \r\nL 7.328125 8.296875 \r\nQ 12.9375 14.109375 22.625 23.890625 \r\nQ 32.328125 33.6875 34.8125 36.53125 \r\nQ 39.546875 41.84375 41.421875 45.53125 \r\nQ 43.3125 49.21875 43.3125 52.78125 \r\nQ 43.3125 58.59375 39.234375 62.25 \r\nQ 35.15625 65.921875 28.609375 65.921875 \r\nQ 23.96875 65.921875 18.8125 64.3125 \r\nQ 13.671875 62.703125 7.8125 59.421875 \r\nL 7.8125 69.390625 \r\nQ 13.765625 71.78125 18.9375 73 \r\nQ 24.125 74.21875 28.421875 74.21875 \r\nQ 39.75 74.21875 46.484375 68.546875 \r\nQ 53.21875 62.890625 53.21875 53.421875 \r\nQ 53.21875 48.921875 51.53125 44.890625 \r\nQ 49.859375 40.875 45.40625 35.40625 \r\nQ 44.1875 33.984375 37.640625 27.21875 \r\nQ 31.109375 20.453125 19.1875 8.296875 \r\nz\r\n\" id=\"DejaVuSans-50\"/>\r\n      </defs>\r\n      <g transform=\"translate(113.460624 239.238437)scale(0.1 -0.1)\">\r\n       <use xlink:href=\"#DejaVuSans-50\"/>\r\n       <use x=\"63.623047\" xlink:href=\"#DejaVuSans-48\"/>\r\n      </g>\r\n     </g>\r\n    </g>\r\n    <g id=\"xtick_3\">\r\n     <g id=\"line2d_3\">\r\n      <g>\r\n       <use style=\"stroke:#000000;stroke-width:0.8;\" x=\"173.220253\" xlink:href=\"#me74359d3e4\" y=\"224.64\"/>\r\n      </g>\r\n     </g>\r\n     <g id=\"text_3\">\r\n      <!-- 40 -->\r\n      <defs>\r\n       <path d=\"M 37.796875 64.3125 \r\nL 12.890625 25.390625 \r\nL 37.796875 25.390625 \r\nz\r\nM 35.203125 72.90625 \r\nL 47.609375 72.90625 \r\nL 47.609375 25.390625 \r\nL 58.015625 25.390625 \r\nL 58.015625 17.1875 \r\nL 47.609375 17.1875 \r\nL 47.609375 0 \r\nL 37.796875 0 \r\nL 37.796875 17.1875 \r\nL 4.890625 17.1875 \r\nL 4.890625 26.703125 \r\nz\r\n\" id=\"DejaVuSans-52\"/>\r\n      </defs>\r\n      <g transform=\"translate(166.857753 239.238437)scale(0.1 -0.1)\">\r\n       <use xlink:href=\"#DejaVuSans-52\"/>\r\n       <use x=\"63.623047\" xlink:href=\"#DejaVuSans-48\"/>\r\n      </g>\r\n     </g>\r\n    </g>\r\n    <g id=\"xtick_4\">\r\n     <g id=\"line2d_4\">\r\n      <g>\r\n       <use style=\"stroke:#000000;stroke-width:0.8;\" x=\"226.617382\" xlink:href=\"#me74359d3e4\" y=\"224.64\"/>\r\n      </g>\r\n     </g>\r\n     <g id=\"text_4\">\r\n      <!-- 60 -->\r\n      <defs>\r\n       <path d=\"M 33.015625 40.375 \r\nQ 26.375 40.375 22.484375 35.828125 \r\nQ 18.609375 31.296875 18.609375 23.390625 \r\nQ 18.609375 15.53125 22.484375 10.953125 \r\nQ 26.375 6.390625 33.015625 6.390625 \r\nQ 39.65625 6.390625 43.53125 10.953125 \r\nQ 47.40625 15.53125 47.40625 23.390625 \r\nQ 47.40625 31.296875 43.53125 35.828125 \r\nQ 39.65625 40.375 33.015625 40.375 \r\nz\r\nM 52.59375 71.296875 \r\nL 52.59375 62.3125 \r\nQ 48.875 64.0625 45.09375 64.984375 \r\nQ 41.3125 65.921875 37.59375 65.921875 \r\nQ 27.828125 65.921875 22.671875 59.328125 \r\nQ 17.53125 52.734375 16.796875 39.40625 \r\nQ 19.671875 43.65625 24.015625 45.921875 \r\nQ 28.375 48.1875 33.59375 48.1875 \r\nQ 44.578125 48.1875 50.953125 41.515625 \r\nQ 57.328125 34.859375 57.328125 23.390625 \r\nQ 57.328125 12.15625 50.6875 5.359375 \r\nQ 44.046875 -1.421875 33.015625 -1.421875 \r\nQ 20.359375 -1.421875 13.671875 8.265625 \r\nQ 6.984375 17.96875 6.984375 36.375 \r\nQ 6.984375 53.65625 15.1875 63.9375 \r\nQ 23.390625 74.21875 37.203125 74.21875 \r\nQ 40.921875 74.21875 44.703125 73.484375 \r\nQ 48.484375 72.75 52.59375 71.296875 \r\nz\r\n\" id=\"DejaVuSans-54\"/>\r\n      </defs>\r\n      <g transform=\"translate(220.254882 239.238437)scale(0.1 -0.1)\">\r\n       <use xlink:href=\"#DejaVuSans-54\"/>\r\n       <use x=\"63.623047\" xlink:href=\"#DejaVuSans-48\"/>\r\n      </g>\r\n     </g>\r\n    </g>\r\n    <g id=\"xtick_5\">\r\n     <g id=\"line2d_5\">\r\n      <g>\r\n       <use style=\"stroke:#000000;stroke-width:0.8;\" x=\"280.014511\" xlink:href=\"#me74359d3e4\" y=\"224.64\"/>\r\n      </g>\r\n     </g>\r\n     <g id=\"text_5\">\r\n      <!-- 80 -->\r\n      <defs>\r\n       <path d=\"M 31.78125 34.625 \r\nQ 24.75 34.625 20.71875 30.859375 \r\nQ 16.703125 27.09375 16.703125 20.515625 \r\nQ 16.703125 13.921875 20.71875 10.15625 \r\nQ 24.75 6.390625 31.78125 6.390625 \r\nQ 38.8125 6.390625 42.859375 10.171875 \r\nQ 46.921875 13.96875 46.921875 20.515625 \r\nQ 46.921875 27.09375 42.890625 30.859375 \r\nQ 38.875 34.625 31.78125 34.625 \r\nz\r\nM 21.921875 38.8125 \r\nQ 15.578125 40.375 12.03125 44.71875 \r\nQ 8.5 49.078125 8.5 55.328125 \r\nQ 8.5 64.0625 14.71875 69.140625 \r\nQ 20.953125 74.21875 31.78125 74.21875 \r\nQ 42.671875 74.21875 48.875 69.140625 \r\nQ 55.078125 64.0625 55.078125 55.328125 \r\nQ 55.078125 49.078125 51.53125 44.71875 \r\nQ 48 40.375 41.703125 38.8125 \r\nQ 48.828125 37.15625 52.796875 32.3125 \r\nQ 56.78125 27.484375 56.78125 20.515625 \r\nQ 56.78125 9.90625 50.3125 4.234375 \r\nQ 43.84375 -1.421875 31.78125 -1.421875 \r\nQ 19.734375 -1.421875 13.25 4.234375 \r\nQ 6.78125 9.90625 6.78125 20.515625 \r\nQ 6.78125 27.484375 10.78125 32.3125 \r\nQ 14.796875 37.15625 21.921875 38.8125 \r\nz\r\nM 18.3125 54.390625 \r\nQ 18.3125 48.734375 21.84375 45.5625 \r\nQ 25.390625 42.390625 31.78125 42.390625 \r\nQ 38.140625 42.390625 41.71875 45.5625 \r\nQ 45.3125 48.734375 45.3125 54.390625 \r\nQ 45.3125 60.0625 41.71875 63.234375 \r\nQ 38.140625 66.40625 31.78125 66.40625 \r\nQ 25.390625 66.40625 21.84375 63.234375 \r\nQ 18.3125 60.0625 18.3125 54.390625 \r\nz\r\n\" id=\"DejaVuSans-56\"/>\r\n      </defs>\r\n      <g transform=\"translate(273.652011 239.238437)scale(0.1 -0.1)\">\r\n       <use xlink:href=\"#DejaVuSans-56\"/>\r\n       <use x=\"63.623047\" xlink:href=\"#DejaVuSans-48\"/>\r\n      </g>\r\n     </g>\r\n    </g>\r\n    <g id=\"xtick_6\">\r\n     <g id=\"line2d_6\">\r\n      <g>\r\n       <use style=\"stroke:#000000;stroke-width:0.8;\" x=\"333.41164\" xlink:href=\"#me74359d3e4\" y=\"224.64\"/>\r\n      </g>\r\n     </g>\r\n     <g id=\"text_6\">\r\n      <!-- 100 -->\r\n      <defs>\r\n       <path d=\"M 12.40625 8.296875 \r\nL 28.515625 8.296875 \r\nL 28.515625 63.921875 \r\nL 10.984375 60.40625 \r\nL 10.984375 69.390625 \r\nL 28.421875 72.90625 \r\nL 38.28125 72.90625 \r\nL 38.28125 8.296875 \r\nL 54.390625 8.296875 \r\nL 54.390625 0 \r\nL 12.40625 0 \r\nz\r\n\" id=\"DejaVuSans-49\"/>\r\n      </defs>\r\n      <g transform=\"translate(323.86789 239.238437)scale(0.1 -0.1)\">\r\n       <use xlink:href=\"#DejaVuSans-49\"/>\r\n       <use x=\"63.623047\" xlink:href=\"#DejaVuSans-48\"/>\r\n       <use x=\"127.246094\" xlink:href=\"#DejaVuSans-48\"/>\r\n      </g>\r\n     </g>\r\n    </g>\r\n   </g>\r\n   <g id=\"matplotlib.axis_2\">\r\n    <g id=\"ytick_1\">\r\n     <g id=\"line2d_7\">\r\n      <defs>\r\n       <path d=\"M 0 0 \r\nL -3.5 0 \r\n\" id=\"m7f6e83c7df\" style=\"stroke:#000000;stroke-width:0.8;\"/>\r\n      </defs>\r\n      <g>\r\n       <use style=\"stroke:#000000;stroke-width:0.8;\" x=\"51.207813\" xlink:href=\"#m7f6e83c7df\" y=\"209.499137\"/>\r\n      </g>\r\n     </g>\r\n     <g id=\"text_7\">\r\n      <!-- −0.100 -->\r\n      <defs>\r\n       <path d=\"M 10.59375 35.5 \r\nL 73.1875 35.5 \r\nL 73.1875 27.203125 \r\nL 10.59375 27.203125 \r\nz\r\n\" id=\"DejaVuSans-8722\"/>\r\n       <path d=\"M 10.6875 12.40625 \r\nL 21 12.40625 \r\nL 21 0 \r\nL 10.6875 0 \r\nz\r\n\" id=\"DejaVuSans-46\"/>\r\n      </defs>\r\n      <g transform=\"translate(7.2 213.298355)scale(0.1 -0.1)\">\r\n       <use xlink:href=\"#DejaVuSans-8722\"/>\r\n       <use x=\"83.789062\" xlink:href=\"#DejaVuSans-48\"/>\r\n       <use x=\"147.412109\" xlink:href=\"#DejaVuSans-46\"/>\r\n       <use x=\"179.199219\" xlink:href=\"#DejaVuSans-49\"/>\r\n       <use x=\"242.822266\" xlink:href=\"#DejaVuSans-48\"/>\r\n       <use x=\"306.445312\" xlink:href=\"#DejaVuSans-48\"/>\r\n      </g>\r\n     </g>\r\n    </g>\r\n    <g id=\"ytick_2\">\r\n     <g id=\"line2d_8\">\r\n      <g>\r\n       <use style=\"stroke:#000000;stroke-width:0.8;\" x=\"51.207813\" xlink:href=\"#m7f6e83c7df\" y=\"184.878392\"/>\r\n      </g>\r\n     </g>\r\n     <g id=\"text_8\">\r\n      <!-- −0.075 -->\r\n      <defs>\r\n       <path d=\"M 8.203125 72.90625 \r\nL 55.078125 72.90625 \r\nL 55.078125 68.703125 \r\nL 28.609375 0 \r\nL 18.3125 0 \r\nL 43.21875 64.59375 \r\nL 8.203125 64.59375 \r\nz\r\n\" id=\"DejaVuSans-55\"/>\r\n       <path d=\"M 10.796875 72.90625 \r\nL 49.515625 72.90625 \r\nL 49.515625 64.59375 \r\nL 19.828125 64.59375 \r\nL 19.828125 46.734375 \r\nQ 21.96875 47.46875 24.109375 47.828125 \r\nQ 26.265625 48.1875 28.421875 48.1875 \r\nQ 40.625 48.1875 47.75 41.5 \r\nQ 54.890625 34.8125 54.890625 23.390625 \r\nQ 54.890625 11.625 47.5625 5.09375 \r\nQ 40.234375 -1.421875 26.90625 -1.421875 \r\nQ 22.3125 -1.421875 17.546875 -0.640625 \r\nQ 12.796875 0.140625 7.71875 1.703125 \r\nL 7.71875 11.625 \r\nQ 12.109375 9.234375 16.796875 8.0625 \r\nQ 21.484375 6.890625 26.703125 6.890625 \r\nQ 35.15625 6.890625 40.078125 11.328125 \r\nQ 45.015625 15.765625 45.015625 23.390625 \r\nQ 45.015625 31 40.078125 35.4375 \r\nQ 35.15625 39.890625 26.703125 39.890625 \r\nQ 22.75 39.890625 18.8125 39.015625 \r\nQ 14.890625 38.140625 10.796875 36.28125 \r\nz\r\n\" id=\"DejaVuSans-53\"/>\r\n      </defs>\r\n      <g transform=\"translate(7.2 188.677611)scale(0.1 -0.1)\">\r\n       <use xlink:href=\"#DejaVuSans-8722\"/>\r\n       <use x=\"83.789062\" xlink:href=\"#DejaVuSans-48\"/>\r\n       <use x=\"147.412109\" xlink:href=\"#DejaVuSans-46\"/>\r\n       <use x=\"179.199219\" xlink:href=\"#DejaVuSans-48\"/>\r\n       <use x=\"242.822266\" xlink:href=\"#DejaVuSans-55\"/>\r\n       <use x=\"306.445312\" xlink:href=\"#DejaVuSans-53\"/>\r\n      </g>\r\n     </g>\r\n    </g>\r\n    <g id=\"ytick_3\">\r\n     <g id=\"line2d_9\">\r\n      <g>\r\n       <use style=\"stroke:#000000;stroke-width:0.8;\" x=\"51.207813\" xlink:href=\"#m7f6e83c7df\" y=\"160.257648\"/>\r\n      </g>\r\n     </g>\r\n     <g id=\"text_9\">\r\n      <!-- −0.050 -->\r\n      <g transform=\"translate(7.2 164.056867)scale(0.1 -0.1)\">\r\n       <use xlink:href=\"#DejaVuSans-8722\"/>\r\n       <use x=\"83.789062\" xlink:href=\"#DejaVuSans-48\"/>\r\n       <use x=\"147.412109\" xlink:href=\"#DejaVuSans-46\"/>\r\n       <use x=\"179.199219\" xlink:href=\"#DejaVuSans-48\"/>\r\n       <use x=\"242.822266\" xlink:href=\"#DejaVuSans-53\"/>\r\n       <use x=\"306.445312\" xlink:href=\"#DejaVuSans-48\"/>\r\n      </g>\r\n     </g>\r\n    </g>\r\n    <g id=\"ytick_4\">\r\n     <g id=\"line2d_10\">\r\n      <g>\r\n       <use style=\"stroke:#000000;stroke-width:0.8;\" x=\"51.207813\" xlink:href=\"#m7f6e83c7df\" y=\"135.636903\"/>\r\n      </g>\r\n     </g>\r\n     <g id=\"text_10\">\r\n      <!-- −0.025 -->\r\n      <g transform=\"translate(7.2 139.436122)scale(0.1 -0.1)\">\r\n       <use xlink:href=\"#DejaVuSans-8722\"/>\r\n       <use x=\"83.789062\" xlink:href=\"#DejaVuSans-48\"/>\r\n       <use x=\"147.412109\" xlink:href=\"#DejaVuSans-46\"/>\r\n       <use x=\"179.199219\" xlink:href=\"#DejaVuSans-48\"/>\r\n       <use x=\"242.822266\" xlink:href=\"#DejaVuSans-50\"/>\r\n       <use x=\"306.445312\" xlink:href=\"#DejaVuSans-53\"/>\r\n      </g>\r\n     </g>\r\n    </g>\r\n    <g id=\"ytick_5\">\r\n     <g id=\"line2d_11\">\r\n      <g>\r\n       <use style=\"stroke:#000000;stroke-width:0.8;\" x=\"51.207813\" xlink:href=\"#m7f6e83c7df\" y=\"111.016159\"/>\r\n      </g>\r\n     </g>\r\n     <g id=\"text_11\">\r\n      <!-- 0.000 -->\r\n      <g transform=\"translate(15.579688 114.815378)scale(0.1 -0.1)\">\r\n       <use xlink:href=\"#DejaVuSans-48\"/>\r\n       <use x=\"63.623047\" xlink:href=\"#DejaVuSans-46\"/>\r\n       <use x=\"95.410156\" xlink:href=\"#DejaVuSans-48\"/>\r\n       <use x=\"159.033203\" xlink:href=\"#DejaVuSans-48\"/>\r\n       <use x=\"222.65625\" xlink:href=\"#DejaVuSans-48\"/>\r\n      </g>\r\n     </g>\r\n    </g>\r\n    <g id=\"ytick_6\">\r\n     <g id=\"line2d_12\">\r\n      <g>\r\n       <use style=\"stroke:#000000;stroke-width:0.8;\" x=\"51.207813\" xlink:href=\"#m7f6e83c7df\" y=\"86.395415\"/>\r\n      </g>\r\n     </g>\r\n     <g id=\"text_12\">\r\n      <!-- 0.025 -->\r\n      <g transform=\"translate(15.579688 90.194633)scale(0.1 -0.1)\">\r\n       <use xlink:href=\"#DejaVuSans-48\"/>\r\n       <use x=\"63.623047\" xlink:href=\"#DejaVuSans-46\"/>\r\n       <use x=\"95.410156\" xlink:href=\"#DejaVuSans-48\"/>\r\n       <use x=\"159.033203\" xlink:href=\"#DejaVuSans-50\"/>\r\n       <use x=\"222.65625\" xlink:href=\"#DejaVuSans-53\"/>\r\n      </g>\r\n     </g>\r\n    </g>\r\n    <g id=\"ytick_7\">\r\n     <g id=\"line2d_13\">\r\n      <g>\r\n       <use style=\"stroke:#000000;stroke-width:0.8;\" x=\"51.207813\" xlink:href=\"#m7f6e83c7df\" y=\"61.77467\"/>\r\n      </g>\r\n     </g>\r\n     <g id=\"text_13\">\r\n      <!-- 0.050 -->\r\n      <g transform=\"translate(15.579688 65.573889)scale(0.1 -0.1)\">\r\n       <use xlink:href=\"#DejaVuSans-48\"/>\r\n       <use x=\"63.623047\" xlink:href=\"#DejaVuSans-46\"/>\r\n       <use x=\"95.410156\" xlink:href=\"#DejaVuSans-48\"/>\r\n       <use x=\"159.033203\" xlink:href=\"#DejaVuSans-53\"/>\r\n       <use x=\"222.65625\" xlink:href=\"#DejaVuSans-48\"/>\r\n      </g>\r\n     </g>\r\n    </g>\r\n    <g id=\"ytick_8\">\r\n     <g id=\"line2d_14\">\r\n      <g>\r\n       <use style=\"stroke:#000000;stroke-width:0.8;\" x=\"51.207813\" xlink:href=\"#m7f6e83c7df\" y=\"37.153926\"/>\r\n      </g>\r\n     </g>\r\n     <g id=\"text_14\">\r\n      <!-- 0.075 -->\r\n      <g transform=\"translate(15.579688 40.953145)scale(0.1 -0.1)\">\r\n       <use xlink:href=\"#DejaVuSans-48\"/>\r\n       <use x=\"63.623047\" xlink:href=\"#DejaVuSans-46\"/>\r\n       <use x=\"95.410156\" xlink:href=\"#DejaVuSans-48\"/>\r\n       <use x=\"159.033203\" xlink:href=\"#DejaVuSans-55\"/>\r\n       <use x=\"222.65625\" xlink:href=\"#DejaVuSans-53\"/>\r\n      </g>\r\n     </g>\r\n    </g>\r\n    <g id=\"ytick_9\">\r\n     <g id=\"line2d_15\">\r\n      <g>\r\n       <use style=\"stroke:#000000;stroke-width:0.8;\" x=\"51.207813\" xlink:href=\"#m7f6e83c7df\" y=\"12.533181\"/>\r\n      </g>\r\n     </g>\r\n     <g id=\"text_15\">\r\n      <!-- 0.100 -->\r\n      <g transform=\"translate(15.579688 16.3324)scale(0.1 -0.1)\">\r\n       <use xlink:href=\"#DejaVuSans-48\"/>\r\n       <use x=\"63.623047\" xlink:href=\"#DejaVuSans-46\"/>\r\n       <use x=\"95.410156\" xlink:href=\"#DejaVuSans-49\"/>\r\n       <use x=\"159.033203\" xlink:href=\"#DejaVuSans-48\"/>\r\n       <use x=\"222.65625\" xlink:href=\"#DejaVuSans-48\"/>\r\n      </g>\r\n     </g>\r\n    </g>\r\n   </g>\r\n   <g id=\"line2d_16\">\r\n    <path clip-path=\"url(#pbf646e2390)\" d=\"M 66.425994 90.308502 \r\nL 69.095851 121.390038 \r\nL 71.765707 99.770026 \r\nL 74.435564 114.495173 \r\nL 77.10542 89.095003 \r\nL 79.775277 99.722395 \r\nL 82.445133 125.895495 \r\nL 85.11499 100.968125 \r\nL 87.784846 97.045552 \r\nL 90.454702 97.68111 \r\nL 93.124559 73.9014 \r\nL 95.794415 78.5626 \r\nL 98.464272 78.943863 \r\nL 101.134128 105.822631 \r\nL 103.803985 75.701922 \r\nL 106.473841 83.632154 \r\nL 109.143698 67.396145 \r\nL 111.813554 125.799258 \r\nL 114.483411 124.022982 \r\nL 117.153267 108.171527 \r\nL 119.823124 79.676913 \r\nL 122.49298 85.717577 \r\nL 125.162836 105.813902 \r\nL 127.832693 111.838648 \r\nL 130.502549 124.393942 \r\nL 133.172406 70.309294 \r\nL 135.842262 116.134506 \r\nL 138.512119 104.520096 \r\nL 141.181975 97.830837 \r\nL 143.851832 97.365743 \r\nL 146.521688 66.184895 \r\nL 149.191545 108.736069 \r\nL 151.861401 92.046523 \r\nL 154.531257 70.723436 \r\nL 157.201114 111.268187 \r\nL 159.87097 76.51084 \r\nL 162.540827 105.808995 \r\nL 165.210683 107.094681 \r\nL 167.88054 96.269891 \r\nL 170.550396 85.890392 \r\nL 173.220253 78.660648 \r\nL 175.890109 85.359634 \r\nL 178.559966 98.719465 \r\nL 181.229822 71.929026 \r\nL 183.899679 98.761048 \r\nL 186.569535 102.279621 \r\nL 189.239391 92.176214 \r\nL 191.909248 105.832099 \r\nL 194.579104 92.37424 \r\nL 197.248961 73.98 \r\nL 199.918817 76.553365 \r\nL 202.588674 82.187459 \r\nL 205.25853 91.311883 \r\nL 207.928387 87.251136 \r\nL 210.598243 67.694131 \r\nL 213.2681 75.181547 \r\nL 215.937956 57.116053 \r\nL 218.607813 99.310105 \r\nL 221.277669 107.943108 \r\nL 223.947525 100.25266 \r\nL 226.617382 70.011536 \r\nL 229.287238 81.284109 \r\nL 231.957095 46.526298 \r\nL 234.626951 65.280376 \r\nL 237.296808 81.490458 \r\nL 239.966664 68.717133 \r\nL 242.636521 103.571657 \r\nL 245.306377 105.663447 \r\nL 247.976234 112.405931 \r\nL 250.64609 87.063559 \r\nL 253.315946 112.678759 \r\nL 255.985803 87.335094 \r\nL 258.655659 72.139397 \r\nL 261.325516 118.00065 \r\nL 263.995372 107.130012 \r\nL 266.665229 89.550065 \r\nL 269.335085 103.868578 \r\nL 272.004942 92.370779 \r\nL 274.674798 105.164229 \r\nL 277.344655 137.070031 \r\nL 280.014511 107.978012 \r\nL 282.684368 107.485265 \r\nL 285.354224 101.550829 \r\nL 288.02408 96.355338 \r\nL 290.693937 75.043469 \r\nL 293.363793 112.035341 \r\nL 296.03365 108.393472 \r\nL 298.703506 67.777526 \r\nL 301.373363 83.404504 \r\nL 304.043219 89.983887 \r\nL 306.713076 123.00734 \r\nL 309.382932 120.04564 \r\nL 312.052789 118.428637 \r\nL 314.722645 63.040155 \r\nL 317.392501 83.966677 \r\nL 320.062358 66.780415 \r\nL 322.732214 43.961177 \r\nL 325.402071 98.445082 \r\nL 328.071927 103.13271 \r\nL 330.741784 88.751481 \r\nL 333.41164 98.66773 \r\nL 336.081497 111.009342 \r\nL 338.751353 117.090622 \r\nL 341.42121 105.279882 \r\nL 344.091066 99.928154 \r\nL 346.760923 109.715522 \r\nL 349.430779 123.601635 \r\nL 352.100635 116.056536 \r\nL 354.770492 108.878504 \r\nL 357.440348 91.349198 \r\nL 360.110205 108.553618 \r\nL 362.780061 99.379063 \r\nL 365.449918 82.133024 \r\nL 368.119774 92.172411 \r\nL 370.789631 124.487862 \r\n\" style=\"fill:none;stroke:#1f77b4;stroke-linecap:square;stroke-width:1.5;\"/>\r\n   </g>\r\n   <g id=\"line2d_17\">\r\n    <path clip-path=\"url(#pbf646e2390)\" d=\"M 66.425994 86.517552 \r\nL 69.095851 141.084035 \r\nL 71.765707 63.76434 \r\nL 74.435564 146.424712 \r\nL 77.10542 91.348047 \r\nL 79.775277 90.319699 \r\nL 82.445133 108.899762 \r\nL 85.11499 169.444636 \r\nL 87.784846 157.721076 \r\nL 90.454702 100.487291 \r\nL 93.124559 124.686433 \r\nL 95.794415 78.140328 \r\nL 98.464272 139.575136 \r\nL 101.134128 140.831648 \r\nL 103.803985 89.853383 \r\nL 106.473841 44.203019 \r\nL 109.143698 82.637128 \r\nL 111.813554 122.19728 \r\nL 114.483411 140.845028 \r\nL 117.153267 17.287826 \r\nL 119.823124 37.983859 \r\nL 122.49298 139.842503 \r\nL 125.162836 17.151856 \r\nL 127.832693 136.760896 \r\nL 130.502549 82.6157 \r\nL 133.172406 56.839012 \r\nL 135.842262 148.538022 \r\nL 138.512119 22.67238 \r\nL 141.181975 94.468423 \r\nL 143.851832 103.232954 \r\nL 146.521688 106.375591 \r\nL 149.191545 128.401302 \r\nL 151.861401 17.199454 \r\nL 154.531257 84.714897 \r\nL 157.201114 30.513593 \r\nL 159.87097 55.995025 \r\nL 162.540827 90.235859 \r\nL 165.210683 214.756364 \r\nL 167.88054 140.449532 \r\nL 170.550396 164.741125 \r\nL 173.220253 141.11187 \r\nL 175.890109 97.796769 \r\nL 178.559966 102.541849 \r\nL 181.229822 147.359053 \r\nL 183.899679 17.083636 \r\nL 186.569535 90.092661 \r\nL 189.239391 157.275778 \r\nL 191.909248 140.140547 \r\nL 194.579104 88.681306 \r\nL 197.248961 160.14744 \r\nL 199.918817 17.106957 \r\nL 202.588674 169.277008 \r\nL 205.25853 142.721244 \r\nL 207.928387 159.152256 \r\nL 210.598243 57.728369 \r\nL 213.2681 95.239128 \r\nL 215.937956 74.151624 \r\nL 218.607813 131.16803 \r\nL 221.277669 131.347307 \r\nL 223.947525 168.744354 \r\nL 226.617382 189.673772 \r\nL 229.287238 170.807837 \r\nL 231.957095 142.178569 \r\nL 234.626951 141.311491 \r\nL 237.296808 96.679776 \r\nL 239.966664 125.666532 \r\nL 242.636521 95.128951 \r\nL 245.306377 157.198399 \r\nL 247.976234 76.33435 \r\nL 250.64609 200.29528 \r\nL 253.315946 78.37815 \r\nL 255.985803 69.116117 \r\nL 258.655659 106.220679 \r\nL 261.325516 119.986694 \r\nL 263.995372 145.402737 \r\nL 266.665229 102.388889 \r\nL 269.335085 108.047318 \r\nL 272.004942 101.836587 \r\nL 274.674798 157.110197 \r\nL 277.344655 91.044704 \r\nL 280.014511 146.149743 \r\nL 282.684368 132.075332 \r\nL 285.354224 97.626496 \r\nL 288.02408 17.279128 \r\nL 290.693937 170.363181 \r\nL 293.363793 92.601331 \r\nL 296.03365 96.528265 \r\nL 298.703506 38.569552 \r\nL 301.373363 53.510885 \r\nL 304.043219 109.871008 \r\nL 306.713076 152.507263 \r\nL 309.382932 127.264865 \r\nL 312.052789 136.837145 \r\nL 314.722645 150.090487 \r\nL 317.392501 104.878115 \r\nL 320.062358 73.72909 \r\nL 322.732214 134.233992 \r\nL 325.402071 56.666934 \r\nL 328.071927 18.190274 \r\nL 330.741784 133.974893 \r\nL 333.41164 101.269425 \r\nL 336.081497 154.642442 \r\nL 338.751353 119.160102 \r\nL 341.42121 125.135824 \r\nL 344.091066 110.127724 \r\nL 346.760923 85.017363 \r\nL 349.430779 110.727902 \r\nL 352.100635 132.578382 \r\nL 354.770492 122.871009 \r\nL 357.440348 165.887835 \r\nL 360.110205 96.620552 \r\nL 362.780061 138.103047 \r\nL 365.449918 79.898795 \r\nL 368.119774 145.97302 \r\nL 370.789631 110.375202 \r\n\" style=\"fill:none;stroke:#ff7f0e;stroke-linecap:square;stroke-width:1.5;\"/>\r\n   </g>\r\n   <g id=\"patch_3\">\r\n    <path d=\"M 51.207813 224.64 \r\nL 51.207813 7.2 \r\n\" style=\"fill:none;stroke:#000000;stroke-linecap:square;stroke-linejoin:miter;stroke-width:0.8;\"/>\r\n   </g>\r\n   <g id=\"patch_4\">\r\n    <path d=\"M 386.007812 224.64 \r\nL 386.007812 7.2 \r\n\" style=\"fill:none;stroke:#000000;stroke-linecap:square;stroke-linejoin:miter;stroke-width:0.8;\"/>\r\n   </g>\r\n   <g id=\"patch_5\">\r\n    <path d=\"M 51.207813 224.64 \r\nL 386.007812 224.64 \r\n\" style=\"fill:none;stroke:#000000;stroke-linecap:square;stroke-linejoin:miter;stroke-width:0.8;\"/>\r\n   </g>\r\n   <g id=\"patch_6\">\r\n    <path d=\"M 51.207813 7.2 \r\nL 386.007812 7.2 \r\n\" style=\"fill:none;stroke:#000000;stroke-linecap:square;stroke-linejoin:miter;stroke-width:0.8;\"/>\r\n   </g>\r\n   <g id=\"legend_1\">\r\n    <g id=\"patch_7\">\r\n     <path d=\"M 58.207813 219.64 \r\nL 112.94375 219.64 \r\nQ 114.94375 219.64 114.94375 217.64 \r\nL 114.94375 189.28375 \r\nQ 114.94375 187.28375 112.94375 187.28375 \r\nL 58.207813 187.28375 \r\nQ 56.207813 187.28375 56.207813 189.28375 \r\nL 56.207813 217.64 \r\nQ 56.207813 219.64 58.207813 219.64 \r\nz\r\n\" style=\"fill:#ffffff;opacity:0.8;stroke:#cccccc;stroke-linejoin:miter;\"/>\r\n    </g>\r\n    <g id=\"line2d_18\">\r\n     <path d=\"M 60.207813 195.382187 \r\nL 80.207813 195.382187 \r\n\" style=\"fill:none;stroke:#1f77b4;stroke-linecap:square;stroke-width:1.5;\"/>\r\n    </g>\r\n    <g id=\"line2d_19\"/>\r\n    <g id=\"text_16\">\r\n     <!-- pred -->\r\n     <defs>\r\n      <path d=\"M 18.109375 8.203125 \r\nL 18.109375 -20.796875 \r\nL 9.078125 -20.796875 \r\nL 9.078125 54.6875 \r\nL 18.109375 54.6875 \r\nL 18.109375 46.390625 \r\nQ 20.953125 51.265625 25.265625 53.625 \r\nQ 29.59375 56 35.59375 56 \r\nQ 45.5625 56 51.78125 48.09375 \r\nQ 58.015625 40.1875 58.015625 27.296875 \r\nQ 58.015625 14.40625 51.78125 6.484375 \r\nQ 45.5625 -1.421875 35.59375 -1.421875 \r\nQ 29.59375 -1.421875 25.265625 0.953125 \r\nQ 20.953125 3.328125 18.109375 8.203125 \r\nz\r\nM 48.6875 27.296875 \r\nQ 48.6875 37.203125 44.609375 42.84375 \r\nQ 40.53125 48.484375 33.40625 48.484375 \r\nQ 26.265625 48.484375 22.1875 42.84375 \r\nQ 18.109375 37.203125 18.109375 27.296875 \r\nQ 18.109375 17.390625 22.1875 11.75 \r\nQ 26.265625 6.109375 33.40625 6.109375 \r\nQ 40.53125 6.109375 44.609375 11.75 \r\nQ 48.6875 17.390625 48.6875 27.296875 \r\nz\r\n\" id=\"DejaVuSans-112\"/>\r\n      <path d=\"M 41.109375 46.296875 \r\nQ 39.59375 47.171875 37.8125 47.578125 \r\nQ 36.03125 48 33.890625 48 \r\nQ 26.265625 48 22.1875 43.046875 \r\nQ 18.109375 38.09375 18.109375 28.8125 \r\nL 18.109375 0 \r\nL 9.078125 0 \r\nL 9.078125 54.6875 \r\nL 18.109375 54.6875 \r\nL 18.109375 46.1875 \r\nQ 20.953125 51.171875 25.484375 53.578125 \r\nQ 30.03125 56 36.53125 56 \r\nQ 37.453125 56 38.578125 55.875 \r\nQ 39.703125 55.765625 41.0625 55.515625 \r\nz\r\n\" id=\"DejaVuSans-114\"/>\r\n      <path d=\"M 56.203125 29.59375 \r\nL 56.203125 25.203125 \r\nL 14.890625 25.203125 \r\nQ 15.484375 15.921875 20.484375 11.0625 \r\nQ 25.484375 6.203125 34.421875 6.203125 \r\nQ 39.59375 6.203125 44.453125 7.46875 \r\nQ 49.3125 8.734375 54.109375 11.28125 \r\nL 54.109375 2.78125 \r\nQ 49.265625 0.734375 44.1875 -0.34375 \r\nQ 39.109375 -1.421875 33.890625 -1.421875 \r\nQ 20.796875 -1.421875 13.15625 6.1875 \r\nQ 5.515625 13.8125 5.515625 26.8125 \r\nQ 5.515625 40.234375 12.765625 48.109375 \r\nQ 20.015625 56 32.328125 56 \r\nQ 43.359375 56 49.78125 48.890625 \r\nQ 56.203125 41.796875 56.203125 29.59375 \r\nz\r\nM 47.21875 32.234375 \r\nQ 47.125 39.59375 43.09375 43.984375 \r\nQ 39.0625 48.390625 32.421875 48.390625 \r\nQ 24.90625 48.390625 20.390625 44.140625 \r\nQ 15.875 39.890625 15.1875 32.171875 \r\nz\r\n\" id=\"DejaVuSans-101\"/>\r\n      <path d=\"M 45.40625 46.390625 \r\nL 45.40625 75.984375 \r\nL 54.390625 75.984375 \r\nL 54.390625 0 \r\nL 45.40625 0 \r\nL 45.40625 8.203125 \r\nQ 42.578125 3.328125 38.25 0.953125 \r\nQ 33.9375 -1.421875 27.875 -1.421875 \r\nQ 17.96875 -1.421875 11.734375 6.484375 \r\nQ 5.515625 14.40625 5.515625 27.296875 \r\nQ 5.515625 40.1875 11.734375 48.09375 \r\nQ 17.96875 56 27.875 56 \r\nQ 33.9375 56 38.25 53.625 \r\nQ 42.578125 51.265625 45.40625 46.390625 \r\nz\r\nM 14.796875 27.296875 \r\nQ 14.796875 17.390625 18.875 11.75 \r\nQ 22.953125 6.109375 30.078125 6.109375 \r\nQ 37.203125 6.109375 41.296875 11.75 \r\nQ 45.40625 17.390625 45.40625 27.296875 \r\nQ 45.40625 37.203125 41.296875 42.84375 \r\nQ 37.203125 48.484375 30.078125 48.484375 \r\nQ 22.953125 48.484375 18.875 42.84375 \r\nQ 14.796875 37.203125 14.796875 27.296875 \r\nz\r\n\" id=\"DejaVuSans-100\"/>\r\n     </defs>\r\n     <g transform=\"translate(88.207813 198.882187)scale(0.1 -0.1)\">\r\n      <use xlink:href=\"#DejaVuSans-112\"/>\r\n      <use x=\"63.476562\" xlink:href=\"#DejaVuSans-114\"/>\r\n      <use x=\"102.339844\" xlink:href=\"#DejaVuSans-101\"/>\r\n      <use x=\"163.863281\" xlink:href=\"#DejaVuSans-100\"/>\r\n     </g>\r\n    </g>\r\n    <g id=\"line2d_20\">\r\n     <path d=\"M 60.207813 210.060312 \r\nL 80.207813 210.060312 \r\n\" style=\"fill:none;stroke:#ff7f0e;stroke-linecap:square;stroke-width:1.5;\"/>\r\n    </g>\r\n    <g id=\"line2d_21\"/>\r\n    <g id=\"text_17\">\r\n     <!-- real -->\r\n     <defs>\r\n      <path d=\"M 34.28125 27.484375 \r\nQ 23.390625 27.484375 19.1875 25 \r\nQ 14.984375 22.515625 14.984375 16.5 \r\nQ 14.984375 11.71875 18.140625 8.90625 \r\nQ 21.296875 6.109375 26.703125 6.109375 \r\nQ 34.1875 6.109375 38.703125 11.40625 \r\nQ 43.21875 16.703125 43.21875 25.484375 \r\nL 43.21875 27.484375 \r\nz\r\nM 52.203125 31.203125 \r\nL 52.203125 0 \r\nL 43.21875 0 \r\nL 43.21875 8.296875 \r\nQ 40.140625 3.328125 35.546875 0.953125 \r\nQ 30.953125 -1.421875 24.3125 -1.421875 \r\nQ 15.921875 -1.421875 10.953125 3.296875 \r\nQ 6 8.015625 6 15.921875 \r\nQ 6 25.140625 12.171875 29.828125 \r\nQ 18.359375 34.515625 30.609375 34.515625 \r\nL 43.21875 34.515625 \r\nL 43.21875 35.40625 \r\nQ 43.21875 41.609375 39.140625 45 \r\nQ 35.0625 48.390625 27.6875 48.390625 \r\nQ 23 48.390625 18.546875 47.265625 \r\nQ 14.109375 46.140625 10.015625 43.890625 \r\nL 10.015625 52.203125 \r\nQ 14.9375 54.109375 19.578125 55.046875 \r\nQ 24.21875 56 28.609375 56 \r\nQ 40.484375 56 46.34375 49.84375 \r\nQ 52.203125 43.703125 52.203125 31.203125 \r\nz\r\n\" id=\"DejaVuSans-97\"/>\r\n      <path d=\"M 9.421875 75.984375 \r\nL 18.40625 75.984375 \r\nL 18.40625 0 \r\nL 9.421875 0 \r\nz\r\n\" id=\"DejaVuSans-108\"/>\r\n     </defs>\r\n     <g transform=\"translate(88.207813 213.560312)scale(0.1 -0.1)\">\r\n      <use xlink:href=\"#DejaVuSans-114\"/>\r\n      <use x=\"38.863281\" xlink:href=\"#DejaVuSans-101\"/>\r\n      <use x=\"100.386719\" xlink:href=\"#DejaVuSans-97\"/>\r\n      <use x=\"161.666016\" xlink:href=\"#DejaVuSans-108\"/>\r\n     </g>\r\n    </g>\r\n   </g>\r\n  </g>\r\n </g>\r\n <defs>\r\n  <clipPath id=\"pbf646e2390\">\r\n   <rect height=\"217.44\" width=\"334.8\" x=\"51.207813\" y=\"7.2\"/>\r\n  </clipPath>\r\n </defs>\r\n</svg>\r\n",
      "image/png": "[encoded data removed]"
     },
     "metadata": {
      "needs_background": "light"
     }
    }
   ],
   "source": [
    "%matplotlib inline\n",
    "x = [i for i in range(len(test_Y))]\n",
    "plt.plot(x,predictions,label=\"pred\")\n",
    "plt.plot(x,test_Y,label=\"real\")\n",
    "plt.legend()\n",
    "plt.show()"
   ]
  },
  {
   "cell_type": "code",
   "execution_count": 69,
   "id": "apparent-programmer",
   "metadata": {},
   "outputs": [
    {
     "output_type": "execute_result",
     "data": {
      "text/plain": [
       "      涨跌额    收盘价        res\n",
       "457  1.67  26.60        NaN\n",
       "458  0.67  27.27  26.621027\n",
       "459 -0.82  26.45  27.259466\n",
       "460  1.30  27.75  26.461419\n",
       "461 -0.98  26.77  27.746467"
      ],
      "text/html": "<div>\n<style scoped>\n    .dataframe tbody tr th:only-of-type {\n        vertical-align: middle;\n    }\n\n    .dataframe tbody tr th {\n        vertical-align: top;\n    }\n\n    .dataframe thead th {\n        text-align: right;\n    }\n</style>\n<table border=\"1\" class=\"dataframe\">\n  <thead>\n    <tr style=\"text-align: right;\">\n      <th></th>\n      <th>涨跌额</th>\n      <th>收盘价</th>\n      <th>res</th>\n    </tr>\n  </thead>\n  <tbody>\n    <tr>\n      <th>457</th>\n      <td>1.67</td>\n      <td>26.60</td>\n      <td>NaN</td>\n    </tr>\n    <tr>\n      <th>458</th>\n      <td>0.67</td>\n      <td>27.27</td>\n      <td>26.621027</td>\n    </tr>\n    <tr>\n      <th>459</th>\n      <td>-0.82</td>\n      <td>26.45</td>\n      <td>27.259466</td>\n    </tr>\n    <tr>\n      <th>460</th>\n      <td>1.30</td>\n      <td>27.75</td>\n      <td>26.461419</td>\n    </tr>\n    <tr>\n      <th>461</th>\n      <td>-0.98</td>\n      <td>26.77</td>\n      <td>27.746467</td>\n    </tr>\n  </tbody>\n</table>\n</div>"
     },
     "metadata": {},
     "execution_count": 69
    }
   ],
   "source": [
    "# 还原成价格(差分还原)\n",
    "res = test.loc[:,[\"涨跌额\",r\"收盘价\"]]\n",
    "res.loc[:,r\"res\"] = res[r\"收盘价\"] + predictions\n",
    "res['res'] = res['res'].shift(1)\n",
    "res.head()"
   ]
  },
  {
   "cell_type": "code",
   "execution_count": 70,
   "id": "superior-hypothetical",
   "metadata": {},
   "outputs": [
    {
     "output_type": "execute_result",
     "data": {
      "text/plain": [
       "      涨跌额    收盘价        res\n",
       "457  1.67  26.60        NaN\n",
       "458  0.67  27.27  27.165231\n",
       "459 -0.82  26.45  26.984255\n",
       "460  1.30  27.75  26.753775\n",
       "461 -0.98  26.77  27.652143\n",
       "462  0.54  27.31  27.372549\n",
       "463  0.58  27.89  27.624986\n",
       "464  0.06  27.95  27.471790\n",
       "465 -1.61  26.34  28.236630\n",
       "466 -1.22  25.12  26.716316"
      ],
      "text/html": "<div>\n<style scoped>\n    .dataframe tbody tr th:only-of-type {\n        vertical-align: middle;\n    }\n\n    .dataframe tbody tr th {\n        vertical-align: top;\n    }\n\n    .dataframe thead th {\n        text-align: right;\n    }\n</style>\n<table border=\"1\" class=\"dataframe\">\n  <thead>\n    <tr style=\"text-align: right;\">\n      <th></th>\n      <th>涨跌额</th>\n      <th>收盘价</th>\n      <th>res</th>\n    </tr>\n  </thead>\n  <tbody>\n    <tr>\n      <th>457</th>\n      <td>1.67</td>\n      <td>26.60</td>\n      <td>NaN</td>\n    </tr>\n    <tr>\n      <th>458</th>\n      <td>0.67</td>\n      <td>27.27</td>\n      <td>27.165231</td>\n    </tr>\n    <tr>\n      <th>459</th>\n      <td>-0.82</td>\n      <td>26.45</td>\n      <td>26.984255</td>\n    </tr>\n    <tr>\n      <th>460</th>\n      <td>1.30</td>\n      <td>27.75</td>\n      <td>26.753775</td>\n    </tr>\n    <tr>\n      <th>461</th>\n      <td>-0.98</td>\n      <td>26.77</td>\n      <td>27.652143</td>\n    </tr>\n    <tr>\n      <th>462</th>\n      <td>0.54</td>\n      <td>27.31</td>\n      <td>27.372549</td>\n    </tr>\n    <tr>\n      <th>463</th>\n      <td>0.58</td>\n      <td>27.89</td>\n      <td>27.624986</td>\n    </tr>\n    <tr>\n      <th>464</th>\n      <td>0.06</td>\n      <td>27.95</td>\n      <td>27.471790</td>\n    </tr>\n    <tr>\n      <th>465</th>\n      <td>-1.61</td>\n      <td>26.34</td>\n      <td>28.236630</td>\n    </tr>\n    <tr>\n      <th>466</th>\n      <td>-1.22</td>\n      <td>25.12</td>\n      <td>26.716316</td>\n    </tr>\n  </tbody>\n</table>\n</div>"
     },
     "metadata": {},
     "execution_count": 70
    }
   ],
   "source": [
    "# 还原成价格（对数收益率还原）\n",
    "res = test.loc[:,[\"涨跌额\",r\"收盘价\"]]\n",
    "res.loc[:,r\"res\"] = np.exp(predictions)*res[r\"收盘价\"]\n",
    "res['res'] = res['res'].shift(1)\n",
    "res.head(10)"
   ]
  },
  {
   "cell_type": "code",
   "execution_count": 71,
   "id": "bacterial-mentor",
   "metadata": {},
   "outputs": [
    {
     "output_type": "display_data",
     "data": {
      "text/plain": "<Figure size 432x288 with 1 Axes>",
      "image/svg+xml": "<?xml version=\"1.0\" encoding=\"utf-8\" standalone=\"no\"?>\r\n<!DOCTYPE svg PUBLIC \"-//W3C//DTD SVG 1.1//EN\"\r\n  \"http://www.w3.org/Graphics/SVG/1.1/DTD/svg11.dtd\">\r\n<!-- Created with matplotlib (https://matplotlib.org/) -->\r\n<svg height=\"248.518125pt\" version=\"1.1\" viewBox=\"0 0 368.925 248.518125\" width=\"368.925pt\" xmlns=\"http://www.w3.org/2000/svg\" xmlns:xlink=\"http://www.w3.org/1999/xlink\">\r\n <defs>\r\n  <style type=\"text/css\">\r\n*{stroke-linecap:butt;stroke-linejoin:round;}\r\n  </style>\r\n </defs>\r\n <g id=\"figure_1\">\r\n  <g id=\"patch_1\">\r\n   <path d=\"M -0 248.518125 \r\nL 368.925 248.518125 \r\nL 368.925 0 \r\nL -0 0 \r\nz\r\n\" style=\"fill:none;\"/>\r\n  </g>\r\n  <g id=\"axes_1\">\r\n   <g id=\"patch_2\">\r\n    <path d=\"M 26.925 224.64 \r\nL 361.725 224.64 \r\nL 361.725 7.2 \r\nL 26.925 7.2 \r\nz\r\n\" style=\"fill:#ffffff;\"/>\r\n   </g>\r\n   <g id=\"matplotlib.axis_1\">\r\n    <g id=\"xtick_1\">\r\n     <g id=\"line2d_1\">\r\n      <defs>\r\n       <path d=\"M 0 0 \r\nL 0 3.5 \r\n\" id=\"m83eaf282e1\" style=\"stroke:#000000;stroke-width:0.8;\"/>\r\n      </defs>\r\n      <g>\r\n       <use style=\"stroke:#000000;stroke-width:0.8;\" x=\"42.143182\" xlink:href=\"#m83eaf282e1\" y=\"224.64\"/>\r\n      </g>\r\n     </g>\r\n     <g id=\"text_1\">\r\n      <!-- 0 -->\r\n      <defs>\r\n       <path d=\"M 31.78125 66.40625 \r\nQ 24.171875 66.40625 20.328125 58.90625 \r\nQ 16.5 51.421875 16.5 36.375 \r\nQ 16.5 21.390625 20.328125 13.890625 \r\nQ 24.171875 6.390625 31.78125 6.390625 \r\nQ 39.453125 6.390625 43.28125 13.890625 \r\nQ 47.125 21.390625 47.125 36.375 \r\nQ 47.125 51.421875 43.28125 58.90625 \r\nQ 39.453125 66.40625 31.78125 66.40625 \r\nz\r\nM 31.78125 74.21875 \r\nQ 44.046875 74.21875 50.515625 64.515625 \r\nQ 56.984375 54.828125 56.984375 36.375 \r\nQ 56.984375 17.96875 50.515625 8.265625 \r\nQ 44.046875 -1.421875 31.78125 -1.421875 \r\nQ 19.53125 -1.421875 13.0625 8.265625 \r\nQ 6.59375 17.96875 6.59375 36.375 \r\nQ 6.59375 54.828125 13.0625 64.515625 \r\nQ 19.53125 74.21875 31.78125 74.21875 \r\nz\r\n\" id=\"DejaVuSans-48\"/>\r\n      </defs>\r\n      <g transform=\"translate(38.961932 239.238437)scale(0.1 -0.1)\">\r\n       <use xlink:href=\"#DejaVuSans-48\"/>\r\n      </g>\r\n     </g>\r\n    </g>\r\n    <g id=\"xtick_2\">\r\n     <g id=\"line2d_2\">\r\n      <g>\r\n       <use style=\"stroke:#000000;stroke-width:0.8;\" x=\"95.540311\" xlink:href=\"#m83eaf282e1\" y=\"224.64\"/>\r\n      </g>\r\n     </g>\r\n     <g id=\"text_2\">\r\n      <!-- 20 -->\r\n      <defs>\r\n       <path d=\"M 19.1875 8.296875 \r\nL 53.609375 8.296875 \r\nL 53.609375 0 \r\nL 7.328125 0 \r\nL 7.328125 8.296875 \r\nQ 12.9375 14.109375 22.625 23.890625 \r\nQ 32.328125 33.6875 34.8125 36.53125 \r\nQ 39.546875 41.84375 41.421875 45.53125 \r\nQ 43.3125 49.21875 43.3125 52.78125 \r\nQ 43.3125 58.59375 39.234375 62.25 \r\nQ 35.15625 65.921875 28.609375 65.921875 \r\nQ 23.96875 65.921875 18.8125 64.3125 \r\nQ 13.671875 62.703125 7.8125 59.421875 \r\nL 7.8125 69.390625 \r\nQ 13.765625 71.78125 18.9375 73 \r\nQ 24.125 74.21875 28.421875 74.21875 \r\nQ 39.75 74.21875 46.484375 68.546875 \r\nQ 53.21875 62.890625 53.21875 53.421875 \r\nQ 53.21875 48.921875 51.53125 44.890625 \r\nQ 49.859375 40.875 45.40625 35.40625 \r\nQ 44.1875 33.984375 37.640625 27.21875 \r\nQ 31.109375 20.453125 19.1875 8.296875 \r\nz\r\n\" id=\"DejaVuSans-50\"/>\r\n      </defs>\r\n      <g transform=\"translate(89.177811 239.238437)scale(0.1 -0.1)\">\r\n       <use xlink:href=\"#DejaVuSans-50\"/>\r\n       <use x=\"63.623047\" xlink:href=\"#DejaVuSans-48\"/>\r\n      </g>\r\n     </g>\r\n    </g>\r\n    <g id=\"xtick_3\">\r\n     <g id=\"line2d_3\">\r\n      <g>\r\n       <use style=\"stroke:#000000;stroke-width:0.8;\" x=\"148.93744\" xlink:href=\"#m83eaf282e1\" y=\"224.64\"/>\r\n      </g>\r\n     </g>\r\n     <g id=\"text_3\">\r\n      <!-- 40 -->\r\n      <defs>\r\n       <path d=\"M 37.796875 64.3125 \r\nL 12.890625 25.390625 \r\nL 37.796875 25.390625 \r\nz\r\nM 35.203125 72.90625 \r\nL 47.609375 72.90625 \r\nL 47.609375 25.390625 \r\nL 58.015625 25.390625 \r\nL 58.015625 17.1875 \r\nL 47.609375 17.1875 \r\nL 47.609375 0 \r\nL 37.796875 0 \r\nL 37.796875 17.1875 \r\nL 4.890625 17.1875 \r\nL 4.890625 26.703125 \r\nz\r\n\" id=\"DejaVuSans-52\"/>\r\n      </defs>\r\n      <g transform=\"translate(142.57494 239.238437)scale(0.1 -0.1)\">\r\n       <use xlink:href=\"#DejaVuSans-52\"/>\r\n       <use x=\"63.623047\" xlink:href=\"#DejaVuSans-48\"/>\r\n      </g>\r\n     </g>\r\n    </g>\r\n    <g id=\"xtick_4\">\r\n     <g id=\"line2d_4\">\r\n      <g>\r\n       <use style=\"stroke:#000000;stroke-width:0.8;\" x=\"202.334569\" xlink:href=\"#m83eaf282e1\" y=\"224.64\"/>\r\n      </g>\r\n     </g>\r\n     <g id=\"text_4\">\r\n      <!-- 60 -->\r\n      <defs>\r\n       <path d=\"M 33.015625 40.375 \r\nQ 26.375 40.375 22.484375 35.828125 \r\nQ 18.609375 31.296875 18.609375 23.390625 \r\nQ 18.609375 15.53125 22.484375 10.953125 \r\nQ 26.375 6.390625 33.015625 6.390625 \r\nQ 39.65625 6.390625 43.53125 10.953125 \r\nQ 47.40625 15.53125 47.40625 23.390625 \r\nQ 47.40625 31.296875 43.53125 35.828125 \r\nQ 39.65625 40.375 33.015625 40.375 \r\nz\r\nM 52.59375 71.296875 \r\nL 52.59375 62.3125 \r\nQ 48.875 64.0625 45.09375 64.984375 \r\nQ 41.3125 65.921875 37.59375 65.921875 \r\nQ 27.828125 65.921875 22.671875 59.328125 \r\nQ 17.53125 52.734375 16.796875 39.40625 \r\nQ 19.671875 43.65625 24.015625 45.921875 \r\nQ 28.375 48.1875 33.59375 48.1875 \r\nQ 44.578125 48.1875 50.953125 41.515625 \r\nQ 57.328125 34.859375 57.328125 23.390625 \r\nQ 57.328125 12.15625 50.6875 5.359375 \r\nQ 44.046875 -1.421875 33.015625 -1.421875 \r\nQ 20.359375 -1.421875 13.671875 8.265625 \r\nQ 6.984375 17.96875 6.984375 36.375 \r\nQ 6.984375 53.65625 15.1875 63.9375 \r\nQ 23.390625 74.21875 37.203125 74.21875 \r\nQ 40.921875 74.21875 44.703125 73.484375 \r\nQ 48.484375 72.75 52.59375 71.296875 \r\nz\r\n\" id=\"DejaVuSans-54\"/>\r\n      </defs>\r\n      <g transform=\"translate(195.972069 239.238437)scale(0.1 -0.1)\">\r\n       <use xlink:href=\"#DejaVuSans-54\"/>\r\n       <use x=\"63.623047\" xlink:href=\"#DejaVuSans-48\"/>\r\n      </g>\r\n     </g>\r\n    </g>\r\n    <g id=\"xtick_5\">\r\n     <g id=\"line2d_5\">\r\n      <g>\r\n       <use style=\"stroke:#000000;stroke-width:0.8;\" x=\"255.731699\" xlink:href=\"#m83eaf282e1\" y=\"224.64\"/>\r\n      </g>\r\n     </g>\r\n     <g id=\"text_5\">\r\n      <!-- 80 -->\r\n      <defs>\r\n       <path d=\"M 31.78125 34.625 \r\nQ 24.75 34.625 20.71875 30.859375 \r\nQ 16.703125 27.09375 16.703125 20.515625 \r\nQ 16.703125 13.921875 20.71875 10.15625 \r\nQ 24.75 6.390625 31.78125 6.390625 \r\nQ 38.8125 6.390625 42.859375 10.171875 \r\nQ 46.921875 13.96875 46.921875 20.515625 \r\nQ 46.921875 27.09375 42.890625 30.859375 \r\nQ 38.875 34.625 31.78125 34.625 \r\nz\r\nM 21.921875 38.8125 \r\nQ 15.578125 40.375 12.03125 44.71875 \r\nQ 8.5 49.078125 8.5 55.328125 \r\nQ 8.5 64.0625 14.71875 69.140625 \r\nQ 20.953125 74.21875 31.78125 74.21875 \r\nQ 42.671875 74.21875 48.875 69.140625 \r\nQ 55.078125 64.0625 55.078125 55.328125 \r\nQ 55.078125 49.078125 51.53125 44.71875 \r\nQ 48 40.375 41.703125 38.8125 \r\nQ 48.828125 37.15625 52.796875 32.3125 \r\nQ 56.78125 27.484375 56.78125 20.515625 \r\nQ 56.78125 9.90625 50.3125 4.234375 \r\nQ 43.84375 -1.421875 31.78125 -1.421875 \r\nQ 19.734375 -1.421875 13.25 4.234375 \r\nQ 6.78125 9.90625 6.78125 20.515625 \r\nQ 6.78125 27.484375 10.78125 32.3125 \r\nQ 14.796875 37.15625 21.921875 38.8125 \r\nz\r\nM 18.3125 54.390625 \r\nQ 18.3125 48.734375 21.84375 45.5625 \r\nQ 25.390625 42.390625 31.78125 42.390625 \r\nQ 38.140625 42.390625 41.71875 45.5625 \r\nQ 45.3125 48.734375 45.3125 54.390625 \r\nQ 45.3125 60.0625 41.71875 63.234375 \r\nQ 38.140625 66.40625 31.78125 66.40625 \r\nQ 25.390625 66.40625 21.84375 63.234375 \r\nQ 18.3125 60.0625 18.3125 54.390625 \r\nz\r\n\" id=\"DejaVuSans-56\"/>\r\n      </defs>\r\n      <g transform=\"translate(249.369199 239.238437)scale(0.1 -0.1)\">\r\n       <use xlink:href=\"#DejaVuSans-56\"/>\r\n       <use x=\"63.623047\" xlink:href=\"#DejaVuSans-48\"/>\r\n      </g>\r\n     </g>\r\n    </g>\r\n    <g id=\"xtick_6\">\r\n     <g id=\"line2d_6\">\r\n      <g>\r\n       <use style=\"stroke:#000000;stroke-width:0.8;\" x=\"309.128828\" xlink:href=\"#m83eaf282e1\" y=\"224.64\"/>\r\n      </g>\r\n     </g>\r\n     <g id=\"text_6\">\r\n      <!-- 100 -->\r\n      <defs>\r\n       <path d=\"M 12.40625 8.296875 \r\nL 28.515625 8.296875 \r\nL 28.515625 63.921875 \r\nL 10.984375 60.40625 \r\nL 10.984375 69.390625 \r\nL 28.421875 72.90625 \r\nL 38.28125 72.90625 \r\nL 38.28125 8.296875 \r\nL 54.390625 8.296875 \r\nL 54.390625 0 \r\nL 12.40625 0 \r\nz\r\n\" id=\"DejaVuSans-49\"/>\r\n      </defs>\r\n      <g transform=\"translate(299.585078 239.238437)scale(0.1 -0.1)\">\r\n       <use xlink:href=\"#DejaVuSans-49\"/>\r\n       <use x=\"63.623047\" xlink:href=\"#DejaVuSans-48\"/>\r\n       <use x=\"127.246094\" xlink:href=\"#DejaVuSans-48\"/>\r\n      </g>\r\n     </g>\r\n    </g>\r\n   </g>\r\n   <g id=\"matplotlib.axis_2\">\r\n    <g id=\"ytick_1\">\r\n     <g id=\"line2d_7\">\r\n      <defs>\r\n       <path d=\"M 0 0 \r\nL -3.5 0 \r\n\" id=\"me7773b5a00\" style=\"stroke:#000000;stroke-width:0.8;\"/>\r\n      </defs>\r\n      <g>\r\n       <use style=\"stroke:#000000;stroke-width:0.8;\" x=\"26.925\" xlink:href=\"#me7773b5a00\" y=\"210.124989\"/>\r\n      </g>\r\n     </g>\r\n     <g id=\"text_7\">\r\n      <!-- 25 -->\r\n      <defs>\r\n       <path d=\"M 10.796875 72.90625 \r\nL 49.515625 72.90625 \r\nL 49.515625 64.59375 \r\nL 19.828125 64.59375 \r\nL 19.828125 46.734375 \r\nQ 21.96875 47.46875 24.109375 47.828125 \r\nQ 26.265625 48.1875 28.421875 48.1875 \r\nQ 40.625 48.1875 47.75 41.5 \r\nQ 54.890625 34.8125 54.890625 23.390625 \r\nQ 54.890625 11.625 47.5625 5.09375 \r\nQ 40.234375 -1.421875 26.90625 -1.421875 \r\nQ 22.3125 -1.421875 17.546875 -0.640625 \r\nQ 12.796875 0.140625 7.71875 1.703125 \r\nL 7.71875 11.625 \r\nQ 12.109375 9.234375 16.796875 8.0625 \r\nQ 21.484375 6.890625 26.703125 6.890625 \r\nQ 35.15625 6.890625 40.078125 11.328125 \r\nQ 45.015625 15.765625 45.015625 23.390625 \r\nQ 45.015625 31 40.078125 35.4375 \r\nQ 35.15625 39.890625 26.703125 39.890625 \r\nQ 22.75 39.890625 18.8125 39.015625 \r\nQ 14.890625 38.140625 10.796875 36.28125 \r\nz\r\n\" id=\"DejaVuSans-53\"/>\r\n      </defs>\r\n      <g transform=\"translate(7.2 213.924208)scale(0.1 -0.1)\">\r\n       <use xlink:href=\"#DejaVuSans-50\"/>\r\n       <use x=\"63.623047\" xlink:href=\"#DejaVuSans-53\"/>\r\n      </g>\r\n     </g>\r\n    </g>\r\n    <g id=\"ytick_2\">\r\n     <g id=\"line2d_8\">\r\n      <g>\r\n       <use style=\"stroke:#000000;stroke-width:0.8;\" x=\"26.925\" xlink:href=\"#me7773b5a00\" y=\"171.5302\"/>\r\n      </g>\r\n     </g>\r\n     <g id=\"text_8\">\r\n      <!-- 30 -->\r\n      <defs>\r\n       <path d=\"M 40.578125 39.3125 \r\nQ 47.65625 37.796875 51.625 33 \r\nQ 55.609375 28.21875 55.609375 21.1875 \r\nQ 55.609375 10.40625 48.1875 4.484375 \r\nQ 40.765625 -1.421875 27.09375 -1.421875 \r\nQ 22.515625 -1.421875 17.65625 -0.515625 \r\nQ 12.796875 0.390625 7.625 2.203125 \r\nL 7.625 11.71875 \r\nQ 11.71875 9.328125 16.59375 8.109375 \r\nQ 21.484375 6.890625 26.8125 6.890625 \r\nQ 36.078125 6.890625 40.9375 10.546875 \r\nQ 45.796875 14.203125 45.796875 21.1875 \r\nQ 45.796875 27.640625 41.28125 31.265625 \r\nQ 36.765625 34.90625 28.71875 34.90625 \r\nL 20.21875 34.90625 \r\nL 20.21875 43.015625 \r\nL 29.109375 43.015625 \r\nQ 36.375 43.015625 40.234375 45.921875 \r\nQ 44.09375 48.828125 44.09375 54.296875 \r\nQ 44.09375 59.90625 40.109375 62.90625 \r\nQ 36.140625 65.921875 28.71875 65.921875 \r\nQ 24.65625 65.921875 20.015625 65.03125 \r\nQ 15.375 64.15625 9.8125 62.3125 \r\nL 9.8125 71.09375 \r\nQ 15.4375 72.65625 20.34375 73.4375 \r\nQ 25.25 74.21875 29.59375 74.21875 \r\nQ 40.828125 74.21875 47.359375 69.109375 \r\nQ 53.90625 64.015625 53.90625 55.328125 \r\nQ 53.90625 49.265625 50.4375 45.09375 \r\nQ 46.96875 40.921875 40.578125 39.3125 \r\nz\r\n\" id=\"DejaVuSans-51\"/>\r\n      </defs>\r\n      <g transform=\"translate(7.2 175.329419)scale(0.1 -0.1)\">\r\n       <use xlink:href=\"#DejaVuSans-51\"/>\r\n       <use x=\"63.623047\" xlink:href=\"#DejaVuSans-48\"/>\r\n      </g>\r\n     </g>\r\n    </g>\r\n    <g id=\"ytick_3\">\r\n     <g id=\"line2d_9\">\r\n      <g>\r\n       <use style=\"stroke:#000000;stroke-width:0.8;\" x=\"26.925\" xlink:href=\"#me7773b5a00\" y=\"132.935411\"/>\r\n      </g>\r\n     </g>\r\n     <g id=\"text_9\">\r\n      <!-- 35 -->\r\n      <g transform=\"translate(7.2 136.73463)scale(0.1 -0.1)\">\r\n       <use xlink:href=\"#DejaVuSans-51\"/>\r\n       <use x=\"63.623047\" xlink:href=\"#DejaVuSans-53\"/>\r\n      </g>\r\n     </g>\r\n    </g>\r\n    <g id=\"ytick_4\">\r\n     <g id=\"line2d_10\">\r\n      <g>\r\n       <use style=\"stroke:#000000;stroke-width:0.8;\" x=\"26.925\" xlink:href=\"#me7773b5a00\" y=\"94.340622\"/>\r\n      </g>\r\n     </g>\r\n     <g id=\"text_10\">\r\n      <!-- 40 -->\r\n      <g transform=\"translate(7.2 98.139841)scale(0.1 -0.1)\">\r\n       <use xlink:href=\"#DejaVuSans-52\"/>\r\n       <use x=\"63.623047\" xlink:href=\"#DejaVuSans-48\"/>\r\n      </g>\r\n     </g>\r\n    </g>\r\n    <g id=\"ytick_5\">\r\n     <g id=\"line2d_11\">\r\n      <g>\r\n       <use style=\"stroke:#000000;stroke-width:0.8;\" x=\"26.925\" xlink:href=\"#me7773b5a00\" y=\"55.745833\"/>\r\n      </g>\r\n     </g>\r\n     <g id=\"text_11\">\r\n      <!-- 45 -->\r\n      <g transform=\"translate(7.2 59.545052)scale(0.1 -0.1)\">\r\n       <use xlink:href=\"#DejaVuSans-52\"/>\r\n       <use x=\"63.623047\" xlink:href=\"#DejaVuSans-53\"/>\r\n      </g>\r\n     </g>\r\n    </g>\r\n    <g id=\"ytick_6\">\r\n     <g id=\"line2d_12\">\r\n      <g>\r\n       <use style=\"stroke:#000000;stroke-width:0.8;\" x=\"26.925\" xlink:href=\"#me7773b5a00\" y=\"17.151044\"/>\r\n      </g>\r\n     </g>\r\n     <g id=\"text_12\">\r\n      <!-- 50 -->\r\n      <g transform=\"translate(7.2 20.950263)scale(0.1 -0.1)\">\r\n       <use xlink:href=\"#DejaVuSans-53\"/>\r\n       <use x=\"63.623047\" xlink:href=\"#DejaVuSans-48\"/>\r\n      </g>\r\n     </g>\r\n    </g>\r\n   </g>\r\n   <g id=\"line2d_13\">\r\n    <path clip-path=\"url(#p19df903136)\" d=\"M 42.143182 197.774656 \r\nL 44.813038 192.602955 \r\nL 47.482895 198.9325 \r\nL 50.152751 188.897855 \r\nL 52.822608 196.462434 \r\nL 55.492464 192.294196 \r\nL 58.162321 187.817201 \r\nL 60.832177 187.354063 \r\nL 63.502033 199.781585 \r\nL 66.17189 209.198714 \r\nL 68.841746 207.114595 \r\nL 71.511603 209.816231 \r\nL 74.181459 203.255117 \r\nL 76.851316 208.967145 \r\nL 79.521172 214.756364 \r\nL 82.191029 210.665316 \r\nL 84.860885 197.15714 \r\nL 87.530742 191.136353 \r\nL 90.200598 193.52923 \r\nL 92.870455 199.781585 \r\nL 95.540311 179.480726 \r\nL 98.210167 162.267451 \r\nL 100.880024 169.214513 \r\nL 103.54988 145.82607 \r\nL 106.219737 152.464374 \r\nL 108.889593 145.131364 \r\nL 111.55945 130.542534 \r\nL 114.229306 140.731558 \r\nL 116.899163 116.108083 \r\nL 119.569019 111.245139 \r\nL 122.238876 108.929452 \r\nL 124.908732 107.54004 \r\nL 127.578589 112.711741 \r\nL 130.248445 83.68846 \r\nL 132.918301 75.043227 \r\nL 135.588158 47.1006 \r\nL 138.258014 26.645362 \r\nL 140.927871 18.617646 \r\nL 143.597727 57.058056 \r\nL 146.267584 67.24708 \r\nL 148.93744 85.077873 \r\nL 151.607297 94.64938 \r\nL 154.277153 90.481143 \r\nL 156.94701 87.779508 \r\nL 159.616866 99.203565 \r\nL 162.286722 68.790872 \r\nL 164.956579 61.612241 \r\nL 167.626435 77.281725 \r\nL 170.296292 86.776043 \r\nL 172.966148 79.520223 \r\nL 175.636005 95.266897 \r\nL 178.305861 64.468255 \r\nL 180.975718 83.920029 \r\nL 183.645574 94.031864 \r\nL 186.315431 108.775073 \r\nL 188.985287 92.410882 \r\nL 191.655144 87.39356 \r\nL 194.325 75.351986 \r\nL 196.994856 81.990289 \r\nL 199.664713 88.551404 \r\nL 202.334569 106.459386 \r\nL 205.004426 129.230311 \r\nL 207.674282 145.362933 \r\nL 210.344139 153.390649 \r\nL 213.013995 160.955228 \r\nL 215.683852 157.404507 \r\nL 218.353708 161.032417 \r\nL 221.023565 157.095749 \r\nL 223.693421 168.365427 \r\nL 226.363278 159.951763 \r\nL 229.033134 181.024518 \r\nL 231.70299 175.775627 \r\nL 234.372847 165.895361 \r\nL 237.042703 164.737517 \r\nL 239.71256 166.898825 \r\nL 242.382416 175.003731 \r\nL 245.052273 172.996802 \r\nL 247.722129 172.302096 \r\nL 250.391986 170.140788 \r\nL 253.061842 180.792949 \r\nL 255.731699 176.238764 \r\nL 258.401555 184.189291 \r\nL 261.071411 188.820665 \r\nL 263.741268 185.887461 \r\nL 266.411124 164.19719 \r\nL 269.080981 178.168504 \r\nL 271.750837 173.923077 \r\nL 274.420694 170.526735 \r\nL 277.09055 152.773132 \r\nL 279.760407 137.721165 \r\nL 282.430263 137.412406 \r\nL 285.10012 148.373327 \r\nL 287.769976 152.541564 \r\nL 290.439833 159.025488 \r\nL 293.109689 168.519806 \r\nL 295.779545 167.053204 \r\nL 298.449402 157.944834 \r\nL 301.119258 163.656863 \r\nL 303.789115 150.071497 \r\nL 306.458971 125.062074 \r\nL 309.128828 131.468809 \r\nL 311.798684 128.767174 \r\nL 314.468541 140.654369 \r\nL 317.138397 142.815677 \r\nL 319.808254 146.520777 \r\nL 322.47811 146.289208 \r\nL 325.147967 139.419335 \r\nL 327.817823 139.342146 \r\nL 330.487679 145.054175 \r\nL 333.157536 148.141758 \r\nL 335.827392 161.958692 \r\nL 338.497249 158.407972 \r\nL 341.167105 165.046275 \r\nL 343.836962 157.404507 \r\nL 346.506818 165.97255 \r\n\" style=\"fill:none;stroke:#1f77b4;stroke-linecap:square;stroke-width:1.5;\"/>\r\n   </g>\r\n   <g id=\"line2d_14\">\r\n    <path clip-path=\"url(#p19df903136)\" d=\"M 44.813038 193.41166 \r\nL 47.482895 194.808611 \r\nL 50.152751 196.587677 \r\nL 52.822608 189.653211 \r\nL 55.492464 191.81138 \r\nL 58.162321 189.86283 \r\nL 60.832177 191.045346 \r\nL 63.502033 185.141579 \r\nL 66.17189 196.876816 \r\nL 68.841746 206.555362 \r\nL 71.511603 199.587688 \r\nL 74.181459 203.340785 \r\nL 76.851316 196.639808 \r\nL 79.521172 207.940691 \r\nL 82.191029 207.88018 \r\nL 84.860885 205.239462 \r\nL 87.530742 187.830553 \r\nL 90.200598 194.294323 \r\nL 92.870455 196.278858 \r\nL 95.540311 199.193467 \r\nL 98.210167 172.250315 \r\nL 100.880024 156.000745 \r\nL 103.54988 167.975779 \r\nL 106.219737 146.040848 \r\nL 108.889593 155.845933 \r\nL 111.55945 134.24511 \r\nL 114.229306 131.955384 \r\nL 116.899163 138.995236 \r\nL 119.569019 112.239906 \r\nL 122.238876 107.171694 \r\nL 124.908732 95.228839 \r\nL 127.578589 106.854962 \r\nL 130.248445 107.064141 \r\nL 132.918301 70.34928 \r\nL 135.588158 75.127171 \r\nL 138.258014 34.406453 \r\nL 140.927871 24.649647 \r\nL 143.597727 17.083636 \r\nL 146.267584 51.837664 \r\nL 148.93744 58.568333 \r\nL 151.607297 74.456102 \r\nL 154.277153 86.50816 \r\nL 156.94701 86.553282 \r\nL 159.616866 75.013041 \r\nL 162.286722 95.398302 \r\nL 164.956579 65.812007 \r\nL 167.626435 55.016668 \r\nL 170.296292 75.562142 \r\nL 172.966148 80.731313 \r\nL 175.636005 67.119817 \r\nL 178.305861 84.304019 \r\nL 180.975718 54.409094 \r\nL 183.645574 77.469643 \r\nL 186.315431 86.483039 \r\nL 188.985287 95.538968 \r\nL 191.655144 80.897813 \r\nL 194.325 69.633296 \r\nL 196.994856 71.433021 \r\nL 199.664713 80.986725 \r\nL 202.334569 85.094781 \r\nL 205.004426 93.847708 \r\nL 207.674282 120.836135 \r\nL 210.344139 127.920681 \r\nL 213.013995 141.520631 \r\nL 215.683852 153.585708 \r\nL 218.353708 146.621887 \r\nL 221.023565 159.195667 \r\nL 223.693421 155.755029 \r\nL 226.363278 168.696445 \r\nL 229.033134 153.965553 \r\nL 231.70299 181.399116 \r\nL 234.372847 170.243193 \r\nL 237.042703 156.344339 \r\nL 239.71256 166.422009 \r\nL 242.382416 165.964934 \r\nL 245.052273 169.977408 \r\nL 247.722129 171.320728 \r\nL 250.391986 167.890889 \r\nL 253.061842 168.752415 \r\nL 255.731699 186.596986 \r\nL 258.401555 175.537842 \r\nL 261.071411 183.403016 \r\nL 263.741268 186.751273 \r\nL 266.411124 182.629733 \r\nL 269.080981 155.309539 \r\nL 271.750837 178.401154 \r\nL 274.420694 173.311958 \r\nL 277.09055 160.08825 \r\nL 279.760407 145.655449 \r\nL 282.430263 131.992736 \r\nL 285.10012 140.627763 \r\nL 287.769976 150.698121 \r\nL 290.439833 154.420339 \r\nL 293.109689 146.84106 \r\nL 295.779545 161.987525 \r\nL 298.449402 156.208972 \r\nL 301.119258 140.671432 \r\nL 303.789115 160.580849 \r\nL 306.458971 148.037923 \r\nL 309.128828 118.704712 \r\nL 311.798684 128.041492 \r\nL 314.468541 128.765277 \r\nL 317.138397 142.268154 \r\nL 319.808254 141.295203 \r\nL 322.47811 143.615701 \r\nL 325.147967 145.94982 \r\nL 327.817823 142.767553 \r\nL 330.487679 140.688613 \r\nL 333.157536 144.493457 \r\nL 335.827392 142.999096 \r\nL 338.497249 161.354965 \r\nL 341.167105 155.499458 \r\nL 343.836962 157.96126 \r\nL 346.506818 152.658127 \r\n\" style=\"fill:none;stroke:#ff7f0e;stroke-linecap:square;stroke-width:1.5;\"/>\r\n   </g>\r\n   <g id=\"patch_3\">\r\n    <path d=\"M 26.925 224.64 \r\nL 26.925 7.2 \r\n\" style=\"fill:none;stroke:#000000;stroke-linecap:square;stroke-linejoin:miter;stroke-width:0.8;\"/>\r\n   </g>\r\n   <g id=\"patch_4\">\r\n    <path d=\"M 361.725 224.64 \r\nL 361.725 7.2 \r\n\" style=\"fill:none;stroke:#000000;stroke-linecap:square;stroke-linejoin:miter;stroke-width:0.8;\"/>\r\n   </g>\r\n   <g id=\"patch_5\">\r\n    <path d=\"M 26.925 224.64 \r\nL 361.725 224.64 \r\n\" style=\"fill:none;stroke:#000000;stroke-linecap:square;stroke-linejoin:miter;stroke-width:0.8;\"/>\r\n   </g>\r\n   <g id=\"patch_6\">\r\n    <path d=\"M 26.925 7.2 \r\nL 361.725 7.2 \r\n\" style=\"fill:none;stroke:#000000;stroke-linecap:square;stroke-linejoin:miter;stroke-width:0.8;\"/>\r\n   </g>\r\n   <g id=\"legend_1\">\r\n    <g id=\"patch_7\">\r\n     <path d=\"M 299.989062 44.55625 \r\nL 354.725 44.55625 \r\nQ 356.725 44.55625 356.725 42.55625 \r\nL 356.725 14.2 \r\nQ 356.725 12.2 354.725 12.2 \r\nL 299.989062 12.2 \r\nQ 297.989062 12.2 297.989062 14.2 \r\nL 297.989062 42.55625 \r\nQ 297.989062 44.55625 299.989062 44.55625 \r\nz\r\n\" style=\"fill:#ffffff;opacity:0.8;stroke:#cccccc;stroke-linejoin:miter;\"/>\r\n    </g>\r\n    <g id=\"line2d_15\">\r\n     <path d=\"M 301.989062 20.298437 \r\nL 321.989062 20.298437 \r\n\" style=\"fill:none;stroke:#1f77b4;stroke-linecap:square;stroke-width:1.5;\"/>\r\n    </g>\r\n    <g id=\"line2d_16\"/>\r\n    <g id=\"text_13\">\r\n     <!-- real -->\r\n     <defs>\r\n      <path d=\"M 41.109375 46.296875 \r\nQ 39.59375 47.171875 37.8125 47.578125 \r\nQ 36.03125 48 33.890625 48 \r\nQ 26.265625 48 22.1875 43.046875 \r\nQ 18.109375 38.09375 18.109375 28.8125 \r\nL 18.109375 0 \r\nL 9.078125 0 \r\nL 9.078125 54.6875 \r\nL 18.109375 54.6875 \r\nL 18.109375 46.1875 \r\nQ 20.953125 51.171875 25.484375 53.578125 \r\nQ 30.03125 56 36.53125 56 \r\nQ 37.453125 56 38.578125 55.875 \r\nQ 39.703125 55.765625 41.0625 55.515625 \r\nz\r\n\" id=\"DejaVuSans-114\"/>\r\n      <path d=\"M 56.203125 29.59375 \r\nL 56.203125 25.203125 \r\nL 14.890625 25.203125 \r\nQ 15.484375 15.921875 20.484375 11.0625 \r\nQ 25.484375 6.203125 34.421875 6.203125 \r\nQ 39.59375 6.203125 44.453125 7.46875 \r\nQ 49.3125 8.734375 54.109375 11.28125 \r\nL 54.109375 2.78125 \r\nQ 49.265625 0.734375 44.1875 -0.34375 \r\nQ 39.109375 -1.421875 33.890625 -1.421875 \r\nQ 20.796875 -1.421875 13.15625 6.1875 \r\nQ 5.515625 13.8125 5.515625 26.8125 \r\nQ 5.515625 40.234375 12.765625 48.109375 \r\nQ 20.015625 56 32.328125 56 \r\nQ 43.359375 56 49.78125 48.890625 \r\nQ 56.203125 41.796875 56.203125 29.59375 \r\nz\r\nM 47.21875 32.234375 \r\nQ 47.125 39.59375 43.09375 43.984375 \r\nQ 39.0625 48.390625 32.421875 48.390625 \r\nQ 24.90625 48.390625 20.390625 44.140625 \r\nQ 15.875 39.890625 15.1875 32.171875 \r\nz\r\n\" id=\"DejaVuSans-101\"/>\r\n      <path d=\"M 34.28125 27.484375 \r\nQ 23.390625 27.484375 19.1875 25 \r\nQ 14.984375 22.515625 14.984375 16.5 \r\nQ 14.984375 11.71875 18.140625 8.90625 \r\nQ 21.296875 6.109375 26.703125 6.109375 \r\nQ 34.1875 6.109375 38.703125 11.40625 \r\nQ 43.21875 16.703125 43.21875 25.484375 \r\nL 43.21875 27.484375 \r\nz\r\nM 52.203125 31.203125 \r\nL 52.203125 0 \r\nL 43.21875 0 \r\nL 43.21875 8.296875 \r\nQ 40.140625 3.328125 35.546875 0.953125 \r\nQ 30.953125 -1.421875 24.3125 -1.421875 \r\nQ 15.921875 -1.421875 10.953125 3.296875 \r\nQ 6 8.015625 6 15.921875 \r\nQ 6 25.140625 12.171875 29.828125 \r\nQ 18.359375 34.515625 30.609375 34.515625 \r\nL 43.21875 34.515625 \r\nL 43.21875 35.40625 \r\nQ 43.21875 41.609375 39.140625 45 \r\nQ 35.0625 48.390625 27.6875 48.390625 \r\nQ 23 48.390625 18.546875 47.265625 \r\nQ 14.109375 46.140625 10.015625 43.890625 \r\nL 10.015625 52.203125 \r\nQ 14.9375 54.109375 19.578125 55.046875 \r\nQ 24.21875 56 28.609375 56 \r\nQ 40.484375 56 46.34375 49.84375 \r\nQ 52.203125 43.703125 52.203125 31.203125 \r\nz\r\n\" id=\"DejaVuSans-97\"/>\r\n      <path d=\"M 9.421875 75.984375 \r\nL 18.40625 75.984375 \r\nL 18.40625 0 \r\nL 9.421875 0 \r\nz\r\n\" id=\"DejaVuSans-108\"/>\r\n     </defs>\r\n     <g transform=\"translate(329.989062 23.798437)scale(0.1 -0.1)\">\r\n      <use xlink:href=\"#DejaVuSans-114\"/>\r\n      <use x=\"38.863281\" xlink:href=\"#DejaVuSans-101\"/>\r\n      <use x=\"100.386719\" xlink:href=\"#DejaVuSans-97\"/>\r\n      <use x=\"161.666016\" xlink:href=\"#DejaVuSans-108\"/>\r\n     </g>\r\n    </g>\r\n    <g id=\"line2d_17\">\r\n     <path d=\"M 301.989062 34.976562 \r\nL 321.989062 34.976562 \r\n\" style=\"fill:none;stroke:#ff7f0e;stroke-linecap:square;stroke-width:1.5;\"/>\r\n    </g>\r\n    <g id=\"line2d_18\"/>\r\n    <g id=\"text_14\">\r\n     <!-- pred -->\r\n     <defs>\r\n      <path d=\"M 18.109375 8.203125 \r\nL 18.109375 -20.796875 \r\nL 9.078125 -20.796875 \r\nL 9.078125 54.6875 \r\nL 18.109375 54.6875 \r\nL 18.109375 46.390625 \r\nQ 20.953125 51.265625 25.265625 53.625 \r\nQ 29.59375 56 35.59375 56 \r\nQ 45.5625 56 51.78125 48.09375 \r\nQ 58.015625 40.1875 58.015625 27.296875 \r\nQ 58.015625 14.40625 51.78125 6.484375 \r\nQ 45.5625 -1.421875 35.59375 -1.421875 \r\nQ 29.59375 -1.421875 25.265625 0.953125 \r\nQ 20.953125 3.328125 18.109375 8.203125 \r\nz\r\nM 48.6875 27.296875 \r\nQ 48.6875 37.203125 44.609375 42.84375 \r\nQ 40.53125 48.484375 33.40625 48.484375 \r\nQ 26.265625 48.484375 22.1875 42.84375 \r\nQ 18.109375 37.203125 18.109375 27.296875 \r\nQ 18.109375 17.390625 22.1875 11.75 \r\nQ 26.265625 6.109375 33.40625 6.109375 \r\nQ 40.53125 6.109375 44.609375 11.75 \r\nQ 48.6875 17.390625 48.6875 27.296875 \r\nz\r\n\" id=\"DejaVuSans-112\"/>\r\n      <path d=\"M 45.40625 46.390625 \r\nL 45.40625 75.984375 \r\nL 54.390625 75.984375 \r\nL 54.390625 0 \r\nL 45.40625 0 \r\nL 45.40625 8.203125 \r\nQ 42.578125 3.328125 38.25 0.953125 \r\nQ 33.9375 -1.421875 27.875 -1.421875 \r\nQ 17.96875 -1.421875 11.734375 6.484375 \r\nQ 5.515625 14.40625 5.515625 27.296875 \r\nQ 5.515625 40.1875 11.734375 48.09375 \r\nQ 17.96875 56 27.875 56 \r\nQ 33.9375 56 38.25 53.625 \r\nQ 42.578125 51.265625 45.40625 46.390625 \r\nz\r\nM 14.796875 27.296875 \r\nQ 14.796875 17.390625 18.875 11.75 \r\nQ 22.953125 6.109375 30.078125 6.109375 \r\nQ 37.203125 6.109375 41.296875 11.75 \r\nQ 45.40625 17.390625 45.40625 27.296875 \r\nQ 45.40625 37.203125 41.296875 42.84375 \r\nQ 37.203125 48.484375 30.078125 48.484375 \r\nQ 22.953125 48.484375 18.875 42.84375 \r\nQ 14.796875 37.203125 14.796875 27.296875 \r\nz\r\n\" id=\"DejaVuSans-100\"/>\r\n     </defs>\r\n     <g transform=\"translate(329.989062 38.476562)scale(0.1 -0.1)\">\r\n      <use xlink:href=\"#DejaVuSans-112\"/>\r\n      <use x=\"63.476562\" xlink:href=\"#DejaVuSans-114\"/>\r\n      <use x=\"102.339844\" xlink:href=\"#DejaVuSans-101\"/>\r\n      <use x=\"163.863281\" xlink:href=\"#DejaVuSans-100\"/>\r\n     </g>\r\n    </g>\r\n   </g>\r\n  </g>\r\n </g>\r\n <defs>\r\n  <clipPath id=\"p19df903136\">\r\n   <rect height=\"217.44\" width=\"334.8\" x=\"26.925\" y=\"7.2\"/>\r\n  </clipPath>\r\n </defs>\r\n</svg>\r\n",
      "image/png": "[encoded data removed]"
     },
     "metadata": {
      "needs_background": "light"
     }
    }
   ],
   "source": [
    "%matplotlib inline\n",
    "x = [i for i in range(res.shape[0])]\n",
    "plt.plot(x,res[r\"收盘价\"],label=\"real\")\n",
    "plt.plot(x,res[r\"res\"],label=\"pred\")\n",
    "plt.legend()\n",
    "plt.show()"
   ]
  },
  {
   "cell_type": "code",
   "execution_count": 72,
   "id": "difficult-planning",
   "metadata": {},
   "outputs": [
    {
     "output_type": "display_data",
     "data": {
      "text/html": "        <script type=\"text/javascript\">\n        window.PlotlyConfig = {MathJaxConfig: 'local'};\n        if (window.MathJax) {MathJax.Hub.Config({SVG: {font: \"STIX-Web\"}});}\n        if (typeof require !== 'undefined') {\n        require.undef(\"plotly\");\n        requirejs.config({\n            paths: {\n                'plotly': ['https://cdn.plot.ly/plotly-latest.min']\n            }\n        });\n        require(['plotly'], function(Plotly) {\n            window._Plotly = Plotly;\n        });\n        }\n        </script>\n        "
     },
     "metadata": {}
    }
   ],
   "source": [
    "# plotly画图\n",
    "from plotly.graph_objs import Scatter,Layout\n",
    "import plotly\n",
    "import plotly.offline as py\n",
    "import numpy as np\n",
    "import plotly.graph_objs as go\n",
    "\n",
    "#setting offilne\n",
    "plotly.offline.init_notebook_mode(connected=True)"
   ]
  },
  {
   "cell_type": "code",
   "execution_count": 73,
   "id": "portuguese-candidate",
   "metadata": {},
   "outputs": [
    {
     "output_type": "display_data",
     "data": {
      "application/vnd.plotly.v1+json": {
       "config": {
        "linkText": "Export to plot.ly",
        "plotlyServerURL": "https://plot.ly",
        "showLink": false
       },
       "data": [
        {
         "mode": "lines+markers",
         "name": "real",
         "type": "scatter",
         "x": [
          0,
          1,
          2,
          3,
          4,
          5,
          6,
          7,
          8,
          9,
          10,
          11,
          12,
          13,
          14,
          15,
          16,
          17,
          18,
          19,
          20,
          21,
          22,
          23,
          24,
          25,
          26,
          27,
          28,
          29,
          30,
          31,
          32,
          33,
          34,
          35,
          36,
          37,
          38,
          39,
          40,
          41,
          42,
          43,
          44,
          45,
          46,
          47,
          48,
          49,
          50,
          51,
          52,
          53,
          54,
          55,
          56,
          57,
          58,
          59,
          60,
          61,
          62,
          63,
          64,
          65,
          66,
          67,
          68,
          69,
          70,
          71,
          72,
          73,
          74,
          75,
          76,
          77,
          78,
          79,
          80,
          81,
          82,
          83,
          84,
          85,
          86,
          87,
          88,
          89,
          90,
          91,
          92,
          93,
          94,
          95,
          96,
          97,
          98,
          99,
          100,
          101,
          102,
          103,
          104,
          105,
          106,
          107,
          108,
          109,
          110,
          111,
          112,
          113,
          114
         ],
         "y": [
          26.6,
          27.27,
          26.45,
          27.75,
          26.77,
          27.31,
          27.89,
          27.95,
          26.34,
          25.12,
          25.39,
          25.04,
          25.89,
          25.15,
          24.4,
          24.93,
          26.68,
          27.46,
          27.15,
          26.34,
          28.97,
          31.2,
          30.3,
          33.33,
          32.47,
          33.42,
          35.31,
          33.99,
          37.18,
          37.81,
          38.11,
          38.29,
          37.62,
          41.38,
          42.5,
          46.12,
          48.77,
          49.81,
          44.83,
          43.51,
          41.2,
          39.96,
          40.5,
          40.85,
          39.37,
          43.31,
          44.24,
          42.21,
          40.98,
          41.92,
          39.88,
          43.87,
          41.35,
          40.04,
          38.13,
          40.25,
          40.9,
          42.46,
          41.6,
          40.75,
          38.43,
          35.48,
          33.39,
          32.35,
          31.37,
          31.83,
          31.36,
          31.87,
          30.41,
          31.5,
          28.77,
          29.45,
          30.73,
          30.88,
          30.6,
          29.55,
          29.81,
          29.9,
          30.18,
          28.8,
          29.39,
          28.36,
          27.76,
          28.14,
          30.95,
          29.14,
          29.69,
          30.13,
          32.43,
          34.38,
          34.42,
          33,
          32.46,
          31.62,
          30.39,
          30.58,
          31.76,
          31.02,
          32.78,
          36.02,
          35.19,
          35.54,
          34,
          33.72,
          33.24,
          33.27,
          34.16,
          34.17,
          33.43,
          33.03,
          31.24,
          31.7,
          30.84,
          31.83,
          30.72
         ]
        },
        {
         "mode": "lines+markers",
         "name": "pred",
         "type": "scatter",
         "x": [
          0,
          1,
          2,
          3,
          4,
          5,
          6,
          7,
          8,
          9,
          10,
          11,
          12,
          13,
          14,
          15,
          16,
          17,
          18,
          19,
          20,
          21,
          22,
          23,
          24,
          25,
          26,
          27,
          28,
          29,
          30,
          31,
          32,
          33,
          34,
          35,
          36,
          37,
          38,
          39,
          40,
          41,
          42,
          43,
          44,
          45,
          46,
          47,
          48,
          49,
          50,
          51,
          52,
          53,
          54,
          55,
          56,
          57,
          58,
          59,
          60,
          61,
          62,
          63,
          64,
          65,
          66,
          67,
          68,
          69,
          70,
          71,
          72,
          73,
          74,
          75,
          76,
          77,
          78,
          79,
          80,
          81,
          82,
          83,
          84,
          85,
          86,
          87,
          88,
          89,
          90,
          91,
          92,
          93,
          94,
          95,
          96,
          97,
          98,
          99,
          100,
          101,
          102,
          103,
          104,
          105,
          106,
          107,
          108,
          109,
          110,
          111,
          112,
          113,
          114
         ],
         "y": [
          null,
          27.165231227874756,
          26.98425464987755,
          26.75377458333969,
          27.65214268863201,
          27.372549407482147,
          27.624986362457275,
          27.471790038347244,
          28.236629998683927,
          26.716316306591033,
          25.462449302673342,
          26.365119626522066,
          25.878901586532592,
          26.747020958662034,
          25.282978332042692,
          25.290817594528196,
          25.632925711870193,
          27.888270230293273,
          27.050881220102312,
          26.793782410025596,
          26.416191437244414,
          29.906708205938337,
          32.011859035491945,
          30.460479390621185,
          33.30217536091804,
          32.031915143728256,
          34.83032695770264,
          35.12696366786957,
          34.214942547082906,
          37.681126849651335,
          38.337719570398335,
          39.8849304652214,
          38.37875259876251,
          38.3516532754898,
          43.10810639381409,
          42.48912498354912,
          47.76454154968261,
          49.02854714751244,
          50.00873272061348,
          45.50630783677101,
          44.6343418097496,
          42.576062774658205,
          41.01470462322235,
          41.008859038352966,
          42.50391064286232,
          39.86297635912895,
          43.695915347337724,
          45.0944641494751,
          42.43277394890785,
          41.763101913928985,
          43.526487045288086,
          41.30025358676911,
          45.17317612767219,
          42.1856550693512,
          41.017959098815915,
          39.84475291013718,
          41.74153155088425,
          43.2008629322052,
          42.96770643949509,
          41.73001289367676,
          41.19780945777893,
          40.063857547044755,
          36.567475385665894,
          35.64966408491135,
          33.88777467608452,
          32.32472992777824,
          33.22690105319023,
          31.597953109741212,
          32.043691828250886,
          30.367116234898567,
          32.275520503520966,
          28.72147043466568,
          30.166733241081236,
          31.96734601020813,
          30.661772117614746,
          30.72098672389984,
          30.201166033744812,
          30.02713738799095,
          30.471477043628692,
          30.359865231513975,
          28.048080253601075,
          29.480805294513704,
          28.46186276435852,
          28.02809226036072,
          28.562042570114137,
          32.10140560865402,
          29.109859932661056,
          29.769171134233478,
          31.482317991256714,
          33.35210425972939,
          35.122124662399294,
          34.00344683766365,
          32.69882011413574,
          32.21660247087479,
          33.19850692033768,
          31.236264653205872,
          31.98488292455673,
          33.997789459228514,
          31.418501193523408,
          33.04345191240311,
          36.84360364675522,
          35.63401292324066,
          35.540245728492735,
          33.790932178497314,
          33.9169791841507,
          33.61635588169098,
          33.313968107700354,
          33.72623446464538,
          33.99556355059147,
          33.50264161586762,
          33.69623784542084,
          31.318213510513303,
          32.076801335811616,
          31.757872023582458,
          32.4448990380764
         ]
        }
       ],
       "layout": {
        "template": {
         "data": {
          "bar": [
           {
            "error_x": {
             "color": "#2a3f5f"
            },
            "error_y": {
             "color": "#2a3f5f"
            },
            "marker": {
             "line": {
              "color": "#E5ECF6",
              "width": 0.5
             }
            },
            "type": "bar"
           }
          ],
          "barpolar": [
           {
            "marker": {
             "line": {
              "color": "#E5ECF6",
              "width": 0.5
             }
            },
            "type": "barpolar"
           }
          ],
          "carpet": [
           {
            "aaxis": {
             "endlinecolor": "#2a3f5f",
             "gridcolor": "white",
             "linecolor": "white",
             "minorgridcolor": "white",
             "startlinecolor": "#2a3f5f"
            },
            "baxis": {
             "endlinecolor": "#2a3f5f",
             "gridcolor": "white",
             "linecolor": "white",
             "minorgridcolor": "white",
             "startlinecolor": "#2a3f5f"
            },
            "type": "carpet"
           }
          ],
          "choropleth": [
           {
            "colorbar": {
             "outlinewidth": 0,
             "ticks": ""
            },
            "type": "choropleth"
           }
          ],
          "contour": [
           {
            "colorbar": {
             "outlinewidth": 0,
             "ticks": ""
            },
            "colorscale": [
             [
              0,
              "#0d0887"
             ],
             [
              0.1111111111111111,
              "#46039f"
             ],
             [
              0.2222222222222222,
              "#7201a8"
             ],
             [
              0.3333333333333333,
              "#9c179e"
             ],
             [
              0.4444444444444444,
              "#bd3786"
             ],
             [
              0.5555555555555556,
              "#d8576b"
             ],
             [
              0.6666666666666666,
              "#ed7953"
             ],
             [
              0.7777777777777778,
              "#fb9f3a"
             ],
             [
              0.8888888888888888,
              "#fdca26"
             ],
             [
              1,
              "#f0f921"
             ]
            ],
            "type": "contour"
           }
          ],
          "contourcarpet": [
           {
            "colorbar": {
             "outlinewidth": 0,
             "ticks": ""
            },
            "type": "contourcarpet"
           }
          ],
          "heatmap": [
           {
            "colorbar": {
             "outlinewidth": 0,
             "ticks": ""
            },
            "colorscale": [
             [
              0,
              "#0d0887"
             ],
             [
              0.1111111111111111,
              "#46039f"
             ],
             [
              0.2222222222222222,
              "#7201a8"
             ],
             [
              0.3333333333333333,
              "#9c179e"
             ],
             [
              0.4444444444444444,
              "#bd3786"
             ],
             [
              0.5555555555555556,
              "#d8576b"
             ],
             [
              0.6666666666666666,
              "#ed7953"
             ],
             [
              0.7777777777777778,
              "#fb9f3a"
             ],
             [
              0.8888888888888888,
              "#fdca26"
             ],
             [
              1,
              "#f0f921"
             ]
            ],
            "type": "heatmap"
           }
          ],
          "heatmapgl": [
           {
            "colorbar": {
             "outlinewidth": 0,
             "ticks": ""
            },
            "colorscale": [
             [
              0,
              "#0d0887"
             ],
             [
              0.1111111111111111,
              "#46039f"
             ],
             [
              0.2222222222222222,
              "#7201a8"
             ],
             [
              0.3333333333333333,
              "#9c179e"
             ],
             [
              0.4444444444444444,
              "#bd3786"
             ],
             [
              0.5555555555555556,
              "#d8576b"
             ],
             [
              0.6666666666666666,
              "#ed7953"
             ],
             [
              0.7777777777777778,
              "#fb9f3a"
             ],
             [
              0.8888888888888888,
              "#fdca26"
             ],
             [
              1,
              "#f0f921"
             ]
            ],
            "type": "heatmapgl"
           }
          ],
          "histogram": [
           {
            "marker": {
             "colorbar": {
              "outlinewidth": 0,
              "ticks": ""
             }
            },
            "type": "histogram"
           }
          ],
          "histogram2d": [
           {
            "colorbar": {
             "outlinewidth": 0,
             "ticks": ""
            },
            "colorscale": [
             [
              0,
              "#0d0887"
             ],
             [
              0.1111111111111111,
              "#46039f"
             ],
             [
              0.2222222222222222,
              "#7201a8"
             ],
             [
              0.3333333333333333,
              "#9c179e"
             ],
             [
              0.4444444444444444,
              "#bd3786"
             ],
             [
              0.5555555555555556,
              "#d8576b"
             ],
             [
              0.6666666666666666,
              "#ed7953"
             ],
             [
              0.7777777777777778,
              "#fb9f3a"
             ],
             [
              0.8888888888888888,
              "#fdca26"
             ],
             [
              1,
              "#f0f921"
             ]
            ],
            "type": "histogram2d"
           }
          ],
          "histogram2dcontour": [
           {
            "colorbar": {
             "outlinewidth": 0,
             "ticks": ""
            },
            "colorscale": [
             [
              0,
              "#0d0887"
             ],
             [
              0.1111111111111111,
              "#46039f"
             ],
             [
              0.2222222222222222,
              "#7201a8"
             ],
             [
              0.3333333333333333,
              "#9c179e"
             ],
             [
              0.4444444444444444,
              "#bd3786"
             ],
             [
              0.5555555555555556,
              "#d8576b"
             ],
             [
              0.6666666666666666,
              "#ed7953"
             ],
             [
              0.7777777777777778,
              "#fb9f3a"
             ],
             [
              0.8888888888888888,
              "#fdca26"
             ],
             [
              1,
              "#f0f921"
             ]
            ],
            "type": "histogram2dcontour"
           }
          ],
          "mesh3d": [
           {
            "colorbar": {
             "outlinewidth": 0,
             "ticks": ""
            },
            "type": "mesh3d"
           }
          ],
          "parcoords": [
           {
            "line": {
             "colorbar": {
              "outlinewidth": 0,
              "ticks": ""
             }
            },
            "type": "parcoords"
           }
          ],
          "pie": [
           {
            "automargin": true,
            "type": "pie"
           }
          ],
          "scatter": [
           {
            "marker": {
             "colorbar": {
              "outlinewidth": 0,
              "ticks": ""
             }
            },
            "type": "scatter"
           }
          ],
          "scatter3d": [
           {
            "line": {
             "colorbar": {
              "outlinewidth": 0,
              "ticks": ""
             }
            },
            "marker": {
             "colorbar": {
              "outlinewidth": 0,
              "ticks": ""
             }
            },
            "type": "scatter3d"
           }
          ],
          "scattercarpet": [
           {
            "marker": {
             "colorbar": {
              "outlinewidth": 0,
              "ticks": ""
             }
            },
            "type": "scattercarpet"
           }
          ],
          "scattergeo": [
           {
            "marker": {
             "colorbar": {
              "outlinewidth": 0,
              "ticks": ""
             }
            },
            "type": "scattergeo"
           }
          ],
          "scattergl": [
           {
            "marker": {
             "colorbar": {
              "outlinewidth": 0,
              "ticks": ""
             }
            },
            "type": "scattergl"
           }
          ],
          "scattermapbox": [
           {
            "marker": {
             "colorbar": {
              "outlinewidth": 0,
              "ticks": ""
             }
            },
            "type": "scattermapbox"
           }
          ],
          "scatterpolar": [
           {
            "marker": {
             "colorbar": {
              "outlinewidth": 0,
              "ticks": ""
             }
            },
            "type": "scatterpolar"
           }
          ],
          "scatterpolargl": [
           {
            "marker": {
             "colorbar": {
              "outlinewidth": 0,
              "ticks": ""
             }
            },
            "type": "scatterpolargl"
           }
          ],
          "scatterternary": [
           {
            "marker": {
             "colorbar": {
              "outlinewidth": 0,
              "ticks": ""
             }
            },
            "type": "scatterternary"
           }
          ],
          "surface": [
           {
            "colorbar": {
             "outlinewidth": 0,
             "ticks": ""
            },
            "colorscale": [
             [
              0,
              "#0d0887"
             ],
             [
              0.1111111111111111,
              "#46039f"
             ],
             [
              0.2222222222222222,
              "#7201a8"
             ],
             [
              0.3333333333333333,
              "#9c179e"
             ],
             [
              0.4444444444444444,
              "#bd3786"
             ],
             [
              0.5555555555555556,
              "#d8576b"
             ],
             [
              0.6666666666666666,
              "#ed7953"
             ],
             [
              0.7777777777777778,
              "#fb9f3a"
             ],
             [
              0.8888888888888888,
              "#fdca26"
             ],
             [
              1,
              "#f0f921"
             ]
            ],
            "type": "surface"
           }
          ],
          "table": [
           {
            "cells": {
             "fill": {
              "color": "#EBF0F8"
             },
             "line": {
              "color": "white"
             }
            },
            "header": {
             "fill": {
              "color": "#C8D4E3"
             },
             "line": {
              "color": "white"
             }
            },
            "type": "table"
           }
          ]
         },
         "layout": {
          "annotationdefaults": {
           "arrowcolor": "#2a3f5f",
           "arrowhead": 0,
           "arrowwidth": 1
          },
          "autotypenumbers": "strict",
          "coloraxis": {
           "colorbar": {
            "outlinewidth": 0,
            "ticks": ""
           }
          },
          "colorscale": {
           "diverging": [
            [
             0,
             "#8e0152"
            ],
            [
             0.1,
             "#c51b7d"
            ],
            [
             0.2,
             "#de77ae"
            ],
            [
             0.3,
             "#f1b6da"
            ],
            [
             0.4,
             "#fde0ef"
            ],
            [
             0.5,
             "#f7f7f7"
            ],
            [
             0.6,
             "#e6f5d0"
            ],
            [
             0.7,
             "#b8e186"
            ],
            [
             0.8,
             "#7fbc41"
            ],
            [
             0.9,
             "#4d9221"
            ],
            [
             1,
             "#276419"
            ]
           ],
           "sequential": [
            [
             0,
             "#0d0887"
            ],
            [
             0.1111111111111111,
             "#46039f"
            ],
            [
             0.2222222222222222,
             "#7201a8"
            ],
            [
             0.3333333333333333,
             "#9c179e"
            ],
            [
             0.4444444444444444,
             "#bd3786"
            ],
            [
             0.5555555555555556,
             "#d8576b"
            ],
            [
             0.6666666666666666,
             "#ed7953"
            ],
            [
             0.7777777777777778,
             "#fb9f3a"
            ],
            [
             0.8888888888888888,
             "#fdca26"
            ],
            [
             1,
             "#f0f921"
            ]
           ],
           "sequentialminus": [
            [
             0,
             "#0d0887"
            ],
            [
             0.1111111111111111,
             "#46039f"
            ],
            [
             0.2222222222222222,
             "#7201a8"
            ],
            [
             0.3333333333333333,
             "#9c179e"
            ],
            [
             0.4444444444444444,
             "#bd3786"
            ],
            [
             0.5555555555555556,
             "#d8576b"
            ],
            [
             0.6666666666666666,
             "#ed7953"
            ],
            [
             0.7777777777777778,
             "#fb9f3a"
            ],
            [
             0.8888888888888888,
             "#fdca26"
            ],
            [
             1,
             "#f0f921"
            ]
           ]
          },
          "colorway": [
           "#636efa",
           "#EF553B",
           "#00cc96",
           "#ab63fa",
           "#FFA15A",
           "#19d3f3",
           "#FF6692",
           "#B6E880",
           "#FF97FF",
           "#FECB52"
          ],
          "font": {
           "color": "#2a3f5f"
          },
          "geo": {
           "bgcolor": "white",
           "lakecolor": "white",
           "landcolor": "#E5ECF6",
           "showlakes": true,
           "showland": true,
           "subunitcolor": "white"
          },
          "hoverlabel": {
           "align": "left"
          },
          "hovermode": "closest",
          "mapbox": {
           "style": "light"
          },
          "paper_bgcolor": "white",
          "plot_bgcolor": "#E5ECF6",
          "polar": {
           "angularaxis": {
            "gridcolor": "white",
            "linecolor": "white",
            "ticks": ""
           },
           "bgcolor": "#E5ECF6",
           "radialaxis": {
            "gridcolor": "white",
            "linecolor": "white",
            "ticks": ""
           }
          },
          "scene": {
           "xaxis": {
            "backgroundcolor": "#E5ECF6",
            "gridcolor": "white",
            "gridwidth": 2,
            "linecolor": "white",
            "showbackground": true,
            "ticks": "",
            "zerolinecolor": "white"
           },
           "yaxis": {
            "backgroundcolor": "#E5ECF6",
            "gridcolor": "white",
            "gridwidth": 2,
            "linecolor": "white",
            "showbackground": true,
            "ticks": "",
            "zerolinecolor": "white"
           },
           "zaxis": {
            "backgroundcolor": "#E5ECF6",
            "gridcolor": "white",
            "gridwidth": 2,
            "linecolor": "white",
            "showbackground": true,
            "ticks": "",
            "zerolinecolor": "white"
           }
          },
          "shapedefaults": {
           "line": {
            "color": "#2a3f5f"
           }
          },
          "ternary": {
           "aaxis": {
            "gridcolor": "white",
            "linecolor": "white",
            "ticks": ""
           },
           "baxis": {
            "gridcolor": "white",
            "linecolor": "white",
            "ticks": ""
           },
           "bgcolor": "#E5ECF6",
           "caxis": {
            "gridcolor": "white",
            "linecolor": "white",
            "ticks": ""
           }
          },
          "title": {
           "x": 0.05
          },
          "xaxis": {
           "automargin": true,
           "gridcolor": "white",
           "linecolor": "white",
           "ticks": "",
           "title": {
            "standoff": 15
           },
           "zerolinecolor": "white",
           "zerolinewidth": 2
          },
          "yaxis": {
           "automargin": true,
           "gridcolor": "white",
           "linecolor": "white",
           "ticks": "",
           "title": {
            "standoff": 15
           },
           "zerolinecolor": "white",
           "zerolinewidth": 2
          }
         }
        }
       }
      },
      "text/html": "<div>                            <div id=\"aca4108b-b1c9-479c-9ed5-fff1bf508787\" class=\"plotly-graph-div\" style=\"height:525px; width:100%;\"></div>            <script type=\"text/javascript\">                require([\"plotly\"], function(Plotly) {                    window.PLOTLYENV=window.PLOTLYENV || {};                                    if (document.getElementById(\"aca4108b-b1c9-479c-9ed5-fff1bf508787\")) {                    Plotly.newPlot(                        \"aca4108b-b1c9-479c-9ed5-fff1bf508787\",                        [{\"mode\": \"lines+markers\", \"name\": \"real\", \"type\": \"scatter\", \"x\": [0, 1, 2, 3, 4, 5, 6, 7, 8, 9, 10, 11, 12, 13, 14, 15, 16, 17, 18, 19, 20, 21, 22, 23, 24, 25, 26, 27, 28, 29, 30, 31, 32, 33, 34, 35, 36, 37, 38, 39, 40, 41, 42, 43, 44, 45, 46, 47, 48, 49, 50, 51, 52, 53, 54, 55, 56, 57, 58, 59, 60, 61, 62, 63, 64, 65, 66, 67, 68, 69, 70, 71, 72, 73, 74, 75, 76, 77, 78, 79, 80, 81, 82, 83, 84, 85, 86, 87, 88, 89, 90, 91, 92, 93, 94, 95, 96, 97, 98, 99, 100, 101, 102, 103, 104, 105, 106, 107, 108, 109, 110, 111, 112, 113, 114], \"y\": [26.6, 27.27, 26.45, 27.75, 26.77, 27.31, 27.89, 27.95, 26.34, 25.12, 25.39, 25.04, 25.89, 25.15, 24.4, 24.93, 26.68, 27.46, 27.15, 26.34, 28.97, 31.2, 30.3, 33.33, 32.47, 33.42, 35.31, 33.99, 37.18, 37.81, 38.11, 38.29, 37.62, 41.38, 42.5, 46.12, 48.77, 49.81, 44.83, 43.51, 41.2, 39.96, 40.5, 40.85, 39.37, 43.31, 44.24, 42.21, 40.98, 41.92, 39.88, 43.87, 41.35, 40.04, 38.13, 40.25, 40.9, 42.46, 41.6, 40.75, 38.43, 35.48, 33.39, 32.35, 31.37, 31.83, 31.36, 31.87, 30.41, 31.5, 28.77, 29.45, 30.73, 30.88, 30.6, 29.55, 29.81, 29.9, 30.18, 28.8, 29.39, 28.36, 27.76, 28.14, 30.95, 29.14, 29.69, 30.13, 32.43, 34.38, 34.42, 33.0, 32.46, 31.62, 30.39, 30.58, 31.76, 31.02, 32.78, 36.02, 35.19, 35.54, 34.0, 33.72, 33.24, 33.27, 34.16, 34.17, 33.43, 33.03, 31.24, 31.7, 30.84, 31.83, 30.72]}, {\"mode\": \"lines+markers\", \"name\": \"pred\", \"type\": \"scatter\", \"x\": [0, 1, 2, 3, 4, 5, 6, 7, 8, 9, 10, 11, 12, 13, 14, 15, 16, 17, 18, 19, 20, 21, 22, 23, 24, 25, 26, 27, 28, 29, 30, 31, 32, 33, 34, 35, 36, 37, 38, 39, 40, 41, 42, 43, 44, 45, 46, 47, 48, 49, 50, 51, 52, 53, 54, 55, 56, 57, 58, 59, 60, 61, 62, 63, 64, 65, 66, 67, 68, 69, 70, 71, 72, 73, 74, 75, 76, 77, 78, 79, 80, 81, 82, 83, 84, 85, 86, 87, 88, 89, 90, 91, 92, 93, 94, 95, 96, 97, 98, 99, 100, 101, 102, 103, 104, 105, 106, 107, 108, 109, 110, 111, 112, 113, 114], \"y\": [null, 27.165231227874756, 26.98425464987755, 26.75377458333969, 27.65214268863201, 27.372549407482147, 27.624986362457275, 27.471790038347244, 28.236629998683927, 26.716316306591033, 25.462449302673342, 26.365119626522066, 25.878901586532592, 26.747020958662034, 25.282978332042692, 25.290817594528196, 25.632925711870193, 27.888270230293273, 27.050881220102312, 26.793782410025596, 26.416191437244414, 29.906708205938337, 32.011859035491945, 30.460479390621185, 33.30217536091804, 32.031915143728256, 34.83032695770264, 35.12696366786957, 34.214942547082906, 37.681126849651335, 38.337719570398335, 39.8849304652214, 38.37875259876251, 38.3516532754898, 43.10810639381409, 42.48912498354912, 47.76454154968261, 49.02854714751244, 50.00873272061348, 45.50630783677101, 44.6343418097496, 42.576062774658205, 41.01470462322235, 41.008859038352966, 42.50391064286232, 39.86297635912895, 43.695915347337724, 45.0944641494751, 42.43277394890785, 41.763101913928985, 43.526487045288086, 41.30025358676911, 45.17317612767219, 42.1856550693512, 41.017959098815915, 39.84475291013718, 41.74153155088425, 43.2008629322052, 42.96770643949509, 41.73001289367676, 41.19780945777893, 40.063857547044755, 36.567475385665894, 35.64966408491135, 33.88777467608452, 32.32472992777824, 33.22690105319023, 31.597953109741212, 32.043691828250886, 30.367116234898567, 32.275520503520966, 28.72147043466568, 30.166733241081236, 31.96734601020813, 30.661772117614746, 30.72098672389984, 30.201166033744812, 30.02713738799095, 30.471477043628692, 30.359865231513975, 28.048080253601075, 29.480805294513704, 28.46186276435852, 28.02809226036072, 28.562042570114137, 32.10140560865402, 29.109859932661056, 29.769171134233478, 31.482317991256714, 33.35210425972939, 35.122124662399294, 34.00344683766365, 32.69882011413574, 32.21660247087479, 33.19850692033768, 31.236264653205872, 31.98488292455673, 33.997789459228514, 31.418501193523408, 33.04345191240311, 36.84360364675522, 35.63401292324066, 35.540245728492735, 33.790932178497314, 33.9169791841507, 33.61635588169098, 33.313968107700354, 33.72623446464538, 33.99556355059147, 33.50264161586762, 33.69623784542084, 31.318213510513303, 32.076801335811616, 31.757872023582458, 32.4448990380764]}],                        {\"template\": {\"data\": {\"bar\": [{\"error_x\": {\"color\": \"#2a3f5f\"}, \"error_y\": {\"color\": \"#2a3f5f\"}, \"marker\": {\"line\": {\"color\": \"#E5ECF6\", \"width\": 0.5}}, \"type\": \"bar\"}], \"barpolar\": [{\"marker\": {\"line\": {\"color\": \"#E5ECF6\", \"width\": 0.5}}, \"type\": \"barpolar\"}], \"carpet\": [{\"aaxis\": {\"endlinecolor\": \"#2a3f5f\", \"gridcolor\": \"white\", \"linecolor\": \"white\", \"minorgridcolor\": \"white\", \"startlinecolor\": \"#2a3f5f\"}, \"baxis\": {\"endlinecolor\": \"#2a3f5f\", \"gridcolor\": \"white\", \"linecolor\": \"white\", \"minorgridcolor\": \"white\", \"startlinecolor\": \"#2a3f5f\"}, \"type\": \"carpet\"}], \"choropleth\": [{\"colorbar\": {\"outlinewidth\": 0, \"ticks\": \"\"}, \"type\": \"choropleth\"}], \"contour\": [{\"colorbar\": {\"outlinewidth\": 0, \"ticks\": \"\"}, \"colorscale\": [[0.0, \"#0d0887\"], [0.1111111111111111, \"#46039f\"], [0.2222222222222222, \"#7201a8\"], [0.3333333333333333, \"#9c179e\"], [0.4444444444444444, \"#bd3786\"], [0.5555555555555556, \"#d8576b\"], [0.6666666666666666, \"#ed7953\"], [0.7777777777777778, \"#fb9f3a\"], [0.8888888888888888, \"#fdca26\"], [1.0, \"#f0f921\"]], \"type\": \"contour\"}], \"contourcarpet\": [{\"colorbar\": {\"outlinewidth\": 0, \"ticks\": \"\"}, \"type\": \"contourcarpet\"}], \"heatmap\": [{\"colorbar\": {\"outlinewidth\": 0, \"ticks\": \"\"}, \"colorscale\": [[0.0, \"#0d0887\"], [0.1111111111111111, \"#46039f\"], [0.2222222222222222, \"#7201a8\"], [0.3333333333333333, \"#9c179e\"], [0.4444444444444444, \"#bd3786\"], [0.5555555555555556, \"#d8576b\"], [0.6666666666666666, \"#ed7953\"], [0.7777777777777778, \"#fb9f3a\"], [0.8888888888888888, \"#fdca26\"], [1.0, \"#f0f921\"]], \"type\": \"heatmap\"}], \"heatmapgl\": [{\"colorbar\": {\"outlinewidth\": 0, \"ticks\": \"\"}, \"colorscale\": [[0.0, \"#0d0887\"], [0.1111111111111111, \"#46039f\"], [0.2222222222222222, \"#7201a8\"], [0.3333333333333333, \"#9c179e\"], [0.4444444444444444, \"#bd3786\"], [0.5555555555555556, \"#d8576b\"], [0.6666666666666666, \"#ed7953\"], [0.7777777777777778, \"#fb9f3a\"], [0.8888888888888888, \"#fdca26\"], [1.0, \"#f0f921\"]], \"type\": \"heatmapgl\"}], \"histogram\": [{\"marker\": {\"colorbar\": {\"outlinewidth\": 0, \"ticks\": \"\"}}, \"type\": \"histogram\"}], \"histogram2d\": [{\"colorbar\": {\"outlinewidth\": 0, \"ticks\": \"\"}, \"colorscale\": [[0.0, \"#0d0887\"], [0.1111111111111111, \"#46039f\"], [0.2222222222222222, \"#7201a8\"], [0.3333333333333333, \"#9c179e\"], [0.4444444444444444, \"#bd3786\"], [0.5555555555555556, \"#d8576b\"], [0.6666666666666666, \"#ed7953\"], [0.7777777777777778, \"#fb9f3a\"], [0.8888888888888888, \"#fdca26\"], [1.0, \"#f0f921\"]], \"type\": \"histogram2d\"}], \"histogram2dcontour\": [{\"colorbar\": {\"outlinewidth\": 0, \"ticks\": \"\"}, \"colorscale\": [[0.0, \"#0d0887\"], [0.1111111111111111, \"#46039f\"], [0.2222222222222222, \"#7201a8\"], [0.3333333333333333, \"#9c179e\"], [0.4444444444444444, \"#bd3786\"], [0.5555555555555556, \"#d8576b\"], [0.6666666666666666, \"#ed7953\"], [0.7777777777777778, \"#fb9f3a\"], [0.8888888888888888, \"#fdca26\"], [1.0, \"#f0f921\"]], \"type\": \"histogram2dcontour\"}], \"mesh3d\": [{\"colorbar\": {\"outlinewidth\": 0, \"ticks\": \"\"}, \"type\": \"mesh3d\"}], \"parcoords\": [{\"line\": {\"colorbar\": {\"outlinewidth\": 0, \"ticks\": \"\"}}, \"type\": \"parcoords\"}], \"pie\": [{\"automargin\": true, \"type\": \"pie\"}], \"scatter\": [{\"marker\": {\"colorbar\": {\"outlinewidth\": 0, \"ticks\": \"\"}}, \"type\": \"scatter\"}], \"scatter3d\": [{\"line\": {\"colorbar\": {\"outlinewidth\": 0, \"ticks\": \"\"}}, \"marker\": {\"colorbar\": {\"outlinewidth\": 0, \"ticks\": \"\"}}, \"type\": \"scatter3d\"}], \"scattercarpet\": [{\"marker\": {\"colorbar\": {\"outlinewidth\": 0, \"ticks\": \"\"}}, \"type\": \"scattercarpet\"}], \"scattergeo\": [{\"marker\": {\"colorbar\": {\"outlinewidth\": 0, \"ticks\": \"\"}}, \"type\": \"scattergeo\"}], \"scattergl\": [{\"marker\": {\"colorbar\": {\"outlinewidth\": 0, \"ticks\": \"\"}}, \"type\": \"scattergl\"}], \"scattermapbox\": [{\"marker\": {\"colorbar\": {\"outlinewidth\": 0, \"ticks\": \"\"}}, \"type\": \"scattermapbox\"}], \"scatterpolar\": [{\"marker\": {\"colorbar\": {\"outlinewidth\": 0, \"ticks\": \"\"}}, \"type\": \"scatterpolar\"}], \"scatterpolargl\": [{\"marker\": {\"colorbar\": {\"outlinewidth\": 0, \"ticks\": \"\"}}, \"type\": \"scatterpolargl\"}], \"scatterternary\": [{\"marker\": {\"colorbar\": {\"outlinewidth\": 0, \"ticks\": \"\"}}, \"type\": \"scatterternary\"}], \"surface\": [{\"colorbar\": {\"outlinewidth\": 0, \"ticks\": \"\"}, \"colorscale\": [[0.0, \"#0d0887\"], [0.1111111111111111, \"#46039f\"], [0.2222222222222222, \"#7201a8\"], [0.3333333333333333, \"#9c179e\"], [0.4444444444444444, \"#bd3786\"], [0.5555555555555556, \"#d8576b\"], [0.6666666666666666, \"#ed7953\"], [0.7777777777777778, \"#fb9f3a\"], [0.8888888888888888, \"#fdca26\"], [1.0, \"#f0f921\"]], \"type\": \"surface\"}], \"table\": [{\"cells\": {\"fill\": {\"color\": \"#EBF0F8\"}, \"line\": {\"color\": \"white\"}}, \"header\": {\"fill\": {\"color\": \"#C8D4E3\"}, \"line\": {\"color\": \"white\"}}, \"type\": \"table\"}]}, \"layout\": {\"annotationdefaults\": {\"arrowcolor\": \"#2a3f5f\", \"arrowhead\": 0, \"arrowwidth\": 1}, \"autotypenumbers\": \"strict\", \"coloraxis\": {\"colorbar\": {\"outlinewidth\": 0, \"ticks\": \"\"}}, \"colorscale\": {\"diverging\": [[0, \"#8e0152\"], [0.1, \"#c51b7d\"], [0.2, \"#de77ae\"], [0.3, \"#f1b6da\"], [0.4, \"#fde0ef\"], [0.5, \"#f7f7f7\"], [0.6, \"#e6f5d0\"], [0.7, \"#b8e186\"], [0.8, \"#7fbc41\"], [0.9, \"#4d9221\"], [1, \"#276419\"]], \"sequential\": [[0.0, \"#0d0887\"], [0.1111111111111111, \"#46039f\"], [0.2222222222222222, \"#7201a8\"], [0.3333333333333333, \"#9c179e\"], [0.4444444444444444, \"#bd3786\"], [0.5555555555555556, \"#d8576b\"], [0.6666666666666666, \"#ed7953\"], [0.7777777777777778, \"#fb9f3a\"], [0.8888888888888888, \"#fdca26\"], [1.0, \"#f0f921\"]], \"sequentialminus\": [[0.0, \"#0d0887\"], [0.1111111111111111, \"#46039f\"], [0.2222222222222222, \"#7201a8\"], [0.3333333333333333, \"#9c179e\"], [0.4444444444444444, \"#bd3786\"], [0.5555555555555556, \"#d8576b\"], [0.6666666666666666, \"#ed7953\"], [0.7777777777777778, \"#fb9f3a\"], [0.8888888888888888, \"#fdca26\"], [1.0, \"#f0f921\"]]}, \"colorway\": [\"#636efa\", \"#EF553B\", \"#00cc96\", \"#ab63fa\", \"#FFA15A\", \"#19d3f3\", \"#FF6692\", \"#B6E880\", \"#FF97FF\", \"#FECB52\"], \"font\": {\"color\": \"#2a3f5f\"}, \"geo\": {\"bgcolor\": \"white\", \"lakecolor\": \"white\", \"landcolor\": \"#E5ECF6\", \"showlakes\": true, \"showland\": true, \"subunitcolor\": \"white\"}, \"hoverlabel\": {\"align\": \"left\"}, \"hovermode\": \"closest\", \"mapbox\": {\"style\": \"light\"}, \"paper_bgcolor\": \"white\", \"plot_bgcolor\": \"#E5ECF6\", \"polar\": {\"angularaxis\": {\"gridcolor\": \"white\", \"linecolor\": \"white\", \"ticks\": \"\"}, \"bgcolor\": \"#E5ECF6\", \"radialaxis\": {\"gridcolor\": \"white\", \"linecolor\": \"white\", \"ticks\": \"\"}}, \"scene\": {\"xaxis\": {\"backgroundcolor\": \"#E5ECF6\", \"gridcolor\": \"white\", \"gridwidth\": 2, \"linecolor\": \"white\", \"showbackground\": true, \"ticks\": \"\", \"zerolinecolor\": \"white\"}, \"yaxis\": {\"backgroundcolor\": \"#E5ECF6\", \"gridcolor\": \"white\", \"gridwidth\": 2, \"linecolor\": \"white\", \"showbackground\": true, \"ticks\": \"\", \"zerolinecolor\": \"white\"}, \"zaxis\": {\"backgroundcolor\": \"#E5ECF6\", \"gridcolor\": \"white\", \"gridwidth\": 2, \"linecolor\": \"white\", \"showbackground\": true, \"ticks\": \"\", \"zerolinecolor\": \"white\"}}, \"shapedefaults\": {\"line\": {\"color\": \"#2a3f5f\"}}, \"ternary\": {\"aaxis\": {\"gridcolor\": \"white\", \"linecolor\": \"white\", \"ticks\": \"\"}, \"baxis\": {\"gridcolor\": \"white\", \"linecolor\": \"white\", \"ticks\": \"\"}, \"bgcolor\": \"#E5ECF6\", \"caxis\": {\"gridcolor\": \"white\", \"linecolor\": \"white\", \"ticks\": \"\"}}, \"title\": {\"x\": 0.05}, \"xaxis\": {\"automargin\": true, \"gridcolor\": \"white\", \"linecolor\": \"white\", \"ticks\": \"\", \"title\": {\"standoff\": 15}, \"zerolinecolor\": \"white\", \"zerolinewidth\": 2}, \"yaxis\": {\"automargin\": true, \"gridcolor\": \"white\", \"linecolor\": \"white\", \"ticks\": \"\", \"title\": {\"standoff\": 15}, \"zerolinecolor\": \"white\", \"zerolinewidth\": 2}}}},                        {\"responsive\": true}                    ).then(function(){\n                            \nvar gd = document.getElementById('aca4108b-b1c9-479c-9ed5-fff1bf508787');\nvar x = new MutationObserver(function (mutations, observer) {{\n        var display = window.getComputedStyle(gd).display;\n        if (!display || display === 'none') {{\n            console.log([gd, 'removed!']);\n            Plotly.purge(gd);\n            observer.disconnect();\n        }}\n}});\n\n// Listen for the removal of the full notebook cells\nvar notebookContainer = gd.closest('#notebook-container');\nif (notebookContainer) {{\n    x.observe(notebookContainer, {childList: true});\n}}\n\n// Listen for the clearing of the current output cell\nvar outputEl = gd.closest('.output');\nif (outputEl) {{\n    x.observe(outputEl, {childList: true});\n}}\n\n                        })                };                });            </script>        </div>"
     },
     "metadata": {}
    }
   ],
   "source": [
    "N = 100\n",
    "random_x = np.linspace(0,1,N)\n",
    "random_y0 = np.random.randn(N)+5\n",
    "random_y1 = np.random.randn(N)\n",
    "random_y2 = np.random.randn(N)-5\n",
    "\n",
    "#Create traces\n",
    "\n",
    "trace1 = go.Scatter(\n",
    "    x = x,\n",
    "    y = res[r\"收盘价\"],\n",
    "    mode = 'lines+markers',\n",
    "    name = \"real\"\n",
    ")\n",
    "trace2 = go.Scatter(\n",
    "    x = x,\n",
    "    y = res[r\"res\"],\n",
    "    mode = 'lines+markers',\n",
    "    name = 'pred'\n",
    ")\n",
    "data = [trace1,trace2]\n",
    "py.iplot(data)"
   ]
  },
  {
   "cell_type": "code",
   "execution_count": 74,
   "id": "driving-announcement",
   "metadata": {},
   "outputs": [
    {
     "output_type": "execute_result",
     "data": {
      "text/plain": [
       "'\\nparameters={\\'n_estimators\\':range(10, 300, 10),\\n            \\'max_depth\\':range(2,10,1),\\n            \\'learning_rate\\': [0.001, 0.005, 0.01, 0.05, 0.1, 0.2, 0.3],\\n            \\'min_child_weight\\':range(5, 21, 1),\\n            # \\'subsample\\':[0.1, 0.2, 0.3, 0.4, 0.5, 0.6, 0.7, 0.8, 0.9, 1],\\n            \\'gamma\\':[0.1, 0.2, 0.3, 0.4, 0.5, 0.6, 0.7, 0.8, 0.9, 1],\\n            \\'colsample_bytree\\':[0.5, 0.6, 0.7, 0.8, 0.9, 1],\\n            \\'colsample_bylevel\\':[0.5, 0.6, 0.7, 0.8, 0.9, 1]\\n            }\\n#parameters={\\'max_depth\\':range(2,10,1)}\\nmodel=xgb.XGBRegressor(seed=1,\\n                    n_estimators=100,\\n                    max_depth=3,\\n                    eval_metric=\\'rmse\\',\\n                    learning_rate=0.1,\\n                    min_child_weight=1,\\n                    subsample=0.7,\\n                    colsample_bytree=1,\\n                    colsample_bylevel=1,\\n                    n_jobs=-1,\\n                    gamma=0)\\ngs=GridSearchCV(estimator= model,param_grid=parameters,cv=5,refit= True,scoring=\\'neg_mean_squared_error\\')\\n\\ngs.fit(train_X,train_Y)\\nprint(\\'最优参数: \\', gs.best_params_)\\n\\npredictions = gs.predict(test_X)\\n%matplotlib inline\\nx = [i for i in range(len(test_Y))]\\nplt.plot(x,predictions,label=\"pred\")\\nplt.plot(x,test_Y,label=\"real\")\\nplt.legend()\\nplt.show()\\n'"
      ]
     },
     "metadata": {},
     "execution_count": 74
    }
   ],
   "source": [
    "'''\n",
    "parameters={'n_estimators':range(10, 300, 10),\n",
    "            'max_depth':range(2,10,1),\n",
    "            'learning_rate': [0.001, 0.005, 0.01, 0.05, 0.1, 0.2, 0.3],\n",
    "            'min_child_weight':range(5, 21, 1),\n",
    "            # 'subsample':[0.1, 0.2, 0.3, 0.4, 0.5, 0.6, 0.7, 0.8, 0.9, 1],\n",
    "            'gamma':[0.1, 0.2, 0.3, 0.4, 0.5, 0.6, 0.7, 0.8, 0.9, 1],\n",
    "            'colsample_bytree':[0.5, 0.6, 0.7, 0.8, 0.9, 1],\n",
    "            'colsample_bylevel':[0.5, 0.6, 0.7, 0.8, 0.9, 1]\n",
    "            }\n",
    "#parameters={'max_depth':range(2,10,1)}\n",
    "model=xgb.XGBRegressor(seed=1,\n",
    "                    n_estimators=100,\n",
    "                    max_depth=3,\n",
    "                    eval_metric='rmse',\n",
    "                    learning_rate=0.1,\n",
    "                    min_child_weight=1,\n",
    "                    subsample=0.7,\n",
    "                    colsample_bytree=1,\n",
    "                    colsample_bylevel=1,\n",
    "                    n_jobs=-1,\n",
    "                    gamma=0)\n",
    "gs=GridSearchCV(estimator= model,param_grid=parameters,cv=5,refit= True,scoring='neg_mean_squared_error')\n",
    "\n",
    "gs.fit(train_X,train_Y)\n",
    "print('最优参数: ', gs.best_params_)\n",
    "\n",
    "predictions = gs.predict(test_X)\n",
    "%matplotlib inline\n",
    "x = [i for i in range(len(test_Y))]\n",
    "plt.plot(x,predictions,label=\"pred\")\n",
    "plt.plot(x,test_Y,label=\"real\")\n",
    "plt.legend()\n",
    "plt.show()\n",
    "'''"
   ]
  },
  {
   "cell_type": "markdown",
   "id": "novel-france",
   "metadata": {},
   "source": [
    "# 开始预测"
   ]
  },
  {
   "cell_type": "code",
   "execution_count": 75,
   "id": "tested-observer",
   "metadata": {},
   "outputs": [
    {
     "output_type": "execute_result",
     "data": {
      "text/plain": [
       "           日期    收盘价    最高价    最低价    开盘价    前收盘   涨跌额     涨跌幅     换手率  \\\n",
       "0  2021-05-07  31.24  33.03  30.45  33.03  33.03 -1.79 -5.4193  0.5948   \n",
       "1  2021-05-10  31.70  32.28  30.05  30.70  31.24  0.46  1.4725  0.4712   \n",
       "2  2021-05-11  30.84  31.36  30.25  30.80  31.70 -0.86 -2.7129  0.4695   \n",
       "3  2021-05-12  31.83  32.48  30.40  30.63  30.84  0.99  3.2101  0.5079   \n",
       "4  2021-05-13  30.72  31.35  30.60  31.30  31.83 -1.11 -3.4873  0.3529   \n",
       "5  2021-05-14  30.74  31.23  30.41  30.50  30.72  0.02  0.0651  0.3594   \n",
       "6  2021-05-17  33.11  33.33  30.77  30.85  30.74  2.37  7.7098  0.7926   \n",
       "7  2021-05-18  32.49  33.06  32.10  33.06  33.11 -0.62 -1.8725  0.4193   \n",
       "8  2021-05-19  34.46  35.24  32.12  32.28  32.49  1.97  6.0634  0.8964   \n",
       "9  2021-05-20  34.37  35.83  33.88  34.60  34.46 -0.09 -0.2612  0.7913   \n",
       "10 2021-05-21  34.14  35.00  33.20  34.38  34.37 -0.23 -0.6692  0.6804   \n",
       "11 2021-05-24  33.95  34.27  32.86  33.56  34.14 -0.19 -0.5565  0.4311   \n",
       "12 2021-05-25  35.30  35.75  33.47  33.90  33.95  1.35  3.9764  0.6713   \n",
       "13 2021-05-26  37.03  38.83  36.13  36.13  35.30  1.73  4.9008  1.0620   \n",
       "14 2021-05-27  36.35  37.60  36.08  37.54  37.03 -0.68 -1.8363  0.5543   \n",
       "15 2021-05-28  36.75  38.00  35.56  36.00  36.35  0.40  1.1004  0.5839   \n",
       "16 2021-05-31  36.99  37.10  35.19  36.72  36.75  0.24  0.6531  0.4609   \n",
       "17 2021-06-01  37.66  38.25  36.18  36.90  36.99  0.67  1.8113  0.5160   \n",
       "18 2021-06-02  38.20  39.55  37.81  37.81  37.66  0.54  1.4339  0.6561   \n",
       "19 2021-06-03  37.61  39.60  37.57  39.00  38.20 -0.59 -1.5445  0.4870   \n",
       "20 2021-06-04  38.60  38.91  36.81  37.49  37.61  0.99  2.6323  0.4970   \n",
       "21 2021-06-07  38.19  39.20  37.90  38.60  38.60 -0.41 -1.0622  0.3491   \n",
       "22 2021-06-08  39.73  40.03  38.38  38.38  38.19  1.54  4.0325  0.5728   \n",
       "23 2021-06-09  40.10  40.44  38.21  38.70  39.73  0.37  0.9313  0.4818   \n",
       "24 2021-06-10  42.46  43.16  39.51  39.77  40.10  2.36  5.8853  0.6570   \n",
       "25 2021-06-11  44.30  45.50  41.60  42.01  42.46  1.84  4.3335  0.7490   \n",
       "26 2021-06-15  44.05  46.30  43.33  44.60  44.30 -0.25 -0.5643  0.6480   \n",
       "\n",
       "         成交量        成交金额           总市值          流通市值  \n",
       "0   35994415  1139767717  287000000000  189000000000  \n",
       "1   28515901   890904837  291000000000  192000000000  \n",
       "2   28415111   873201088  283000000000  187000000000  \n",
       "3   30736419   978244106  292000000000  193000000000  \n",
       "4   21359504   659393735  282000000000  186000000000  \n",
       "5   21797855   672163739  282000000000  186000000000  \n",
       "6   48068344  1549542682  304000000000  201000000000  \n",
       "7   25428275   824180027  299000000000  197000000000  \n",
       "8   54366496  1858229383  317000000000  209000000000  \n",
       "9   47991501  1677436108  316000000000  208000000000  \n",
       "10  41262518  1409092494  314000000000  207000000000  \n",
       "11  26146217   877436746  312000000000  206000000000  \n",
       "12  40715103  1418037048  324000000000  214000000000  \n",
       "13  64408479  2442652483  340000000000  225000000000  \n",
       "14  33616735  1228253202  334000000000  220000000000  \n",
       "15  35412050  1309353618  338000000000  223000000000  \n",
       "16  27955794  1013969083  340000000000  224000000000  \n",
       "17  31294833  1173946132  346000000000  228000000000  \n",
       "18  39941554  1543864212  352000000000  233000000000  \n",
       "19  29645635  1139992041  346474460496  228952171078  \n",
       "20  30254779  1154641866  355594633745  234978830195  \n",
       "21  21254590   815842098  351817592298  232482941066  \n",
       "22  34869007  1378158779  366004528463  241857744136  \n",
       "23  29332769  1156765735  369413078061  244110131886  \n",
       "24  39997825  1674412481  391154097119  258476713214  \n",
       "25  45595279  1997015135  408104722147  269677776622  \n",
       "26  39449653  1764789345  405801648095  268155893007  "
      ],
      "text/html": "<div>\n<style scoped>\n    .dataframe tbody tr th:only-of-type {\n        vertical-align: middle;\n    }\n\n    .dataframe tbody tr th {\n        vertical-align: top;\n    }\n\n    .dataframe thead th {\n        text-align: right;\n    }\n</style>\n<table border=\"1\" class=\"dataframe\">\n  <thead>\n    <tr style=\"text-align: right;\">\n      <th></th>\n      <th>日期</th>\n      <th>收盘价</th>\n      <th>最高价</th>\n      <th>最低价</th>\n      <th>开盘价</th>\n      <th>前收盘</th>\n      <th>涨跌额</th>\n      <th>涨跌幅</th>\n      <th>换手率</th>\n      <th>成交量</th>\n      <th>成交金额</th>\n      <th>总市值</th>\n      <th>流通市值</th>\n    </tr>\n  </thead>\n  <tbody>\n    <tr>\n      <th>0</th>\n      <td>2021-05-07</td>\n      <td>31.24</td>\n      <td>33.03</td>\n      <td>30.45</td>\n      <td>33.03</td>\n      <td>33.03</td>\n      <td>-1.79</td>\n      <td>-5.4193</td>\n      <td>0.5948</td>\n      <td>35994415</td>\n      <td>1139767717</td>\n      <td>287000000000</td>\n      <td>189000000000</td>\n    </tr>\n    <tr>\n      <th>1</th>\n      <td>2021-05-10</td>\n      <td>31.70</td>\n      <td>32.28</td>\n      <td>30.05</td>\n      <td>30.70</td>\n      <td>31.24</td>\n      <td>0.46</td>\n      <td>1.4725</td>\n      <td>0.4712</td>\n      <td>28515901</td>\n      <td>890904837</td>\n      <td>291000000000</td>\n      <td>192000000000</td>\n    </tr>\n    <tr>\n      <th>2</th>\n      <td>2021-05-11</td>\n      <td>30.84</td>\n      <td>31.36</td>\n      <td>30.25</td>\n      <td>30.80</td>\n      <td>31.70</td>\n      <td>-0.86</td>\n      <td>-2.7129</td>\n      <td>0.4695</td>\n      <td>28415111</td>\n      <td>873201088</td>\n      <td>283000000000</td>\n      <td>187000000000</td>\n    </tr>\n    <tr>\n      <th>3</th>\n      <td>2021-05-12</td>\n      <td>31.83</td>\n      <td>32.48</td>\n      <td>30.40</td>\n      <td>30.63</td>\n      <td>30.84</td>\n      <td>0.99</td>\n      <td>3.2101</td>\n      <td>0.5079</td>\n      <td>30736419</td>\n      <td>978244106</td>\n      <td>292000000000</td>\n      <td>193000000000</td>\n    </tr>\n    <tr>\n      <th>4</th>\n      <td>2021-05-13</td>\n      <td>30.72</td>\n      <td>31.35</td>\n      <td>30.60</td>\n      <td>31.30</td>\n      <td>31.83</td>\n      <td>-1.11</td>\n      <td>-3.4873</td>\n      <td>0.3529</td>\n      <td>21359504</td>\n      <td>659393735</td>\n      <td>282000000000</td>\n      <td>186000000000</td>\n    </tr>\n    <tr>\n      <th>5</th>\n      <td>2021-05-14</td>\n      <td>30.74</td>\n      <td>31.23</td>\n      <td>30.41</td>\n      <td>30.50</td>\n      <td>30.72</td>\n      <td>0.02</td>\n      <td>0.0651</td>\n      <td>0.3594</td>\n      <td>21797855</td>\n      <td>672163739</td>\n      <td>282000000000</td>\n      <td>186000000000</td>\n    </tr>\n    <tr>\n      <th>6</th>\n      <td>2021-05-17</td>\n      <td>33.11</td>\n      <td>33.33</td>\n      <td>30.77</td>\n      <td>30.85</td>\n      <td>30.74</td>\n      <td>2.37</td>\n      <td>7.7098</td>\n      <td>0.7926</td>\n      <td>48068344</td>\n      <td>1549542682</td>\n      <td>304000000000</td>\n      <td>201000000000</td>\n    </tr>\n    <tr>\n      <th>7</th>\n      <td>2021-05-18</td>\n      <td>32.49</td>\n      <td>33.06</td>\n      <td>32.10</td>\n      <td>33.06</td>\n      <td>33.11</td>\n      <td>-0.62</td>\n      <td>-1.8725</td>\n      <td>0.4193</td>\n      <td>25428275</td>\n      <td>824180027</td>\n      <td>299000000000</td>\n      <td>197000000000</td>\n    </tr>\n    <tr>\n      <th>8</th>\n      <td>2021-05-19</td>\n      <td>34.46</td>\n      <td>35.24</td>\n      <td>32.12</td>\n      <td>32.28</td>\n      <td>32.49</td>\n      <td>1.97</td>\n      <td>6.0634</td>\n      <td>0.8964</td>\n      <td>54366496</td>\n      <td>1858229383</td>\n      <td>317000000000</td>\n      <td>209000000000</td>\n    </tr>\n    <tr>\n      <th>9</th>\n      <td>2021-05-20</td>\n      <td>34.37</td>\n      <td>35.83</td>\n      <td>33.88</td>\n      <td>34.60</td>\n      <td>34.46</td>\n      <td>-0.09</td>\n      <td>-0.2612</td>\n      <td>0.7913</td>\n      <td>47991501</td>\n      <td>1677436108</td>\n      <td>316000000000</td>\n      <td>208000000000</td>\n    </tr>\n    <tr>\n      <th>10</th>\n      <td>2021-05-21</td>\n      <td>34.14</td>\n      <td>35.00</td>\n      <td>33.20</td>\n      <td>34.38</td>\n      <td>34.37</td>\n      <td>-0.23</td>\n      <td>-0.6692</td>\n      <td>0.6804</td>\n      <td>41262518</td>\n      <td>1409092494</td>\n      <td>314000000000</td>\n      <td>207000000000</td>\n    </tr>\n    <tr>\n      <th>11</th>\n      <td>2021-05-24</td>\n      <td>33.95</td>\n      <td>34.27</td>\n      <td>32.86</td>\n      <td>33.56</td>\n      <td>34.14</td>\n      <td>-0.19</td>\n      <td>-0.5565</td>\n      <td>0.4311</td>\n      <td>26146217</td>\n      <td>877436746</td>\n      <td>312000000000</td>\n      <td>206000000000</td>\n    </tr>\n    <tr>\n      <th>12</th>\n      <td>2021-05-25</td>\n      <td>35.30</td>\n      <td>35.75</td>\n      <td>33.47</td>\n      <td>33.90</td>\n      <td>33.95</td>\n      <td>1.35</td>\n      <td>3.9764</td>\n      <td>0.6713</td>\n      <td>40715103</td>\n      <td>1418037048</td>\n      <td>324000000000</td>\n      <td>214000000000</td>\n    </tr>\n    <tr>\n      <th>13</th>\n      <td>2021-05-26</td>\n      <td>37.03</td>\n      <td>38.83</td>\n      <td>36.13</td>\n      <td>36.13</td>\n      <td>35.30</td>\n      <td>1.73</td>\n      <td>4.9008</td>\n      <td>1.0620</td>\n      <td>64408479</td>\n      <td>2442652483</td>\n      <td>340000000000</td>\n      <td>225000000000</td>\n    </tr>\n    <tr>\n      <th>14</th>\n      <td>2021-05-27</td>\n      <td>36.35</td>\n      <td>37.60</td>\n      <td>36.08</td>\n      <td>37.54</td>\n      <td>37.03</td>\n      <td>-0.68</td>\n      <td>-1.8363</td>\n      <td>0.5543</td>\n      <td>33616735</td>\n      <td>1228253202</td>\n      <td>334000000000</td>\n      <td>220000000000</td>\n    </tr>\n    <tr>\n      <th>15</th>\n      <td>2021-05-28</td>\n      <td>36.75</td>\n      <td>38.00</td>\n      <td>35.56</td>\n      <td>36.00</td>\n      <td>36.35</td>\n      <td>0.40</td>\n      <td>1.1004</td>\n      <td>0.5839</td>\n      <td>35412050</td>\n      <td>1309353618</td>\n      <td>338000000000</td>\n      <td>223000000000</td>\n    </tr>\n    <tr>\n      <th>16</th>\n      <td>2021-05-31</td>\n      <td>36.99</td>\n      <td>37.10</td>\n      <td>35.19</td>\n      <td>36.72</td>\n      <td>36.75</td>\n      <td>0.24</td>\n      <td>0.6531</td>\n      <td>0.4609</td>\n      <td>27955794</td>\n      <td>1013969083</td>\n      <td>340000000000</td>\n      <td>224000000000</td>\n    </tr>\n    <tr>\n      <th>17</th>\n      <td>2021-06-01</td>\n      <td>37.66</td>\n      <td>38.25</td>\n      <td>36.18</td>\n      <td>36.90</td>\n      <td>36.99</td>\n      <td>0.67</td>\n      <td>1.8113</td>\n      <td>0.5160</td>\n      <td>31294833</td>\n      <td>1173946132</td>\n      <td>346000000000</td>\n      <td>228000000000</td>\n    </tr>\n    <tr>\n      <th>18</th>\n      <td>2021-06-02</td>\n      <td>38.20</td>\n      <td>39.55</td>\n      <td>37.81</td>\n      <td>37.81</td>\n      <td>37.66</td>\n      <td>0.54</td>\n      <td>1.4339</td>\n      <td>0.6561</td>\n      <td>39941554</td>\n      <td>1543864212</td>\n      <td>352000000000</td>\n      <td>233000000000</td>\n    </tr>\n    <tr>\n      <th>19</th>\n      <td>2021-06-03</td>\n      <td>37.61</td>\n      <td>39.60</td>\n      <td>37.57</td>\n      <td>39.00</td>\n      <td>38.20</td>\n      <td>-0.59</td>\n      <td>-1.5445</td>\n      <td>0.4870</td>\n      <td>29645635</td>\n      <td>1139992041</td>\n      <td>346474460496</td>\n      <td>228952171078</td>\n    </tr>\n    <tr>\n      <th>20</th>\n      <td>2021-06-04</td>\n      <td>38.60</td>\n      <td>38.91</td>\n      <td>36.81</td>\n      <td>37.49</td>\n      <td>37.61</td>\n      <td>0.99</td>\n      <td>2.6323</td>\n      <td>0.4970</td>\n      <td>30254779</td>\n      <td>1154641866</td>\n      <td>355594633745</td>\n      <td>234978830195</td>\n    </tr>\n    <tr>\n      <th>21</th>\n      <td>2021-06-07</td>\n      <td>38.19</td>\n      <td>39.20</td>\n      <td>37.90</td>\n      <td>38.60</td>\n      <td>38.60</td>\n      <td>-0.41</td>\n      <td>-1.0622</td>\n      <td>0.3491</td>\n      <td>21254590</td>\n      <td>815842098</td>\n      <td>351817592298</td>\n      <td>232482941066</td>\n    </tr>\n    <tr>\n      <th>22</th>\n      <td>2021-06-08</td>\n      <td>39.73</td>\n      <td>40.03</td>\n      <td>38.38</td>\n      <td>38.38</td>\n      <td>38.19</td>\n      <td>1.54</td>\n      <td>4.0325</td>\n      <td>0.5728</td>\n      <td>34869007</td>\n      <td>1378158779</td>\n      <td>366004528463</td>\n      <td>241857744136</td>\n    </tr>\n    <tr>\n      <th>23</th>\n      <td>2021-06-09</td>\n      <td>40.10</td>\n      <td>40.44</td>\n      <td>38.21</td>\n      <td>38.70</td>\n      <td>39.73</td>\n      <td>0.37</td>\n      <td>0.9313</td>\n      <td>0.4818</td>\n      <td>29332769</td>\n      <td>1156765735</td>\n      <td>369413078061</td>\n      <td>244110131886</td>\n    </tr>\n    <tr>\n      <th>24</th>\n      <td>2021-06-10</td>\n      <td>42.46</td>\n      <td>43.16</td>\n      <td>39.51</td>\n      <td>39.77</td>\n      <td>40.10</td>\n      <td>2.36</td>\n      <td>5.8853</td>\n      <td>0.6570</td>\n      <td>39997825</td>\n      <td>1674412481</td>\n      <td>391154097119</td>\n      <td>258476713214</td>\n    </tr>\n    <tr>\n      <th>25</th>\n      <td>2021-06-11</td>\n      <td>44.30</td>\n      <td>45.50</td>\n      <td>41.60</td>\n      <td>42.01</td>\n      <td>42.46</td>\n      <td>1.84</td>\n      <td>4.3335</td>\n      <td>0.7490</td>\n      <td>45595279</td>\n      <td>1997015135</td>\n      <td>408104722147</td>\n      <td>269677776622</td>\n    </tr>\n    <tr>\n      <th>26</th>\n      <td>2021-06-15</td>\n      <td>44.05</td>\n      <td>46.30</td>\n      <td>43.33</td>\n      <td>44.60</td>\n      <td>44.30</td>\n      <td>-0.25</td>\n      <td>-0.5643</td>\n      <td>0.6480</td>\n      <td>39449653</td>\n      <td>1764789345</td>\n      <td>405801648095</td>\n      <td>268155893007</td>\n    </tr>\n  </tbody>\n</table>\n</div>"
     },
     "metadata": {},
     "execution_count": 75
    }
   ],
   "source": [
    "# 数据准备\n",
    "wtsw_p = pd.read_excel(r\"./prestocks.xls\",NAME,header=0)\n",
    "wtsw_p = wtsw_p.drop(labels=[r\"股票代码\",r\"名称\"],axis=1)\n",
    "wtsw_p = wtsw_p.reset_index(drop = True)\n",
    "wtsw_p"
   ]
  },
  {
   "cell_type": "code",
   "execution_count": 76,
   "id": "varying-roads",
   "metadata": {},
   "outputs": [
    {
     "output_type": "stream",
     "name": "stderr",
     "text": [
      "C:\\Users\\11973\\AppData\\Local\\Programs\\Python\\Python37\\lib\\site-packages\\pandas\\core\\ops\\array_ops.py:253: FutureWarning:\n\nelementwise comparison failed; returning scalar instead, but in the future will perform elementwise comparison\n\n"
     ]
    },
    {
     "output_type": "execute_result",
     "data": {
      "text/plain": [
       "      收盘价    最高价    最低价    开盘价    前收盘   涨跌额     涨跌幅     换手率       成交量  \\\n",
       "0   31.24  33.03  30.45  33.03  33.03 -1.79 -5.4193  0.5948  35994415   \n",
       "1   31.70  32.28  30.05  30.70  31.24  0.46  1.4725  0.4712  28515901   \n",
       "2   30.84  31.36  30.25  30.80  31.70 -0.86 -2.7129  0.4695  28415111   \n",
       "3   31.83  32.48  30.40  30.63  30.84  0.99  3.2101  0.5079  30736419   \n",
       "4   30.72  31.35  30.60  31.30  31.83 -1.11 -3.4873  0.3529  21359504   \n",
       "5   30.74  31.23  30.41  30.50  30.72  0.02  0.0651  0.3594  21797855   \n",
       "6   33.11  33.33  30.77  30.85  30.74  2.37  7.7098  0.7926  48068344   \n",
       "7   32.49  33.06  32.10  33.06  33.11 -0.62 -1.8725  0.4193  25428275   \n",
       "8   34.46  35.24  32.12  32.28  32.49  1.97  6.0634  0.8964  54366496   \n",
       "9   34.37  35.83  33.88  34.60  34.46 -0.09 -0.2612  0.7913  47991501   \n",
       "10  34.14  35.00  33.20  34.38  34.37 -0.23 -0.6692  0.6804  41262518   \n",
       "11  33.95  34.27  32.86  33.56  34.14 -0.19 -0.5565  0.4311  26146217   \n",
       "12  35.30  35.75  33.47  33.90  33.95  1.35  3.9764  0.6713  40715103   \n",
       "13  37.03  38.83  36.13  36.13  35.30  1.73  4.9008  1.0620  64408479   \n",
       "14  36.35  37.60  36.08  37.54  37.03 -0.68 -1.8363  0.5543  33616735   \n",
       "15  36.75  38.00  35.56  36.00  36.35  0.40  1.1004  0.5839  35412050   \n",
       "16  36.99  37.10  35.19  36.72  36.75  0.24  0.6531  0.4609  27955794   \n",
       "17  37.66  38.25  36.18  36.90  36.99  0.67  1.8113  0.5160  31294833   \n",
       "18  38.20  39.55  37.81  37.81  37.66  0.54  1.4339  0.6561  39941554   \n",
       "19  37.61  39.60  37.57  39.00  38.20 -0.59 -1.5445  0.4870  29645635   \n",
       "20  38.60  38.91  36.81  37.49  37.61  0.99  2.6323  0.4970  30254779   \n",
       "21  38.19  39.20  37.90  38.60  38.60 -0.41 -1.0622  0.3491  21254590   \n",
       "22  39.73  40.03  38.38  38.38  38.19  1.54  4.0325  0.5728  34869007   \n",
       "23  40.10  40.44  38.21  38.70  39.73  0.37  0.9313  0.4818  29332769   \n",
       "24  42.46  43.16  39.51  39.77  40.10  2.36  5.8853  0.6570  39997825   \n",
       "25  44.30  45.50  41.60  42.01  42.46  1.84  4.3335  0.7490  45595279   \n",
       "26  44.05  46.30  43.33  44.60  44.30 -0.25 -0.5643  0.6480  39449653   \n",
       "\n",
       "          成交金额           总市值          流通市值  year month day  \n",
       "0   1139767717  287000000000  189000000000  2021    05  07  \n",
       "1    890904837  291000000000  192000000000  2021    05  10  \n",
       "2    873201088  283000000000  187000000000  2021    05  11  \n",
       "3    978244106  292000000000  193000000000  2021    05  12  \n",
       "4    659393735  282000000000  186000000000  2021    05  13  \n",
       "5    672163739  282000000000  186000000000  2021    05  14  \n",
       "6   1549542682  304000000000  201000000000  2021    05  17  \n",
       "7    824180027  299000000000  197000000000  2021    05  18  \n",
       "8   1858229383  317000000000  209000000000  2021    05  19  \n",
       "9   1677436108  316000000000  208000000000  2021    05  20  \n",
       "10  1409092494  314000000000  207000000000  2021    05  21  \n",
       "11   877436746  312000000000  206000000000  2021    05  24  \n",
       "12  1418037048  324000000000  214000000000  2021    05  25  \n",
       "13  2442652483  340000000000  225000000000  2021    05  26  \n",
       "14  1228253202  334000000000  220000000000  2021    05  27  \n",
       "15  1309353618  338000000000  223000000000  2021    05  28  \n",
       "16  1013969083  340000000000  224000000000  2021    05  31  \n",
       "17  1173946132  346000000000  228000000000  2021    06  01  \n",
       "18  1543864212  352000000000  233000000000  2021    06  02  \n",
       "19  1139992041  346474460496  228952171078  2021    06  03  \n",
       "20  1154641866  355594633745  234978830195  2021    06  04  \n",
       "21   815842098  351817592298  232482941066  2021    06  07  \n",
       "22  1378158779  366004528463  241857744136  2021    06  08  \n",
       "23  1156765735  369413078061  244110131886  2021    06  09  \n",
       "24  1674412481  391154097119  258476713214  2021    06  10  \n",
       "25  1997015135  408104722147  269677776622  2021    06  11  \n",
       "26  1764789345  405801648095  268155893007  2021    06  15  "
      ],
      "text/html": "<div>\n<style scoped>\n    .dataframe tbody tr th:only-of-type {\n        vertical-align: middle;\n    }\n\n    .dataframe tbody tr th {\n        vertical-align: top;\n    }\n\n    .dataframe thead th {\n        text-align: right;\n    }\n</style>\n<table border=\"1\" class=\"dataframe\">\n  <thead>\n    <tr style=\"text-align: right;\">\n      <th></th>\n      <th>收盘价</th>\n      <th>最高价</th>\n      <th>最低价</th>\n      <th>开盘价</th>\n      <th>前收盘</th>\n      <th>涨跌额</th>\n      <th>涨跌幅</th>\n      <th>换手率</th>\n      <th>成交量</th>\n      <th>成交金额</th>\n      <th>总市值</th>\n      <th>流通市值</th>\n      <th>year</th>\n      <th>month</th>\n      <th>day</th>\n    </tr>\n  </thead>\n  <tbody>\n    <tr>\n      <th>0</th>\n      <td>31.24</td>\n      <td>33.03</td>\n      <td>30.45</td>\n      <td>33.03</td>\n      <td>33.03</td>\n      <td>-1.79</td>\n      <td>-5.4193</td>\n      <td>0.5948</td>\n      <td>35994415</td>\n      <td>1139767717</td>\n      <td>287000000000</td>\n      <td>189000000000</td>\n      <td>2021</td>\n      <td>05</td>\n      <td>07</td>\n    </tr>\n    <tr>\n      <th>1</th>\n      <td>31.70</td>\n      <td>32.28</td>\n      <td>30.05</td>\n      <td>30.70</td>\n      <td>31.24</td>\n      <td>0.46</td>\n      <td>1.4725</td>\n      <td>0.4712</td>\n      <td>28515901</td>\n      <td>890904837</td>\n      <td>291000000000</td>\n      <td>192000000000</td>\n      <td>2021</td>\n      <td>05</td>\n      <td>10</td>\n    </tr>\n    <tr>\n      <th>2</th>\n      <td>30.84</td>\n      <td>31.36</td>\n      <td>30.25</td>\n      <td>30.80</td>\n      <td>31.70</td>\n      <td>-0.86</td>\n      <td>-2.7129</td>\n      <td>0.4695</td>\n      <td>28415111</td>\n      <td>873201088</td>\n      <td>283000000000</td>\n      <td>187000000000</td>\n      <td>2021</td>\n      <td>05</td>\n      <td>11</td>\n    </tr>\n    <tr>\n      <th>3</th>\n      <td>31.83</td>\n      <td>32.48</td>\n      <td>30.40</td>\n      <td>30.63</td>\n      <td>30.84</td>\n      <td>0.99</td>\n      <td>3.2101</td>\n      <td>0.5079</td>\n      <td>30736419</td>\n      <td>978244106</td>\n      <td>292000000000</td>\n      <td>193000000000</td>\n      <td>2021</td>\n      <td>05</td>\n      <td>12</td>\n    </tr>\n    <tr>\n      <th>4</th>\n      <td>30.72</td>\n      <td>31.35</td>\n      <td>30.60</td>\n      <td>31.30</td>\n      <td>31.83</td>\n      <td>-1.11</td>\n      <td>-3.4873</td>\n      <td>0.3529</td>\n      <td>21359504</td>\n      <td>659393735</td>\n      <td>282000000000</td>\n      <td>186000000000</td>\n      <td>2021</td>\n      <td>05</td>\n      <td>13</td>\n    </tr>\n    <tr>\n      <th>5</th>\n      <td>30.74</td>\n      <td>31.23</td>\n      <td>30.41</td>\n      <td>30.50</td>\n      <td>30.72</td>\n      <td>0.02</td>\n      <td>0.0651</td>\n      <td>0.3594</td>\n      <td>21797855</td>\n      <td>672163739</td>\n      <td>282000000000</td>\n      <td>186000000000</td>\n      <td>2021</td>\n      <td>05</td>\n      <td>14</td>\n    </tr>\n    <tr>\n      <th>6</th>\n      <td>33.11</td>\n      <td>33.33</td>\n      <td>30.77</td>\n      <td>30.85</td>\n      <td>30.74</td>\n      <td>2.37</td>\n      <td>7.7098</td>\n      <td>0.7926</td>\n      <td>48068344</td>\n      <td>1549542682</td>\n      <td>304000000000</td>\n      <td>201000000000</td>\n      <td>2021</td>\n      <td>05</td>\n      <td>17</td>\n    </tr>\n    <tr>\n      <th>7</th>\n      <td>32.49</td>\n      <td>33.06</td>\n      <td>32.10</td>\n      <td>33.06</td>\n      <td>33.11</td>\n      <td>-0.62</td>\n      <td>-1.8725</td>\n      <td>0.4193</td>\n      <td>25428275</td>\n      <td>824180027</td>\n      <td>299000000000</td>\n      <td>197000000000</td>\n      <td>2021</td>\n      <td>05</td>\n      <td>18</td>\n    </tr>\n    <tr>\n      <th>8</th>\n      <td>34.46</td>\n      <td>35.24</td>\n      <td>32.12</td>\n      <td>32.28</td>\n      <td>32.49</td>\n      <td>1.97</td>\n      <td>6.0634</td>\n      <td>0.8964</td>\n      <td>54366496</td>\n      <td>1858229383</td>\n      <td>317000000000</td>\n      <td>209000000000</td>\n      <td>2021</td>\n      <td>05</td>\n      <td>19</td>\n    </tr>\n    <tr>\n      <th>9</th>\n      <td>34.37</td>\n      <td>35.83</td>\n      <td>33.88</td>\n      <td>34.60</td>\n      <td>34.46</td>\n      <td>-0.09</td>\n      <td>-0.2612</td>\n      <td>0.7913</td>\n      <td>47991501</td>\n      <td>1677436108</td>\n      <td>316000000000</td>\n      <td>208000000000</td>\n      <td>2021</td>\n      <td>05</td>\n      <td>20</td>\n    </tr>\n    <tr>\n      <th>10</th>\n      <td>34.14</td>\n      <td>35.00</td>\n      <td>33.20</td>\n      <td>34.38</td>\n      <td>34.37</td>\n      <td>-0.23</td>\n      <td>-0.6692</td>\n      <td>0.6804</td>\n      <td>41262518</td>\n      <td>1409092494</td>\n      <td>314000000000</td>\n      <td>207000000000</td>\n      <td>2021</td>\n      <td>05</td>\n      <td>21</td>\n    </tr>\n    <tr>\n      <th>11</th>\n      <td>33.95</td>\n      <td>34.27</td>\n      <td>32.86</td>\n      <td>33.56</td>\n      <td>34.14</td>\n      <td>-0.19</td>\n      <td>-0.5565</td>\n      <td>0.4311</td>\n      <td>26146217</td>\n      <td>877436746</td>\n      <td>312000000000</td>\n      <td>206000000000</td>\n      <td>2021</td>\n      <td>05</td>\n      <td>24</td>\n    </tr>\n    <tr>\n      <th>12</th>\n      <td>35.30</td>\n      <td>35.75</td>\n      <td>33.47</td>\n      <td>33.90</td>\n      <td>33.95</td>\n      <td>1.35</td>\n      <td>3.9764</td>\n      <td>0.6713</td>\n      <td>40715103</td>\n      <td>1418037048</td>\n      <td>324000000000</td>\n      <td>214000000000</td>\n      <td>2021</td>\n      <td>05</td>\n      <td>25</td>\n    </tr>\n    <tr>\n      <th>13</th>\n      <td>37.03</td>\n      <td>38.83</td>\n      <td>36.13</td>\n      <td>36.13</td>\n      <td>35.30</td>\n      <td>1.73</td>\n      <td>4.9008</td>\n      <td>1.0620</td>\n      <td>64408479</td>\n      <td>2442652483</td>\n      <td>340000000000</td>\n      <td>225000000000</td>\n      <td>2021</td>\n      <td>05</td>\n      <td>26</td>\n    </tr>\n    <tr>\n      <th>14</th>\n      <td>36.35</td>\n      <td>37.60</td>\n      <td>36.08</td>\n      <td>37.54</td>\n      <td>37.03</td>\n      <td>-0.68</td>\n      <td>-1.8363</td>\n      <td>0.5543</td>\n      <td>33616735</td>\n      <td>1228253202</td>\n      <td>334000000000</td>\n      <td>220000000000</td>\n      <td>2021</td>\n      <td>05</td>\n      <td>27</td>\n    </tr>\n    <tr>\n      <th>15</th>\n      <td>36.75</td>\n      <td>38.00</td>\n      <td>35.56</td>\n      <td>36.00</td>\n      <td>36.35</td>\n      <td>0.40</td>\n      <td>1.1004</td>\n      <td>0.5839</td>\n      <td>35412050</td>\n      <td>1309353618</td>\n      <td>338000000000</td>\n      <td>223000000000</td>\n      <td>2021</td>\n      <td>05</td>\n      <td>28</td>\n    </tr>\n    <tr>\n      <th>16</th>\n      <td>36.99</td>\n      <td>37.10</td>\n      <td>35.19</td>\n      <td>36.72</td>\n      <td>36.75</td>\n      <td>0.24</td>\n      <td>0.6531</td>\n      <td>0.4609</td>\n      <td>27955794</td>\n      <td>1013969083</td>\n      <td>340000000000</td>\n      <td>224000000000</td>\n      <td>2021</td>\n      <td>05</td>\n      <td>31</td>\n    </tr>\n    <tr>\n      <th>17</th>\n      <td>37.66</td>\n      <td>38.25</td>\n      <td>36.18</td>\n      <td>36.90</td>\n      <td>36.99</td>\n      <td>0.67</td>\n      <td>1.8113</td>\n      <td>0.5160</td>\n      <td>31294833</td>\n      <td>1173946132</td>\n      <td>346000000000</td>\n      <td>228000000000</td>\n      <td>2021</td>\n      <td>06</td>\n      <td>01</td>\n    </tr>\n    <tr>\n      <th>18</th>\n      <td>38.20</td>\n      <td>39.55</td>\n      <td>37.81</td>\n      <td>37.81</td>\n      <td>37.66</td>\n      <td>0.54</td>\n      <td>1.4339</td>\n      <td>0.6561</td>\n      <td>39941554</td>\n      <td>1543864212</td>\n      <td>352000000000</td>\n      <td>233000000000</td>\n      <td>2021</td>\n      <td>06</td>\n      <td>02</td>\n    </tr>\n    <tr>\n      <th>19</th>\n      <td>37.61</td>\n      <td>39.60</td>\n      <td>37.57</td>\n      <td>39.00</td>\n      <td>38.20</td>\n      <td>-0.59</td>\n      <td>-1.5445</td>\n      <td>0.4870</td>\n      <td>29645635</td>\n      <td>1139992041</td>\n      <td>346474460496</td>\n      <td>228952171078</td>\n      <td>2021</td>\n      <td>06</td>\n      <td>03</td>\n    </tr>\n    <tr>\n      <th>20</th>\n      <td>38.60</td>\n      <td>38.91</td>\n      <td>36.81</td>\n      <td>37.49</td>\n      <td>37.61</td>\n      <td>0.99</td>\n      <td>2.6323</td>\n      <td>0.4970</td>\n      <td>30254779</td>\n      <td>1154641866</td>\n      <td>355594633745</td>\n      <td>234978830195</td>\n      <td>2021</td>\n      <td>06</td>\n      <td>04</td>\n    </tr>\n    <tr>\n      <th>21</th>\n      <td>38.19</td>\n      <td>39.20</td>\n      <td>37.90</td>\n      <td>38.60</td>\n      <td>38.60</td>\n      <td>-0.41</td>\n      <td>-1.0622</td>\n      <td>0.3491</td>\n      <td>21254590</td>\n      <td>815842098</td>\n      <td>351817592298</td>\n      <td>232482941066</td>\n      <td>2021</td>\n      <td>06</td>\n      <td>07</td>\n    </tr>\n    <tr>\n      <th>22</th>\n      <td>39.73</td>\n      <td>40.03</td>\n      <td>38.38</td>\n      <td>38.38</td>\n      <td>38.19</td>\n      <td>1.54</td>\n      <td>4.0325</td>\n      <td>0.5728</td>\n      <td>34869007</td>\n      <td>1378158779</td>\n      <td>366004528463</td>\n      <td>241857744136</td>\n      <td>2021</td>\n      <td>06</td>\n      <td>08</td>\n    </tr>\n    <tr>\n      <th>23</th>\n      <td>40.10</td>\n      <td>40.44</td>\n      <td>38.21</td>\n      <td>38.70</td>\n      <td>39.73</td>\n      <td>0.37</td>\n      <td>0.9313</td>\n      <td>0.4818</td>\n      <td>29332769</td>\n      <td>1156765735</td>\n      <td>369413078061</td>\n      <td>244110131886</td>\n      <td>2021</td>\n      <td>06</td>\n      <td>09</td>\n    </tr>\n    <tr>\n      <th>24</th>\n      <td>42.46</td>\n      <td>43.16</td>\n      <td>39.51</td>\n      <td>39.77</td>\n      <td>40.10</td>\n      <td>2.36</td>\n      <td>5.8853</td>\n      <td>0.6570</td>\n      <td>39997825</td>\n      <td>1674412481</td>\n      <td>391154097119</td>\n      <td>258476713214</td>\n      <td>2021</td>\n      <td>06</td>\n      <td>10</td>\n    </tr>\n    <tr>\n      <th>25</th>\n      <td>44.30</td>\n      <td>45.50</td>\n      <td>41.60</td>\n      <td>42.01</td>\n      <td>42.46</td>\n      <td>1.84</td>\n      <td>4.3335</td>\n      <td>0.7490</td>\n      <td>45595279</td>\n      <td>1997015135</td>\n      <td>408104722147</td>\n      <td>269677776622</td>\n      <td>2021</td>\n      <td>06</td>\n      <td>11</td>\n    </tr>\n    <tr>\n      <th>26</th>\n      <td>44.05</td>\n      <td>46.30</td>\n      <td>43.33</td>\n      <td>44.60</td>\n      <td>44.30</td>\n      <td>-0.25</td>\n      <td>-0.5643</td>\n      <td>0.6480</td>\n      <td>39449653</td>\n      <td>1764789345</td>\n      <td>405801648095</td>\n      <td>268155893007</td>\n      <td>2021</td>\n      <td>06</td>\n      <td>15</td>\n    </tr>\n  </tbody>\n</table>\n</div>"
     },
     "metadata": {},
     "execution_count": 76
    }
   ],
   "source": [
    "wtsw_p.loc[wtsw_p[r\"涨跌额\"] == '--',r\"涨跌额\"] = '0'\n",
    "wtsw_p[r\"涨跌额\"] = wtsw_p[r\"涨跌额\"].astype(\"float\")\n",
    "wtsw_p.loc[wtsw_p[r\"涨跌幅\"] == '--',r\"涨跌幅\"] = '0'\n",
    "wtsw_p[r\"涨跌幅\"] = wtsw_p[r\"涨跌幅\"].astype(\"float\")\n",
    "wtsw_p.loc[wtsw_p[r\"前收盘\"] == '--',r\"前收盘\"] = '0'\n",
    "wtsw_p[r\"前收盘\"] = wtsw_p[r\"前收盘\"].astype(\"float\")\n",
    "time = wtsw_p[\"日期\"].apply(lambda x: str(x)).copy()\n",
    "time = time.apply(lambda x:x[:-9]).astype(\"string\")\n",
    "time = time.apply(lambda x:x.split('-'))\n",
    "\n",
    "wtsw_p[\"year\"] = time.apply(lambda x:x[0])\n",
    "wtsw_p[\"month\"] = time.apply(lambda x:x[1])\n",
    "wtsw_p[\"day\"] = time.apply(lambda x:x[2])\n",
    "#time.tolist()\n",
    "wtsw_dt_p = wtsw_p.drop(labels=[\"日期\"],axis=1)\n",
    "wtsw_dt_p"
   ]
  },
  {
   "cell_type": "code",
   "execution_count": 77,
   "id": "cardiac-reducing",
   "metadata": {},
   "outputs": [
    {
     "output_type": "execute_result",
     "data": {
      "text/plain": [
       "      收盘价    最高价    最低价    开盘价    前收盘   涨跌额     涨跌幅     换手率       成交量  \\\n",
       "0   31.24  33.03  30.45  33.03  33.03 -1.79 -5.4193  0.5948  35994415   \n",
       "1   31.70  32.28  30.05  30.70  31.24  0.46  1.4725  0.4712  28515901   \n",
       "2   30.84  31.36  30.25  30.80  31.70 -0.86 -2.7129  0.4695  28415111   \n",
       "3   31.83  32.48  30.40  30.63  30.84  0.99  3.2101  0.5079  30736419   \n",
       "4   30.72  31.35  30.60  31.30  31.83 -1.11 -3.4873  0.3529  21359504   \n",
       "5   30.74  31.23  30.41  30.50  30.72  0.02  0.0651  0.3594  21797855   \n",
       "6   33.11  33.33  30.77  30.85  30.74  2.37  7.7098  0.7926  48068344   \n",
       "7   32.49  33.06  32.10  33.06  33.11 -0.62 -1.8725  0.4193  25428275   \n",
       "8   34.46  35.24  32.12  32.28  32.49  1.97  6.0634  0.8964  54366496   \n",
       "9   34.37  35.83  33.88  34.60  34.46 -0.09 -0.2612  0.7913  47991501   \n",
       "10  34.14  35.00  33.20  34.38  34.37 -0.23 -0.6692  0.6804  41262518   \n",
       "11  33.95  34.27  32.86  33.56  34.14 -0.19 -0.5565  0.4311  26146217   \n",
       "12  35.30  35.75  33.47  33.90  33.95  1.35  3.9764  0.6713  40715103   \n",
       "13  37.03  38.83  36.13  36.13  35.30  1.73  4.9008  1.0620  64408479   \n",
       "14  36.35  37.60  36.08  37.54  37.03 -0.68 -1.8363  0.5543  33616735   \n",
       "15  36.75  38.00  35.56  36.00  36.35  0.40  1.1004  0.5839  35412050   \n",
       "16  36.99  37.10  35.19  36.72  36.75  0.24  0.6531  0.4609  27955794   \n",
       "17  37.66  38.25  36.18  36.90  36.99  0.67  1.8113  0.5160  31294833   \n",
       "18  38.20  39.55  37.81  37.81  37.66  0.54  1.4339  0.6561  39941554   \n",
       "19  37.61  39.60  37.57  39.00  38.20 -0.59 -1.5445  0.4870  29645635   \n",
       "20  38.60  38.91  36.81  37.49  37.61  0.99  2.6323  0.4970  30254779   \n",
       "21  38.19  39.20  37.90  38.60  38.60 -0.41 -1.0622  0.3491  21254590   \n",
       "22  39.73  40.03  38.38  38.38  38.19  1.54  4.0325  0.5728  34869007   \n",
       "23  40.10  40.44  38.21  38.70  39.73  0.37  0.9313  0.4818  29332769   \n",
       "24  42.46  43.16  39.51  39.77  40.10  2.36  5.8853  0.6570  39997825   \n",
       "25  44.30  45.50  41.60  42.01  42.46  1.84  4.3335  0.7490  45595279   \n",
       "26  44.05  46.30  43.33  44.60  44.30 -0.25 -0.5643  0.6480  39449653   \n",
       "\n",
       "          成交金额           总市值          流通市值  year  month  day  \n",
       "0   1139767717  287000000000  189000000000  2021      5    7  \n",
       "1    890904837  291000000000  192000000000  2021      5   10  \n",
       "2    873201088  283000000000  187000000000  2021      5   11  \n",
       "3    978244106  292000000000  193000000000  2021      5   12  \n",
       "4    659393735  282000000000  186000000000  2021      5   13  \n",
       "5    672163739  282000000000  186000000000  2021      5   14  \n",
       "6   1549542682  304000000000  201000000000  2021      5   17  \n",
       "7    824180027  299000000000  197000000000  2021      5   18  \n",
       "8   1858229383  317000000000  209000000000  2021      5   19  \n",
       "9   1677436108  316000000000  208000000000  2021      5   20  \n",
       "10  1409092494  314000000000  207000000000  2021      5   21  \n",
       "11   877436746  312000000000  206000000000  2021      5   24  \n",
       "12  1418037048  324000000000  214000000000  2021      5   25  \n",
       "13  2442652483  340000000000  225000000000  2021      5   26  \n",
       "14  1228253202  334000000000  220000000000  2021      5   27  \n",
       "15  1309353618  338000000000  223000000000  2021      5   28  \n",
       "16  1013969083  340000000000  224000000000  2021      5   31  \n",
       "17  1173946132  346000000000  228000000000  2021      6    1  \n",
       "18  1543864212  352000000000  233000000000  2021      6    2  \n",
       "19  1139992041  346474460496  228952171078  2021      6    3  \n",
       "20  1154641866  355594633745  234978830195  2021      6    4  \n",
       "21   815842098  351817592298  232482941066  2021      6    7  \n",
       "22  1378158779  366004528463  241857744136  2021      6    8  \n",
       "23  1156765735  369413078061  244110131886  2021      6    9  \n",
       "24  1674412481  391154097119  258476713214  2021      6   10  \n",
       "25  1997015135  408104722147  269677776622  2021      6   11  \n",
       "26  1764789345  405801648095  268155893007  2021      6   15  "
      ],
      "text/html": "<div>\n<style scoped>\n    .dataframe tbody tr th:only-of-type {\n        vertical-align: middle;\n    }\n\n    .dataframe tbody tr th {\n        vertical-align: top;\n    }\n\n    .dataframe thead th {\n        text-align: right;\n    }\n</style>\n<table border=\"1\" class=\"dataframe\">\n  <thead>\n    <tr style=\"text-align: right;\">\n      <th></th>\n      <th>收盘价</th>\n      <th>最高价</th>\n      <th>最低价</th>\n      <th>开盘价</th>\n      <th>前收盘</th>\n      <th>涨跌额</th>\n      <th>涨跌幅</th>\n      <th>换手率</th>\n      <th>成交量</th>\n      <th>成交金额</th>\n      <th>总市值</th>\n      <th>流通市值</th>\n      <th>year</th>\n      <th>month</th>\n      <th>day</th>\n    </tr>\n  </thead>\n  <tbody>\n    <tr>\n      <th>0</th>\n      <td>31.24</td>\n      <td>33.03</td>\n      <td>30.45</td>\n      <td>33.03</td>\n      <td>33.03</td>\n      <td>-1.79</td>\n      <td>-5.4193</td>\n      <td>0.5948</td>\n      <td>35994415</td>\n      <td>1139767717</td>\n      <td>287000000000</td>\n      <td>189000000000</td>\n      <td>2021</td>\n      <td>5</td>\n      <td>7</td>\n    </tr>\n    <tr>\n      <th>1</th>\n      <td>31.70</td>\n      <td>32.28</td>\n      <td>30.05</td>\n      <td>30.70</td>\n      <td>31.24</td>\n      <td>0.46</td>\n      <td>1.4725</td>\n      <td>0.4712</td>\n      <td>28515901</td>\n      <td>890904837</td>\n      <td>291000000000</td>\n      <td>192000000000</td>\n      <td>2021</td>\n      <td>5</td>\n      <td>10</td>\n    </tr>\n    <tr>\n      <th>2</th>\n      <td>30.84</td>\n      <td>31.36</td>\n      <td>30.25</td>\n      <td>30.80</td>\n      <td>31.70</td>\n      <td>-0.86</td>\n      <td>-2.7129</td>\n      <td>0.4695</td>\n      <td>28415111</td>\n      <td>873201088</td>\n      <td>283000000000</td>\n      <td>187000000000</td>\n      <td>2021</td>\n      <td>5</td>\n      <td>11</td>\n    </tr>\n    <tr>\n      <th>3</th>\n      <td>31.83</td>\n      <td>32.48</td>\n      <td>30.40</td>\n      <td>30.63</td>\n      <td>30.84</td>\n      <td>0.99</td>\n      <td>3.2101</td>\n      <td>0.5079</td>\n      <td>30736419</td>\n      <td>978244106</td>\n      <td>292000000000</td>\n      <td>193000000000</td>\n      <td>2021</td>\n      <td>5</td>\n      <td>12</td>\n    </tr>\n    <tr>\n      <th>4</th>\n      <td>30.72</td>\n      <td>31.35</td>\n      <td>30.60</td>\n      <td>31.30</td>\n      <td>31.83</td>\n      <td>-1.11</td>\n      <td>-3.4873</td>\n      <td>0.3529</td>\n      <td>21359504</td>\n      <td>659393735</td>\n      <td>282000000000</td>\n      <td>186000000000</td>\n      <td>2021</td>\n      <td>5</td>\n      <td>13</td>\n    </tr>\n    <tr>\n      <th>5</th>\n      <td>30.74</td>\n      <td>31.23</td>\n      <td>30.41</td>\n      <td>30.50</td>\n      <td>30.72</td>\n      <td>0.02</td>\n      <td>0.0651</td>\n      <td>0.3594</td>\n      <td>21797855</td>\n      <td>672163739</td>\n      <td>282000000000</td>\n      <td>186000000000</td>\n      <td>2021</td>\n      <td>5</td>\n      <td>14</td>\n    </tr>\n    <tr>\n      <th>6</th>\n      <td>33.11</td>\n      <td>33.33</td>\n      <td>30.77</td>\n      <td>30.85</td>\n      <td>30.74</td>\n      <td>2.37</td>\n      <td>7.7098</td>\n      <td>0.7926</td>\n      <td>48068344</td>\n      <td>1549542682</td>\n      <td>304000000000</td>\n      <td>201000000000</td>\n      <td>2021</td>\n      <td>5</td>\n      <td>17</td>\n    </tr>\n    <tr>\n      <th>7</th>\n      <td>32.49</td>\n      <td>33.06</td>\n      <td>32.10</td>\n      <td>33.06</td>\n      <td>33.11</td>\n      <td>-0.62</td>\n      <td>-1.8725</td>\n      <td>0.4193</td>\n      <td>25428275</td>\n      <td>824180027</td>\n      <td>299000000000</td>\n      <td>197000000000</td>\n      <td>2021</td>\n      <td>5</td>\n      <td>18</td>\n    </tr>\n    <tr>\n      <th>8</th>\n      <td>34.46</td>\n      <td>35.24</td>\n      <td>32.12</td>\n      <td>32.28</td>\n      <td>32.49</td>\n      <td>1.97</td>\n      <td>6.0634</td>\n      <td>0.8964</td>\n      <td>54366496</td>\n      <td>1858229383</td>\n      <td>317000000000</td>\n      <td>209000000000</td>\n      <td>2021</td>\n      <td>5</td>\n      <td>19</td>\n    </tr>\n    <tr>\n      <th>9</th>\n      <td>34.37</td>\n      <td>35.83</td>\n      <td>33.88</td>\n      <td>34.60</td>\n      <td>34.46</td>\n      <td>-0.09</td>\n      <td>-0.2612</td>\n      <td>0.7913</td>\n      <td>47991501</td>\n      <td>1677436108</td>\n      <td>316000000000</td>\n      <td>208000000000</td>\n      <td>2021</td>\n      <td>5</td>\n      <td>20</td>\n    </tr>\n    <tr>\n      <th>10</th>\n      <td>34.14</td>\n      <td>35.00</td>\n      <td>33.20</td>\n      <td>34.38</td>\n      <td>34.37</td>\n      <td>-0.23</td>\n      <td>-0.6692</td>\n      <td>0.6804</td>\n      <td>41262518</td>\n      <td>1409092494</td>\n      <td>314000000000</td>\n      <td>207000000000</td>\n      <td>2021</td>\n      <td>5</td>\n      <td>21</td>\n    </tr>\n    <tr>\n      <th>11</th>\n      <td>33.95</td>\n      <td>34.27</td>\n      <td>32.86</td>\n      <td>33.56</td>\n      <td>34.14</td>\n      <td>-0.19</td>\n      <td>-0.5565</td>\n      <td>0.4311</td>\n      <td>26146217</td>\n      <td>877436746</td>\n      <td>312000000000</td>\n      <td>206000000000</td>\n      <td>2021</td>\n      <td>5</td>\n      <td>24</td>\n    </tr>\n    <tr>\n      <th>12</th>\n      <td>35.30</td>\n      <td>35.75</td>\n      <td>33.47</td>\n      <td>33.90</td>\n      <td>33.95</td>\n      <td>1.35</td>\n      <td>3.9764</td>\n      <td>0.6713</td>\n      <td>40715103</td>\n      <td>1418037048</td>\n      <td>324000000000</td>\n      <td>214000000000</td>\n      <td>2021</td>\n      <td>5</td>\n      <td>25</td>\n    </tr>\n    <tr>\n      <th>13</th>\n      <td>37.03</td>\n      <td>38.83</td>\n      <td>36.13</td>\n      <td>36.13</td>\n      <td>35.30</td>\n      <td>1.73</td>\n      <td>4.9008</td>\n      <td>1.0620</td>\n      <td>64408479</td>\n      <td>2442652483</td>\n      <td>340000000000</td>\n      <td>225000000000</td>\n      <td>2021</td>\n      <td>5</td>\n      <td>26</td>\n    </tr>\n    <tr>\n      <th>14</th>\n      <td>36.35</td>\n      <td>37.60</td>\n      <td>36.08</td>\n      <td>37.54</td>\n      <td>37.03</td>\n      <td>-0.68</td>\n      <td>-1.8363</td>\n      <td>0.5543</td>\n      <td>33616735</td>\n      <td>1228253202</td>\n      <td>334000000000</td>\n      <td>220000000000</td>\n      <td>2021</td>\n      <td>5</td>\n      <td>27</td>\n    </tr>\n    <tr>\n      <th>15</th>\n      <td>36.75</td>\n      <td>38.00</td>\n      <td>35.56</td>\n      <td>36.00</td>\n      <td>36.35</td>\n      <td>0.40</td>\n      <td>1.1004</td>\n      <td>0.5839</td>\n      <td>35412050</td>\n      <td>1309353618</td>\n      <td>338000000000</td>\n      <td>223000000000</td>\n      <td>2021</td>\n      <td>5</td>\n      <td>28</td>\n    </tr>\n    <tr>\n      <th>16</th>\n      <td>36.99</td>\n      <td>37.10</td>\n      <td>35.19</td>\n      <td>36.72</td>\n      <td>36.75</td>\n      <td>0.24</td>\n      <td>0.6531</td>\n      <td>0.4609</td>\n      <td>27955794</td>\n      <td>1013969083</td>\n      <td>340000000000</td>\n      <td>224000000000</td>\n      <td>2021</td>\n      <td>5</td>\n      <td>31</td>\n    </tr>\n    <tr>\n      <th>17</th>\n      <td>37.66</td>\n      <td>38.25</td>\n      <td>36.18</td>\n      <td>36.90</td>\n      <td>36.99</td>\n      <td>0.67</td>\n      <td>1.8113</td>\n      <td>0.5160</td>\n      <td>31294833</td>\n      <td>1173946132</td>\n      <td>346000000000</td>\n      <td>228000000000</td>\n      <td>2021</td>\n      <td>6</td>\n      <td>1</td>\n    </tr>\n    <tr>\n      <th>18</th>\n      <td>38.20</td>\n      <td>39.55</td>\n      <td>37.81</td>\n      <td>37.81</td>\n      <td>37.66</td>\n      <td>0.54</td>\n      <td>1.4339</td>\n      <td>0.6561</td>\n      <td>39941554</td>\n      <td>1543864212</td>\n      <td>352000000000</td>\n      <td>233000000000</td>\n      <td>2021</td>\n      <td>6</td>\n      <td>2</td>\n    </tr>\n    <tr>\n      <th>19</th>\n      <td>37.61</td>\n      <td>39.60</td>\n      <td>37.57</td>\n      <td>39.00</td>\n      <td>38.20</td>\n      <td>-0.59</td>\n      <td>-1.5445</td>\n      <td>0.4870</td>\n      <td>29645635</td>\n      <td>1139992041</td>\n      <td>346474460496</td>\n      <td>228952171078</td>\n      <td>2021</td>\n      <td>6</td>\n      <td>3</td>\n    </tr>\n    <tr>\n      <th>20</th>\n      <td>38.60</td>\n      <td>38.91</td>\n      <td>36.81</td>\n      <td>37.49</td>\n      <td>37.61</td>\n      <td>0.99</td>\n      <td>2.6323</td>\n      <td>0.4970</td>\n      <td>30254779</td>\n      <td>1154641866</td>\n      <td>355594633745</td>\n      <td>234978830195</td>\n      <td>2021</td>\n      <td>6</td>\n      <td>4</td>\n    </tr>\n    <tr>\n      <th>21</th>\n      <td>38.19</td>\n      <td>39.20</td>\n      <td>37.90</td>\n      <td>38.60</td>\n      <td>38.60</td>\n      <td>-0.41</td>\n      <td>-1.0622</td>\n      <td>0.3491</td>\n      <td>21254590</td>\n      <td>815842098</td>\n      <td>351817592298</td>\n      <td>232482941066</td>\n      <td>2021</td>\n      <td>6</td>\n      <td>7</td>\n    </tr>\n    <tr>\n      <th>22</th>\n      <td>39.73</td>\n      <td>40.03</td>\n      <td>38.38</td>\n      <td>38.38</td>\n      <td>38.19</td>\n      <td>1.54</td>\n      <td>4.0325</td>\n      <td>0.5728</td>\n      <td>34869007</td>\n      <td>1378158779</td>\n      <td>366004528463</td>\n      <td>241857744136</td>\n      <td>2021</td>\n      <td>6</td>\n      <td>8</td>\n    </tr>\n    <tr>\n      <th>23</th>\n      <td>40.10</td>\n      <td>40.44</td>\n      <td>38.21</td>\n      <td>38.70</td>\n      <td>39.73</td>\n      <td>0.37</td>\n      <td>0.9313</td>\n      <td>0.4818</td>\n      <td>29332769</td>\n      <td>1156765735</td>\n      <td>369413078061</td>\n      <td>244110131886</td>\n      <td>2021</td>\n      <td>6</td>\n      <td>9</td>\n    </tr>\n    <tr>\n      <th>24</th>\n      <td>42.46</td>\n      <td>43.16</td>\n      <td>39.51</td>\n      <td>39.77</td>\n      <td>40.10</td>\n      <td>2.36</td>\n      <td>5.8853</td>\n      <td>0.6570</td>\n      <td>39997825</td>\n      <td>1674412481</td>\n      <td>391154097119</td>\n      <td>258476713214</td>\n      <td>2021</td>\n      <td>6</td>\n      <td>10</td>\n    </tr>\n    <tr>\n      <th>25</th>\n      <td>44.30</td>\n      <td>45.50</td>\n      <td>41.60</td>\n      <td>42.01</td>\n      <td>42.46</td>\n      <td>1.84</td>\n      <td>4.3335</td>\n      <td>0.7490</td>\n      <td>45595279</td>\n      <td>1997015135</td>\n      <td>408104722147</td>\n      <td>269677776622</td>\n      <td>2021</td>\n      <td>6</td>\n      <td>11</td>\n    </tr>\n    <tr>\n      <th>26</th>\n      <td>44.05</td>\n      <td>46.30</td>\n      <td>43.33</td>\n      <td>44.60</td>\n      <td>44.30</td>\n      <td>-0.25</td>\n      <td>-0.5643</td>\n      <td>0.6480</td>\n      <td>39449653</td>\n      <td>1764789345</td>\n      <td>405801648095</td>\n      <td>268155893007</td>\n      <td>2021</td>\n      <td>6</td>\n      <td>15</td>\n    </tr>\n  </tbody>\n</table>\n</div>"
     },
     "metadata": {},
     "execution_count": 77
    }
   ],
   "source": [
    "wtsw_dt_p[\"year\"] = wtsw_dt_p[\"year\"].astype(\"int\")\n",
    "wtsw_dt_p[\"month\"] = wtsw_dt_p[\"month\"].astype(\"int\")\n",
    "wtsw_dt_p[\"day\"] = wtsw_dt_p[\"day\"].astype(\"int\")\n",
    "# label = wtsw_dt[r\"涨跌(元)\"][1:wtsw_dt.shape[0]]\n",
    "# label = np.log(wtsw_dt_p[r\"收盘价\"]/wtsw_dt_p[r\"前收盘\"])[1:wtsw_dt_p.shape[0]]\n",
    "# label = label.reset_index(drop = True)\n",
    "wtsw_dtal_p = wtsw_dt_p.copy()\n",
    "# wtsw_dtal_p.drop(index = [len(wtsw_dt_p)-1],inplace=True)\n",
    "# wtsw_dtal_p[\"label\"] = label\n",
    "wtsw_dtal_p"
   ]
  },
  {
   "cell_type": "code",
   "execution_count": 78,
   "id": "opening-sigma",
   "metadata": {},
   "outputs": [
    {
     "output_type": "execute_result",
     "data": {
      "text/plain": [
       "      收盘价    最高价    最低价    开盘价    前收盘   涨跌额     涨跌幅     换手率       成交量  \\\n",
       "0   31.24  33.03  30.45  33.03  33.03 -1.79 -5.4193  0.5948  35994415   \n",
       "1   31.70  32.28  30.05  30.70  31.24  0.46  1.4725  0.4712  28515901   \n",
       "2   30.84  31.36  30.25  30.80  31.70 -0.86 -2.7129  0.4695  28415111   \n",
       "3   31.83  32.48  30.40  30.63  30.84  0.99  3.2101  0.5079  30736419   \n",
       "4   30.72  31.35  30.60  31.30  31.83 -1.11 -3.4873  0.3529  21359504   \n",
       "5   30.74  31.23  30.41  30.50  30.72  0.02  0.0651  0.3594  21797855   \n",
       "6   33.11  33.33  30.77  30.85  30.74  2.37  7.7098  0.7926  48068344   \n",
       "7   32.49  33.06  32.10  33.06  33.11 -0.62 -1.8725  0.4193  25428275   \n",
       "8   34.46  35.24  32.12  32.28  32.49  1.97  6.0634  0.8964  54366496   \n",
       "9   34.37  35.83  33.88  34.60  34.46 -0.09 -0.2612  0.7913  47991501   \n",
       "10  34.14  35.00  33.20  34.38  34.37 -0.23 -0.6692  0.6804  41262518   \n",
       "11  33.95  34.27  32.86  33.56  34.14 -0.19 -0.5565  0.4311  26146217   \n",
       "12  35.30  35.75  33.47  33.90  33.95  1.35  3.9764  0.6713  40715103   \n",
       "13  37.03  38.83  36.13  36.13  35.30  1.73  4.9008  1.0620  64408479   \n",
       "14  36.35  37.60  36.08  37.54  37.03 -0.68 -1.8363  0.5543  33616735   \n",
       "15  36.75  38.00  35.56  36.00  36.35  0.40  1.1004  0.5839  35412050   \n",
       "16  36.99  37.10  35.19  36.72  36.75  0.24  0.6531  0.4609  27955794   \n",
       "17  37.66  38.25  36.18  36.90  36.99  0.67  1.8113  0.5160  31294833   \n",
       "18  38.20  39.55  37.81  37.81  37.66  0.54  1.4339  0.6561  39941554   \n",
       "19  37.61  39.60  37.57  39.00  38.20 -0.59 -1.5445  0.4870  29645635   \n",
       "20  38.60  38.91  36.81  37.49  37.61  0.99  2.6323  0.4970  30254779   \n",
       "21  38.19  39.20  37.90  38.60  38.60 -0.41 -1.0622  0.3491  21254590   \n",
       "22  39.73  40.03  38.38  38.38  38.19  1.54  4.0325  0.5728  34869007   \n",
       "23  40.10  40.44  38.21  38.70  39.73  0.37  0.9313  0.4818  29332769   \n",
       "24  42.46  43.16  39.51  39.77  40.10  2.36  5.8853  0.6570  39997825   \n",
       "25  44.30  45.50  41.60  42.01  42.46  1.84  4.3335  0.7490  45595279   \n",
       "26  44.05  46.30  43.33  44.60  44.30 -0.25 -0.5643  0.6480  39449653   \n",
       "\n",
       "          成交金额  ...   成交量_lag_1   成交量_lag_2   成交量_lag_3   成交量_lag_4  \\\n",
       "0   1139767717  ...         NaN         NaN         NaN         NaN   \n",
       "1    890904837  ...  35994415.0         NaN         NaN         NaN   \n",
       "2    873201088  ...  28515901.0  35994415.0         NaN         NaN   \n",
       "3    978244106  ...  28415111.0  28515901.0  35994415.0         NaN   \n",
       "4    659393735  ...  30736419.0  28415111.0  28515901.0  35994415.0   \n",
       "5    672163739  ...  21359504.0  30736419.0  28415111.0  28515901.0   \n",
       "6   1549542682  ...  21797855.0  21359504.0  30736419.0  28415111.0   \n",
       "7    824180027  ...  48068344.0  21797855.0  21359504.0  30736419.0   \n",
       "8   1858229383  ...  25428275.0  48068344.0  21797855.0  21359504.0   \n",
       "9   1677436108  ...  54366496.0  25428275.0  48068344.0  21797855.0   \n",
       "10  1409092494  ...  47991501.0  54366496.0  25428275.0  48068344.0   \n",
       "11   877436746  ...  41262518.0  47991501.0  54366496.0  25428275.0   \n",
       "12  1418037048  ...  26146217.0  41262518.0  47991501.0  54366496.0   \n",
       "13  2442652483  ...  40715103.0  26146217.0  41262518.0  47991501.0   \n",
       "14  1228253202  ...  64408479.0  40715103.0  26146217.0  41262518.0   \n",
       "15  1309353618  ...  33616735.0  64408479.0  40715103.0  26146217.0   \n",
       "16  1013969083  ...  35412050.0  33616735.0  64408479.0  40715103.0   \n",
       "17  1173946132  ...  27955794.0  35412050.0  33616735.0  64408479.0   \n",
       "18  1543864212  ...  31294833.0  27955794.0  35412050.0  33616735.0   \n",
       "19  1139992041  ...  39941554.0  31294833.0  27955794.0  35412050.0   \n",
       "20  1154641866  ...  29645635.0  39941554.0  31294833.0  27955794.0   \n",
       "21   815842098  ...  30254779.0  29645635.0  39941554.0  31294833.0   \n",
       "22  1378158779  ...  21254590.0  30254779.0  29645635.0  39941554.0   \n",
       "23  1156765735  ...  34869007.0  21254590.0  30254779.0  29645635.0   \n",
       "24  1674412481  ...  29332769.0  34869007.0  21254590.0  30254779.0   \n",
       "25  1997015135  ...  39997825.0  29332769.0  34869007.0  21254590.0   \n",
       "26  1764789345  ...  45595279.0  39997825.0  29332769.0  34869007.0   \n",
       "\n",
       "     成交量_lag_5    流通市值_lag_1    流通市值_lag_2    流通市值_lag_3    流通市值_lag_4  \\\n",
       "0          NaN           NaN           NaN           NaN           NaN   \n",
       "1          NaN  1.890000e+11           NaN           NaN           NaN   \n",
       "2          NaN  1.920000e+11  1.890000e+11           NaN           NaN   \n",
       "3          NaN  1.870000e+11  1.920000e+11  1.890000e+11           NaN   \n",
       "4          NaN  1.930000e+11  1.870000e+11  1.920000e+11  1.890000e+11   \n",
       "5   35994415.0  1.860000e+11  1.930000e+11  1.870000e+11  1.920000e+11   \n",
       "6   28515901.0  1.860000e+11  1.860000e+11  1.930000e+11  1.870000e+11   \n",
       "7   28415111.0  2.010000e+11  1.860000e+11  1.860000e+11  1.930000e+11   \n",
       "8   30736419.0  1.970000e+11  2.010000e+11  1.860000e+11  1.860000e+11   \n",
       "9   21359504.0  2.090000e+11  1.970000e+11  2.010000e+11  1.860000e+11   \n",
       "10  21797855.0  2.080000e+11  2.090000e+11  1.970000e+11  2.010000e+11   \n",
       "11  48068344.0  2.070000e+11  2.080000e+11  2.090000e+11  1.970000e+11   \n",
       "12  25428275.0  2.060000e+11  2.070000e+11  2.080000e+11  2.090000e+11   \n",
       "13  54366496.0  2.140000e+11  2.060000e+11  2.070000e+11  2.080000e+11   \n",
       "14  47991501.0  2.250000e+11  2.140000e+11  2.060000e+11  2.070000e+11   \n",
       "15  41262518.0  2.200000e+11  2.250000e+11  2.140000e+11  2.060000e+11   \n",
       "16  26146217.0  2.230000e+11  2.200000e+11  2.250000e+11  2.140000e+11   \n",
       "17  40715103.0  2.240000e+11  2.230000e+11  2.200000e+11  2.250000e+11   \n",
       "18  64408479.0  2.280000e+11  2.240000e+11  2.230000e+11  2.200000e+11   \n",
       "19  33616735.0  2.330000e+11  2.280000e+11  2.240000e+11  2.230000e+11   \n",
       "20  35412050.0  2.289522e+11  2.330000e+11  2.280000e+11  2.240000e+11   \n",
       "21  27955794.0  2.349788e+11  2.289522e+11  2.330000e+11  2.280000e+11   \n",
       "22  31294833.0  2.324829e+11  2.349788e+11  2.289522e+11  2.330000e+11   \n",
       "23  39941554.0  2.418577e+11  2.324829e+11  2.349788e+11  2.289522e+11   \n",
       "24  29645635.0  2.441101e+11  2.418577e+11  2.324829e+11  2.349788e+11   \n",
       "25  30254779.0  2.584767e+11  2.441101e+11  2.418577e+11  2.324829e+11   \n",
       "26  21254590.0  2.696778e+11  2.584767e+11  2.441101e+11  2.418577e+11   \n",
       "\n",
       "      流通市值_lag_5  \n",
       "0            NaN  \n",
       "1            NaN  \n",
       "2            NaN  \n",
       "3            NaN  \n",
       "4            NaN  \n",
       "5   1.890000e+11  \n",
       "6   1.920000e+11  \n",
       "7   1.870000e+11  \n",
       "8   1.930000e+11  \n",
       "9   1.860000e+11  \n",
       "10  1.860000e+11  \n",
       "11  2.010000e+11  \n",
       "12  1.970000e+11  \n",
       "13  2.090000e+11  \n",
       "14  2.080000e+11  \n",
       "15  2.070000e+11  \n",
       "16  2.060000e+11  \n",
       "17  2.140000e+11  \n",
       "18  2.250000e+11  \n",
       "19  2.200000e+11  \n",
       "20  2.230000e+11  \n",
       "21  2.240000e+11  \n",
       "22  2.280000e+11  \n",
       "23  2.330000e+11  \n",
       "24  2.289522e+11  \n",
       "25  2.349788e+11  \n",
       "26  2.324829e+11  \n",
       "\n",
       "[27 rows x 42 columns]"
      ],
      "text/html": "<div>\n<style scoped>\n    .dataframe tbody tr th:only-of-type {\n        vertical-align: middle;\n    }\n\n    .dataframe tbody tr th {\n        vertical-align: top;\n    }\n\n    .dataframe thead th {\n        text-align: right;\n    }\n</style>\n<table border=\"1\" class=\"dataframe\">\n  <thead>\n    <tr style=\"text-align: right;\">\n      <th></th>\n      <th>收盘价</th>\n      <th>最高价</th>\n      <th>最低价</th>\n      <th>开盘价</th>\n      <th>前收盘</th>\n      <th>涨跌额</th>\n      <th>涨跌幅</th>\n      <th>换手率</th>\n      <th>成交量</th>\n      <th>成交金额</th>\n      <th>...</th>\n      <th>成交量_lag_1</th>\n      <th>成交量_lag_2</th>\n      <th>成交量_lag_3</th>\n      <th>成交量_lag_4</th>\n      <th>成交量_lag_5</th>\n      <th>流通市值_lag_1</th>\n      <th>流通市值_lag_2</th>\n      <th>流通市值_lag_3</th>\n      <th>流通市值_lag_4</th>\n      <th>流通市值_lag_5</th>\n    </tr>\n  </thead>\n  <tbody>\n    <tr>\n      <th>0</th>\n      <td>31.24</td>\n      <td>33.03</td>\n      <td>30.45</td>\n      <td>33.03</td>\n      <td>33.03</td>\n      <td>-1.79</td>\n      <td>-5.4193</td>\n      <td>0.5948</td>\n      <td>35994415</td>\n      <td>1139767717</td>\n      <td>...</td>\n      <td>NaN</td>\n      <td>NaN</td>\n      <td>NaN</td>\n      <td>NaN</td>\n      <td>NaN</td>\n      <td>NaN</td>\n      <td>NaN</td>\n      <td>NaN</td>\n      <td>NaN</td>\n      <td>NaN</td>\n    </tr>\n    <tr>\n      <th>1</th>\n      <td>31.70</td>\n      <td>32.28</td>\n      <td>30.05</td>\n      <td>30.70</td>\n      <td>31.24</td>\n      <td>0.46</td>\n      <td>1.4725</td>\n      <td>0.4712</td>\n      <td>28515901</td>\n      <td>890904837</td>\n      <td>...</td>\n      <td>35994415.0</td>\n      <td>NaN</td>\n      <td>NaN</td>\n      <td>NaN</td>\n      <td>NaN</td>\n      <td>1.890000e+11</td>\n      <td>NaN</td>\n      <td>NaN</td>\n      <td>NaN</td>\n      <td>NaN</td>\n    </tr>\n    <tr>\n      <th>2</th>\n      <td>30.84</td>\n      <td>31.36</td>\n      <td>30.25</td>\n      <td>30.80</td>\n      <td>31.70</td>\n      <td>-0.86</td>\n      <td>-2.7129</td>\n      <td>0.4695</td>\n      <td>28415111</td>\n      <td>873201088</td>\n      <td>...</td>\n      <td>28515901.0</td>\n      <td>35994415.0</td>\n      <td>NaN</td>\n      <td>NaN</td>\n      <td>NaN</td>\n      <td>1.920000e+11</td>\n      <td>1.890000e+11</td>\n      <td>NaN</td>\n      <td>NaN</td>\n      <td>NaN</td>\n    </tr>\n    <tr>\n      <th>3</th>\n      <td>31.83</td>\n      <td>32.48</td>\n      <td>30.40</td>\n      <td>30.63</td>\n      <td>30.84</td>\n      <td>0.99</td>\n      <td>3.2101</td>\n      <td>0.5079</td>\n      <td>30736419</td>\n      <td>978244106</td>\n      <td>...</td>\n      <td>28415111.0</td>\n      <td>28515901.0</td>\n      <td>35994415.0</td>\n      <td>NaN</td>\n      <td>NaN</td>\n      <td>1.870000e+11</td>\n      <td>1.920000e+11</td>\n      <td>1.890000e+11</td>\n      <td>NaN</td>\n      <td>NaN</td>\n    </tr>\n    <tr>\n      <th>4</th>\n      <td>30.72</td>\n      <td>31.35</td>\n      <td>30.60</td>\n      <td>31.30</td>\n      <td>31.83</td>\n      <td>-1.11</td>\n      <td>-3.4873</td>\n      <td>0.3529</td>\n      <td>21359504</td>\n      <td>659393735</td>\n      <td>...</td>\n      <td>30736419.0</td>\n      <td>28415111.0</td>\n      <td>28515901.0</td>\n      <td>35994415.0</td>\n      <td>NaN</td>\n      <td>1.930000e+11</td>\n      <td>1.870000e+11</td>\n      <td>1.920000e+11</td>\n      <td>1.890000e+11</td>\n      <td>NaN</td>\n    </tr>\n    <tr>\n      <th>5</th>\n      <td>30.74</td>\n      <td>31.23</td>\n      <td>30.41</td>\n      <td>30.50</td>\n      <td>30.72</td>\n      <td>0.02</td>\n      <td>0.0651</td>\n      <td>0.3594</td>\n      <td>21797855</td>\n      <td>672163739</td>\n      <td>...</td>\n      <td>21359504.0</td>\n      <td>30736419.0</td>\n      <td>28415111.0</td>\n      <td>28515901.0</td>\n      <td>35994415.0</td>\n      <td>1.860000e+11</td>\n      <td>1.930000e+11</td>\n      <td>1.870000e+11</td>\n      <td>1.920000e+11</td>\n      <td>1.890000e+11</td>\n    </tr>\n    <tr>\n      <th>6</th>\n      <td>33.11</td>\n      <td>33.33</td>\n      <td>30.77</td>\n      <td>30.85</td>\n      <td>30.74</td>\n      <td>2.37</td>\n      <td>7.7098</td>\n      <td>0.7926</td>\n      <td>48068344</td>\n      <td>1549542682</td>\n      <td>...</td>\n      <td>21797855.0</td>\n      <td>21359504.0</td>\n      <td>30736419.0</td>\n      <td>28415111.0</td>\n      <td>28515901.0</td>\n      <td>1.860000e+11</td>\n      <td>1.860000e+11</td>\n      <td>1.930000e+11</td>\n      <td>1.870000e+11</td>\n      <td>1.920000e+11</td>\n    </tr>\n    <tr>\n      <th>7</th>\n      <td>32.49</td>\n      <td>33.06</td>\n      <td>32.10</td>\n      <td>33.06</td>\n      <td>33.11</td>\n      <td>-0.62</td>\n      <td>-1.8725</td>\n      <td>0.4193</td>\n      <td>25428275</td>\n      <td>824180027</td>\n      <td>...</td>\n      <td>48068344.0</td>\n      <td>21797855.0</td>\n      <td>21359504.0</td>\n      <td>30736419.0</td>\n      <td>28415111.0</td>\n      <td>2.010000e+11</td>\n      <td>1.860000e+11</td>\n      <td>1.860000e+11</td>\n      <td>1.930000e+11</td>\n      <td>1.870000e+11</td>\n    </tr>\n    <tr>\n      <th>8</th>\n      <td>34.46</td>\n      <td>35.24</td>\n      <td>32.12</td>\n      <td>32.28</td>\n      <td>32.49</td>\n      <td>1.97</td>\n      <td>6.0634</td>\n      <td>0.8964</td>\n      <td>54366496</td>\n      <td>1858229383</td>\n      <td>...</td>\n      <td>25428275.0</td>\n      <td>48068344.0</td>\n      <td>21797855.0</td>\n      <td>21359504.0</td>\n      <td>30736419.0</td>\n      <td>1.970000e+11</td>\n      <td>2.010000e+11</td>\n      <td>1.860000e+11</td>\n      <td>1.860000e+11</td>\n      <td>1.930000e+11</td>\n    </tr>\n    <tr>\n      <th>9</th>\n      <td>34.37</td>\n      <td>35.83</td>\n      <td>33.88</td>\n      <td>34.60</td>\n      <td>34.46</td>\n      <td>-0.09</td>\n      <td>-0.2612</td>\n      <td>0.7913</td>\n      <td>47991501</td>\n      <td>1677436108</td>\n      <td>...</td>\n      <td>54366496.0</td>\n      <td>25428275.0</td>\n      <td>48068344.0</td>\n      <td>21797855.0</td>\n      <td>21359504.0</td>\n      <td>2.090000e+11</td>\n      <td>1.970000e+11</td>\n      <td>2.010000e+11</td>\n      <td>1.860000e+11</td>\n      <td>1.860000e+11</td>\n    </tr>\n    <tr>\n      <th>10</th>\n      <td>34.14</td>\n      <td>35.00</td>\n      <td>33.20</td>\n      <td>34.38</td>\n      <td>34.37</td>\n      <td>-0.23</td>\n      <td>-0.6692</td>\n      <td>0.6804</td>\n      <td>41262518</td>\n      <td>1409092494</td>\n      <td>...</td>\n      <td>47991501.0</td>\n      <td>54366496.0</td>\n      <td>25428275.0</td>\n      <td>48068344.0</td>\n      <td>21797855.0</td>\n      <td>2.080000e+11</td>\n      <td>2.090000e+11</td>\n      <td>1.970000e+11</td>\n      <td>2.010000e+11</td>\n      <td>1.860000e+11</td>\n    </tr>\n    <tr>\n      <th>11</th>\n      <td>33.95</td>\n      <td>34.27</td>\n      <td>32.86</td>\n      <td>33.56</td>\n      <td>34.14</td>\n      <td>-0.19</td>\n      <td>-0.5565</td>\n      <td>0.4311</td>\n      <td>26146217</td>\n      <td>877436746</td>\n      <td>...</td>\n      <td>41262518.0</td>\n      <td>47991501.0</td>\n      <td>54366496.0</td>\n      <td>25428275.0</td>\n      <td>48068344.0</td>\n      <td>2.070000e+11</td>\n      <td>2.080000e+11</td>\n      <td>2.090000e+11</td>\n      <td>1.970000e+11</td>\n      <td>2.010000e+11</td>\n    </tr>\n    <tr>\n      <th>12</th>\n      <td>35.30</td>\n      <td>35.75</td>\n      <td>33.47</td>\n      <td>33.90</td>\n      <td>33.95</td>\n      <td>1.35</td>\n      <td>3.9764</td>\n      <td>0.6713</td>\n      <td>40715103</td>\n      <td>1418037048</td>\n      <td>...</td>\n      <td>26146217.0</td>\n      <td>41262518.0</td>\n      <td>47991501.0</td>\n      <td>54366496.0</td>\n      <td>25428275.0</td>\n      <td>2.060000e+11</td>\n      <td>2.070000e+11</td>\n      <td>2.080000e+11</td>\n      <td>2.090000e+11</td>\n      <td>1.970000e+11</td>\n    </tr>\n    <tr>\n      <th>13</th>\n      <td>37.03</td>\n      <td>38.83</td>\n      <td>36.13</td>\n      <td>36.13</td>\n      <td>35.30</td>\n      <td>1.73</td>\n      <td>4.9008</td>\n      <td>1.0620</td>\n      <td>64408479</td>\n      <td>2442652483</td>\n      <td>...</td>\n      <td>40715103.0</td>\n      <td>26146217.0</td>\n      <td>41262518.0</td>\n      <td>47991501.0</td>\n      <td>54366496.0</td>\n      <td>2.140000e+11</td>\n      <td>2.060000e+11</td>\n      <td>2.070000e+11</td>\n      <td>2.080000e+11</td>\n      <td>2.090000e+11</td>\n    </tr>\n    <tr>\n      <th>14</th>\n      <td>36.35</td>\n      <td>37.60</td>\n      <td>36.08</td>\n      <td>37.54</td>\n      <td>37.03</td>\n      <td>-0.68</td>\n      <td>-1.8363</td>\n      <td>0.5543</td>\n      <td>33616735</td>\n      <td>1228253202</td>\n      <td>...</td>\n      <td>64408479.0</td>\n      <td>40715103.0</td>\n      <td>26146217.0</td>\n      <td>41262518.0</td>\n      <td>47991501.0</td>\n      <td>2.250000e+11</td>\n      <td>2.140000e+11</td>\n      <td>2.060000e+11</td>\n      <td>2.070000e+11</td>\n      <td>2.080000e+11</td>\n    </tr>\n    <tr>\n      <th>15</th>\n      <td>36.75</td>\n      <td>38.00</td>\n      <td>35.56</td>\n      <td>36.00</td>\n      <td>36.35</td>\n      <td>0.40</td>\n      <td>1.1004</td>\n      <td>0.5839</td>\n      <td>35412050</td>\n      <td>1309353618</td>\n      <td>...</td>\n      <td>33616735.0</td>\n      <td>64408479.0</td>\n      <td>40715103.0</td>\n      <td>26146217.0</td>\n      <td>41262518.0</td>\n      <td>2.200000e+11</td>\n      <td>2.250000e+11</td>\n      <td>2.140000e+11</td>\n      <td>2.060000e+11</td>\n      <td>2.070000e+11</td>\n    </tr>\n    <tr>\n      <th>16</th>\n      <td>36.99</td>\n      <td>37.10</td>\n      <td>35.19</td>\n      <td>36.72</td>\n      <td>36.75</td>\n      <td>0.24</td>\n      <td>0.6531</td>\n      <td>0.4609</td>\n      <td>27955794</td>\n      <td>1013969083</td>\n      <td>...</td>\n      <td>35412050.0</td>\n      <td>33616735.0</td>\n      <td>64408479.0</td>\n      <td>40715103.0</td>\n      <td>26146217.0</td>\n      <td>2.230000e+11</td>\n      <td>2.200000e+11</td>\n      <td>2.250000e+11</td>\n      <td>2.140000e+11</td>\n      <td>2.060000e+11</td>\n    </tr>\n    <tr>\n      <th>17</th>\n      <td>37.66</td>\n      <td>38.25</td>\n      <td>36.18</td>\n      <td>36.90</td>\n      <td>36.99</td>\n      <td>0.67</td>\n      <td>1.8113</td>\n      <td>0.5160</td>\n      <td>31294833</td>\n      <td>1173946132</td>\n      <td>...</td>\n      <td>27955794.0</td>\n      <td>35412050.0</td>\n      <td>33616735.0</td>\n      <td>64408479.0</td>\n      <td>40715103.0</td>\n      <td>2.240000e+11</td>\n      <td>2.230000e+11</td>\n      <td>2.200000e+11</td>\n      <td>2.250000e+11</td>\n      <td>2.140000e+11</td>\n    </tr>\n    <tr>\n      <th>18</th>\n      <td>38.20</td>\n      <td>39.55</td>\n      <td>37.81</td>\n      <td>37.81</td>\n      <td>37.66</td>\n      <td>0.54</td>\n      <td>1.4339</td>\n      <td>0.6561</td>\n      <td>39941554</td>\n      <td>1543864212</td>\n      <td>...</td>\n      <td>31294833.0</td>\n      <td>27955794.0</td>\n      <td>35412050.0</td>\n      <td>33616735.0</td>\n      <td>64408479.0</td>\n      <td>2.280000e+11</td>\n      <td>2.240000e+11</td>\n      <td>2.230000e+11</td>\n      <td>2.200000e+11</td>\n      <td>2.250000e+11</td>\n    </tr>\n    <tr>\n      <th>19</th>\n      <td>37.61</td>\n      <td>39.60</td>\n      <td>37.57</td>\n      <td>39.00</td>\n      <td>38.20</td>\n      <td>-0.59</td>\n      <td>-1.5445</td>\n      <td>0.4870</td>\n      <td>29645635</td>\n      <td>1139992041</td>\n      <td>...</td>\n      <td>39941554.0</td>\n      <td>31294833.0</td>\n      <td>27955794.0</td>\n      <td>35412050.0</td>\n      <td>33616735.0</td>\n      <td>2.330000e+11</td>\n      <td>2.280000e+11</td>\n      <td>2.240000e+11</td>\n      <td>2.230000e+11</td>\n      <td>2.200000e+11</td>\n    </tr>\n    <tr>\n      <th>20</th>\n      <td>38.60</td>\n      <td>38.91</td>\n      <td>36.81</td>\n      <td>37.49</td>\n      <td>37.61</td>\n      <td>0.99</td>\n      <td>2.6323</td>\n      <td>0.4970</td>\n      <td>30254779</td>\n      <td>1154641866</td>\n      <td>...</td>\n      <td>29645635.0</td>\n      <td>39941554.0</td>\n      <td>31294833.0</td>\n      <td>27955794.0</td>\n      <td>35412050.0</td>\n      <td>2.289522e+11</td>\n      <td>2.330000e+11</td>\n      <td>2.280000e+11</td>\n      <td>2.240000e+11</td>\n      <td>2.230000e+11</td>\n    </tr>\n    <tr>\n      <th>21</th>\n      <td>38.19</td>\n      <td>39.20</td>\n      <td>37.90</td>\n      <td>38.60</td>\n      <td>38.60</td>\n      <td>-0.41</td>\n      <td>-1.0622</td>\n      <td>0.3491</td>\n      <td>21254590</td>\n      <td>815842098</td>\n      <td>...</td>\n      <td>30254779.0</td>\n      <td>29645635.0</td>\n      <td>39941554.0</td>\n      <td>31294833.0</td>\n      <td>27955794.0</td>\n      <td>2.349788e+11</td>\n      <td>2.289522e+11</td>\n      <td>2.330000e+11</td>\n      <td>2.280000e+11</td>\n      <td>2.240000e+11</td>\n    </tr>\n    <tr>\n      <th>22</th>\n      <td>39.73</td>\n      <td>40.03</td>\n      <td>38.38</td>\n      <td>38.38</td>\n      <td>38.19</td>\n      <td>1.54</td>\n      <td>4.0325</td>\n      <td>0.5728</td>\n      <td>34869007</td>\n      <td>1378158779</td>\n      <td>...</td>\n      <td>21254590.0</td>\n      <td>30254779.0</td>\n      <td>29645635.0</td>\n      <td>39941554.0</td>\n      <td>31294833.0</td>\n      <td>2.324829e+11</td>\n      <td>2.349788e+11</td>\n      <td>2.289522e+11</td>\n      <td>2.330000e+11</td>\n      <td>2.280000e+11</td>\n    </tr>\n    <tr>\n      <th>23</th>\n      <td>40.10</td>\n      <td>40.44</td>\n      <td>38.21</td>\n      <td>38.70</td>\n      <td>39.73</td>\n      <td>0.37</td>\n      <td>0.9313</td>\n      <td>0.4818</td>\n      <td>29332769</td>\n      <td>1156765735</td>\n      <td>...</td>\n      <td>34869007.0</td>\n      <td>21254590.0</td>\n      <td>30254779.0</td>\n      <td>29645635.0</td>\n      <td>39941554.0</td>\n      <td>2.418577e+11</td>\n      <td>2.324829e+11</td>\n      <td>2.349788e+11</td>\n      <td>2.289522e+11</td>\n      <td>2.330000e+11</td>\n    </tr>\n    <tr>\n      <th>24</th>\n      <td>42.46</td>\n      <td>43.16</td>\n      <td>39.51</td>\n      <td>39.77</td>\n      <td>40.10</td>\n      <td>2.36</td>\n      <td>5.8853</td>\n      <td>0.6570</td>\n      <td>39997825</td>\n      <td>1674412481</td>\n      <td>...</td>\n      <td>29332769.0</td>\n      <td>34869007.0</td>\n      <td>21254590.0</td>\n      <td>30254779.0</td>\n      <td>29645635.0</td>\n      <td>2.441101e+11</td>\n      <td>2.418577e+11</td>\n      <td>2.324829e+11</td>\n      <td>2.349788e+11</td>\n      <td>2.289522e+11</td>\n    </tr>\n    <tr>\n      <th>25</th>\n      <td>44.30</td>\n      <td>45.50</td>\n      <td>41.60</td>\n      <td>42.01</td>\n      <td>42.46</td>\n      <td>1.84</td>\n      <td>4.3335</td>\n      <td>0.7490</td>\n      <td>45595279</td>\n      <td>1997015135</td>\n      <td>...</td>\n      <td>39997825.0</td>\n      <td>29332769.0</td>\n      <td>34869007.0</td>\n      <td>21254590.0</td>\n      <td>30254779.0</td>\n      <td>2.584767e+11</td>\n      <td>2.441101e+11</td>\n      <td>2.418577e+11</td>\n      <td>2.324829e+11</td>\n      <td>2.349788e+11</td>\n    </tr>\n    <tr>\n      <th>26</th>\n      <td>44.05</td>\n      <td>46.30</td>\n      <td>43.33</td>\n      <td>44.60</td>\n      <td>44.30</td>\n      <td>-0.25</td>\n      <td>-0.5643</td>\n      <td>0.6480</td>\n      <td>39449653</td>\n      <td>1764789345</td>\n      <td>...</td>\n      <td>45595279.0</td>\n      <td>39997825.0</td>\n      <td>29332769.0</td>\n      <td>34869007.0</td>\n      <td>21254590.0</td>\n      <td>2.696778e+11</td>\n      <td>2.584767e+11</td>\n      <td>2.441101e+11</td>\n      <td>2.418577e+11</td>\n      <td>2.324829e+11</td>\n    </tr>\n  </tbody>\n</table>\n<p>27 rows × 42 columns</p>\n</div>"
     },
     "metadata": {},
     "execution_count": 78
    }
   ],
   "source": [
    "# 特征工程\n",
    "wtsw_fe_p = wtsw_dtal_p.copy()\n",
    "wtsw_fe_p['range_hl'] = wtsw_fe_p[r\"最高价\"] - wtsw_fe_p[r\"最低价\"]\n",
    "wtsw_fe_p['range_oc'] = wtsw_fe_p[r\"开盘价\"] - wtsw_fe_p[r\"收盘价\"]\n",
    "\n",
    "## 把前几天的数据放进来当作当天属性\n",
    "N = 5\n",
    "lag_cols = [r'收盘价', 'range_hl', 'range_oc',r'成交量',r'流通市值']\n",
    "shift_range = [x + 1 for x in range(N)]\n",
    "for col in lag_cols:\n",
    "    for i in shift_range:\n",
    "        new_col='{}_lag_{}'.format(col, i)   # 格式化字符串\n",
    "        wtsw_fe_p[new_col]=wtsw_fe_p[col].shift(i)\n",
    "\n",
    "wtsw_fe_p"
   ]
  },
  {
   "cell_type": "code",
   "execution_count": 79,
   "id": "amended-lounge",
   "metadata": {},
   "outputs": [
    {
     "output_type": "execute_result",
     "data": {
      "text/plain": [
       "      收盘价    最高价    最低价    开盘价    前收盘   涨跌额     涨跌幅     换手率       成交量  \\\n",
       "5   30.74  31.23  30.41  30.50  30.72  0.02  0.0651  0.3594  21797855   \n",
       "6   33.11  33.33  30.77  30.85  30.74  2.37  7.7098  0.7926  48068344   \n",
       "7   32.49  33.06  32.10  33.06  33.11 -0.62 -1.8725  0.4193  25428275   \n",
       "8   34.46  35.24  32.12  32.28  32.49  1.97  6.0634  0.8964  54366496   \n",
       "9   34.37  35.83  33.88  34.60  34.46 -0.09 -0.2612  0.7913  47991501   \n",
       "10  34.14  35.00  33.20  34.38  34.37 -0.23 -0.6692  0.6804  41262518   \n",
       "11  33.95  34.27  32.86  33.56  34.14 -0.19 -0.5565  0.4311  26146217   \n",
       "12  35.30  35.75  33.47  33.90  33.95  1.35  3.9764  0.6713  40715103   \n",
       "13  37.03  38.83  36.13  36.13  35.30  1.73  4.9008  1.0620  64408479   \n",
       "14  36.35  37.60  36.08  37.54  37.03 -0.68 -1.8363  0.5543  33616735   \n",
       "15  36.75  38.00  35.56  36.00  36.35  0.40  1.1004  0.5839  35412050   \n",
       "16  36.99  37.10  35.19  36.72  36.75  0.24  0.6531  0.4609  27955794   \n",
       "17  37.66  38.25  36.18  36.90  36.99  0.67  1.8113  0.5160  31294833   \n",
       "18  38.20  39.55  37.81  37.81  37.66  0.54  1.4339  0.6561  39941554   \n",
       "19  37.61  39.60  37.57  39.00  38.20 -0.59 -1.5445  0.4870  29645635   \n",
       "20  38.60  38.91  36.81  37.49  37.61  0.99  2.6323  0.4970  30254779   \n",
       "21  38.19  39.20  37.90  38.60  38.60 -0.41 -1.0622  0.3491  21254590   \n",
       "22  39.73  40.03  38.38  38.38  38.19  1.54  4.0325  0.5728  34869007   \n",
       "23  40.10  40.44  38.21  38.70  39.73  0.37  0.9313  0.4818  29332769   \n",
       "24  42.46  43.16  39.51  39.77  40.10  2.36  5.8853  0.6570  39997825   \n",
       "25  44.30  45.50  41.60  42.01  42.46  1.84  4.3335  0.7490  45595279   \n",
       "26  44.05  46.30  43.33  44.60  44.30 -0.25 -0.5643  0.6480  39449653   \n",
       "\n",
       "          成交金额  ...   成交量_lag_1   成交量_lag_2   成交量_lag_3   成交量_lag_4  \\\n",
       "5    672163739  ...  21359504.0  30736419.0  28415111.0  28515901.0   \n",
       "6   1549542682  ...  21797855.0  21359504.0  30736419.0  28415111.0   \n",
       "7    824180027  ...  48068344.0  21797855.0  21359504.0  30736419.0   \n",
       "8   1858229383  ...  25428275.0  48068344.0  21797855.0  21359504.0   \n",
       "9   1677436108  ...  54366496.0  25428275.0  48068344.0  21797855.0   \n",
       "10  1409092494  ...  47991501.0  54366496.0  25428275.0  48068344.0   \n",
       "11   877436746  ...  41262518.0  47991501.0  54366496.0  25428275.0   \n",
       "12  1418037048  ...  26146217.0  41262518.0  47991501.0  54366496.0   \n",
       "13  2442652483  ...  40715103.0  26146217.0  41262518.0  47991501.0   \n",
       "14  1228253202  ...  64408479.0  40715103.0  26146217.0  41262518.0   \n",
       "15  1309353618  ...  33616735.0  64408479.0  40715103.0  26146217.0   \n",
       "16  1013969083  ...  35412050.0  33616735.0  64408479.0  40715103.0   \n",
       "17  1173946132  ...  27955794.0  35412050.0  33616735.0  64408479.0   \n",
       "18  1543864212  ...  31294833.0  27955794.0  35412050.0  33616735.0   \n",
       "19  1139992041  ...  39941554.0  31294833.0  27955794.0  35412050.0   \n",
       "20  1154641866  ...  29645635.0  39941554.0  31294833.0  27955794.0   \n",
       "21   815842098  ...  30254779.0  29645635.0  39941554.0  31294833.0   \n",
       "22  1378158779  ...  21254590.0  30254779.0  29645635.0  39941554.0   \n",
       "23  1156765735  ...  34869007.0  21254590.0  30254779.0  29645635.0   \n",
       "24  1674412481  ...  29332769.0  34869007.0  21254590.0  30254779.0   \n",
       "25  1997015135  ...  39997825.0  29332769.0  34869007.0  21254590.0   \n",
       "26  1764789345  ...  45595279.0  39997825.0  29332769.0  34869007.0   \n",
       "\n",
       "     成交量_lag_5    流通市值_lag_1    流通市值_lag_2    流通市值_lag_3    流通市值_lag_4  \\\n",
       "5   35994415.0  1.860000e+11  1.930000e+11  1.870000e+11  1.920000e+11   \n",
       "6   28515901.0  1.860000e+11  1.860000e+11  1.930000e+11  1.870000e+11   \n",
       "7   28415111.0  2.010000e+11  1.860000e+11  1.860000e+11  1.930000e+11   \n",
       "8   30736419.0  1.970000e+11  2.010000e+11  1.860000e+11  1.860000e+11   \n",
       "9   21359504.0  2.090000e+11  1.970000e+11  2.010000e+11  1.860000e+11   \n",
       "10  21797855.0  2.080000e+11  2.090000e+11  1.970000e+11  2.010000e+11   \n",
       "11  48068344.0  2.070000e+11  2.080000e+11  2.090000e+11  1.970000e+11   \n",
       "12  25428275.0  2.060000e+11  2.070000e+11  2.080000e+11  2.090000e+11   \n",
       "13  54366496.0  2.140000e+11  2.060000e+11  2.070000e+11  2.080000e+11   \n",
       "14  47991501.0  2.250000e+11  2.140000e+11  2.060000e+11  2.070000e+11   \n",
       "15  41262518.0  2.200000e+11  2.250000e+11  2.140000e+11  2.060000e+11   \n",
       "16  26146217.0  2.230000e+11  2.200000e+11  2.250000e+11  2.140000e+11   \n",
       "17  40715103.0  2.240000e+11  2.230000e+11  2.200000e+11  2.250000e+11   \n",
       "18  64408479.0  2.280000e+11  2.240000e+11  2.230000e+11  2.200000e+11   \n",
       "19  33616735.0  2.330000e+11  2.280000e+11  2.240000e+11  2.230000e+11   \n",
       "20  35412050.0  2.289522e+11  2.330000e+11  2.280000e+11  2.240000e+11   \n",
       "21  27955794.0  2.349788e+11  2.289522e+11  2.330000e+11  2.280000e+11   \n",
       "22  31294833.0  2.324829e+11  2.349788e+11  2.289522e+11  2.330000e+11   \n",
       "23  39941554.0  2.418577e+11  2.324829e+11  2.349788e+11  2.289522e+11   \n",
       "24  29645635.0  2.441101e+11  2.418577e+11  2.324829e+11  2.349788e+11   \n",
       "25  30254779.0  2.584767e+11  2.441101e+11  2.418577e+11  2.324829e+11   \n",
       "26  21254590.0  2.696778e+11  2.584767e+11  2.441101e+11  2.418577e+11   \n",
       "\n",
       "      流通市值_lag_5  \n",
       "5   1.890000e+11  \n",
       "6   1.920000e+11  \n",
       "7   1.870000e+11  \n",
       "8   1.930000e+11  \n",
       "9   1.860000e+11  \n",
       "10  1.860000e+11  \n",
       "11  2.010000e+11  \n",
       "12  1.970000e+11  \n",
       "13  2.090000e+11  \n",
       "14  2.080000e+11  \n",
       "15  2.070000e+11  \n",
       "16  2.060000e+11  \n",
       "17  2.140000e+11  \n",
       "18  2.250000e+11  \n",
       "19  2.200000e+11  \n",
       "20  2.230000e+11  \n",
       "21  2.240000e+11  \n",
       "22  2.280000e+11  \n",
       "23  2.330000e+11  \n",
       "24  2.289522e+11  \n",
       "25  2.349788e+11  \n",
       "26  2.324829e+11  \n",
       "\n",
       "[22 rows x 42 columns]"
      ],
      "text/html": "<div>\n<style scoped>\n    .dataframe tbody tr th:only-of-type {\n        vertical-align: middle;\n    }\n\n    .dataframe tbody tr th {\n        vertical-align: top;\n    }\n\n    .dataframe thead th {\n        text-align: right;\n    }\n</style>\n<table border=\"1\" class=\"dataframe\">\n  <thead>\n    <tr style=\"text-align: right;\">\n      <th></th>\n      <th>收盘价</th>\n      <th>最高价</th>\n      <th>最低价</th>\n      <th>开盘价</th>\n      <th>前收盘</th>\n      <th>涨跌额</th>\n      <th>涨跌幅</th>\n      <th>换手率</th>\n      <th>成交量</th>\n      <th>成交金额</th>\n      <th>...</th>\n      <th>成交量_lag_1</th>\n      <th>成交量_lag_2</th>\n      <th>成交量_lag_3</th>\n      <th>成交量_lag_4</th>\n      <th>成交量_lag_5</th>\n      <th>流通市值_lag_1</th>\n      <th>流通市值_lag_2</th>\n      <th>流通市值_lag_3</th>\n      <th>流通市值_lag_4</th>\n      <th>流通市值_lag_5</th>\n    </tr>\n  </thead>\n  <tbody>\n    <tr>\n      <th>5</th>\n      <td>30.74</td>\n      <td>31.23</td>\n      <td>30.41</td>\n      <td>30.50</td>\n      <td>30.72</td>\n      <td>0.02</td>\n      <td>0.0651</td>\n      <td>0.3594</td>\n      <td>21797855</td>\n      <td>672163739</td>\n      <td>...</td>\n      <td>21359504.0</td>\n      <td>30736419.0</td>\n      <td>28415111.0</td>\n      <td>28515901.0</td>\n      <td>35994415.0</td>\n      <td>1.860000e+11</td>\n      <td>1.930000e+11</td>\n      <td>1.870000e+11</td>\n      <td>1.920000e+11</td>\n      <td>1.890000e+11</td>\n    </tr>\n    <tr>\n      <th>6</th>\n      <td>33.11</td>\n      <td>33.33</td>\n      <td>30.77</td>\n      <td>30.85</td>\n      <td>30.74</td>\n      <td>2.37</td>\n      <td>7.7098</td>\n      <td>0.7926</td>\n      <td>48068344</td>\n      <td>1549542682</td>\n      <td>...</td>\n      <td>21797855.0</td>\n      <td>21359504.0</td>\n      <td>30736419.0</td>\n      <td>28415111.0</td>\n      <td>28515901.0</td>\n      <td>1.860000e+11</td>\n      <td>1.860000e+11</td>\n      <td>1.930000e+11</td>\n      <td>1.870000e+11</td>\n      <td>1.920000e+11</td>\n    </tr>\n    <tr>\n      <th>7</th>\n      <td>32.49</td>\n      <td>33.06</td>\n      <td>32.10</td>\n      <td>33.06</td>\n      <td>33.11</td>\n      <td>-0.62</td>\n      <td>-1.8725</td>\n      <td>0.4193</td>\n      <td>25428275</td>\n      <td>824180027</td>\n      <td>...</td>\n      <td>48068344.0</td>\n      <td>21797855.0</td>\n      <td>21359504.0</td>\n      <td>30736419.0</td>\n      <td>28415111.0</td>\n      <td>2.010000e+11</td>\n      <td>1.860000e+11</td>\n      <td>1.860000e+11</td>\n      <td>1.930000e+11</td>\n      <td>1.870000e+11</td>\n    </tr>\n    <tr>\n      <th>8</th>\n      <td>34.46</td>\n      <td>35.24</td>\n      <td>32.12</td>\n      <td>32.28</td>\n      <td>32.49</td>\n      <td>1.97</td>\n      <td>6.0634</td>\n      <td>0.8964</td>\n      <td>54366496</td>\n      <td>1858229383</td>\n      <td>...</td>\n      <td>25428275.0</td>\n      <td>48068344.0</td>\n      <td>21797855.0</td>\n      <td>21359504.0</td>\n      <td>30736419.0</td>\n      <td>1.970000e+11</td>\n      <td>2.010000e+11</td>\n      <td>1.860000e+11</td>\n      <td>1.860000e+11</td>\n      <td>1.930000e+11</td>\n    </tr>\n    <tr>\n      <th>9</th>\n      <td>34.37</td>\n      <td>35.83</td>\n      <td>33.88</td>\n      <td>34.60</td>\n      <td>34.46</td>\n      <td>-0.09</td>\n      <td>-0.2612</td>\n      <td>0.7913</td>\n      <td>47991501</td>\n      <td>1677436108</td>\n      <td>...</td>\n      <td>54366496.0</td>\n      <td>25428275.0</td>\n      <td>48068344.0</td>\n      <td>21797855.0</td>\n      <td>21359504.0</td>\n      <td>2.090000e+11</td>\n      <td>1.970000e+11</td>\n      <td>2.010000e+11</td>\n      <td>1.860000e+11</td>\n      <td>1.860000e+11</td>\n    </tr>\n    <tr>\n      <th>10</th>\n      <td>34.14</td>\n      <td>35.00</td>\n      <td>33.20</td>\n      <td>34.38</td>\n      <td>34.37</td>\n      <td>-0.23</td>\n      <td>-0.6692</td>\n      <td>0.6804</td>\n      <td>41262518</td>\n      <td>1409092494</td>\n      <td>...</td>\n      <td>47991501.0</td>\n      <td>54366496.0</td>\n      <td>25428275.0</td>\n      <td>48068344.0</td>\n      <td>21797855.0</td>\n      <td>2.080000e+11</td>\n      <td>2.090000e+11</td>\n      <td>1.970000e+11</td>\n      <td>2.010000e+11</td>\n      <td>1.860000e+11</td>\n    </tr>\n    <tr>\n      <th>11</th>\n      <td>33.95</td>\n      <td>34.27</td>\n      <td>32.86</td>\n      <td>33.56</td>\n      <td>34.14</td>\n      <td>-0.19</td>\n      <td>-0.5565</td>\n      <td>0.4311</td>\n      <td>26146217</td>\n      <td>877436746</td>\n      <td>...</td>\n      <td>41262518.0</td>\n      <td>47991501.0</td>\n      <td>54366496.0</td>\n      <td>25428275.0</td>\n      <td>48068344.0</td>\n      <td>2.070000e+11</td>\n      <td>2.080000e+11</td>\n      <td>2.090000e+11</td>\n      <td>1.970000e+11</td>\n      <td>2.010000e+11</td>\n    </tr>\n    <tr>\n      <th>12</th>\n      <td>35.30</td>\n      <td>35.75</td>\n      <td>33.47</td>\n      <td>33.90</td>\n      <td>33.95</td>\n      <td>1.35</td>\n      <td>3.9764</td>\n      <td>0.6713</td>\n      <td>40715103</td>\n      <td>1418037048</td>\n      <td>...</td>\n      <td>26146217.0</td>\n      <td>41262518.0</td>\n      <td>47991501.0</td>\n      <td>54366496.0</td>\n      <td>25428275.0</td>\n      <td>2.060000e+11</td>\n      <td>2.070000e+11</td>\n      <td>2.080000e+11</td>\n      <td>2.090000e+11</td>\n      <td>1.970000e+11</td>\n    </tr>\n    <tr>\n      <th>13</th>\n      <td>37.03</td>\n      <td>38.83</td>\n      <td>36.13</td>\n      <td>36.13</td>\n      <td>35.30</td>\n      <td>1.73</td>\n      <td>4.9008</td>\n      <td>1.0620</td>\n      <td>64408479</td>\n      <td>2442652483</td>\n      <td>...</td>\n      <td>40715103.0</td>\n      <td>26146217.0</td>\n      <td>41262518.0</td>\n      <td>47991501.0</td>\n      <td>54366496.0</td>\n      <td>2.140000e+11</td>\n      <td>2.060000e+11</td>\n      <td>2.070000e+11</td>\n      <td>2.080000e+11</td>\n      <td>2.090000e+11</td>\n    </tr>\n    <tr>\n      <th>14</th>\n      <td>36.35</td>\n      <td>37.60</td>\n      <td>36.08</td>\n      <td>37.54</td>\n      <td>37.03</td>\n      <td>-0.68</td>\n      <td>-1.8363</td>\n      <td>0.5543</td>\n      <td>33616735</td>\n      <td>1228253202</td>\n      <td>...</td>\n      <td>64408479.0</td>\n      <td>40715103.0</td>\n      <td>26146217.0</td>\n      <td>41262518.0</td>\n      <td>47991501.0</td>\n      <td>2.250000e+11</td>\n      <td>2.140000e+11</td>\n      <td>2.060000e+11</td>\n      <td>2.070000e+11</td>\n      <td>2.080000e+11</td>\n    </tr>\n    <tr>\n      <th>15</th>\n      <td>36.75</td>\n      <td>38.00</td>\n      <td>35.56</td>\n      <td>36.00</td>\n      <td>36.35</td>\n      <td>0.40</td>\n      <td>1.1004</td>\n      <td>0.5839</td>\n      <td>35412050</td>\n      <td>1309353618</td>\n      <td>...</td>\n      <td>33616735.0</td>\n      <td>64408479.0</td>\n      <td>40715103.0</td>\n      <td>26146217.0</td>\n      <td>41262518.0</td>\n      <td>2.200000e+11</td>\n      <td>2.250000e+11</td>\n      <td>2.140000e+11</td>\n      <td>2.060000e+11</td>\n      <td>2.070000e+11</td>\n    </tr>\n    <tr>\n      <th>16</th>\n      <td>36.99</td>\n      <td>37.10</td>\n      <td>35.19</td>\n      <td>36.72</td>\n      <td>36.75</td>\n      <td>0.24</td>\n      <td>0.6531</td>\n      <td>0.4609</td>\n      <td>27955794</td>\n      <td>1013969083</td>\n      <td>...</td>\n      <td>35412050.0</td>\n      <td>33616735.0</td>\n      <td>64408479.0</td>\n      <td>40715103.0</td>\n      <td>26146217.0</td>\n      <td>2.230000e+11</td>\n      <td>2.200000e+11</td>\n      <td>2.250000e+11</td>\n      <td>2.140000e+11</td>\n      <td>2.060000e+11</td>\n    </tr>\n    <tr>\n      <th>17</th>\n      <td>37.66</td>\n      <td>38.25</td>\n      <td>36.18</td>\n      <td>36.90</td>\n      <td>36.99</td>\n      <td>0.67</td>\n      <td>1.8113</td>\n      <td>0.5160</td>\n      <td>31294833</td>\n      <td>1173946132</td>\n      <td>...</td>\n      <td>27955794.0</td>\n      <td>35412050.0</td>\n      <td>33616735.0</td>\n      <td>64408479.0</td>\n      <td>40715103.0</td>\n      <td>2.240000e+11</td>\n      <td>2.230000e+11</td>\n      <td>2.200000e+11</td>\n      <td>2.250000e+11</td>\n      <td>2.140000e+11</td>\n    </tr>\n    <tr>\n      <th>18</th>\n      <td>38.20</td>\n      <td>39.55</td>\n      <td>37.81</td>\n      <td>37.81</td>\n      <td>37.66</td>\n      <td>0.54</td>\n      <td>1.4339</td>\n      <td>0.6561</td>\n      <td>39941554</td>\n      <td>1543864212</td>\n      <td>...</td>\n      <td>31294833.0</td>\n      <td>27955794.0</td>\n      <td>35412050.0</td>\n      <td>33616735.0</td>\n      <td>64408479.0</td>\n      <td>2.280000e+11</td>\n      <td>2.240000e+11</td>\n      <td>2.230000e+11</td>\n      <td>2.200000e+11</td>\n      <td>2.250000e+11</td>\n    </tr>\n    <tr>\n      <th>19</th>\n      <td>37.61</td>\n      <td>39.60</td>\n      <td>37.57</td>\n      <td>39.00</td>\n      <td>38.20</td>\n      <td>-0.59</td>\n      <td>-1.5445</td>\n      <td>0.4870</td>\n      <td>29645635</td>\n      <td>1139992041</td>\n      <td>...</td>\n      <td>39941554.0</td>\n      <td>31294833.0</td>\n      <td>27955794.0</td>\n      <td>35412050.0</td>\n      <td>33616735.0</td>\n      <td>2.330000e+11</td>\n      <td>2.280000e+11</td>\n      <td>2.240000e+11</td>\n      <td>2.230000e+11</td>\n      <td>2.200000e+11</td>\n    </tr>\n    <tr>\n      <th>20</th>\n      <td>38.60</td>\n      <td>38.91</td>\n      <td>36.81</td>\n      <td>37.49</td>\n      <td>37.61</td>\n      <td>0.99</td>\n      <td>2.6323</td>\n      <td>0.4970</td>\n      <td>30254779</td>\n      <td>1154641866</td>\n      <td>...</td>\n      <td>29645635.0</td>\n      <td>39941554.0</td>\n      <td>31294833.0</td>\n      <td>27955794.0</td>\n      <td>35412050.0</td>\n      <td>2.289522e+11</td>\n      <td>2.330000e+11</td>\n      <td>2.280000e+11</td>\n      <td>2.240000e+11</td>\n      <td>2.230000e+11</td>\n    </tr>\n    <tr>\n      <th>21</th>\n      <td>38.19</td>\n      <td>39.20</td>\n      <td>37.90</td>\n      <td>38.60</td>\n      <td>38.60</td>\n      <td>-0.41</td>\n      <td>-1.0622</td>\n      <td>0.3491</td>\n      <td>21254590</td>\n      <td>815842098</td>\n      <td>...</td>\n      <td>30254779.0</td>\n      <td>29645635.0</td>\n      <td>39941554.0</td>\n      <td>31294833.0</td>\n      <td>27955794.0</td>\n      <td>2.349788e+11</td>\n      <td>2.289522e+11</td>\n      <td>2.330000e+11</td>\n      <td>2.280000e+11</td>\n      <td>2.240000e+11</td>\n    </tr>\n    <tr>\n      <th>22</th>\n      <td>39.73</td>\n      <td>40.03</td>\n      <td>38.38</td>\n      <td>38.38</td>\n      <td>38.19</td>\n      <td>1.54</td>\n      <td>4.0325</td>\n      <td>0.5728</td>\n      <td>34869007</td>\n      <td>1378158779</td>\n      <td>...</td>\n      <td>21254590.0</td>\n      <td>30254779.0</td>\n      <td>29645635.0</td>\n      <td>39941554.0</td>\n      <td>31294833.0</td>\n      <td>2.324829e+11</td>\n      <td>2.349788e+11</td>\n      <td>2.289522e+11</td>\n      <td>2.330000e+11</td>\n      <td>2.280000e+11</td>\n    </tr>\n    <tr>\n      <th>23</th>\n      <td>40.10</td>\n      <td>40.44</td>\n      <td>38.21</td>\n      <td>38.70</td>\n      <td>39.73</td>\n      <td>0.37</td>\n      <td>0.9313</td>\n      <td>0.4818</td>\n      <td>29332769</td>\n      <td>1156765735</td>\n      <td>...</td>\n      <td>34869007.0</td>\n      <td>21254590.0</td>\n      <td>30254779.0</td>\n      <td>29645635.0</td>\n      <td>39941554.0</td>\n      <td>2.418577e+11</td>\n      <td>2.324829e+11</td>\n      <td>2.349788e+11</td>\n      <td>2.289522e+11</td>\n      <td>2.330000e+11</td>\n    </tr>\n    <tr>\n      <th>24</th>\n      <td>42.46</td>\n      <td>43.16</td>\n      <td>39.51</td>\n      <td>39.77</td>\n      <td>40.10</td>\n      <td>2.36</td>\n      <td>5.8853</td>\n      <td>0.6570</td>\n      <td>39997825</td>\n      <td>1674412481</td>\n      <td>...</td>\n      <td>29332769.0</td>\n      <td>34869007.0</td>\n      <td>21254590.0</td>\n      <td>30254779.0</td>\n      <td>29645635.0</td>\n      <td>2.441101e+11</td>\n      <td>2.418577e+11</td>\n      <td>2.324829e+11</td>\n      <td>2.349788e+11</td>\n      <td>2.289522e+11</td>\n    </tr>\n    <tr>\n      <th>25</th>\n      <td>44.30</td>\n      <td>45.50</td>\n      <td>41.60</td>\n      <td>42.01</td>\n      <td>42.46</td>\n      <td>1.84</td>\n      <td>4.3335</td>\n      <td>0.7490</td>\n      <td>45595279</td>\n      <td>1997015135</td>\n      <td>...</td>\n      <td>39997825.0</td>\n      <td>29332769.0</td>\n      <td>34869007.0</td>\n      <td>21254590.0</td>\n      <td>30254779.0</td>\n      <td>2.584767e+11</td>\n      <td>2.441101e+11</td>\n      <td>2.418577e+11</td>\n      <td>2.324829e+11</td>\n      <td>2.349788e+11</td>\n    </tr>\n    <tr>\n      <th>26</th>\n      <td>44.05</td>\n      <td>46.30</td>\n      <td>43.33</td>\n      <td>44.60</td>\n      <td>44.30</td>\n      <td>-0.25</td>\n      <td>-0.5643</td>\n      <td>0.6480</td>\n      <td>39449653</td>\n      <td>1764789345</td>\n      <td>...</td>\n      <td>45595279.0</td>\n      <td>39997825.0</td>\n      <td>29332769.0</td>\n      <td>34869007.0</td>\n      <td>21254590.0</td>\n      <td>2.696778e+11</td>\n      <td>2.584767e+11</td>\n      <td>2.441101e+11</td>\n      <td>2.418577e+11</td>\n      <td>2.324829e+11</td>\n    </tr>\n  </tbody>\n</table>\n<p>22 rows × 42 columns</p>\n</div>"
     },
     "metadata": {},
     "execution_count": 79
    }
   ],
   "source": [
    "all_data_p = wtsw_fe_p[N:]\n",
    "all_data_p"
   ]
  },
  {
   "cell_type": "code",
   "execution_count": 80,
   "id": "systematic-headline",
   "metadata": {},
   "outputs": [],
   "source": [
    "# 模型读取\n",
    "model_name = r'./xgb-model/'+NAME+'.pickle.dat'\n",
    "model = pickle.load(open(model_name,'rb'))"
   ]
  },
  {
   "cell_type": "code",
   "execution_count": 81,
   "id": "public-black",
   "metadata": {},
   "outputs": [
    {
     "output_type": "stream",
     "name": "stderr",
     "text": [
      "C:\\Users\\11973\\AppData\\Local\\Programs\\Python\\Python37\\lib\\site-packages\\xgboost\\data.py:114: UserWarning:\n\nUse subset (sliced data) of np.ndarray is not recommended because it will generate extra copies and increase memory consumption\n\n"
     ]
    },
    {
     "output_type": "execute_result",
     "data": {
      "text/plain": [
       "array([ 1.1392834e-02, -1.0696004e-02,  6.9566588e-03,  5.2833252e-02,\n",
       "       -8.8817767e-05,  3.7146837e-02,  5.3103641e-03, -2.9140770e-02,\n",
       "       -1.5762256e-02,  7.1956222e-03,  1.3858206e-03,  1.0057233e-02,\n",
       "       -1.5508899e-02, -1.3502192e-02, -2.3057468e-02, -2.2988221e-02,\n",
       "        1.2157515e-02,  1.3624319e-02, -5.1740436e-03,  2.4237566e-02,\n",
       "       -3.1179585e-03, -1.1673373e-03], dtype=float32)"
      ]
     },
     "metadata": {},
     "execution_count": 81
    }
   ],
   "source": [
    "# 预测输出\n",
    "predictions = model.predict(all_data_p)\n",
    "predictions"
   ]
  },
  {
   "cell_type": "code",
   "execution_count": 82,
   "id": "sacred-introduction",
   "metadata": {},
   "outputs": [
    {
     "output_type": "execute_result",
     "data": {
      "text/plain": [
       "    year  month  day   涨跌额    收盘价     预测的收盘价\n",
       "1   2021      5   17  2.37  33.11  31.092216\n",
       "2   2021      5   18 -0.62  32.49  32.757742\n",
       "3   2021      5   19  1.97  34.46  32.716809\n",
       "4   2021      5   20 -0.09  34.37  36.329587\n",
       "5   2021      5   21 -0.23  34.14  34.366948\n",
       "6   2021      5   24 -0.19  33.95  35.432041\n",
       "7   2021      5   25  1.35  35.30  34.130766\n",
       "8   2021      5   26  1.73  37.03  34.286175\n",
       "9   2021      5   27 -0.68  36.35  36.450899\n",
       "10  2021      5   28  0.40  36.75  36.612504\n",
       "11  2021      5   31  0.24  36.99  36.800963\n",
       "12  2021      6    1  0.67  37.66  37.363895\n",
       "13  2021      6    2  0.54  38.20  37.080440\n",
       "14  2021      6    3 -0.59  37.61  37.687682\n",
       "15  2021      6    4  0.99  38.60  36.752731\n",
       "16  2021      6    7 -0.41  38.19  37.722776\n",
       "17  2021      6    8  1.54  39.73  38.657129\n",
       "18  2021      6    9  0.37  40.10  40.274998\n",
       "19  2021      6   10  2.36  42.46  39.893056\n",
       "20  2021      6   11  1.84  44.30  43.501698\n",
       "21  2021      6   15 -0.25  44.05  44.162090"
      ],
      "text/html": "<div>\n<style scoped>\n    .dataframe tbody tr th:only-of-type {\n        vertical-align: middle;\n    }\n\n    .dataframe tbody tr th {\n        vertical-align: top;\n    }\n\n    .dataframe thead th {\n        text-align: right;\n    }\n</style>\n<table border=\"1\" class=\"dataframe\">\n  <thead>\n    <tr style=\"text-align: right;\">\n      <th></th>\n      <th>year</th>\n      <th>month</th>\n      <th>day</th>\n      <th>涨跌额</th>\n      <th>收盘价</th>\n      <th>预测的收盘价</th>\n    </tr>\n  </thead>\n  <tbody>\n    <tr>\n      <th>1</th>\n      <td>2021</td>\n      <td>5</td>\n      <td>17</td>\n      <td>2.37</td>\n      <td>33.11</td>\n      <td>31.092216</td>\n    </tr>\n    <tr>\n      <th>2</th>\n      <td>2021</td>\n      <td>5</td>\n      <td>18</td>\n      <td>-0.62</td>\n      <td>32.49</td>\n      <td>32.757742</td>\n    </tr>\n    <tr>\n      <th>3</th>\n      <td>2021</td>\n      <td>5</td>\n      <td>19</td>\n      <td>1.97</td>\n      <td>34.46</td>\n      <td>32.716809</td>\n    </tr>\n    <tr>\n      <th>4</th>\n      <td>2021</td>\n      <td>5</td>\n      <td>20</td>\n      <td>-0.09</td>\n      <td>34.37</td>\n      <td>36.329587</td>\n    </tr>\n    <tr>\n      <th>5</th>\n      <td>2021</td>\n      <td>5</td>\n      <td>21</td>\n      <td>-0.23</td>\n      <td>34.14</td>\n      <td>34.366948</td>\n    </tr>\n    <tr>\n      <th>6</th>\n      <td>2021</td>\n      <td>5</td>\n      <td>24</td>\n      <td>-0.19</td>\n      <td>33.95</td>\n      <td>35.432041</td>\n    </tr>\n    <tr>\n      <th>7</th>\n      <td>2021</td>\n      <td>5</td>\n      <td>25</td>\n      <td>1.35</td>\n      <td>35.30</td>\n      <td>34.130766</td>\n    </tr>\n    <tr>\n      <th>8</th>\n      <td>2021</td>\n      <td>5</td>\n      <td>26</td>\n      <td>1.73</td>\n      <td>37.03</td>\n      <td>34.286175</td>\n    </tr>\n    <tr>\n      <th>9</th>\n      <td>2021</td>\n      <td>5</td>\n      <td>27</td>\n      <td>-0.68</td>\n      <td>36.35</td>\n      <td>36.450899</td>\n    </tr>\n    <tr>\n      <th>10</th>\n      <td>2021</td>\n      <td>5</td>\n      <td>28</td>\n      <td>0.40</td>\n      <td>36.75</td>\n      <td>36.612504</td>\n    </tr>\n    <tr>\n      <th>11</th>\n      <td>2021</td>\n      <td>5</td>\n      <td>31</td>\n      <td>0.24</td>\n      <td>36.99</td>\n      <td>36.800963</td>\n    </tr>\n    <tr>\n      <th>12</th>\n      <td>2021</td>\n      <td>6</td>\n      <td>1</td>\n      <td>0.67</td>\n      <td>37.66</td>\n      <td>37.363895</td>\n    </tr>\n    <tr>\n      <th>13</th>\n      <td>2021</td>\n      <td>6</td>\n      <td>2</td>\n      <td>0.54</td>\n      <td>38.20</td>\n      <td>37.080440</td>\n    </tr>\n    <tr>\n      <th>14</th>\n      <td>2021</td>\n      <td>6</td>\n      <td>3</td>\n      <td>-0.59</td>\n      <td>37.61</td>\n      <td>37.687682</td>\n    </tr>\n    <tr>\n      <th>15</th>\n      <td>2021</td>\n      <td>6</td>\n      <td>4</td>\n      <td>0.99</td>\n      <td>38.60</td>\n      <td>36.752731</td>\n    </tr>\n    <tr>\n      <th>16</th>\n      <td>2021</td>\n      <td>6</td>\n      <td>7</td>\n      <td>-0.41</td>\n      <td>38.19</td>\n      <td>37.722776</td>\n    </tr>\n    <tr>\n      <th>17</th>\n      <td>2021</td>\n      <td>6</td>\n      <td>8</td>\n      <td>1.54</td>\n      <td>39.73</td>\n      <td>38.657129</td>\n    </tr>\n    <tr>\n      <th>18</th>\n      <td>2021</td>\n      <td>6</td>\n      <td>9</td>\n      <td>0.37</td>\n      <td>40.10</td>\n      <td>40.274998</td>\n    </tr>\n    <tr>\n      <th>19</th>\n      <td>2021</td>\n      <td>6</td>\n      <td>10</td>\n      <td>2.36</td>\n      <td>42.46</td>\n      <td>39.893056</td>\n    </tr>\n    <tr>\n      <th>20</th>\n      <td>2021</td>\n      <td>6</td>\n      <td>11</td>\n      <td>1.84</td>\n      <td>44.30</td>\n      <td>43.501698</td>\n    </tr>\n    <tr>\n      <th>21</th>\n      <td>2021</td>\n      <td>6</td>\n      <td>15</td>\n      <td>-0.25</td>\n      <td>44.05</td>\n      <td>44.162090</td>\n    </tr>\n  </tbody>\n</table>\n</div>"
     },
     "metadata": {},
     "execution_count": 82
    }
   ],
   "source": [
    "# 还原成价格（对数收益率还原）\n",
    "res = all_data_p.loc[:,['year','month','day',\"涨跌额\",r\"收盘价\"]]\n",
    "res.loc[:,r\"预测的收盘价\"] = np.exp(predictions)*res[r\"收盘价\"]\n",
    "res['预测的收盘价'] = res['预测的收盘价'].shift(1)\n",
    "res = res.reset_index(drop = True)\n",
    "res = res.drop(index=[0])\n",
    "res"
   ]
  },
  {
   "cell_type": "code",
   "execution_count": 83,
   "id": "pending-grace",
   "metadata": {},
   "outputs": [],
   "source": [
    "# 写入文件保存\n",
    "res.to_excel(f'{NAME}-回测-outputs.xls',sheet_name=NAME,index=False)"
   ]
  },
  {
   "cell_type": "code",
   "execution_count": null,
   "id": "meaningful-serbia",
   "metadata": {},
   "outputs": [],
   "source": []
  }
 ],
 "metadata": {
  "kernelspec": {
   "name": "python3",
   "display_name": "Python 3.7.8 64-bit"
  },
  "language_info": {
   "codemirror_mode": {
    "name": "ipython",
    "version": 3
   },
   "file_extension": ".py",
   "mimetype": "text/x-python",
   "name": "python",
   "nbconvert_exporter": "python",
   "pygments_lexer": "ipython3",
   "version": "3.7.8"
  },
  "interpreter": {
   "hash": "8105f068e361575c2790c513f85c99982232b830c97b4b8763e4e71e21b58c9c"
  }
 },
 "nbformat": 4,
 "nbformat_minor": 5
}