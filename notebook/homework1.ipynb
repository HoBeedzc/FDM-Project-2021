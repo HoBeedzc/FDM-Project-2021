{
 "cells": [
  {
   "cell_type": "code",
   "execution_count": 6,
   "metadata": {
    "ExecuteTime": {
     "end_time": "2021-04-08T06:16:29.705872Z",
     "start_time": "2021-04-08T06:16:28.361Z"
    }
   },
   "outputs": [
    {
     "name": "stderr",
     "output_type": "stream",
     "text": [
      "Warning message:\n",
      "\"package 'readxl' was built under R version 4.0.5\"\n"
     ]
    }
   ],
   "source": [
    "library('zoo')\n",
    "library('forecast')\n",
    "library('readxl')"
   ]
  },
  {
   "cell_type": "code",
   "execution_count": 12,
   "metadata": {
    "ExecuteTime": {
     "end_time": "2021-04-08T06:22:23.748449Z",
     "start_time": "2021-04-08T06:22:22.421Z"
    }
   },
   "outputs": [
    {
     "data": {
      "text/html": [
       "<table class=\"dataframe\">\n",
       "<caption>A data.frame: 6 × 2</caption>\n",
       "<thead>\n",
       "\t<tr><th></th><th scope=col>V1</th><th scope=col>V2</th></tr>\n",
       "\t<tr><th></th><th scope=col>&lt;chr&gt;</th><th scope=col>&lt;dbl&gt;</th></tr>\n",
       "</thead>\n",
       "<tbody>\n",
       "\t<tr><th scope=row>1</th><td>1972/1/10</td><td>304.63</td></tr>\n",
       "\t<tr><th scope=row>2</th><td>1972/1/17</td><td>307.63</td></tr>\n",
       "\t<tr><th scope=row>3</th><td>1972/1/24</td><td>309.38</td></tr>\n",
       "\t<tr><th scope=row>4</th><td>1972/1/31</td><td>318.75</td></tr>\n",
       "\t<tr><th scope=row>5</th><td>1972/2/7 </td><td>314.75</td></tr>\n",
       "\t<tr><th scope=row>6</th><td>1972/2/14</td><td>314.38</td></tr>\n",
       "</tbody>\n",
       "</table>\n"
      ],
      "text/latex": [
       "A data.frame: 6 × 2\n",
       "\\begin{tabular}{r|ll}\n",
       "  & V1 & V2\\\\\n",
       "  & <chr> & <dbl>\\\\\n",
       "\\hline\n",
       "\t1 & 1972/1/10 & 304.63\\\\\n",
       "\t2 & 1972/1/17 & 307.63\\\\\n",
       "\t3 & 1972/1/24 & 309.38\\\\\n",
       "\t4 & 1972/1/31 & 318.75\\\\\n",
       "\t5 & 1972/2/7  & 314.75\\\\\n",
       "\t6 & 1972/2/14 & 314.38\\\\\n",
       "\\end{tabular}\n"
      ],
      "text/markdown": [
       "\n",
       "A data.frame: 6 × 2\n",
       "\n",
       "| <!--/--> | V1 &lt;chr&gt; | V2 &lt;dbl&gt; |\n",
       "|---|---|---|\n",
       "| 1 | 1972/1/10 | 304.63 |\n",
       "| 2 | 1972/1/17 | 307.63 |\n",
       "| 3 | 1972/1/24 | 309.38 |\n",
       "| 4 | 1972/1/31 | 318.75 |\n",
       "| 5 | 1972/2/7  | 314.75 |\n",
       "| 6 | 1972/2/14 | 314.38 |\n",
       "\n"
      ],
      "text/plain": [
       "  V1        V2    \n",
       "1 1972/1/10 304.63\n",
       "2 1972/1/17 307.63\n",
       "3 1972/1/24 309.38\n",
       "4 1972/1/31 318.75\n",
       "5 1972/2/7  314.75\n",
       "6 1972/2/14 314.38"
      ]
     },
     "metadata": {},
     "output_type": "display_data"
    }
   ],
   "source": [
    "data <- read.csv(\"../dataset/期货价格数据/使用数据/CBOT大豆周连续.csv\",head=F)\n",
    "head(data)"
   ]
  },
  {
   "cell_type": "code",
   "execution_count": 17,
   "metadata": {
    "ExecuteTime": {
     "end_time": "2021-04-08T06:27:39.233570Z",
     "start_time": "2021-04-08T06:27:37.916Z"
    }
   },
   "outputs": [
    {
     "data": {
      "text/html": [
       "<table class=\"dataframe\">\n",
       "<caption>A Time Series: 6 × 1</caption>\n",
       "<thead>\n",
       "\t<tr><th scope=col>V2</th></tr>\n",
       "</thead>\n",
       "<tbody>\n",
       "\t<tr><td>304.63</td></tr>\n",
       "\t<tr><td>307.63</td></tr>\n",
       "\t<tr><td>309.38</td></tr>\n",
       "\t<tr><td>318.75</td></tr>\n",
       "\t<tr><td>314.75</td></tr>\n",
       "\t<tr><td>314.38</td></tr>\n",
       "</tbody>\n",
       "</table>\n"
      ],
      "text/latex": [
       "A Time Series: 6 × 1\n",
       "\\begin{tabular}{l}\n",
       " V2\\\\\n",
       "\\hline\n",
       "\t 304.63\\\\\n",
       "\t 307.63\\\\\n",
       "\t 309.38\\\\\n",
       "\t 318.75\\\\\n",
       "\t 314.75\\\\\n",
       "\t 314.38\\\\\n",
       "\\end{tabular}\n"
      ],
      "text/markdown": [
       "\n",
       "A Time Series: 6 × 1\n",
       "\n",
       "| V2 |\n",
       "|---|\n",
       "| 304.63 |\n",
       "| 307.63 |\n",
       "| 309.38 |\n",
       "| 318.75 |\n",
       "| 314.75 |\n",
       "| 314.38 |\n",
       "\n"
      ],
      "text/plain": [
       "     V2    \n",
       "[1,] 304.63\n",
       "[2,] 307.63\n",
       "[3,] 309.38\n",
       "[4,] 318.75\n",
       "[5,] 314.75\n",
       "[6,] 314.38"
      ]
     },
     "metadata": {},
     "output_type": "display_data"
    }
   ],
   "source": [
    "data2 <- data[2]\n",
    "data_ts <- ts(data2,start=1,frequency=52)\n",
    "head(data_ts)"
   ]
  },
  {
   "cell_type": "code",
   "execution_count": 18,
   "metadata": {
    "ExecuteTime": {
     "end_time": "2021-04-08T06:27:46.982143Z",
     "start_time": "2021-04-08T06:27:45.609Z"
    }
   },
   "outputs": [
    {
     "data": {
      "image/png": "[encoded data removed]",
      "text/plain": [
       "plot without title"
      ]
     },
     "metadata": {
      "image/png": {
       "height": 420,
       "width": 420
      }
     },
     "output_type": "display_data"
    }
   ],
   "source": [
    "plot.ts(data_ts)"
   ]
  },
  {
   "cell_type": "code",
   "execution_count": 29,
   "metadata": {
    "ExecuteTime": {
     "end_time": "2021-04-08T06:55:11.333332Z",
     "start_time": "2021-04-08T06:55:09.977Z"
    }
   },
   "outputs": [
    {
     "data": {
      "image/png": "[encoded data removed]",
      "text/plain": [
       "plot without title"
      ]
     },
     "metadata": {
      "image/png": {
       "height": 420,
       "width": 420
      }
     },
     "output_type": "display_data"
    }
   ],
   "source": [
    "# par(pin = c(6,4))\n",
    "datalog <- log(data_ts)\n",
    "datadiff <- diff(datalog, differences=1)\n",
    "plot.ts(datadiff)"
   ]
  },
  {
   "cell_type": "code",
   "execution_count": 30,
   "metadata": {
    "ExecuteTime": {
     "end_time": "2021-04-08T09:35:52.791249Z",
     "start_time": "2021-04-08T09:35:52.771Z"
    }
   },
   "outputs": [],
   "source": [
    "# 上面都是在胡扯\n",
    "# 下面是根据老师的代码写的"
   ]
  },
  {
   "cell_type": "code",
   "execution_count": 53,
   "metadata": {
    "ExecuteTime": {
     "end_time": "2021-04-08T10:10:18.974183Z",
     "start_time": "2021-04-08T10:10:18.937Z"
    }
   },
   "outputs": [
    {
     "data": {
      "text/html": [
       "<table class=\"dataframe\">\n",
       "<caption>A data.frame: 6 × 2</caption>\n",
       "<thead>\n",
       "\t<tr><th></th><th scope=col>date</th><th scope=col>price</th></tr>\n",
       "\t<tr><th></th><th scope=col>&lt;chr&gt;</th><th scope=col>&lt;dbl&gt;</th></tr>\n",
       "</thead>\n",
       "<tbody>\n",
       "\t<tr><th scope=row>1</th><td>2008/1/14</td><td>223.30</td></tr>\n",
       "\t<tr><th scope=row>2</th><td>2008/1/21</td><td>223.80</td></tr>\n",
       "\t<tr><th scope=row>3</th><td>2008/1/28</td><td>206.42</td></tr>\n",
       "\t<tr><th scope=row>4</th><td>2008/2/4 </td><td>222.56</td></tr>\n",
       "\t<tr><th scope=row>5</th><td>2008/2/11</td><td>215.26</td></tr>\n",
       "\t<tr><th scope=row>6</th><td>2008/2/18</td><td>213.69</td></tr>\n",
       "</tbody>\n",
       "</table>\n"
      ],
      "text/latex": [
       "A data.frame: 6 × 2\n",
       "\\begin{tabular}{r|ll}\n",
       "  & date & price\\\\\n",
       "  & <chr> & <dbl>\\\\\n",
       "\\hline\n",
       "\t1 & 2008/1/14 & 223.30\\\\\n",
       "\t2 & 2008/1/21 & 223.80\\\\\n",
       "\t3 & 2008/1/28 & 206.42\\\\\n",
       "\t4 & 2008/2/4  & 222.56\\\\\n",
       "\t5 & 2008/2/11 & 215.26\\\\\n",
       "\t6 & 2008/2/18 & 213.69\\\\\n",
       "\\end{tabular}\n"
      ],
      "text/markdown": [
       "\n",
       "A data.frame: 6 × 2\n",
       "\n",
       "| <!--/--> | date &lt;chr&gt; | price &lt;dbl&gt; |\n",
       "|---|---|---|\n",
       "| 1 | 2008/1/14 | 223.30 |\n",
       "| 2 | 2008/1/21 | 223.80 |\n",
       "| 3 | 2008/1/28 | 206.42 |\n",
       "| 4 | 2008/2/4  | 222.56 |\n",
       "| 5 | 2008/2/11 | 215.26 |\n",
       "| 6 | 2008/2/18 | 213.69 |\n",
       "\n"
      ],
      "text/plain": [
       "  date      price \n",
       "1 2008/1/14 223.30\n",
       "2 2008/1/21 223.80\n",
       "3 2008/1/28 206.42\n",
       "4 2008/2/4  222.56\n",
       "5 2008/2/11 215.26\n",
       "6 2008/2/18 213.69"
      ]
     },
     "metadata": {},
     "output_type": "display_data"
    }
   ],
   "source": [
    "# 设置工作目录并读取数据\n",
    "# setwd('../dataset/期货价格数据/使用数据/')\n",
    "da <- read.csv(\"./黄金周数据.csv\",head=F)\n",
    "names(da) <- c('date','price')\n",
    "head(da)"
   ]
  },
  {
   "cell_type": "code",
   "execution_count": 54,
   "metadata": {
    "ExecuteTime": {
     "end_time": "2021-04-08T10:10:30.624555Z",
     "start_time": "2021-04-08T10:10:30.552Z"
    }
   },
   "outputs": [
    {
     "data": {
      "text/html": [
       "A Time Series:<br><style>\n",
       ".list-inline {list-style: none; margin:0; padding: 0}\n",
       ".list-inline>li {display: inline-block}\n",
       ".list-inline>li:not(:last-child)::after {content: \"\\00b7\"; padding: 0 .5ex}\n",
       "</style>\n",
       "<ol class=list-inline><li>223.3</li><li>223.8</li><li>206.42</li><li>222.56</li><li>215.26</li><li>213.69</li></ol>\n"
      ],
      "text/latex": [
       "A Time Series:\\\\\\begin{enumerate*}\n",
       "\\item 223.3\n",
       "\\item 223.8\n",
       "\\item 206.42\n",
       "\\item 222.56\n",
       "\\item 215.26\n",
       "\\item 213.69\n",
       "\\end{enumerate*}\n"
      ],
      "text/markdown": [
       "A Time Series:  \n",
       "1. 223.3\n",
       "2. 223.8\n",
       "3. 206.42\n",
       "4. 222.56\n",
       "5. 215.26\n",
       "6. 213.69\n",
       "\n",
       "\n"
      ],
      "text/plain": [
       "A Time Series:\n",
       "[1] 223.30 223.80 206.42 222.56 215.26 213.69"
      ]
     },
     "metadata": {},
     "output_type": "display_data"
    },
    {
     "data": {
      "image/png": "[encoded data removed]",
      "text/plain": [
       "plot without title"
      ]
     },
     "metadata": {
      "image/png": {
       "height": 420,
       "width": 420
      }
     },
     "output_type": "display_data"
    }
   ],
   "source": [
    "# 转换为时间序列\n",
    "price = ts(da$price,frequency=52,start=c(1972,1,10))\n",
    "head(price)\n",
    "plot.ts(price)"
   ]
  },
  {
   "cell_type": "code",
   "execution_count": 55,
   "metadata": {
    "ExecuteTime": {
     "end_time": "2021-04-08T10:10:56.893312Z",
     "start_time": "2021-04-08T10:10:56.865Z"
    }
   },
   "outputs": [],
   "source": [
    "# 计算对数差分收益率\n",
    "price_log <- log(price)\n",
    "returns <- diff(price_log, differences=1)"
   ]
  },
  {
   "cell_type": "code",
   "execution_count": 60,
   "metadata": {
    "ExecuteTime": {
     "end_time": "2021-04-08T10:11:48.858798Z",
     "start_time": "2021-04-08T10:11:48.781Z"
    }
   },
   "outputs": [
    {
     "data": {
      "image/png": "[encoded data removed]",
      "text/plain": [
       "Plot with title \"Series  returns\""
      ]
     },
     "metadata": {
      "image/png": {
       "height": 420,
       "width": 420
      }
     },
     "output_type": "display_data"
    }
   ],
   "source": [
    "# 进行acf检验\n",
    "par(mfcol = c(2,1))\n",
    "plot(returns,xlab='year',ylab='returns')\n",
    "title(main='(a): Simple returns')\n",
    "acf(returns,lag=24)"
   ]
  },
  {
   "cell_type": "code",
   "execution_count": 63,
   "metadata": {
    "ExecuteTime": {
     "end_time": "2021-04-08T10:14:58.474918Z",
     "start_time": "2021-04-08T10:14:58.400Z"
    }
   },
   "outputs": [
    {
     "data": {
      "text/html": [
       "<style>\n",
       ".list-inline {list-style: none; margin:0; padding: 0}\n",
       ".list-inline>li {display: inline-block}\n",
       ".list-inline>li:not(:last-child)::after {content: \"\\00b7\"; padding: 0 .5ex}\n",
       "</style>\n",
       "<ol class=list-inline><li>1</li><li>-0.000895846133770477</li><li>-0.0752075594314517</li><li>-0.0410657963539457</li><li>-0.040092379434474</li><li>-0.0696748192035853</li><li>-0.0138059075677227</li><li>-0.0599032058989036</li><li>-0.00604007588659705</li><li>0.0638769324278714</li><li>0.0410742814828702</li><li>0.0433260155744231</li><li>0.0427193590273975</li><li>-0.0139690886853013</li><li>-0.0380215329797118</li><li>-0.0169620778739234</li><li>-0.0201214857077594</li><li>-0.0459361358406097</li><li>-0.0809215273011627</li><li>0.0353434268078928</li><li>0.109616682349672</li><li>0.00497918577499755</li><li>0.00195842130820482</li><li>0.00155499183426361</li><li>0.0398671304603273</li></ol>\n"
      ],
      "text/latex": [
       "\\begin{enumerate*}\n",
       "\\item 1\n",
       "\\item -0.000895846133770477\n",
       "\\item -0.0752075594314517\n",
       "\\item -0.0410657963539457\n",
       "\\item -0.040092379434474\n",
       "\\item -0.0696748192035853\n",
       "\\item -0.0138059075677227\n",
       "\\item -0.0599032058989036\n",
       "\\item -0.00604007588659705\n",
       "\\item 0.0638769324278714\n",
       "\\item 0.0410742814828702\n",
       "\\item 0.0433260155744231\n",
       "\\item 0.0427193590273975\n",
       "\\item -0.0139690886853013\n",
       "\\item -0.0380215329797118\n",
       "\\item -0.0169620778739234\n",
       "\\item -0.0201214857077594\n",
       "\\item -0.0459361358406097\n",
       "\\item -0.0809215273011627\n",
       "\\item 0.0353434268078928\n",
       "\\item 0.109616682349672\n",
       "\\item 0.00497918577499755\n",
       "\\item 0.00195842130820482\n",
       "\\item 0.00155499183426361\n",
       "\\item 0.0398671304603273\n",
       "\\end{enumerate*}\n"
      ],
      "text/markdown": [
       "1. 1\n",
       "2. -0.000895846133770477\n",
       "3. -0.0752075594314517\n",
       "4. -0.0410657963539457\n",
       "5. -0.040092379434474\n",
       "6. -0.0696748192035853\n",
       "7. -0.0138059075677227\n",
       "8. -0.0599032058989036\n",
       "9. -0.00604007588659705\n",
       "10. 0.0638769324278714\n",
       "11. 0.0410742814828702\n",
       "12. 0.0433260155744231\n",
       "13. 0.0427193590273975\n",
       "14. -0.0139690886853013\n",
       "15. -0.0380215329797118\n",
       "16. -0.0169620778739234\n",
       "17. -0.0201214857077594\n",
       "18. -0.0459361358406097\n",
       "19. -0.0809215273011627\n",
       "20. 0.0353434268078928\n",
       "21. 0.109616682349672\n",
       "22. 0.00497918577499755\n",
       "23. 0.00195842130820482\n",
       "24. 0.00155499183426361\n",
       "25. 0.0398671304603273\n",
       "\n",
       "\n"
      ],
      "text/plain": [
       ", , 1\n",
       "\n",
       "               [,1]\n",
       " [1,]  1.0000000000\n",
       " [2,] -0.0008958461\n",
       " [3,] -0.0752075594\n",
       " [4,] -0.0410657964\n",
       " [5,] -0.0400923794\n",
       " [6,] -0.0696748192\n",
       " [7,] -0.0138059076\n",
       " [8,] -0.0599032059\n",
       " [9,] -0.0060400759\n",
       "[10,]  0.0638769324\n",
       "[11,]  0.0410742815\n",
       "[12,]  0.0433260156\n",
       "[13,]  0.0427193590\n",
       "[14,] -0.0139690887\n",
       "[15,] -0.0380215330\n",
       "[16,] -0.0169620779\n",
       "[17,] -0.0201214857\n",
       "[18,] -0.0459361358\n",
       "[19,] -0.0809215273\n",
       "[20,]  0.0353434268\n",
       "[21,]  0.1096166823\n",
       "[22,]  0.0049791858\n",
       "[23,]  0.0019584213\n",
       "[24,]  0.0015549918\n",
       "[25,]  0.0398671305\n"
      ]
     },
     "metadata": {},
     "output_type": "display_data"
    },
    {
     "data": {
      "text/html": [
       "545"
      ],
      "text/latex": [
       "545"
      ],
      "text/markdown": [
       "545"
      ],
      "text/plain": [
       "[1] 545"
      ]
     },
     "metadata": {},
     "output_type": "display_data"
    },
    {
     "data": {
      "text/html": [
       "0.997293478101041"
      ],
      "text/latex": [
       "0.997293478101041"
      ],
      "text/markdown": [
       "0.997293478101041"
      ],
      "text/plain": [
       "[1] 0.9972935"
      ]
     },
     "metadata": {},
     "output_type": "display_data"
    },
    {
     "data": {
      "image/png": "[encoded data removed]",
      "text/plain": [
       "Plot with title \"Series  returns\""
      ]
     },
     "metadata": {
      "image/png": {
       "height": 420,
       "width": 420
      }
     },
     "output_type": "display_data"
    }
   ],
   "source": [
    "# 检验单个acf\n",
    "f1=acf(returns,lag=24)\n",
    "f1$acf\n",
    "tt=f1$acf[13]*sqrt(dim(da)[1])\n",
    "tt"
   ]
  },
  {
   "cell_type": "code",
   "execution_count": 64,
   "metadata": {
    "ExecuteTime": {
     "end_time": "2021-04-08T11:32:07.541489Z",
     "start_time": "2021-04-08T11:32:07.512Z"
    }
   },
   "outputs": [
    {
     "data": {
      "text/plain": [
       "\n",
       "\tBox-Ljung test\n",
       "\n",
       "data:  price\n",
       "X-squared = 5897.6, df = 12, p-value < 2.2e-16\n"
      ]
     },
     "metadata": {},
     "output_type": "display_data"
    },
    {
     "data": {
      "text/plain": [
       "\n",
       "\tBox-Ljung test\n",
       "\n",
       "data:  price_log\n",
       "X-squared = 5883.6, df = 12, p-value < 2.2e-16\n"
      ]
     },
     "metadata": {},
     "output_type": "display_data"
    }
   ],
   "source": [
    "# Ljung-Box Q statistics 白噪声检验\n",
    "# lnibm=log(ibm+1) # Transfer to log returns\n",
    "Box.test(price,lag=12,type='Ljung')\n",
    "Box.test(price_log,lag=12,type='Ljung')"
   ]
  },
  {
   "cell_type": "code",
   "execution_count": 65,
   "metadata": {
    "ExecuteTime": {
     "end_time": "2021-04-08T11:43:39.723972Z",
     "start_time": "2021-04-08T11:43:39.653Z"
    }
   },
   "outputs": [
    {
     "data": {
      "image/png": "[encoded data removed]",
      "text/plain": [
       "plot without title"
      ]
     },
     "metadata": {
      "image/png": {
       "height": 420,
       "width": 420
      }
     },
     "output_type": "display_data"
    }
   ],
   "source": [
    "# AR models\n",
    "par(mfcol=c(2,1))\n",
    "plot.ts(price)\n",
    "plot(returns,xlab='year',ylab='returns')"
   ]
  },
  {
   "cell_type": "code",
   "execution_count": 66,
   "metadata": {
    "ExecuteTime": {
     "end_time": "2021-04-08T11:44:50.015533Z",
     "start_time": "2021-04-08T11:44:49.921Z"
    }
   },
   "outputs": [
    {
     "data": {
      "image/png": "[encoded data removed]",
      "text/plain": [
       "Plot with title \"Series  returns\""
      ]
     },
     "metadata": {
      "image/png": {
       "height": 420,
       "width": 420
      }
     },
     "output_type": "display_data"
    },
    {
     "data": {
      "image/png": "[encoded data removed]",
      "text/plain": [
       "Plot with title \"Series  returns\""
      ]
     },
     "metadata": {
      "image/png": {
       "height": 420,
       "width": 420
      }
     },
     "output_type": "display_data"
    }
   ],
   "source": [
    "acf(returns,lag=12)\n",
    "pacf(returns,lag=12) # compute PACF"
   ]
  },
  {
   "cell_type": "code",
   "execution_count": 67,
   "metadata": {
    "ExecuteTime": {
     "end_time": "2021-04-08T11:45:50.775291Z",
     "start_time": "2021-04-08T11:45:50.658Z"
    }
   },
   "outputs": [
    {
     "data": {
      "text/plain": [
       "\n",
       "Call:\n",
       "arima(x = returns, order = c(3, 0, 0))\n",
       "\n",
       "Coefficients:\n",
       "          ar1      ar2      ar3  intercept\n",
       "      -0.0041  -0.0757  -0.0414      4e-04\n",
       "s.e.   0.0428   0.0431   0.0435      1e-03\n",
       "\n",
       "sigma^2 estimated as 0.0006331:  log likelihood = 1231.32,  aic = -2452.64"
      ]
     },
     "metadata": {},
     "output_type": "display_data"
    },
    {
     "data": {
      "text/plain": [
       "\n",
       "Call:\n",
       "arima(x = returns, order = c(1, 0, 0))\n",
       "\n",
       "Coefficients:\n",
       "          ar1  intercept\n",
       "      -0.0009     0.0004\n",
       "s.e.   0.0428     0.0011\n",
       "\n",
       "sigma^2 estimated as 0.0006379:  log likelihood = 1229.3,  aic = -2452.6"
      ]
     },
     "metadata": {},
     "output_type": "display_data"
    },
    {
     "data": {
      "text/plain": [
       "\n",
       "Call:\n",
       "arima(x = returns, order = c(2, 0, 0))\n",
       "\n",
       "Coefficients:\n",
       "          ar1      ar2  intercept\n",
       "      -0.0009  -0.0764      4e-04\n",
       "s.e.   0.0427   0.0431      1e-03\n",
       "\n",
       "sigma^2 estimated as 0.0006342:  log likelihood = 1230.87,  aic = -2453.74"
      ]
     },
     "metadata": {},
     "output_type": "display_data"
    },
    {
     "data": {
      "text/plain": [
       "\n",
       "Call:\n",
       "arima(x = returns, order = c(1, 0, 2))\n",
       "\n",
       "Coefficients:\n",
       "         ar1      ma1      ma2  intercept\n",
       "      0.6305  -0.6428  -0.0844      4e-04\n",
       "s.e.  0.1534   0.1566   0.0479      8e-04\n",
       "\n",
       "sigma^2 estimated as 0.0006288:  log likelihood = 1233.17,  aic = -2456.35"
      ]
     },
     "metadata": {},
     "output_type": "display_data"
    },
    {
     "name": "stderr",
     "output_type": "stream",
     "text": [
      "Warning message in sqrt(diag(x$var.coef)):\n",
      "\"产生了NaNs\"\n"
     ]
    },
    {
     "data": {
      "text/plain": [
       "\n",
       "Call:\n",
       "arima(x = returns, order = c(3, 0, 2))\n",
       "\n",
       "Coefficients:\n",
       "         ar1     ar2      ar3      ma1      ma2  intercept\n",
       "      0.2018  0.3057  -0.0449  -0.2136  -0.3901      4e-04\n",
       "s.e.     NaN     NaN      NaN      NaN      NaN      8e-04\n",
       "\n",
       "sigma^2 estimated as 0.0006287:  log likelihood = 1233.21,  aic = -2452.42"
      ]
     },
     "metadata": {},
     "output_type": "display_data"
    }
   ],
   "source": [
    "m1=arima(returns,order=c(3,0,0))\n",
    "m1\n",
    "m12=arima(returns,order=c(1,0,0))\n",
    "m12\n",
    "m13=arima(returns,order=c(2,0,0))\n",
    "m13\n",
    "m14=arima(returns,order=c(1,0,2))\n",
    "m14\n",
    "m15=arima(returns,order=c(3,0,2))\n",
    "m15"
   ]
  },
  {
   "cell_type": "code",
   "execution_count": 68,
   "metadata": {
    "ExecuteTime": {
     "end_time": "2021-04-08T11:48:27.164970Z",
     "start_time": "2021-04-08T11:48:27.053Z"
    }
   },
   "outputs": [
    {
     "data": {
      "image/png": "[encoded data removed]",
      "text/plain": [
       "Plot with title \"p values for Ljung-Box statistic\""
      ]
     },
     "metadata": {
      "image/png": {
       "height": 420,
       "width": 420
      }
     },
     "output_type": "display_data"
    }
   ],
   "source": [
    "tsdiag(m1,gof=12)  # model checking discussed later"
   ]
  },
  {
   "cell_type": "code",
   "execution_count": 69,
   "metadata": {
    "ExecuteTime": {
     "end_time": "2021-04-08T11:49:08.591610Z",
     "start_time": "2021-04-08T11:49:08.554Z"
    }
   },
   "outputs": [
    {
     "data": {
      "text/html": [
       "<style>\n",
       ".list-inline {list-style: none; margin:0; padding: 0}\n",
       ".list-inline>li {display: inline-block}\n",
       ".list-inline>li:not(:last-child)::after {content: \"\\00b7\"; padding: 0 .5ex}\n",
       "</style>\n",
       "<ol class=list-inline><li>0.90168739424242+2.41657440257449i</li><li>-3.63430149254582e+00-6e-14i</li><li>0.90168739424253-2.41657440257443i</li></ol>\n"
      ],
      "text/latex": [
       "\\begin{enumerate*}\n",
       "\\item 0.90168739424242+2.41657440257449i\n",
       "\\item -3.63430149254582e+00-6e-14i\n",
       "\\item 0.90168739424253-2.41657440257443i\n",
       "\\end{enumerate*}\n"
      ],
      "text/markdown": [
       "1. 0.90168739424242+2.41657440257449i\n",
       "2. -3.63430149254582e+00-6e-14i\n",
       "3. 0.90168739424253-2.41657440257443i\n",
       "\n",
       "\n"
      ],
      "text/plain": [
       "[1]  0.901687+2.416574i -3.634301-0.000000i  0.901687-2.416574i"
      ]
     },
     "metadata": {},
     "output_type": "display_data"
    },
    {
     "data": {
      "text/html": [
       "<style>\n",
       ".list-inline {list-style: none; margin:0; padding: 0}\n",
       ".list-inline>li {display: inline-block}\n",
       ".list-inline>li:not(:last-child)::after {content: \"\\00b7\"; padding: 0 .5ex}\n",
       "</style>\n",
       "<ol class=list-inline><li>2.57931618847204</li><li>3.63430149254582</li><li>2.57931618847202</li></ol>\n"
      ],
      "text/latex": [
       "\\begin{enumerate*}\n",
       "\\item 2.57931618847204\n",
       "\\item 3.63430149254582\n",
       "\\item 2.57931618847202\n",
       "\\end{enumerate*}\n"
      ],
      "text/markdown": [
       "1. 2.57931618847204\n",
       "2. 3.63430149254582\n",
       "3. 2.57931618847202\n",
       "\n",
       "\n"
      ],
      "text/plain": [
       "[1] 2.579316 3.634301 2.579316"
      ]
     },
     "metadata": {},
     "output_type": "display_data"
    },
    {
     "data": {
      "text/html": [
       "12.7952284502412"
      ],
      "text/latex": [
       "12.7952284502412"
      ],
      "text/markdown": [
       "12.7952284502412"
      ],
      "text/plain": [
       "[1] 12.79523"
      ]
     },
     "metadata": {},
     "output_type": "display_data"
    }
   ],
   "source": [
    "p1=c(1,-m1$coef[1:3]) # set-up the polynomial\n",
    "r1=polyroot(p1) # solve the polynomial equation\n",
    "r1\n",
    "Mod(r1)\n",
    "k=2*pi/acos(1.616116/1.832674) # compute length of the period\n",
    "k"
   ]
  },
  {
   "cell_type": "code",
   "execution_count": 73,
   "metadata": {
    "ExecuteTime": {
     "end_time": "2021-04-08T11:52:15.155840Z",
     "start_time": "2021-04-08T11:52:15.000Z"
    }
   },
   "outputs": [
    {
     "data": {
      "text/html": [
       "0"
      ],
      "text/latex": [
       "0"
      ],
      "text/markdown": [
       "0"
      ],
      "text/plain": [
       "[1] 0"
      ]
     },
     "metadata": {},
     "output_type": "display_data"
    },
    {
     "name": "stdout",
     "output_type": "stream",
     "text": [
      "    0     1     2     3     4     5     6     7     8     9    10    11    12 \n",
      "0.000 2.000 0.918 1.984 2.819 1.439 3.141 1.879 3.701 4.580 6.211 7.126 8.023 \n"
     ]
    },
    {
     "data": {
      "image/png": "[encoded data removed]",
      "text/plain": [
       "plot without title"
      ]
     },
     "metadata": {
      "image/png": {
       "height": 420,
       "width": 420
      }
     },
     "output_type": "display_data"
    }
   ],
   "source": [
    "####AR order identification \n",
    "mm1=ar(returns,method='mle')\n",
    "mm1$order # Find the identified order \n",
    "print(mm1$aic,digits=3)\n",
    "aic=mm1$aic  # For plotting below.\n",
    "plot(c(0:(length(aic)-1)),aic,type='h',xlab='order',ylab='aic')\n",
    "lines(0:(length(aic)-1),aic,lty=2)"
   ]
  },
  {
   "cell_type": "code",
   "execution_count": null,
   "metadata": {},
   "outputs": [],
   "source": []
  }
 ],
 "metadata": {
  "kernelspec": {
   "display_name": "R",
   "language": "R",
   "name": "ir"
  },
  "language_info": {
   "codemirror_mode": "r",
   "file_extension": ".r",
   "mimetype": "text/x-r-source",
   "name": "R",
   "pygments_lexer": "r",
   "version": "4.0.1"
  },
  "toc": {
   "base_numbering": 1,
   "nav_menu": {},
   "number_sections": true,
   "sideBar": true,
   "skip_h1_title": false,
   "title_cell": "Table of Contents",
   "title_sidebar": "Contents",
   "toc_cell": false,
   "toc_position": {},
   "toc_section_display": true,
   "toc_window_display": false
  },
  "varInspector": {
   "cols": {
    "lenName": 16,
    "lenType": 16,
    "lenVar": 40
   },
   "kernels_config": {
    "python": {
     "delete_cmd_postfix": "",
     "delete_cmd_prefix": "del ",
     "library": "var_list.py",
     "varRefreshCmd": "print(var_dic_list())"
    },
    "r": {
     "delete_cmd_postfix": ") ",
     "delete_cmd_prefix": "rm(",
     "library": "var_list.r",
     "varRefreshCmd": "cat(var_dic_list()) "
    }
   },
   "types_to_exclude": [
    "module",
    "function",
    "builtin_function_or_method",
    "instance",
    "_Feature"
   ],
   "window_display": false
  }
 },
 "nbformat": 4,
 "nbformat_minor": 4
}
