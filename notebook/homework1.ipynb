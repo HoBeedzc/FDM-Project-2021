{
 "cells": [
  {
   "cell_type": "code",
   "execution_count": 3,
   "metadata": {
    "ExecuteTime": {
     "end_time": "2021-04-11T11:48:57.268651Z",
     "start_time": "2021-04-11T11:48:55.872Z"
    }
   },
   "outputs": [
    {
     "name": "stderr",
     "output_type": "stream",
     "text": [
      "\n",
      "Attaching package: 'zoo'\n",
      "\n",
      "\n",
      "The following objects are masked from 'package:base':\n",
      "\n",
      "    as.Date, as.Date.numeric\n",
      "\n",
      "\n",
      "Warning message:\n",
      "\"package 'forecast' was built under R version 4.0.5\"\n",
      "Registered S3 method overwritten by 'quantmod':\n",
      "  method            from\n",
      "  as.zoo.data.frame zoo \n",
      "\n",
      "Warning message:\n",
      "\"package 'readxl' was built under R version 4.0.5\"\n",
      "Warning message:\n",
      "\"package 'urca' was built under R version 4.0.5\"\n",
      "Warning message:\n",
      "\"package 'fUnitRoots' was built under R version 4.0.5\"\n",
      "Loading required package: timeDate\n",
      "\n",
      "Loading required package: timeSeries\n",
      "\n",
      "\n",
      "Attaching package: 'timeSeries'\n",
      "\n",
      "\n",
      "The following object is masked from 'package:zoo':\n",
      "\n",
      "    time<-\n",
      "\n",
      "\n",
      "Loading required package: fBasics\n",
      "\n",
      "Warning message:\n",
      "\"package 'fBasics' was built under R version 4.0.2\"\n",
      "\n",
      "Attaching package: 'fUnitRoots'\n",
      "\n",
      "\n",
      "The following objects are masked from 'package:urca':\n",
      "\n",
      "    punitroot, qunitroot, unitrootTable\n",
      "\n",
      "\n"
     ]
    }
   ],
   "source": [
    "library('zoo')\n",
    "library('forecast')\n",
    "library('readxl')\n",
    "library('urca')\n",
    "library('tseries')\n",
    "library('fUnitRoots')"
   ]
  },
  {
   "cell_type": "code",
   "execution_count": 4,
   "metadata": {
    "ExecuteTime": {
     "end_time": "2021-04-11T11:48:57.362685Z",
     "start_time": "2021-04-11T11:48:56.894Z"
    }
   },
   "outputs": [
    {
     "data": {
      "text/html": [
       "<table class=\"dataframe\">\n",
       "<caption>A data.frame: 6 × 2</caption>\n",
       "<thead>\n",
       "\t<tr><th></th><th scope=col>V1</th><th scope=col>V2</th></tr>\n",
       "\t<tr><th></th><th scope=col>&lt;chr&gt;</th><th scope=col>&lt;dbl&gt;</th></tr>\n",
       "</thead>\n",
       "<tbody>\n",
       "\t<tr><th scope=row>1</th><td>1972/1/10</td><td>304.63</td></tr>\n",
       "\t<tr><th scope=row>2</th><td>1972/1/17</td><td>307.63</td></tr>\n",
       "\t<tr><th scope=row>3</th><td>1972/1/24</td><td>309.38</td></tr>\n",
       "\t<tr><th scope=row>4</th><td>1972/1/31</td><td>318.75</td></tr>\n",
       "\t<tr><th scope=row>5</th><td>1972/2/7 </td><td>314.75</td></tr>\n",
       "\t<tr><th scope=row>6</th><td>1972/2/14</td><td>314.38</td></tr>\n",
       "</tbody>\n",
       "</table>\n"
      ],
      "text/latex": [
       "A data.frame: 6 × 2\n",
       "\\begin{tabular}{r|ll}\n",
       "  & V1 & V2\\\\\n",
       "  & <chr> & <dbl>\\\\\n",
       "\\hline\n",
       "\t1 & 1972/1/10 & 304.63\\\\\n",
       "\t2 & 1972/1/17 & 307.63\\\\\n",
       "\t3 & 1972/1/24 & 309.38\\\\\n",
       "\t4 & 1972/1/31 & 318.75\\\\\n",
       "\t5 & 1972/2/7  & 314.75\\\\\n",
       "\t6 & 1972/2/14 & 314.38\\\\\n",
       "\\end{tabular}\n"
      ],
      "text/markdown": [
       "\n",
       "A data.frame: 6 × 2\n",
       "\n",
       "| <!--/--> | V1 &lt;chr&gt; | V2 &lt;dbl&gt; |\n",
       "|---|---|---|\n",
       "| 1 | 1972/1/10 | 304.63 |\n",
       "| 2 | 1972/1/17 | 307.63 |\n",
       "| 3 | 1972/1/24 | 309.38 |\n",
       "| 4 | 1972/1/31 | 318.75 |\n",
       "| 5 | 1972/2/7  | 314.75 |\n",
       "| 6 | 1972/2/14 | 314.38 |\n",
       "\n"
      ],
      "text/plain": [
       "  V1        V2    \n",
       "1 1972/1/10 304.63\n",
       "2 1972/1/17 307.63\n",
       "3 1972/1/24 309.38\n",
       "4 1972/1/31 318.75\n",
       "5 1972/2/7  314.75\n",
       "6 1972/2/14 314.38"
      ]
     },
     "metadata": {},
     "output_type": "display_data"
    }
   ],
   "source": [
    "data <- read.csv(\"../dataset/期货价格数据/使用数据/CBOT大豆周连续.csv\",head=F)\n",
    "head(data)"
   ]
  },
  {
   "cell_type": "code",
   "execution_count": 5,
   "metadata": {
    "ExecuteTime": {
     "end_time": "2021-04-11T11:48:58.262889Z",
     "start_time": "2021-04-11T11:48:58.228Z"
    }
   },
   "outputs": [
    {
     "data": {
      "text/html": [
       "<table class=\"dataframe\">\n",
       "<caption>A Time Series: 6 × 1</caption>\n",
       "<thead>\n",
       "\t<tr><th scope=col>V2</th></tr>\n",
       "</thead>\n",
       "<tbody>\n",
       "\t<tr><td>304.63</td></tr>\n",
       "\t<tr><td>307.63</td></tr>\n",
       "\t<tr><td>309.38</td></tr>\n",
       "\t<tr><td>318.75</td></tr>\n",
       "\t<tr><td>314.75</td></tr>\n",
       "\t<tr><td>314.38</td></tr>\n",
       "</tbody>\n",
       "</table>\n"
      ],
      "text/latex": [
       "A Time Series: 6 × 1\n",
       "\\begin{tabular}{l}\n",
       " V2\\\\\n",
       "\\hline\n",
       "\t 304.63\\\\\n",
       "\t 307.63\\\\\n",
       "\t 309.38\\\\\n",
       "\t 318.75\\\\\n",
       "\t 314.75\\\\\n",
       "\t 314.38\\\\\n",
       "\\end{tabular}\n"
      ],
      "text/markdown": [
       "\n",
       "A Time Series: 6 × 1\n",
       "\n",
       "| V2 |\n",
       "|---|\n",
       "| 304.63 |\n",
       "| 307.63 |\n",
       "| 309.38 |\n",
       "| 318.75 |\n",
       "| 314.75 |\n",
       "| 314.38 |\n",
       "\n"
      ],
      "text/plain": [
       "     V2    \n",
       "[1,] 304.63\n",
       "[2,] 307.63\n",
       "[3,] 309.38\n",
       "[4,] 318.75\n",
       "[5,] 314.75\n",
       "[6,] 314.38"
      ]
     },
     "metadata": {},
     "output_type": "display_data"
    }
   ],
   "source": [
    "data2 <- data[2]\n",
    "data_ts <- ts(data2,start=1,frequency=52)\n",
    "head(data_ts)"
   ]
  },
  {
   "cell_type": "code",
   "execution_count": 6,
   "metadata": {
    "ExecuteTime": {
     "end_time": "2021-04-11T11:48:59.456481Z",
     "start_time": "2021-04-11T11:48:59.362Z"
    }
   },
   "outputs": [
    {
     "data": {
      "image/png": "[encoded data removed]",
      "text/plain": [
       "plot without title"
      ]
     },
     "metadata": {
      "image/png": {
       "height": 420,
       "width": 420
      }
     },
     "output_type": "display_data"
    }
   ],
   "source": [
    "plot.ts(data_ts)"
   ]
  },
  {
   "cell_type": "code",
   "execution_count": 7,
   "metadata": {
    "ExecuteTime": {
     "end_time": "2021-04-11T11:49:00.241744Z",
     "start_time": "2021-04-11T11:49:00.128Z"
    }
   },
   "outputs": [
    {
     "data": {
      "image/png": "[encoded data removed]",
      "text/plain": [
       "plot without title"
      ]
     },
     "metadata": {
      "image/png": {
       "height": 420,
       "width": 420
      }
     },
     "output_type": "display_data"
    }
   ],
   "source": [
    "# par(pin = c(6,4))\n",
    "datalog <- log(data_ts)\n",
    "datadiff <- diff(datalog, differences=1)\n",
    "plot.ts(datadiff)"
   ]
  },
  {
   "cell_type": "markdown",
   "metadata": {
    "ExecuteTime": {
     "end_time": "2021-04-08T09:35:52.791249Z",
     "start_time": "2021-04-08T09:35:52.771Z"
    }
   },
   "source": [
    "# 上面都是在胡扯\n",
    "# 下面是根据老师的代码写的"
   ]
  },
  {
   "cell_type": "code",
   "execution_count": 8,
   "metadata": {
    "ExecuteTime": {
     "end_time": "2021-04-11T11:49:01.762101Z",
     "start_time": "2021-04-11T11:49:01.722Z"
    }
   },
   "outputs": [
    {
     "data": {
      "text/html": [
       "<table class=\"dataframe\">\n",
       "<caption>A data.frame: 6 × 2</caption>\n",
       "<thead>\n",
       "\t<tr><th></th><th scope=col>date</th><th scope=col>price</th></tr>\n",
       "\t<tr><th></th><th scope=col>&lt;chr&gt;</th><th scope=col>&lt;dbl&gt;</th></tr>\n",
       "</thead>\n",
       "<tbody>\n",
       "\t<tr><th scope=row>1</th><td>2008/1/14</td><td>223.30</td></tr>\n",
       "\t<tr><th scope=row>2</th><td>2008/1/21</td><td>223.80</td></tr>\n",
       "\t<tr><th scope=row>3</th><td>2008/1/28</td><td>206.42</td></tr>\n",
       "\t<tr><th scope=row>4</th><td>2008/2/4 </td><td>222.56</td></tr>\n",
       "\t<tr><th scope=row>5</th><td>2008/2/11</td><td>215.26</td></tr>\n",
       "\t<tr><th scope=row>6</th><td>2008/2/18</td><td>213.69</td></tr>\n",
       "</tbody>\n",
       "</table>\n"
      ],
      "text/latex": [
       "A data.frame: 6 × 2\n",
       "\\begin{tabular}{r|ll}\n",
       "  & date & price\\\\\n",
       "  & <chr> & <dbl>\\\\\n",
       "\\hline\n",
       "\t1 & 2008/1/14 & 223.30\\\\\n",
       "\t2 & 2008/1/21 & 223.80\\\\\n",
       "\t3 & 2008/1/28 & 206.42\\\\\n",
       "\t4 & 2008/2/4  & 222.56\\\\\n",
       "\t5 & 2008/2/11 & 215.26\\\\\n",
       "\t6 & 2008/2/18 & 213.69\\\\\n",
       "\\end{tabular}\n"
      ],
      "text/markdown": [
       "\n",
       "A data.frame: 6 × 2\n",
       "\n",
       "| <!--/--> | date &lt;chr&gt; | price &lt;dbl&gt; |\n",
       "|---|---|---|\n",
       "| 1 | 2008/1/14 | 223.30 |\n",
       "| 2 | 2008/1/21 | 223.80 |\n",
       "| 3 | 2008/1/28 | 206.42 |\n",
       "| 4 | 2008/2/4  | 222.56 |\n",
       "| 5 | 2008/2/11 | 215.26 |\n",
       "| 6 | 2008/2/18 | 213.69 |\n",
       "\n"
      ],
      "text/plain": [
       "  date      price \n",
       "1 2008/1/14 223.30\n",
       "2 2008/1/21 223.80\n",
       "3 2008/1/28 206.42\n",
       "4 2008/2/4  222.56\n",
       "5 2008/2/11 215.26\n",
       "6 2008/2/18 213.69"
      ]
     },
     "metadata": {},
     "output_type": "display_data"
    }
   ],
   "source": [
    "# 设置工作目录并读取数据\n",
    "setwd('../dataset/期货价格数据/使用数据/')\n",
    "da <- read.csv(\"./黄金周数据.csv\",head=F)\n",
    "names(da) <- c('date','price')\n",
    "head(da)"
   ]
  },
  {
   "cell_type": "code",
   "execution_count": 9,
   "metadata": {
    "ExecuteTime": {
     "end_time": "2021-04-11T11:49:02.684884Z",
     "start_time": "2021-04-11T11:49:02.590Z"
    }
   },
   "outputs": [
    {
     "data": {
      "text/html": [
       "A Time Series:<br><style>\n",
       ".list-inline {list-style: none; margin:0; padding: 0}\n",
       ".list-inline>li {display: inline-block}\n",
       ".list-inline>li:not(:last-child)::after {content: \"\\00b7\"; padding: 0 .5ex}\n",
       "</style>\n",
       "<ol class=list-inline><li>223.3</li><li>223.8</li><li>206.42</li><li>222.56</li><li>215.26</li><li>213.69</li></ol>\n"
      ],
      "text/latex": [
       "A Time Series:\\\\\\begin{enumerate*}\n",
       "\\item 223.3\n",
       "\\item 223.8\n",
       "\\item 206.42\n",
       "\\item 222.56\n",
       "\\item 215.26\n",
       "\\item 213.69\n",
       "\\end{enumerate*}\n"
      ],
      "text/markdown": [
       "A Time Series:  \n",
       "1. 223.3\n",
       "2. 223.8\n",
       "3. 206.42\n",
       "4. 222.56\n",
       "5. 215.26\n",
       "6. 213.69\n",
       "\n",
       "\n"
      ],
      "text/plain": [
       "A Time Series:\n",
       "[1] 223.30 223.80 206.42 222.56 215.26 213.69"
      ]
     },
     "metadata": {},
     "output_type": "display_data"
    },
    {
     "data": {
      "image/png": "[encoded data removed]",
      "text/plain": [
       "Plot with title \"Series  price\""
      ]
     },
     "metadata": {
      "image/png": {
       "height": 420,
       "width": 420
      }
     },
     "output_type": "display_data"
    }
   ],
   "source": [
    "# 转换为时间序列\n",
    "price = ts(da$price,frequency=52,start=c(1972,1,10))\n",
    "head(price)\n",
    "par(mfcol = c(3,1))\n",
    "plot.ts(price)\n",
    "acf(price,lag=52)\n",
    "pacf(price,lag=52)"
   ]
  },
  {
   "cell_type": "markdown",
   "metadata": {},
   "source": [
    "从上图中可以看到，数据具有一定的趋势性，黄金的价格随着经济的增长和衰退呈现趋势性变化，对其进行自相关检验和偏自相关检验即可发现，其自相关图为拖尾结构，偏自相关图为2阶截尾结构，故根据 ACF 和 PACF 定阶准则，我们应选择AM(2)模型对数据进行建模。"
   ]
  },
  {
   "cell_type": "code",
   "execution_count": 10,
   "metadata": {
    "ExecuteTime": {
     "end_time": "2021-04-11T11:49:04.136409Z",
     "start_time": "2021-04-11T11:49:04.102Z"
    }
   },
   "outputs": [
    {
     "data": {
      "text/plain": [
       "\n",
       "Title:\n",
       " Augmented Dickey-Fuller Test\n",
       "\n",
       "Test Results:\n",
       "  PARAMETER:\n",
       "    Lag Order: 0\n",
       "  STATISTIC:\n",
       "    Dickey-Fuller: -1.7499\n",
       "  P VALUE:\n",
       "    0.6842 \n",
       "\n",
       "Description:\n",
       " Sun Apr 11 19:49:04 2021 by user: 11973\n"
      ]
     },
     "metadata": {},
     "output_type": "display_data"
    }
   ],
   "source": [
    "# 进行adf检验\n",
    "# adf.test(price,k=1)\n",
    "# adf.test(returns,k=1)\n",
    "adfTest(price, lags = 0, type = 'ct')\n",
    "# 无法通过adf检验，故序列不平稳，因此取对数差分消除趋势之后再进行模型的建立。"
   ]
  },
  {
   "cell_type": "code",
   "execution_count": 11,
   "metadata": {
    "ExecuteTime": {
     "end_time": "2021-04-11T11:49:04.784121Z",
     "start_time": "2021-04-11T11:49:04.749Z"
    }
   },
   "outputs": [
    {
     "data": {
      "text/html": [
       "A Time Series:<br><style>\n",
       ".list-inline {list-style: none; margin:0; padding: 0}\n",
       ".list-inline>li {display: inline-block}\n",
       ".list-inline>li:not(:last-child)::after {content: \"\\00b7\"; padding: 0 .5ex}\n",
       "</style>\n",
       "<ol class=list-inline><li>0.00223663703171262</li><li>-0.0808398677400373</li><li>0.0752838000373455</li><li>-0.0333501283389808</li><li>-0.00732023317778019</li><li>0.0217102979275481</li></ol>\n"
      ],
      "text/latex": [
       "A Time Series:\\\\\\begin{enumerate*}\n",
       "\\item 0.00223663703171262\n",
       "\\item -0.0808398677400373\n",
       "\\item 0.0752838000373455\n",
       "\\item -0.0333501283389808\n",
       "\\item -0.00732023317778019\n",
       "\\item 0.0217102979275481\n",
       "\\end{enumerate*}\n"
      ],
      "text/markdown": [
       "A Time Series:  \n",
       "1. 0.00223663703171262\n",
       "2. -0.0808398677400373\n",
       "3. 0.0752838000373455\n",
       "4. -0.0333501283389808\n",
       "5. -0.00732023317778019\n",
       "6. 0.0217102979275481\n",
       "\n",
       "\n"
      ],
      "text/plain": [
       "A Time Series:\n",
       "[1]  0.002236637 -0.080839868  0.075283800 -0.033350128 -0.007320233\n",
       "[6]  0.021710298"
      ]
     },
     "metadata": {},
     "output_type": "display_data"
    },
    {
     "data": {
      "text/html": [
       "A Time Series:<br><style>\n",
       ".list-inline {list-style: none; margin:0; padding: 0}\n",
       ".list-inline>li {display: inline-block}\n",
       ".list-inline>li:not(:last-child)::after {content: \"\\00b7\"; padding: 0 .5ex}\n",
       "</style>\n",
       "<ol class=list-inline><li>0.5</li><li>-17.38</li><li>16.14</li><li>-7.30000000000001</li><li>-1.56999999999999</li><li>4.69</li></ol>\n"
      ],
      "text/latex": [
       "A Time Series:\\\\\\begin{enumerate*}\n",
       "\\item 0.5\n",
       "\\item -17.38\n",
       "\\item 16.14\n",
       "\\item -7.30000000000001\n",
       "\\item -1.56999999999999\n",
       "\\item 4.69\n",
       "\\end{enumerate*}\n"
      ],
      "text/markdown": [
       "A Time Series:  \n",
       "1. 0.5\n",
       "2. -17.38\n",
       "3. 16.14\n",
       "4. -7.30000000000001\n",
       "5. -1.56999999999999\n",
       "6. 4.69\n",
       "\n",
       "\n"
      ],
      "text/plain": [
       "A Time Series:\n",
       "[1]   0.50 -17.38  16.14  -7.30  -1.57   4.69"
      ]
     },
     "metadata": {},
     "output_type": "display_data"
    }
   ],
   "source": [
    "# 计算对数差分收益率\n",
    "price_log <- log(price)\n",
    "returns <- diff(price_log, differences=1)\n",
    "head(returns)\n",
    "sample_returns <- diff(price,differences = 1)\n",
    "head(sample_returns)"
   ]
  },
  {
   "cell_type": "code",
   "execution_count": 12,
   "metadata": {
    "ExecuteTime": {
     "end_time": "2021-04-11T11:49:05.463465Z",
     "start_time": "2021-04-11T11:49:05.363Z"
    }
   },
   "outputs": [
    {
     "name": "stderr",
     "output_type": "stream",
     "text": [
      "Warning message in adfTest(sample_returns, lags = 0, type = \"ct\"):\n",
      "\"p-value smaller than printed p-value\"\n"
     ]
    },
    {
     "data": {
      "text/plain": [
       "\n",
       "Title:\n",
       " Augmented Dickey-Fuller Test\n",
       "\n",
       "Test Results:\n",
       "  PARAMETER:\n",
       "    Lag Order: 0\n",
       "  STATISTIC:\n",
       "    Dickey-Fuller: -23.1068\n",
       "  P VALUE:\n",
       "    0.01 \n",
       "\n",
       "Description:\n",
       " Sun Apr 11 19:49:05 2021 by user: 11973\n"
      ]
     },
     "metadata": {},
     "output_type": "display_data"
    },
    {
     "data": {
      "image/png": "[encoded data removed]",
      "text/plain": [
       "Plot with title \"Series  sample_returns\""
      ]
     },
     "metadata": {
      "image/png": {
       "height": 420,
       "width": 420
      }
     },
     "output_type": "display_data"
    }
   ],
   "source": [
    "# 进行acf检验\n",
    "par(mfcol = c(3,1))\n",
    "plot(sample_returns,xlab='year',ylab='returns')\n",
    "title(main='(a): Simple returns')\n",
    "acf(sample_returns,lag=52)\n",
    "pacf(sample_returns,lag=52)\n",
    "# acf 1阶截尾， pacf 0 阶截尾 ， 故建立 101 arma模型\n",
    "adfTest(sample_returns, lags = 0, type = 'ct')\n",
    "# adf 检验通过，序列平稳 （这个检验放在acf之前说）"
   ]
  },
  {
   "cell_type": "code",
   "execution_count": 13,
   "metadata": {
    "ExecuteTime": {
     "end_time": "2021-04-11T11:49:06.311083Z",
     "start_time": "2021-04-11T11:49:06.223Z"
    }
   },
   "outputs": [
    {
     "data": {
      "text/html": [
       "<style>\n",
       ".list-inline {list-style: none; margin:0; padding: 0}\n",
       ".list-inline>li {display: inline-block}\n",
       ".list-inline>li:not(:last-child)::after {content: \"\\00b7\"; padding: 0 .5ex}\n",
       "</style>\n",
       "<ol class=list-inline><li>1</li><li>-0.000895846133770477</li><li>-0.0752075594314517</li><li>-0.0410657963539457</li><li>-0.040092379434474</li><li>-0.0696748192035853</li><li>-0.0138059075677227</li><li>-0.0599032058989036</li><li>-0.00604007588659705</li><li>0.0638769324278714</li><li>0.0410742814828702</li><li>0.0433260155744231</li><li>0.0427193590273975</li><li>-0.0139690886853013</li><li>-0.0380215329797118</li><li>-0.0169620778739234</li><li>-0.0201214857077594</li><li>-0.0459361358406097</li><li>-0.0809215273011627</li><li>0.0353434268078928</li><li>0.109616682349672</li><li>0.00497918577499755</li><li>0.00195842130820482</li><li>0.00155499183426361</li><li>0.0398671304603273</li></ol>\n"
      ],
      "text/latex": [
       "\\begin{enumerate*}\n",
       "\\item 1\n",
       "\\item -0.000895846133770477\n",
       "\\item -0.0752075594314517\n",
       "\\item -0.0410657963539457\n",
       "\\item -0.040092379434474\n",
       "\\item -0.0696748192035853\n",
       "\\item -0.0138059075677227\n",
       "\\item -0.0599032058989036\n",
       "\\item -0.00604007588659705\n",
       "\\item 0.0638769324278714\n",
       "\\item 0.0410742814828702\n",
       "\\item 0.0433260155744231\n",
       "\\item 0.0427193590273975\n",
       "\\item -0.0139690886853013\n",
       "\\item -0.0380215329797118\n",
       "\\item -0.0169620778739234\n",
       "\\item -0.0201214857077594\n",
       "\\item -0.0459361358406097\n",
       "\\item -0.0809215273011627\n",
       "\\item 0.0353434268078928\n",
       "\\item 0.109616682349672\n",
       "\\item 0.00497918577499755\n",
       "\\item 0.00195842130820482\n",
       "\\item 0.00155499183426361\n",
       "\\item 0.0398671304603273\n",
       "\\end{enumerate*}\n"
      ],
      "text/markdown": [
       "1. 1\n",
       "2. -0.000895846133770477\n",
       "3. -0.0752075594314517\n",
       "4. -0.0410657963539457\n",
       "5. -0.040092379434474\n",
       "6. -0.0696748192035853\n",
       "7. -0.0138059075677227\n",
       "8. -0.0599032058989036\n",
       "9. -0.00604007588659705\n",
       "10. 0.0638769324278714\n",
       "11. 0.0410742814828702\n",
       "12. 0.0433260155744231\n",
       "13. 0.0427193590273975\n",
       "14. -0.0139690886853013\n",
       "15. -0.0380215329797118\n",
       "16. -0.0169620778739234\n",
       "17. -0.0201214857077594\n",
       "18. -0.0459361358406097\n",
       "19. -0.0809215273011627\n",
       "20. 0.0353434268078928\n",
       "21. 0.109616682349672\n",
       "22. 0.00497918577499755\n",
       "23. 0.00195842130820482\n",
       "24. 0.00155499183426361\n",
       "25. 0.0398671304603273\n",
       "\n",
       "\n"
      ],
      "text/plain": [
       ", , 1\n",
       "\n",
       "               [,1]\n",
       " [1,]  1.0000000000\n",
       " [2,] -0.0008958461\n",
       " [3,] -0.0752075594\n",
       " [4,] -0.0410657964\n",
       " [5,] -0.0400923794\n",
       " [6,] -0.0696748192\n",
       " [7,] -0.0138059076\n",
       " [8,] -0.0599032059\n",
       " [9,] -0.0060400759\n",
       "[10,]  0.0638769324\n",
       "[11,]  0.0410742815\n",
       "[12,]  0.0433260156\n",
       "[13,]  0.0427193590\n",
       "[14,] -0.0139690887\n",
       "[15,] -0.0380215330\n",
       "[16,] -0.0169620779\n",
       "[17,] -0.0201214857\n",
       "[18,] -0.0459361358\n",
       "[19,] -0.0809215273\n",
       "[20,]  0.0353434268\n",
       "[21,]  0.1096166823\n",
       "[22,]  0.0049791858\n",
       "[23,]  0.0019584213\n",
       "[24,]  0.0015549918\n",
       "[25,]  0.0398671305\n"
      ]
     },
     "metadata": {},
     "output_type": "display_data"
    },
    {
     "data": {
      "text/html": [
       "0.997293478101041"
      ],
      "text/latex": [
       "0.997293478101041"
      ],
      "text/markdown": [
       "0.997293478101041"
      ],
      "text/plain": [
       "[1] 0.9972935"
      ]
     },
     "metadata": {},
     "output_type": "display_data"
    },
    {
     "data": {
      "image/png": "[encoded data removed]",
      "text/plain": [
       "Plot with title \"Series  returns\""
      ]
     },
     "metadata": {
      "image/png": {
       "height": 420,
       "width": 420
      }
     },
     "output_type": "display_data"
    }
   ],
   "source": [
    "# 检验单个acf 这段不知道在干什么\n",
    "f1=acf(returns,lag=24)\n",
    "f1$acf\n",
    "tt=f1$acf[13]*sqrt(dim(da)[1])\n",
    "tt"
   ]
  },
  {
   "cell_type": "code",
   "execution_count": 14,
   "metadata": {
    "ExecuteTime": {
     "end_time": "2021-04-11T11:49:06.822851Z",
     "start_time": "2021-04-11T11:49:06.794Z"
    }
   },
   "outputs": [
    {
     "data": {
      "text/plain": [
       "\n",
       "\tBox-Ljung test\n",
       "\n",
       "data:  sample_returns\n",
       "X-squared = 9.0497, df = 6.2989, p-value = 0.1928\n"
      ]
     },
     "metadata": {},
     "output_type": "display_data"
    }
   ],
   "source": [
    "# Ljung-Box Q statistics 白噪声检验\n",
    "# lnibm=log(ibm+1) # Transfer to log returns\n",
    "Box.test(sample_returns,lag=log(length(sample_returns)),type='Ljung')\n",
    "# Box.test(price_log,lag=12,type='Ljung')\n",
    "# "
   ]
  },
  {
   "cell_type": "code",
   "execution_count": 15,
   "metadata": {
    "ExecuteTime": {
     "end_time": "2021-04-11T11:49:07.223318Z",
     "start_time": "2021-04-11T11:49:07.144Z"
    }
   },
   "outputs": [
    {
     "data": {
      "image/png": "[encoded data removed]",
      "text/plain": [
       "plot without title"
      ]
     },
     "metadata": {
      "image/png": {
       "height": 420,
       "width": 420
      }
     },
     "output_type": "display_data"
    }
   ],
   "source": [
    "# AR models\n",
    "par(mfcol=c(2,1))\n",
    "plot.ts(price)\n",
    "plot(returns,xlab='year',ylab='returns')"
   ]
  },
  {
   "cell_type": "code",
   "execution_count": 16,
   "metadata": {
    "ExecuteTime": {
     "end_time": "2021-04-11T11:49:08.078486Z",
     "start_time": "2021-04-11T11:49:07.979Z"
    }
   },
   "outputs": [
    {
     "data": {
      "image/png": "[encoded data removed]",
      "text/plain": [
       "Plot with title \"Series  returns\""
      ]
     },
     "metadata": {
      "image/png": {
       "height": 420,
       "width": 420
      }
     },
     "output_type": "display_data"
    },
    {
     "data": {
      "image/png": "[encoded data removed]",
      "text/plain": [
       "Plot with title \"Series  returns\""
      ]
     },
     "metadata": {
      "image/png": {
       "height": 420,
       "width": 420
      }
     },
     "output_type": "display_data"
    }
   ],
   "source": [
    "acf(returns,lag=12)\n",
    "pacf(returns,lag=12) # compute PACF"
   ]
  },
  {
   "cell_type": "code",
   "execution_count": null,
   "metadata": {
    "ExecuteTime": {
     "start_time": "2021-04-11T11:49:09.759Z"
    }
   },
   "outputs": [
    {
     "data": {
      "text/plain": [
       "\n",
       "Call:\n",
       "arima(x = returns, order = c(3, 0, 0))\n",
       "\n",
       "Coefficients:\n",
       "          ar1      ar2      ar3  intercept\n",
       "      -0.0041  -0.0757  -0.0414      4e-04\n",
       "s.e.   0.0428   0.0431   0.0435      1e-03\n",
       "\n",
       "sigma^2 estimated as 0.0006331:  log likelihood = 1231.32,  aic = -2452.64"
      ]
     },
     "metadata": {},
     "output_type": "display_data"
    },
    {
     "data": {
      "text/plain": [
       "\n",
       "Call:\n",
       "arima(x = returns, order = c(1, 0, 0))\n",
       "\n",
       "Coefficients:\n",
       "          ar1  intercept\n",
       "      -0.0009     0.0004\n",
       "s.e.   0.0428     0.0011\n",
       "\n",
       "sigma^2 estimated as 0.0006379:  log likelihood = 1229.3,  aic = -2452.6"
      ]
     },
     "metadata": {},
     "output_type": "display_data"
    },
    {
     "data": {
      "text/plain": [
       "\n",
       "Call:\n",
       "arima(x = returns, order = c(2, 0, 0))\n",
       "\n",
       "Coefficients:\n",
       "          ar1      ar2  intercept\n",
       "      -0.0009  -0.0764      4e-04\n",
       "s.e.   0.0427   0.0431      1e-03\n",
       "\n",
       "sigma^2 estimated as 0.0006342:  log likelihood = 1230.87,  aic = -2453.74"
      ]
     },
     "metadata": {},
     "output_type": "display_data"
    },
    {
     "data": {
      "text/plain": [
       "\n",
       "Call:\n",
       "arima(x = returns, order = c(1, 0, 2))\n",
       "\n",
       "Coefficients:\n",
       "         ar1      ma1      ma2  intercept\n",
       "      0.6305  -0.6428  -0.0844      4e-04\n",
       "s.e.  0.1534   0.1566   0.0479      8e-04\n",
       "\n",
       "sigma^2 estimated as 0.0006288:  log likelihood = 1233.17,  aic = -2456.35"
      ]
     },
     "metadata": {},
     "output_type": "display_data"
    },
    {
     "name": "stderr",
     "output_type": "stream",
     "text": [
      "Warning message in sqrt(diag(x$var.coef)):\n",
      "\"产生了NaNs\"\n"
     ]
    },
    {
     "data": {
      "text/plain": [
       "\n",
       "Call:\n",
       "arima(x = returns, order = c(3, 0, 2))\n",
       "\n",
       "Coefficients:\n",
       "         ar1     ar2      ar3      ma1      ma2  intercept\n",
       "      0.2018  0.3057  -0.0449  -0.2136  -0.3901      4e-04\n",
       "s.e.     NaN     NaN      NaN      NaN      NaN      8e-04\n",
       "\n",
       "sigma^2 estimated as 0.0006287:  log likelihood = 1233.21,  aic = -2452.42"
      ]
     },
     "metadata": {},
     "output_type": "display_data"
    }
   ],
   "source": [
    "m1=arima(returns,order=c(3,0,0))\n",
    "m1\n",
    "m12=arima(returns,order=c(1,0,0))\n",
    "m12\n",
    "m13=arima(returns,order=c(2,0,0))\n",
    "m13\n",
    "m14=arima(returns,order=c(1,0,2))\n",
    "m14\n",
    "m15=arima(returns,order=c(3,0,2))\n",
    "m15\n",
    "m = auto.arima(sample_returns)\n",
    "m"
   ]
  },
  {
   "cell_type": "code",
   "execution_count": null,
   "metadata": {
    "ExecuteTime": {
     "start_time": "2021-04-11T11:49:10.454Z"
    }
   },
   "outputs": [],
   "source": [
    "tsdiag(m1,gof=12)  # model checking discussed later"
   ]
  },
  {
   "cell_type": "code",
   "execution_count": null,
   "metadata": {
    "ExecuteTime": {
     "start_time": "2021-04-11T11:49:11.022Z"
    }
   },
   "outputs": [],
   "source": [
    "p1=c(1,-m1$coef[1:3]) # set-up the polynomial\n",
    "r1=polyroot(p1) # solve the polynomial equation\n",
    "r1\n",
    "Mod(r1)\n",
    "k=2*pi/acos(1.616116/1.832674) # compute length of the period\n",
    "k"
   ]
  },
  {
   "cell_type": "code",
   "execution_count": null,
   "metadata": {
    "ExecuteTime": {
     "start_time": "2021-04-11T11:49:11.513Z"
    }
   },
   "outputs": [],
   "source": [
    "####AR order identification \n",
    "mm1=ar(returns,method='mle')\n",
    "mm1$order # Find the identified order \n",
    "print(mm1$aic,digits=3)\n",
    "aic=mm1$aic  # For plotting below.\n",
    "plot(c(0:(length(aic)-1)),aic,type='h',xlab='order',ylab='aic')\n",
    "lines(0:(length(aic)-1),aic,lty=2)"
   ]
  },
  {
   "cell_type": "code",
   "execution_count": null,
   "metadata": {
    "ExecuteTime": {
     "start_time": "2021-04-11T11:49:11.767Z"
    }
   },
   "outputs": [],
   "source": [
    "#####模型检验\n",
    "vw=read.table('ch2data\\\\m-ibm3dx2608.txt',header=T)[,3]\n",
    "vw\n",
    "m3=arima(vw,order=c(3,0,0))\n",
    "m3\n",
    "(1-.1158+.0187+.1042)*mean(vw)  # Compute the intercept phi(0).\n",
    "sqrt(m3$sigma2) # Compute standard error of residuals\n",
    "Box.test(m3$residuals,lag=12,type='Ljung')\n",
    "pv=1-pchisq(16.35,9) # Compute p value using 9 degrees of freedom\n",
    "pv"
   ]
  },
  {
   "cell_type": "code",
   "execution_count": null,
   "metadata": {
    "ExecuteTime": {
     "start_time": "2021-04-11T11:49:12.005Z"
    }
   },
   "outputs": [],
   "source": [
    "########模型设定，将参数设为零\n",
    "m3=arima(vw,order=c(3,0,0),fixed=c(NA,0,NA,NA)) #fix parameter value\n",
    "m3\n",
    "(1-.1136+.1063)*.0089  # compute intercept phi(0)\n",
    "sqrt(m3$sigma2)  # compute residual standard error\n",
    "Box.test(m3$residuals,lag=12,type='Ljung')#大多数对残差序列应用Ljung-Box统计量时不对自由度进行调整，这与理论不相符合\n",
    "pv=1-pchisq(16.83,10)#compute p value using 10 freedom\n",
    "pv"
   ]
  },
  {
   "cell_type": "code",
   "execution_count": null,
   "metadata": {},
   "outputs": [],
   "source": []
  },
  {
   "cell_type": "code",
   "execution_count": null,
   "metadata": {},
   "outputs": [],
   "source": []
  },
  {
   "cell_type": "markdown",
   "metadata": {},
   "source": [
    "# 按网上的例子来，不进行白噪声检验\n"
   ]
  },
  {
   "cell_type": "code",
   "execution_count": null,
   "metadata": {
    "ExecuteTime": {
     "start_time": "2021-04-11T11:50:45.574Z"
    }
   },
   "outputs": [],
   "source": [
    "library(tseries)\n",
    "library(forecast)\n",
    "# 设置工作目录并读取数据\n",
    "setwd('../dataset/期货价格数据/使用数据/')"
   ]
  },
  {
   "cell_type": "code",
   "execution_count": null,
   "metadata": {
    "ExecuteTime": {
     "start_time": "2021-04-11T11:50:53.138Z"
    }
   },
   "outputs": [],
   "source": [
    "da <- read.csv(\"./黄金周数据.csv\",head=F)\n",
    "names(da) <- c('date','price')\n",
    "head(da)"
   ]
  },
  {
   "cell_type": "code",
   "execution_count": 5,
   "metadata": {
    "ExecuteTime": {
     "end_time": "2021-04-11T11:02:18.818023Z",
     "start_time": "2021-04-11T11:02:18.730Z"
    }
   },
   "outputs": [
    {
     "data": {
      "text/html": [
       "A Time Series:<br><style>\n",
       ".list-inline {list-style: none; margin:0; padding: 0}\n",
       ".list-inline>li {display: inline-block}\n",
       ".list-inline>li:not(:last-child)::after {content: \"\\00b7\"; padding: 0 .5ex}\n",
       "</style>\n",
       "<ol class=list-inline><li>223.3</li><li>223.8</li><li>206.42</li><li>222.56</li><li>215.26</li><li>213.69</li></ol>\n"
      ],
      "text/latex": [
       "A Time Series:\\\\\\begin{enumerate*}\n",
       "\\item 223.3\n",
       "\\item 223.8\n",
       "\\item 206.42\n",
       "\\item 222.56\n",
       "\\item 215.26\n",
       "\\item 213.69\n",
       "\\end{enumerate*}\n"
      ],
      "text/markdown": [
       "A Time Series:  \n",
       "1. 223.3\n",
       "2. 223.8\n",
       "3. 206.42\n",
       "4. 222.56\n",
       "5. 215.26\n",
       "6. 213.69\n",
       "\n",
       "\n"
      ],
      "text/plain": [
       "A Time Series:\n",
       "[1] 223.30 223.80 206.42 222.56 215.26 213.69"
      ]
     },
     "metadata": {},
     "output_type": "display_data"
    },
    {
     "data": {
      "image/png": "[encoded data removed]",
      "text/plain": [
       "plot without title"
      ]
     },
     "metadata": {
      "image/png": {
       "height": 420,
       "width": 420
      }
     },
     "output_type": "display_data"
    }
   ],
   "source": [
    "price <- da$price\n",
    "price = ts(da$price,frequency=52,start=c(1972,1,10))\n",
    "head(price)\n",
    "plot.ts(price)"
   ]
  },
  {
   "cell_type": "code",
   "execution_count": 6,
   "metadata": {
    "ExecuteTime": {
     "end_time": "2021-04-11T11:02:39.984568Z",
     "start_time": "2021-04-11T11:02:39.871Z"
    }
   },
   "outputs": [
    {
     "data": {
      "image/png": "[encoded data removed]",
      "text/plain": [
       "Plot with title \"\""
      ]
     },
     "metadata": {
      "image/png": {
       "height": 420,
       "width": 420
      }
     },
     "output_type": "display_data"
    }
   ],
   "source": [
    "tsdisplay(price)"
   ]
  },
  {
   "cell_type": "code",
   "execution_count": 7,
   "metadata": {
    "ExecuteTime": {
     "end_time": "2021-04-11T11:07:36.712600Z",
     "start_time": "2021-04-11T11:07:36.605Z"
    }
   },
   "outputs": [
    {
     "data": {
      "image/png": "[encoded data removed]",
      "text/plain": [
       "Plot with title \"\""
      ]
     },
     "metadata": {
      "image/png": {
       "height": 420,
       "width": 420
      }
     },
     "output_type": "display_data"
    }
   ],
   "source": [
    "# 拆掉最后一年做样本的测试集\n",
    "sprice<-ts(as.vector(price[1:500]),frequency=52,start=c(1972,1,10))\n",
    "tsdisplay(sprice)"
   ]
  },
  {
   "cell_type": "code",
   "execution_count": 9,
   "metadata": {
    "ExecuteTime": {
     "end_time": "2021-04-11T11:10:35.964313Z",
     "start_time": "2021-04-11T11:10:35.819Z"
    }
   },
   "outputs": [
    {
     "name": "stderr",
     "output_type": "stream",
     "text": [
      "Warning message in adf.test(s1):\n",
      "\"p-value smaller than printed p-value\"\n"
     ]
    },
    {
     "data": {
      "text/plain": [
       "\n",
       "\tAugmented Dickey-Fuller Test\n",
       "\n",
       "data:  s1\n",
       "Dickey-Fuller = -9.1513, Lag order = 7, p-value = 0.01\n",
       "alternative hypothesis: stationary\n"
      ]
     },
     "metadata": {},
     "output_type": "display_data"
    },
    {
     "data": {
      "image/png": "[encoded data removed]",
      "text/plain": [
       "Plot with title \"\""
      ]
     },
     "metadata": {
      "image/png": {
       "height": 420,
       "width": 420
      }
     },
     "output_type": "display_data"
    }
   ],
   "source": [
    "# 明显存在按经济波动增长的趋势，故利用差法将其干掉\n",
    "s1<-diff(sprice,1)\n",
    "# 单位根检验判断是否平稳\n",
    "adf.test(s1)\n",
    "# 检验通过\n",
    "tsdisplay(s1)"
   ]
  },
  {
   "cell_type": "code",
   "execution_count": null,
   "metadata": {
    "ExecuteTime": {
     "end_time": "2021-04-11T11:46:29.023047Z",
     "start_time": "2021-04-11T11:46:08.221Z"
    }
   },
   "outputs": [],
   "source": [
    "# 图像显示acf与pac均存在截尾情况\n",
    "# 根据pacf图像可判断 p 取 99 或 140\n",
    "# 根据acf图像可判断 q 取20 90 100 120 或 140\n",
    "# 进行模型拟合，看看哪个效果好\n",
    "a <- auto.arima(sprice)\n",
    "summary(a)"
   ]
  },
  {
   "cell_type": "code",
   "execution_count": 2,
   "metadata": {
    "ExecuteTime": {
     "end_time": "2021-04-11T11:48:39.320732Z",
     "start_time": "2021-04-11T11:48:39.277Z"
    }
   },
   "outputs": [
    {
     "ename": "ERROR",
     "evalue": "Error in NCOL(x): 找不到对象'sprice'\n",
     "output_type": "error",
     "traceback": [
      "Error in NCOL(x): 找不到对象'sprice'\nTraceback:\n",
      "1. arima(sprice, order = c(1, 1, 0))",
      "2. NCOL(x)"
     ]
    }
   ],
   "source": [
    "m1 <- arima(sprice,order=c(1,1,0))#AIC=899.95\n",
    "arima(sprice,order=c(8,1,0))#AIC=907.17\n",
    "arima(sprice,order=c(10,1,0))#AIC=909\n",
    "arima(sprice,order=c(12,1,0))#AIC=905.38\n",
    "arima(sprice,order=c(16,1,0))#NaNs"
   ]
  },
  {
   "cell_type": "code",
   "execution_count": null,
   "metadata": {},
   "outputs": [],
   "source": []
  }
 ],
 "metadata": {
  "kernelspec": {
   "display_name": "R",
   "language": "R",
   "name": "ir"
  },
  "toc": {
   "base_numbering": 1,
   "nav_menu": {},
   "number_sections": true,
   "sideBar": true,
   "skip_h1_title": false,
   "title_cell": "Table of Contents",
   "title_sidebar": "Contents",
   "toc_cell": false,
   "toc_position": {},
   "toc_section_display": true,
   "toc_window_display": false
  },
  "varInspector": {
   "cols": {
    "lenName": 16,
    "lenType": 16,
    "lenVar": 40
   },
   "kernels_config": {
    "python": {
     "delete_cmd_postfix": "",
     "delete_cmd_prefix": "del ",
     "library": "var_list.py",
     "varRefreshCmd": "print(var_dic_list())"
    },
    "r": {
     "delete_cmd_postfix": ") ",
     "delete_cmd_prefix": "rm(",
     "library": "var_list.r",
     "varRefreshCmd": "cat(var_dic_list()) "
    }
   },
   "types_to_exclude": [
    "module",
    "function",
    "builtin_function_or_method",
    "instance",
    "_Feature"
   ],
   "window_display": false
  }
 },
 "nbformat": 4,
 "nbformat_minor": 4
}
